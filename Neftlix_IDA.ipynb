{
  "nbformat": 4,
  "nbformat_minor": 0,
  "metadata": {
    "kernelspec": {
      "display_name": "Python 3",
      "language": "python",
      "name": "python3"
    },
    "language_info": {
      "codemirror_mode": {
        "name": "ipython",
        "version": 3
      },
      "file_extension": ".py",
      "mimetype": "text/x-python",
      "name": "python",
      "nbconvert_exporter": "python",
      "pygments_lexer": "ipython3",
      "version": "3.8.6"
    },
    "papermill": {
      "duration": 49.758433,
      "end_time": "2021-02-08T10:54:19.704440",
      "environment_variables": {},
      "exception": null,
      "input_path": "__notebook__.ipynb",
      "output_path": "__notebook__.ipynb",
      "parameters": {},
      "start_time": "2021-02-08T10:53:29.946007",
      "version": "2.1.0"
    },
    "colab": {
      "name": "Neftlix_IDA.ipynb",
      "provenance": []
    }
  },
  "cells": [
    {
      "cell_type": "code",
      "metadata": {
        "id": "-5OiDG0nGkW6"
      },
      "source": [
        "import pandas as pd\n",
        "import numpy as np\n",
        "\n",
        "import plotly.express as px\n",
        "import plotly.graph_objects as go\n",
        "import plotly.figure_factory as ff\n",
        "from plotly.subplots import make_subplots\n",
        "\n",
        "import matplotlib.pyplot as plt\n",
        "\n",
        "import seaborn as sns\n",
        "from pandas_profiling import ProfileReport"
      ],
      "execution_count": 1,
      "outputs": []
    },
    {
      "cell_type": "code",
      "metadata": {
        "_cell_guid": "79c7e3d0-c299-4dcb-8224-4455121ee9b0",
        "_uuid": "d629ff2d2480ee46fbb7e2d37f6b5fab8052498a",
        "papermill": {
          "duration": 0.221214,
          "end_time": "2021-02-08T10:53:41.176384",
          "exception": false,
          "start_time": "2021-02-08T10:53:40.955170",
          "status": "completed"
        },
        "tags": [],
        "colab": {
          "base_uri": "https://localhost:8080/",
          "height": 459
        },
        "id": "tEsCJXSkGb8r",
        "outputId": "dd52d051-e191-46ed-c604-08d4a3e6ea98"
      },
      "source": [
        "df = pd.read_csv(\"netflix_titles.csv\")\n",
        "df.head()"
      ],
      "execution_count": 2,
      "outputs": [
        {
          "output_type": "execute_result",
          "data": {
            "text/html": [
              "<div>\n",
              "<style scoped>\n",
              "    .dataframe tbody tr th:only-of-type {\n",
              "        vertical-align: middle;\n",
              "    }\n",
              "\n",
              "    .dataframe tbody tr th {\n",
              "        vertical-align: top;\n",
              "    }\n",
              "\n",
              "    .dataframe thead th {\n",
              "        text-align: right;\n",
              "    }\n",
              "</style>\n",
              "<table border=\"1\" class=\"dataframe\">\n",
              "  <thead>\n",
              "    <tr style=\"text-align: right;\">\n",
              "      <th></th>\n",
              "      <th>show_id</th>\n",
              "      <th>type</th>\n",
              "      <th>title</th>\n",
              "      <th>director</th>\n",
              "      <th>cast</th>\n",
              "      <th>country</th>\n",
              "      <th>date_added</th>\n",
              "      <th>release_year</th>\n",
              "      <th>rating</th>\n",
              "      <th>duration</th>\n",
              "      <th>listed_in</th>\n",
              "      <th>description</th>\n",
              "    </tr>\n",
              "  </thead>\n",
              "  <tbody>\n",
              "    <tr>\n",
              "      <th>0</th>\n",
              "      <td>s1</td>\n",
              "      <td>TV Show</td>\n",
              "      <td>3%</td>\n",
              "      <td>NaN</td>\n",
              "      <td>João Miguel, Bianca Comparato, Michel Gomes, R...</td>\n",
              "      <td>Brazil</td>\n",
              "      <td>August 14, 2020</td>\n",
              "      <td>2020</td>\n",
              "      <td>TV-MA</td>\n",
              "      <td>4 Seasons</td>\n",
              "      <td>International TV Shows, TV Dramas, TV Sci-Fi &amp;...</td>\n",
              "      <td>In a future where the elite inhabit an island ...</td>\n",
              "    </tr>\n",
              "    <tr>\n",
              "      <th>1</th>\n",
              "      <td>s2</td>\n",
              "      <td>Movie</td>\n",
              "      <td>7:19</td>\n",
              "      <td>Jorge Michel Grau</td>\n",
              "      <td>Demián Bichir, Héctor Bonilla, Oscar Serrano, ...</td>\n",
              "      <td>Mexico</td>\n",
              "      <td>December 23, 2016</td>\n",
              "      <td>2016</td>\n",
              "      <td>TV-MA</td>\n",
              "      <td>93 min</td>\n",
              "      <td>Dramas, International Movies</td>\n",
              "      <td>After a devastating earthquake hits Mexico Cit...</td>\n",
              "    </tr>\n",
              "    <tr>\n",
              "      <th>2</th>\n",
              "      <td>s3</td>\n",
              "      <td>Movie</td>\n",
              "      <td>23:59</td>\n",
              "      <td>Gilbert Chan</td>\n",
              "      <td>Tedd Chan, Stella Chung, Henley Hii, Lawrence ...</td>\n",
              "      <td>Singapore</td>\n",
              "      <td>December 20, 2018</td>\n",
              "      <td>2011</td>\n",
              "      <td>R</td>\n",
              "      <td>78 min</td>\n",
              "      <td>Horror Movies, International Movies</td>\n",
              "      <td>When an army recruit is found dead, his fellow...</td>\n",
              "    </tr>\n",
              "    <tr>\n",
              "      <th>3</th>\n",
              "      <td>s4</td>\n",
              "      <td>Movie</td>\n",
              "      <td>9</td>\n",
              "      <td>Shane Acker</td>\n",
              "      <td>Elijah Wood, John C. Reilly, Jennifer Connelly...</td>\n",
              "      <td>United States</td>\n",
              "      <td>November 16, 2017</td>\n",
              "      <td>2009</td>\n",
              "      <td>PG-13</td>\n",
              "      <td>80 min</td>\n",
              "      <td>Action &amp; Adventure, Independent Movies, Sci-Fi...</td>\n",
              "      <td>In a postapocalyptic world, rag-doll robots hi...</td>\n",
              "    </tr>\n",
              "    <tr>\n",
              "      <th>4</th>\n",
              "      <td>s5</td>\n",
              "      <td>Movie</td>\n",
              "      <td>21</td>\n",
              "      <td>Robert Luketic</td>\n",
              "      <td>Jim Sturgess, Kevin Spacey, Kate Bosworth, Aar...</td>\n",
              "      <td>United States</td>\n",
              "      <td>January 1, 2020</td>\n",
              "      <td>2008</td>\n",
              "      <td>PG-13</td>\n",
              "      <td>123 min</td>\n",
              "      <td>Dramas</td>\n",
              "      <td>A brilliant group of students become card-coun...</td>\n",
              "    </tr>\n",
              "  </tbody>\n",
              "</table>\n",
              "</div>"
            ],
            "text/plain": [
              "  show_id  ...                                        description\n",
              "0      s1  ...  In a future where the elite inhabit an island ...\n",
              "1      s2  ...  After a devastating earthquake hits Mexico Cit...\n",
              "2      s3  ...  When an army recruit is found dead, his fellow...\n",
              "3      s4  ...  In a postapocalyptic world, rag-doll robots hi...\n",
              "4      s5  ...  A brilliant group of students become card-coun...\n",
              "\n",
              "[5 rows x 12 columns]"
            ]
          },
          "metadata": {
            "tags": []
          },
          "execution_count": 2
        }
      ]
    },
    {
      "cell_type": "code",
      "metadata": {
        "papermill": {
          "duration": 0.078566,
          "end_time": "2021-02-08T10:53:41.303973",
          "exception": false,
          "start_time": "2021-02-08T10:53:41.225407",
          "status": "completed"
        },
        "tags": [],
        "colab": {
          "base_uri": "https://localhost:8080/"
        },
        "id": "ZQ5BwzokGb8s",
        "outputId": "827a1318-3b5e-4abc-e043-40a10bfad958"
      },
      "source": [
        "df.info()"
      ],
      "execution_count": 3,
      "outputs": [
        {
          "output_type": "stream",
          "text": [
            "<class 'pandas.core.frame.DataFrame'>\n",
            "RangeIndex: 7787 entries, 0 to 7786\n",
            "Data columns (total 12 columns):\n",
            " #   Column        Non-Null Count  Dtype \n",
            "---  ------        --------------  ----- \n",
            " 0   show_id       7787 non-null   object\n",
            " 1   type          7787 non-null   object\n",
            " 2   title         7787 non-null   object\n",
            " 3   director      5398 non-null   object\n",
            " 4   cast          7069 non-null   object\n",
            " 5   country       7280 non-null   object\n",
            " 6   date_added    7777 non-null   object\n",
            " 7   release_year  7787 non-null   int64 \n",
            " 8   rating        7780 non-null   object\n",
            " 9   duration      7787 non-null   object\n",
            " 10  listed_in     7787 non-null   object\n",
            " 11  description   7787 non-null   object\n",
            "dtypes: int64(1), object(11)\n",
            "memory usage: 730.2+ KB\n"
          ],
          "name": "stdout"
        }
      ]
    },
    {
      "cell_type": "code",
      "metadata": {
        "papermill": {
          "duration": 13.433188,
          "end_time": "2021-02-08T10:53:54.786277",
          "exception": false,
          "start_time": "2021-02-08T10:53:41.353089",
          "status": "completed"
        },
        "tags": [],
        "id": "pnzKEfdIGb8s"
      },
      "source": [
        "# report = ProfileReport(df)"
      ],
      "execution_count": 4,
      "outputs": []
    },
    {
      "cell_type": "code",
      "metadata": {
        "papermill": {
          "duration": 0.874261,
          "end_time": "2021-02-08T10:53:55.717608",
          "exception": false,
          "start_time": "2021-02-08T10:53:54.843347",
          "status": "completed"
        },
        "tags": [],
        "id": "6nTIAxiKGb8s"
      },
      "source": [
        "# report"
      ],
      "execution_count": 5,
      "outputs": []
    },
    {
      "cell_type": "markdown",
      "metadata": {
        "papermill": {
          "duration": 0.100209,
          "end_time": "2021-02-08T10:53:55.921088",
          "exception": false,
          "start_time": "2021-02-08T10:53:55.820879",
          "status": "completed"
        },
        "tags": [],
        "id": "fD0SPMW6Gb8t"
      },
      "source": [
        "# Data Cleaning"
      ]
    },
    {
      "cell_type": "markdown",
      "metadata": {
        "papermill": {
          "duration": 0.100299,
          "end_time": "2021-02-08T10:53:56.121531",
          "exception": false,
          "start_time": "2021-02-08T10:53:56.021232",
          "status": "completed"
        },
        "tags": [],
        "id": "gu2qBMyhGb8t"
      },
      "source": [
        "Checking null values"
      ]
    },
    {
      "cell_type": "code",
      "metadata": {
        "papermill": {
          "duration": 0.146803,
          "end_time": "2021-02-08T10:53:56.369699",
          "exception": false,
          "start_time": "2021-02-08T10:53:56.222896",
          "status": "completed"
        },
        "tags": [],
        "colab": {
          "base_uri": "https://localhost:8080/"
        },
        "id": "FIPQ7jv1Gb8t",
        "outputId": "f71b91b4-de09-4a8d-ed25-bf0023e050f1"
      },
      "source": [
        "df.nunique()"
      ],
      "execution_count": 6,
      "outputs": [
        {
          "output_type": "execute_result",
          "data": {
            "text/plain": [
              "show_id         7787\n",
              "type               2\n",
              "title           7787\n",
              "director        4049\n",
              "cast            6831\n",
              "country          681\n",
              "date_added      1565\n",
              "release_year      73\n",
              "rating            14\n",
              "duration         216\n",
              "listed_in        492\n",
              "description     7769\n",
              "dtype: int64"
            ]
          },
          "metadata": {
            "tags": []
          },
          "execution_count": 6
        }
      ]
    },
    {
      "cell_type": "code",
      "metadata": {
        "papermill": {
          "duration": 0.121163,
          "end_time": "2021-02-08T10:53:56.592775",
          "exception": false,
          "start_time": "2021-02-08T10:53:56.471612",
          "status": "completed"
        },
        "tags": [],
        "colab": {
          "base_uri": "https://localhost:8080/"
        },
        "id": "shqaUWLbGb8t",
        "outputId": "046dab45-be17-4611-9170-1a650deae231"
      },
      "source": [
        "df.isna().sum()"
      ],
      "execution_count": 7,
      "outputs": [
        {
          "output_type": "execute_result",
          "data": {
            "text/plain": [
              "show_id            0\n",
              "type               0\n",
              "title              0\n",
              "director        2389\n",
              "cast             718\n",
              "country          507\n",
              "date_added        10\n",
              "release_year       0\n",
              "rating             7\n",
              "duration           0\n",
              "listed_in          0\n",
              "description        0\n",
              "dtype: int64"
            ]
          },
          "metadata": {
            "tags": []
          },
          "execution_count": 7
        }
      ]
    },
    {
      "cell_type": "markdown",
      "metadata": {
        "papermill": {
          "duration": 0.099707,
          "end_time": "2021-02-08T10:53:56.793045",
          "exception": false,
          "start_time": "2021-02-08T10:53:56.693338",
          "status": "completed"
        },
        "tags": [],
        "id": "6ScyHJUuGb8t"
      },
      "source": [
        "The missing values are in:\n",
        "* `director`: not important for analysis\n",
        "* `cast`: too many different values, can't extract valuable information\n",
        "* `country`: important variable\n",
        "* `date_added`: small quantity, drop rows\n",
        "* `rating`: small quantity, drop rows"
      ]
    },
    {
      "cell_type": "markdown",
      "metadata": {
        "papermill": {
          "duration": 0.101545,
          "end_time": "2021-02-08T10:53:56.995399",
          "exception": false,
          "start_time": "2021-02-08T10:53:56.893854",
          "status": "completed"
        },
        "tags": [],
        "id": "c0BZ_XEwGb8u"
      },
      "source": [
        "### Fix rating missings"
      ]
    },
    {
      "cell_type": "code",
      "metadata": {
        "papermill": {
          "duration": 0.114228,
          "end_time": "2021-02-08T10:53:57.210794",
          "exception": false,
          "start_time": "2021-02-08T10:53:57.096566",
          "status": "completed"
        },
        "tags": [],
        "colab": {
          "base_uri": "https://localhost:8080/"
        },
        "id": "ZDjhQFnEGb8u",
        "outputId": "0d66f527-d4f8-404a-de7a-035ccac64bb3"
      },
      "source": [
        "df['rating'].unique()"
      ],
      "execution_count": 8,
      "outputs": [
        {
          "output_type": "execute_result",
          "data": {
            "text/plain": [
              "array(['TV-MA', 'R', 'PG-13', 'TV-14', 'TV-PG', 'NR', 'TV-G', 'TV-Y', nan,\n",
              "       'TV-Y7', 'PG', 'G', 'NC-17', 'TV-Y7-FV', 'UR'], dtype=object)"
            ]
          },
          "metadata": {
            "tags": []
          },
          "execution_count": 8
        }
      ]
    },
    {
      "cell_type": "code",
      "metadata": {
        "papermill": {
          "duration": 0.126876,
          "end_time": "2021-02-08T10:53:57.442578",
          "exception": false,
          "start_time": "2021-02-08T10:53:57.315702",
          "status": "completed"
        },
        "tags": [],
        "colab": {
          "base_uri": "https://localhost:8080/",
          "height": 589
        },
        "id": "IgvmmVUZGb8u",
        "outputId": "4bc95cdc-13d4-4e94-c757-5c50f0588cf0"
      },
      "source": [
        "df[df['rating'].isna()]"
      ],
      "execution_count": 9,
      "outputs": [
        {
          "output_type": "execute_result",
          "data": {
            "text/html": [
              "<div>\n",
              "<style scoped>\n",
              "    .dataframe tbody tr th:only-of-type {\n",
              "        vertical-align: middle;\n",
              "    }\n",
              "\n",
              "    .dataframe tbody tr th {\n",
              "        vertical-align: top;\n",
              "    }\n",
              "\n",
              "    .dataframe thead th {\n",
              "        text-align: right;\n",
              "    }\n",
              "</style>\n",
              "<table border=\"1\" class=\"dataframe\">\n",
              "  <thead>\n",
              "    <tr style=\"text-align: right;\">\n",
              "      <th></th>\n",
              "      <th>show_id</th>\n",
              "      <th>type</th>\n",
              "      <th>title</th>\n",
              "      <th>director</th>\n",
              "      <th>cast</th>\n",
              "      <th>country</th>\n",
              "      <th>date_added</th>\n",
              "      <th>release_year</th>\n",
              "      <th>rating</th>\n",
              "      <th>duration</th>\n",
              "      <th>listed_in</th>\n",
              "      <th>description</th>\n",
              "    </tr>\n",
              "  </thead>\n",
              "  <tbody>\n",
              "    <tr>\n",
              "      <th>67</th>\n",
              "      <td>s68</td>\n",
              "      <td>Movie</td>\n",
              "      <td>13TH: A Conversation with Oprah Winfrey &amp; Ava ...</td>\n",
              "      <td>NaN</td>\n",
              "      <td>Oprah Winfrey, Ava DuVernay</td>\n",
              "      <td>NaN</td>\n",
              "      <td>January 26, 2017</td>\n",
              "      <td>2017</td>\n",
              "      <td>NaN</td>\n",
              "      <td>37 min</td>\n",
              "      <td>Movies</td>\n",
              "      <td>Oprah Winfrey sits down with director Ava DuVe...</td>\n",
              "    </tr>\n",
              "    <tr>\n",
              "      <th>2359</th>\n",
              "      <td>s2360</td>\n",
              "      <td>TV Show</td>\n",
              "      <td>Gargantia on the Verdurous Planet</td>\n",
              "      <td>NaN</td>\n",
              "      <td>Kaito Ishikawa, Hisako Kanemoto, Ai Kayano, Ka...</td>\n",
              "      <td>Japan</td>\n",
              "      <td>December 1, 2016</td>\n",
              "      <td>2013</td>\n",
              "      <td>NaN</td>\n",
              "      <td>1 Season</td>\n",
              "      <td>Anime Series, International TV Shows</td>\n",
              "      <td>After falling through a wormhole, a space-dwel...</td>\n",
              "    </tr>\n",
              "    <tr>\n",
              "      <th>3660</th>\n",
              "      <td>s3661</td>\n",
              "      <td>TV Show</td>\n",
              "      <td>Little Lunch</td>\n",
              "      <td>NaN</td>\n",
              "      <td>Flynn Curry, Olivia Deeble, Madison Lu, Oisín ...</td>\n",
              "      <td>Australia</td>\n",
              "      <td>February 1, 2018</td>\n",
              "      <td>2015</td>\n",
              "      <td>NaN</td>\n",
              "      <td>1 Season</td>\n",
              "      <td>Kids' TV, TV Comedies</td>\n",
              "      <td>Adopting a child's perspective, this show take...</td>\n",
              "    </tr>\n",
              "    <tr>\n",
              "      <th>3736</th>\n",
              "      <td>s3737</td>\n",
              "      <td>Movie</td>\n",
              "      <td>Louis C.K. 2017</td>\n",
              "      <td>Louis C.K.</td>\n",
              "      <td>Louis C.K.</td>\n",
              "      <td>United States</td>\n",
              "      <td>April 4, 2017</td>\n",
              "      <td>2017</td>\n",
              "      <td>NaN</td>\n",
              "      <td>74 min</td>\n",
              "      <td>Movies</td>\n",
              "      <td>Louis C.K. muses on religion, eternal love, gi...</td>\n",
              "    </tr>\n",
              "    <tr>\n",
              "      <th>3737</th>\n",
              "      <td>s3738</td>\n",
              "      <td>Movie</td>\n",
              "      <td>Louis C.K.: Hilarious</td>\n",
              "      <td>Louis C.K.</td>\n",
              "      <td>Louis C.K.</td>\n",
              "      <td>United States</td>\n",
              "      <td>September 16, 2016</td>\n",
              "      <td>2010</td>\n",
              "      <td>NaN</td>\n",
              "      <td>84 min</td>\n",
              "      <td>Movies</td>\n",
              "      <td>Emmy-winning comedy writer Louis C.K. brings h...</td>\n",
              "    </tr>\n",
              "    <tr>\n",
              "      <th>3738</th>\n",
              "      <td>s3739</td>\n",
              "      <td>Movie</td>\n",
              "      <td>Louis C.K.: Live at the Comedy Store</td>\n",
              "      <td>Louis C.K.</td>\n",
              "      <td>Louis C.K.</td>\n",
              "      <td>United States</td>\n",
              "      <td>August 15, 2016</td>\n",
              "      <td>2015</td>\n",
              "      <td>NaN</td>\n",
              "      <td>66 min</td>\n",
              "      <td>Movies</td>\n",
              "      <td>The comic puts his trademark hilarious/thought...</td>\n",
              "    </tr>\n",
              "    <tr>\n",
              "      <th>4323</th>\n",
              "      <td>s4324</td>\n",
              "      <td>Movie</td>\n",
              "      <td>My Honor Was Loyalty</td>\n",
              "      <td>Alessandro Pepe</td>\n",
              "      <td>Leone Frisa, Paolo Vaccarino, Francesco Miglio...</td>\n",
              "      <td>Italy</td>\n",
              "      <td>March 1, 2017</td>\n",
              "      <td>2015</td>\n",
              "      <td>NaN</td>\n",
              "      <td>115 min</td>\n",
              "      <td>Dramas</td>\n",
              "      <td>Amid the chaos and horror of World War II, a c...</td>\n",
              "    </tr>\n",
              "  </tbody>\n",
              "</table>\n",
              "</div>"
            ],
            "text/plain": [
              "     show_id  ...                                        description\n",
              "67       s68  ...  Oprah Winfrey sits down with director Ava DuVe...\n",
              "2359   s2360  ...  After falling through a wormhole, a space-dwel...\n",
              "3660   s3661  ...  Adopting a child's perspective, this show take...\n",
              "3736   s3737  ...  Louis C.K. muses on religion, eternal love, gi...\n",
              "3737   s3738  ...  Emmy-winning comedy writer Louis C.K. brings h...\n",
              "3738   s3739  ...  The comic puts his trademark hilarious/thought...\n",
              "4323   s4324  ...  Amid the chaos and horror of World War II, a c...\n",
              "\n",
              "[7 rows x 12 columns]"
            ]
          },
          "metadata": {
            "tags": []
          },
          "execution_count": 9
        }
      ]
    },
    {
      "cell_type": "markdown",
      "metadata": {
        "papermill": {
          "duration": 0.099457,
          "end_time": "2021-02-08T10:53:57.646037",
          "exception": false,
          "start_time": "2021-02-08T10:53:57.546580",
          "status": "completed"
        },
        "tags": [],
        "id": "F6Z2tgUuGb8u"
      },
      "source": [
        "Based on the information from [Amazon](https://www.amazon.com/gp/help/customer/display.html?nodeId=G2C2CPZWGZWHZ42J) rating information and Netflix shows, we can find the following replacements"
      ]
    },
    {
      "cell_type": "code",
      "metadata": {
        "papermill": {
          "duration": 0.122949,
          "end_time": "2021-02-08T10:53:57.870688",
          "exception": false,
          "start_time": "2021-02-08T10:53:57.747739",
          "status": "completed"
        },
        "tags": [],
        "colab": {
          "base_uri": "https://localhost:8080/"
        },
        "id": "eWtxAkkkGb8u",
        "outputId": "15acf709-a4ca-4178-8b71-48259bbdc680"
      },
      "source": [
        "rating_replacements = {\n",
        "    211: 'TV-14',\n",
        "    2411: 'TV-14',\n",
        "    3288: 'PG-13',\n",
        "    4056: 'TV-G',\n",
        "    4402: 'TV-G',\n",
        "    4403: 'TV-G',\n",
        "    4706: 'TV-14',\n",
        "    5015: 'TV-14',\n",
        "    5234: 'TV-14',\n",
        "    6231: 'TV-Y'\n",
        "}\n",
        "\n",
        "for id, rate in rating_replacements.items():\n",
        "    df.iloc[id, 8] = rate\n",
        "    \n",
        "df['rating'].isna().sum()"
      ],
      "execution_count": 10,
      "outputs": [
        {
          "output_type": "execute_result",
          "data": {
            "text/plain": [
              "7"
            ]
          },
          "metadata": {
            "tags": []
          },
          "execution_count": 10
        }
      ]
    },
    {
      "cell_type": "markdown",
      "metadata": {
        "papermill": {
          "duration": 0.102344,
          "end_time": "2021-02-08T10:53:58.074960",
          "exception": false,
          "start_time": "2021-02-08T10:53:57.972616",
          "status": "completed"
        },
        "tags": [],
        "id": "6XVZ8Tl2Gb8u"
      },
      "source": [
        "### Drop director and cast columns"
      ]
    },
    {
      "cell_type": "code",
      "metadata": {
        "papermill": {
          "duration": 0.115199,
          "end_time": "2021-02-08T10:53:58.293053",
          "exception": false,
          "start_time": "2021-02-08T10:53:58.177854",
          "status": "completed"
        },
        "tags": [],
        "colab": {
          "base_uri": "https://localhost:8080/"
        },
        "id": "ZFvTrf1QGb8u",
        "outputId": "3cd5d96f-f8b2-4d3e-9c23-a0015e913952"
      },
      "source": [
        "df = df.drop(['director', 'cast'], axis=1)\n",
        "df.columns"
      ],
      "execution_count": 11,
      "outputs": [
        {
          "output_type": "execute_result",
          "data": {
            "text/plain": [
              "Index(['show_id', 'type', 'title', 'country', 'date_added', 'release_year',\n",
              "       'rating', 'duration', 'listed_in', 'description'],\n",
              "      dtype='object')"
            ]
          },
          "metadata": {
            "tags": []
          },
          "execution_count": 11
        }
      ]
    },
    {
      "cell_type": "markdown",
      "metadata": {
        "papermill": {
          "duration": 0.10139,
          "end_time": "2021-02-08T10:53:58.502705",
          "exception": false,
          "start_time": "2021-02-08T10:53:58.401315",
          "status": "completed"
        },
        "tags": [],
        "id": "sZ76QPDiGb8u"
      },
      "source": [
        "### Fix date_added missings "
      ]
    },
    {
      "cell_type": "code",
      "metadata": {
        "papermill": {
          "duration": 0.128284,
          "end_time": "2021-02-08T10:53:58.734237",
          "exception": false,
          "start_time": "2021-02-08T10:53:58.605953",
          "status": "completed"
        },
        "tags": [],
        "colab": {
          "base_uri": "https://localhost:8080/",
          "height": 597
        },
        "id": "hYmNbfmuGb8u",
        "outputId": "c1467ff9-4920-4b37-9260-95c3924617fd"
      },
      "source": [
        "df[df['date_added'].isna()]"
      ],
      "execution_count": 12,
      "outputs": [
        {
          "output_type": "execute_result",
          "data": {
            "text/html": [
              "<div>\n",
              "<style scoped>\n",
              "    .dataframe tbody tr th:only-of-type {\n",
              "        vertical-align: middle;\n",
              "    }\n",
              "\n",
              "    .dataframe tbody tr th {\n",
              "        vertical-align: top;\n",
              "    }\n",
              "\n",
              "    .dataframe thead th {\n",
              "        text-align: right;\n",
              "    }\n",
              "</style>\n",
              "<table border=\"1\" class=\"dataframe\">\n",
              "  <thead>\n",
              "    <tr style=\"text-align: right;\">\n",
              "      <th></th>\n",
              "      <th>show_id</th>\n",
              "      <th>type</th>\n",
              "      <th>title</th>\n",
              "      <th>country</th>\n",
              "      <th>date_added</th>\n",
              "      <th>release_year</th>\n",
              "      <th>rating</th>\n",
              "      <th>duration</th>\n",
              "      <th>listed_in</th>\n",
              "      <th>description</th>\n",
              "    </tr>\n",
              "  </thead>\n",
              "  <tbody>\n",
              "    <tr>\n",
              "      <th>258</th>\n",
              "      <td>s259</td>\n",
              "      <td>TV Show</td>\n",
              "      <td>A Young Doctor's Notebook and Other Stories</td>\n",
              "      <td>United Kingdom</td>\n",
              "      <td>NaN</td>\n",
              "      <td>2013</td>\n",
              "      <td>TV-MA</td>\n",
              "      <td>2 Seasons</td>\n",
              "      <td>British TV Shows, TV Comedies, TV Dramas</td>\n",
              "      <td>Set during the Russian Revolution, this comic ...</td>\n",
              "    </tr>\n",
              "    <tr>\n",
              "      <th>549</th>\n",
              "      <td>s550</td>\n",
              "      <td>TV Show</td>\n",
              "      <td>Anthony Bourdain: Parts Unknown</td>\n",
              "      <td>United States</td>\n",
              "      <td>NaN</td>\n",
              "      <td>2018</td>\n",
              "      <td>TV-PG</td>\n",
              "      <td>5 Seasons</td>\n",
              "      <td>Docuseries</td>\n",
              "      <td>This CNN original series has chef Anthony Bour...</td>\n",
              "    </tr>\n",
              "    <tr>\n",
              "      <th>2263</th>\n",
              "      <td>s2264</td>\n",
              "      <td>TV Show</td>\n",
              "      <td>Frasier</td>\n",
              "      <td>United States</td>\n",
              "      <td>NaN</td>\n",
              "      <td>2003</td>\n",
              "      <td>TV-PG</td>\n",
              "      <td>11 Seasons</td>\n",
              "      <td>Classic &amp; Cult TV, TV Comedies</td>\n",
              "      <td>Frasier Crane is a snooty but lovable Seattle ...</td>\n",
              "    </tr>\n",
              "    <tr>\n",
              "      <th>2288</th>\n",
              "      <td>s2289</td>\n",
              "      <td>TV Show</td>\n",
              "      <td>Friends</td>\n",
              "      <td>United States</td>\n",
              "      <td>NaN</td>\n",
              "      <td>2003</td>\n",
              "      <td>TV-14</td>\n",
              "      <td>10 Seasons</td>\n",
              "      <td>Classic &amp; Cult TV, TV Comedies</td>\n",
              "      <td>This hit sitcom follows the merry misadventure...</td>\n",
              "    </tr>\n",
              "    <tr>\n",
              "      <th>2555</th>\n",
              "      <td>s2556</td>\n",
              "      <td>TV Show</td>\n",
              "      <td>Gunslinger Girl</td>\n",
              "      <td>Japan</td>\n",
              "      <td>NaN</td>\n",
              "      <td>2008</td>\n",
              "      <td>TV-14</td>\n",
              "      <td>2 Seasons</td>\n",
              "      <td>Anime Series, Crime TV Shows</td>\n",
              "      <td>On the surface, the Social Welfare Agency appe...</td>\n",
              "    </tr>\n",
              "    <tr>\n",
              "      <th>3374</th>\n",
              "      <td>s3375</td>\n",
              "      <td>TV Show</td>\n",
              "      <td>Kikoriki</td>\n",
              "      <td>NaN</td>\n",
              "      <td>NaN</td>\n",
              "      <td>2010</td>\n",
              "      <td>TV-Y</td>\n",
              "      <td>2 Seasons</td>\n",
              "      <td>Kids' TV</td>\n",
              "      <td>A wacky rabbit and his gang of animal pals hav...</td>\n",
              "    </tr>\n",
              "    <tr>\n",
              "      <th>3492</th>\n",
              "      <td>s3493</td>\n",
              "      <td>TV Show</td>\n",
              "      <td>La Familia P. Luche</td>\n",
              "      <td>United States</td>\n",
              "      <td>NaN</td>\n",
              "      <td>2012</td>\n",
              "      <td>TV-14</td>\n",
              "      <td>3 Seasons</td>\n",
              "      <td>International TV Shows, Spanish-Language TV Sh...</td>\n",
              "      <td>This irreverent sitcom featues Ludovico, Feder...</td>\n",
              "    </tr>\n",
              "    <tr>\n",
              "      <th>3946</th>\n",
              "      <td>s3947</td>\n",
              "      <td>TV Show</td>\n",
              "      <td>Maron</td>\n",
              "      <td>United States</td>\n",
              "      <td>NaN</td>\n",
              "      <td>2016</td>\n",
              "      <td>TV-MA</td>\n",
              "      <td>4 Seasons</td>\n",
              "      <td>TV Comedies</td>\n",
              "      <td>Marc Maron stars as Marc Maron, who interviews...</td>\n",
              "    </tr>\n",
              "    <tr>\n",
              "      <th>5137</th>\n",
              "      <td>s5138</td>\n",
              "      <td>TV Show</td>\n",
              "      <td>Red vs. Blue</td>\n",
              "      <td>United States</td>\n",
              "      <td>NaN</td>\n",
              "      <td>2015</td>\n",
              "      <td>NR</td>\n",
              "      <td>13 Seasons</td>\n",
              "      <td>TV Action &amp; Adventure, TV Comedies, TV Sci-Fi ...</td>\n",
              "      <td>This parody of first-person shooter games, mil...</td>\n",
              "    </tr>\n",
              "    <tr>\n",
              "      <th>6065</th>\n",
              "      <td>s6066</td>\n",
              "      <td>TV Show</td>\n",
              "      <td>The Adventures of Figaro Pho</td>\n",
              "      <td>Australia</td>\n",
              "      <td>NaN</td>\n",
              "      <td>2015</td>\n",
              "      <td>TV-Y7</td>\n",
              "      <td>2 Seasons</td>\n",
              "      <td>Kids' TV, TV Comedies</td>\n",
              "      <td>Imagine your worst fears, then multiply them: ...</td>\n",
              "    </tr>\n",
              "  </tbody>\n",
              "</table>\n",
              "</div>"
            ],
            "text/plain": [
              "     show_id  ...                                        description\n",
              "258     s259  ...  Set during the Russian Revolution, this comic ...\n",
              "549     s550  ...  This CNN original series has chef Anthony Bour...\n",
              "2263   s2264  ...  Frasier Crane is a snooty but lovable Seattle ...\n",
              "2288   s2289  ...  This hit sitcom follows the merry misadventure...\n",
              "2555   s2556  ...  On the surface, the Social Welfare Agency appe...\n",
              "3374   s3375  ...  A wacky rabbit and his gang of animal pals hav...\n",
              "3492   s3493  ...  This irreverent sitcom featues Ludovico, Feder...\n",
              "3946   s3947  ...  Marc Maron stars as Marc Maron, who interviews...\n",
              "5137   s5138  ...  This parody of first-person shooter games, mil...\n",
              "6065   s6066  ...  Imagine your worst fears, then multiply them: ...\n",
              "\n",
              "[10 rows x 10 columns]"
            ]
          },
          "metadata": {
            "tags": []
          },
          "execution_count": 12
        }
      ]
    },
    {
      "cell_type": "code",
      "metadata": {
        "papermill": {
          "duration": 0.116399,
          "end_time": "2021-02-08T10:53:59.166446",
          "exception": false,
          "start_time": "2021-02-08T10:53:59.050047",
          "status": "completed"
        },
        "tags": [],
        "id": "EL11O1iDGb8v"
      },
      "source": [
        "df = df[df['date_added'].notna()]"
      ],
      "execution_count": 13,
      "outputs": []
    },
    {
      "cell_type": "markdown",
      "metadata": {
        "papermill": {
          "duration": 0.103792,
          "end_time": "2021-02-08T10:53:59.377144",
          "exception": false,
          "start_time": "2021-02-08T10:53:59.273352",
          "status": "completed"
        },
        "tags": [],
        "id": "IJOF-rOEGb8v"
      },
      "source": [
        "### Fix country missing values"
      ]
    },
    {
      "cell_type": "code",
      "metadata": {
        "papermill": {
          "duration": 0.116573,
          "end_time": "2021-02-08T10:53:59.598862",
          "exception": false,
          "start_time": "2021-02-08T10:53:59.482289",
          "status": "completed"
        },
        "tags": [],
        "id": "o3NtpJHKGb8v"
      },
      "source": [
        "df['country'] = df['country'].fillna(df['country'].mode()[0])"
      ],
      "execution_count": 14,
      "outputs": []
    },
    {
      "cell_type": "markdown",
      "metadata": {
        "papermill": {
          "duration": 0.105317,
          "end_time": "2021-02-08T10:53:59.810051",
          "exception": false,
          "start_time": "2021-02-08T10:53:59.704734",
          "status": "completed"
        },
        "tags": [],
        "id": "c5YkBL-aGb8v"
      },
      "source": [
        "### Check if data is cleaned"
      ]
    },
    {
      "cell_type": "code",
      "metadata": {
        "papermill": {
          "duration": 0.131444,
          "end_time": "2021-02-08T10:54:00.047188",
          "exception": false,
          "start_time": "2021-02-08T10:53:59.915744",
          "status": "completed"
        },
        "tags": [],
        "colab": {
          "base_uri": "https://localhost:8080/"
        },
        "id": "RpZkKkSxGb8v",
        "outputId": "5f07a114-e5f7-4445-ae35-064ecf166dce"
      },
      "source": [
        "df.isna().sum()"
      ],
      "execution_count": 15,
      "outputs": [
        {
          "output_type": "execute_result",
          "data": {
            "text/plain": [
              "show_id         0\n",
              "type            0\n",
              "title           0\n",
              "country         0\n",
              "date_added      0\n",
              "release_year    0\n",
              "rating          7\n",
              "duration        0\n",
              "listed_in       0\n",
              "description     0\n",
              "dtype: int64"
            ]
          },
          "metadata": {
            "tags": []
          },
          "execution_count": 15
        }
      ]
    },
    {
      "cell_type": "markdown",
      "metadata": {
        "papermill": {
          "duration": 0.103179,
          "end_time": "2021-02-08T10:54:00.257498",
          "exception": false,
          "start_time": "2021-02-08T10:54:00.154319",
          "status": "completed"
        },
        "tags": [],
        "id": "oWfFfpkFGb8v"
      },
      "source": [
        "## Generate new columns based on variables"
      ]
    },
    {
      "cell_type": "code",
      "metadata": {
        "papermill": {
          "duration": 0.123841,
          "end_time": "2021-02-08T10:54:00.486814",
          "exception": false,
          "start_time": "2021-02-08T10:54:00.362973",
          "status": "completed"
        },
        "tags": [],
        "colab": {
          "base_uri": "https://localhost:8080/",
          "height": 289
        },
        "id": "qzHAunfRGb8v",
        "outputId": "b8461389-5840-46f3-d67d-1774a671d63b"
      },
      "source": [
        "df.head()"
      ],
      "execution_count": 16,
      "outputs": [
        {
          "output_type": "execute_result",
          "data": {
            "text/html": [
              "<div>\n",
              "<style scoped>\n",
              "    .dataframe tbody tr th:only-of-type {\n",
              "        vertical-align: middle;\n",
              "    }\n",
              "\n",
              "    .dataframe tbody tr th {\n",
              "        vertical-align: top;\n",
              "    }\n",
              "\n",
              "    .dataframe thead th {\n",
              "        text-align: right;\n",
              "    }\n",
              "</style>\n",
              "<table border=\"1\" class=\"dataframe\">\n",
              "  <thead>\n",
              "    <tr style=\"text-align: right;\">\n",
              "      <th></th>\n",
              "      <th>show_id</th>\n",
              "      <th>type</th>\n",
              "      <th>title</th>\n",
              "      <th>country</th>\n",
              "      <th>date_added</th>\n",
              "      <th>release_year</th>\n",
              "      <th>rating</th>\n",
              "      <th>duration</th>\n",
              "      <th>listed_in</th>\n",
              "      <th>description</th>\n",
              "    </tr>\n",
              "  </thead>\n",
              "  <tbody>\n",
              "    <tr>\n",
              "      <th>0</th>\n",
              "      <td>s1</td>\n",
              "      <td>TV Show</td>\n",
              "      <td>3%</td>\n",
              "      <td>Brazil</td>\n",
              "      <td>August 14, 2020</td>\n",
              "      <td>2020</td>\n",
              "      <td>TV-MA</td>\n",
              "      <td>4 Seasons</td>\n",
              "      <td>International TV Shows, TV Dramas, TV Sci-Fi &amp;...</td>\n",
              "      <td>In a future where the elite inhabit an island ...</td>\n",
              "    </tr>\n",
              "    <tr>\n",
              "      <th>1</th>\n",
              "      <td>s2</td>\n",
              "      <td>Movie</td>\n",
              "      <td>7:19</td>\n",
              "      <td>Mexico</td>\n",
              "      <td>December 23, 2016</td>\n",
              "      <td>2016</td>\n",
              "      <td>TV-MA</td>\n",
              "      <td>93 min</td>\n",
              "      <td>Dramas, International Movies</td>\n",
              "      <td>After a devastating earthquake hits Mexico Cit...</td>\n",
              "    </tr>\n",
              "    <tr>\n",
              "      <th>2</th>\n",
              "      <td>s3</td>\n",
              "      <td>Movie</td>\n",
              "      <td>23:59</td>\n",
              "      <td>Singapore</td>\n",
              "      <td>December 20, 2018</td>\n",
              "      <td>2011</td>\n",
              "      <td>R</td>\n",
              "      <td>78 min</td>\n",
              "      <td>Horror Movies, International Movies</td>\n",
              "      <td>When an army recruit is found dead, his fellow...</td>\n",
              "    </tr>\n",
              "    <tr>\n",
              "      <th>3</th>\n",
              "      <td>s4</td>\n",
              "      <td>Movie</td>\n",
              "      <td>9</td>\n",
              "      <td>United States</td>\n",
              "      <td>November 16, 2017</td>\n",
              "      <td>2009</td>\n",
              "      <td>PG-13</td>\n",
              "      <td>80 min</td>\n",
              "      <td>Action &amp; Adventure, Independent Movies, Sci-Fi...</td>\n",
              "      <td>In a postapocalyptic world, rag-doll robots hi...</td>\n",
              "    </tr>\n",
              "    <tr>\n",
              "      <th>4</th>\n",
              "      <td>s5</td>\n",
              "      <td>Movie</td>\n",
              "      <td>21</td>\n",
              "      <td>United States</td>\n",
              "      <td>January 1, 2020</td>\n",
              "      <td>2008</td>\n",
              "      <td>PG-13</td>\n",
              "      <td>123 min</td>\n",
              "      <td>Dramas</td>\n",
              "      <td>A brilliant group of students become card-coun...</td>\n",
              "    </tr>\n",
              "  </tbody>\n",
              "</table>\n",
              "</div>"
            ],
            "text/plain": [
              "  show_id  ...                                        description\n",
              "0      s1  ...  In a future where the elite inhabit an island ...\n",
              "1      s2  ...  After a devastating earthquake hits Mexico Cit...\n",
              "2      s3  ...  When an army recruit is found dead, his fellow...\n",
              "3      s4  ...  In a postapocalyptic world, rag-doll robots hi...\n",
              "4      s5  ...  A brilliant group of students become card-coun...\n",
              "\n",
              "[5 rows x 10 columns]"
            ]
          },
          "metadata": {
            "tags": []
          },
          "execution_count": 16
        }
      ]
    },
    {
      "cell_type": "markdown",
      "metadata": {
        "papermill": {
          "duration": 0.103607,
          "end_time": "2021-02-08T10:54:00.699163",
          "exception": false,
          "start_time": "2021-02-08T10:54:00.595556",
          "status": "completed"
        },
        "tags": [],
        "id": "Lkmz5YwyGb8v"
      },
      "source": [
        "### Year and month by adding date\n",
        "\n",
        "We are going to take the year and the month from `date_added` so we can compare which months are the most valuable and the difference between Show release and Netflix date_added"
      ]
    },
    {
      "cell_type": "code",
      "metadata": {
        "papermill": {
          "duration": 0.124004,
          "end_time": "2021-02-08T10:54:00.928707",
          "exception": false,
          "start_time": "2021-02-08T10:54:00.804703",
          "status": "completed"
        },
        "tags": [],
        "colab": {
          "base_uri": "https://localhost:8080/"
        },
        "id": "Ui-nCQCxGb8v",
        "outputId": "4d97146c-8458-4632-c834-ab7c6b3f64e3"
      },
      "source": [
        "df['year_added'] = df['date_added'].apply(lambda x: x.split(\" \")[-1])\n",
        "df['year_added'].head()"
      ],
      "execution_count": 17,
      "outputs": [
        {
          "output_type": "execute_result",
          "data": {
            "text/plain": [
              "0    2020\n",
              "1    2016\n",
              "2    2018\n",
              "3    2017\n",
              "4    2020\n",
              "Name: year_added, dtype: object"
            ]
          },
          "metadata": {
            "tags": []
          },
          "execution_count": 17
        }
      ]
    },
    {
      "cell_type": "code",
      "metadata": {
        "papermill": {
          "duration": 0.123595,
          "end_time": "2021-02-08T10:54:01.158759",
          "exception": false,
          "start_time": "2021-02-08T10:54:01.035164",
          "status": "completed"
        },
        "tags": [],
        "colab": {
          "base_uri": "https://localhost:8080/"
        },
        "id": "ltON7lfcGb8v",
        "outputId": "1f45178f-30c4-414b-ab98-cc3d7c9a3cdd"
      },
      "source": [
        "df['month_added'] = df['date_added'].apply(lambda x: x.split(\" \")[0])\n",
        "df['month_added'].head()"
      ],
      "execution_count": 18,
      "outputs": [
        {
          "output_type": "execute_result",
          "data": {
            "text/plain": [
              "0      August\n",
              "1    December\n",
              "2    December\n",
              "3    November\n",
              "4     January\n",
              "Name: month_added, dtype: object"
            ]
          },
          "metadata": {
            "tags": []
          },
          "execution_count": 18
        }
      ]
    },
    {
      "cell_type": "markdown",
      "metadata": {
        "papermill": {
          "duration": 0.118902,
          "end_time": "2021-02-08T10:54:01.388052",
          "exception": false,
          "start_time": "2021-02-08T10:54:01.269150",
          "status": "completed"
        },
        "tags": [],
        "id": "yDp7i46vGb8v"
      },
      "source": [
        "### Shows targets based on rating\n",
        "\n",
        "This could be interesting to show who production targets"
      ]
    },
    {
      "cell_type": "code",
      "metadata": {
        "papermill": {
          "duration": 0.115447,
          "end_time": "2021-02-08T10:54:01.627210",
          "exception": false,
          "start_time": "2021-02-08T10:54:01.511763",
          "status": "completed"
        },
        "tags": [],
        "id": "EtgIlZ50Gb8w"
      },
      "source": [
        "ratings_ages = {\n",
        "    'TV-PG': 'Older Kids',\n",
        "    'TV-MA': 'Adults',\n",
        "    'TV-Y7-FV': 'Older Kids',\n",
        "    'TV-Y7': 'Older Kids',\n",
        "    'TV-14': 'Teens',\n",
        "    'R': 'Adults',\n",
        "    'TV-Y': 'Kids',\n",
        "    'NR': 'Adults',\n",
        "    'PG-13': 'Teens',\n",
        "    'TV-G': 'Kids',\n",
        "    'PG': 'Older Kids',\n",
        "    'G': 'Kids',\n",
        "    'UR': 'Adults',\n",
        "    'NC-17': 'Adults'\n",
        "}"
      ],
      "execution_count": 19,
      "outputs": []
    },
    {
      "cell_type": "code",
      "metadata": {
        "papermill": {
          "duration": 0.129014,
          "end_time": "2021-02-08T10:54:01.863450",
          "exception": false,
          "start_time": "2021-02-08T10:54:01.734436",
          "status": "completed"
        },
        "tags": [],
        "colab": {
          "base_uri": "https://localhost:8080/"
        },
        "id": "TLTZ76-wGb8w",
        "outputId": "ff368a39-0495-4203-dcfb-ef07c6536b7a"
      },
      "source": [
        "df['target_ages'] = df['rating'].replace(ratings_ages)\n",
        "df['target_ages'].unique()"
      ],
      "execution_count": 20,
      "outputs": [
        {
          "output_type": "execute_result",
          "data": {
            "text/plain": [
              "array(['Adults', 'Teens', 'Older Kids', 'Kids', nan], dtype=object)"
            ]
          },
          "metadata": {
            "tags": []
          },
          "execution_count": 20
        }
      ]
    },
    {
      "cell_type": "markdown",
      "metadata": {
        "papermill": {
          "duration": 0.105157,
          "end_time": "2021-02-08T10:54:02.077771",
          "exception": false,
          "start_time": "2021-02-08T10:54:01.972614",
          "status": "completed"
        },
        "tags": [],
        "id": "gQ2RIi2_Gb8w"
      },
      "source": [
        "### Country fix\n",
        "\n",
        "There are some entires where `country` has multiple values. We can fix that with a simple string split."
      ]
    },
    {
      "cell_type": "code",
      "metadata": {
        "papermill": {
          "duration": 0.123907,
          "end_time": "2021-02-08T10:54:02.307892",
          "exception": false,
          "start_time": "2021-02-08T10:54:02.183985",
          "status": "completed"
        },
        "tags": [],
        "colab": {
          "base_uri": "https://localhost:8080/"
        },
        "id": "rq-wHDUJGb8w",
        "outputId": "cae86e4f-cb22-46fb-d575-9d6c820bed4b"
      },
      "source": [
        "# Lets retrieve just the first country\n",
        "df['principal_country'] = df['country'].apply(lambda x: x.split(\",\")[0])\n",
        "df['principal_country'].head()"
      ],
      "execution_count": 21,
      "outputs": [
        {
          "output_type": "execute_result",
          "data": {
            "text/plain": [
              "0           Brazil\n",
              "1           Mexico\n",
              "2        Singapore\n",
              "3    United States\n",
              "4    United States\n",
              "Name: principal_country, dtype: object"
            ]
          },
          "metadata": {
            "tags": []
          },
          "execution_count": 21
        }
      ]
    },
    {
      "cell_type": "markdown",
      "metadata": {
        "papermill": {
          "duration": 0.107112,
          "end_time": "2021-02-08T10:54:02.521655",
          "exception": false,
          "start_time": "2021-02-08T10:54:02.414543",
          "status": "completed"
        },
        "tags": [],
        "id": "tiv5jFelGb8w"
      },
      "source": [
        "## Fix data types"
      ]
    },
    {
      "cell_type": "code",
      "metadata": {
        "papermill": {
          "duration": 0.118736,
          "end_time": "2021-02-08T10:54:02.748090",
          "exception": false,
          "start_time": "2021-02-08T10:54:02.629354",
          "status": "completed"
        },
        "tags": [],
        "colab": {
          "base_uri": "https://localhost:8080/"
        },
        "id": "Ngj5DS9JGb8w",
        "outputId": "e188ed1c-fd61-4135-8455-06a7df3bac88"
      },
      "source": [
        "df.dtypes"
      ],
      "execution_count": 22,
      "outputs": [
        {
          "output_type": "execute_result",
          "data": {
            "text/plain": [
              "show_id              object\n",
              "type                 object\n",
              "title                object\n",
              "country              object\n",
              "date_added           object\n",
              "release_year          int64\n",
              "rating               object\n",
              "duration             object\n",
              "listed_in            object\n",
              "description          object\n",
              "year_added           object\n",
              "month_added          object\n",
              "target_ages          object\n",
              "principal_country    object\n",
              "dtype: object"
            ]
          },
          "metadata": {
            "tags": []
          },
          "execution_count": 22
        }
      ]
    },
    {
      "cell_type": "code",
      "metadata": {
        "papermill": {
          "duration": 0.131501,
          "end_time": "2021-02-08T10:54:02.988800",
          "exception": false,
          "start_time": "2021-02-08T10:54:02.857299",
          "status": "completed"
        },
        "tags": [],
        "id": "G5BFJbbLGb8w"
      },
      "source": [
        "# type should be a category\n",
        "df['type'] = pd.Categorical(df['type'])\n",
        "# target_ages is another category (4 classes)\n",
        "df['target_ages'] = pd.Categorical(df['target_ages'], categories=['Kids', 'Older Kids', 'Teens', 'Adults'])\n",
        "\n",
        "# Year added should be integer so we can compare with `released_year`\n",
        "df['year_added'] = pd.to_numeric(df['year_added'])"
      ],
      "execution_count": 23,
      "outputs": []
    },
    {
      "cell_type": "code",
      "metadata": {
        "papermill": {
          "duration": 0.12034,
          "end_time": "2021-02-08T10:54:03.217057",
          "exception": false,
          "start_time": "2021-02-08T10:54:03.096717",
          "status": "completed"
        },
        "tags": [],
        "colab": {
          "base_uri": "https://localhost:8080/"
        },
        "id": "uIa-HxW1Gb8w",
        "outputId": "1a3924e5-a289-4de5-99f6-afa9252e83ea"
      },
      "source": [
        "df.dtypes"
      ],
      "execution_count": 24,
      "outputs": [
        {
          "output_type": "execute_result",
          "data": {
            "text/plain": [
              "show_id                object\n",
              "type                 category\n",
              "title                  object\n",
              "country                object\n",
              "date_added             object\n",
              "release_year            int64\n",
              "rating                 object\n",
              "duration               object\n",
              "listed_in              object\n",
              "description            object\n",
              "year_added              int64\n",
              "month_added            object\n",
              "target_ages          category\n",
              "principal_country      object\n",
              "dtype: object"
            ]
          },
          "metadata": {
            "tags": []
          },
          "execution_count": 24
        }
      ]
    },
    {
      "cell_type": "markdown",
      "metadata": {
        "papermill": {
          "duration": 0.106517,
          "end_time": "2021-02-08T10:54:03.434250",
          "exception": false,
          "start_time": "2021-02-08T10:54:03.327733",
          "status": "completed"
        },
        "tags": [],
        "id": "U7axvLxdGb8w"
      },
      "source": [
        "# Data Visualization"
      ]
    },
    {
      "cell_type": "code",
      "metadata": {
        "papermill": {
          "duration": 0.132814,
          "end_time": "2021-02-08T10:54:03.676650",
          "exception": false,
          "start_time": "2021-02-08T10:54:03.543836",
          "status": "completed"
        },
        "tags": [],
        "colab": {
          "base_uri": "https://localhost:8080/",
          "height": 513
        },
        "id": "vjfw5bouGb8w",
        "outputId": "f77345b3-ef68-4a35-8d40-56047245d8bd"
      },
      "source": [
        "df.head()"
      ],
      "execution_count": 25,
      "outputs": [
        {
          "output_type": "execute_result",
          "data": {
            "text/html": [
              "<div>\n",
              "<style scoped>\n",
              "    .dataframe tbody tr th:only-of-type {\n",
              "        vertical-align: middle;\n",
              "    }\n",
              "\n",
              "    .dataframe tbody tr th {\n",
              "        vertical-align: top;\n",
              "    }\n",
              "\n",
              "    .dataframe thead th {\n",
              "        text-align: right;\n",
              "    }\n",
              "</style>\n",
              "<table border=\"1\" class=\"dataframe\">\n",
              "  <thead>\n",
              "    <tr style=\"text-align: right;\">\n",
              "      <th></th>\n",
              "      <th>show_id</th>\n",
              "      <th>type</th>\n",
              "      <th>title</th>\n",
              "      <th>country</th>\n",
              "      <th>date_added</th>\n",
              "      <th>release_year</th>\n",
              "      <th>rating</th>\n",
              "      <th>duration</th>\n",
              "      <th>listed_in</th>\n",
              "      <th>description</th>\n",
              "      <th>year_added</th>\n",
              "      <th>month_added</th>\n",
              "      <th>target_ages</th>\n",
              "      <th>principal_country</th>\n",
              "    </tr>\n",
              "  </thead>\n",
              "  <tbody>\n",
              "    <tr>\n",
              "      <th>0</th>\n",
              "      <td>s1</td>\n",
              "      <td>TV Show</td>\n",
              "      <td>3%</td>\n",
              "      <td>Brazil</td>\n",
              "      <td>August 14, 2020</td>\n",
              "      <td>2020</td>\n",
              "      <td>TV-MA</td>\n",
              "      <td>4 Seasons</td>\n",
              "      <td>International TV Shows, TV Dramas, TV Sci-Fi &amp;...</td>\n",
              "      <td>In a future where the elite inhabit an island ...</td>\n",
              "      <td>2020</td>\n",
              "      <td>August</td>\n",
              "      <td>Adults</td>\n",
              "      <td>Brazil</td>\n",
              "    </tr>\n",
              "    <tr>\n",
              "      <th>1</th>\n",
              "      <td>s2</td>\n",
              "      <td>Movie</td>\n",
              "      <td>7:19</td>\n",
              "      <td>Mexico</td>\n",
              "      <td>December 23, 2016</td>\n",
              "      <td>2016</td>\n",
              "      <td>TV-MA</td>\n",
              "      <td>93 min</td>\n",
              "      <td>Dramas, International Movies</td>\n",
              "      <td>After a devastating earthquake hits Mexico Cit...</td>\n",
              "      <td>2016</td>\n",
              "      <td>December</td>\n",
              "      <td>Adults</td>\n",
              "      <td>Mexico</td>\n",
              "    </tr>\n",
              "    <tr>\n",
              "      <th>2</th>\n",
              "      <td>s3</td>\n",
              "      <td>Movie</td>\n",
              "      <td>23:59</td>\n",
              "      <td>Singapore</td>\n",
              "      <td>December 20, 2018</td>\n",
              "      <td>2011</td>\n",
              "      <td>R</td>\n",
              "      <td>78 min</td>\n",
              "      <td>Horror Movies, International Movies</td>\n",
              "      <td>When an army recruit is found dead, his fellow...</td>\n",
              "      <td>2018</td>\n",
              "      <td>December</td>\n",
              "      <td>Adults</td>\n",
              "      <td>Singapore</td>\n",
              "    </tr>\n",
              "    <tr>\n",
              "      <th>3</th>\n",
              "      <td>s4</td>\n",
              "      <td>Movie</td>\n",
              "      <td>9</td>\n",
              "      <td>United States</td>\n",
              "      <td>November 16, 2017</td>\n",
              "      <td>2009</td>\n",
              "      <td>PG-13</td>\n",
              "      <td>80 min</td>\n",
              "      <td>Action &amp; Adventure, Independent Movies, Sci-Fi...</td>\n",
              "      <td>In a postapocalyptic world, rag-doll robots hi...</td>\n",
              "      <td>2017</td>\n",
              "      <td>November</td>\n",
              "      <td>Teens</td>\n",
              "      <td>United States</td>\n",
              "    </tr>\n",
              "    <tr>\n",
              "      <th>4</th>\n",
              "      <td>s5</td>\n",
              "      <td>Movie</td>\n",
              "      <td>21</td>\n",
              "      <td>United States</td>\n",
              "      <td>January 1, 2020</td>\n",
              "      <td>2008</td>\n",
              "      <td>PG-13</td>\n",
              "      <td>123 min</td>\n",
              "      <td>Dramas</td>\n",
              "      <td>A brilliant group of students become card-coun...</td>\n",
              "      <td>2020</td>\n",
              "      <td>January</td>\n",
              "      <td>Teens</td>\n",
              "      <td>United States</td>\n",
              "    </tr>\n",
              "  </tbody>\n",
              "</table>\n",
              "</div>"
            ],
            "text/plain": [
              "  show_id     type  title  ... month_added target_ages  principal_country\n",
              "0      s1  TV Show     3%  ...      August      Adults             Brazil\n",
              "1      s2    Movie   7:19  ...    December      Adults             Mexico\n",
              "2      s3    Movie  23:59  ...    December      Adults          Singapore\n",
              "3      s4    Movie      9  ...    November       Teens      United States\n",
              "4      s5    Movie     21  ...     January       Teens      United States\n",
              "\n",
              "[5 rows x 14 columns]"
            ]
          },
          "metadata": {
            "tags": []
          },
          "execution_count": 25
        }
      ]
    },
    {
      "cell_type": "code",
      "metadata": {
        "papermill": {
          "duration": 0.134381,
          "end_time": "2021-02-08T10:54:03.923951",
          "exception": false,
          "start_time": "2021-02-08T10:54:03.789570",
          "status": "completed"
        },
        "tags": [],
        "colab": {
          "base_uri": "https://localhost:8080/"
        },
        "id": "KAWmnkWUGb8w",
        "outputId": "7e5492f5-234e-4f02-d175-750477a0f487"
      },
      "source": [
        "df['genre'] = df['listed_in'].apply(lambda x :  x.replace(' ,',',').replace(', ',',').split(',')) \n",
        "df['genre'].head()"
      ],
      "execution_count": 26,
      "outputs": [
        {
          "output_type": "execute_result",
          "data": {
            "text/plain": [
              "0    [International TV Shows, TV Dramas, TV Sci-Fi ...\n",
              "1                       [Dramas, International Movies]\n",
              "2                [Horror Movies, International Movies]\n",
              "3    [Action & Adventure, Independent Movies, Sci-F...\n",
              "4                                             [Dramas]\n",
              "Name: genre, dtype: object"
            ]
          },
          "metadata": {
            "tags": []
          },
          "execution_count": 26
        }
      ]
    },
    {
      "cell_type": "code",
      "metadata": {
        "papermill": {
          "duration": 0.140484,
          "end_time": "2021-02-08T10:54:04.178217",
          "exception": false,
          "start_time": "2021-02-08T10:54:04.037733",
          "status": "completed"
        },
        "tags": [],
        "colab": {
          "base_uri": "https://localhost:8080/",
          "height": 581
        },
        "id": "YebcAQMVGb8x",
        "outputId": "be43ab09-3636-4703-db20-d420e99c5a77"
      },
      "source": [
        "movie_df = df[df['type'] == 'Movie']\n",
        "show_df = df[df['type'] == 'TV Show']\n",
        "\n",
        "show_df.head()"
      ],
      "execution_count": 27,
      "outputs": [
        {
          "output_type": "execute_result",
          "data": {
            "text/html": [
              "<div>\n",
              "<style scoped>\n",
              "    .dataframe tbody tr th:only-of-type {\n",
              "        vertical-align: middle;\n",
              "    }\n",
              "\n",
              "    .dataframe tbody tr th {\n",
              "        vertical-align: top;\n",
              "    }\n",
              "\n",
              "    .dataframe thead th {\n",
              "        text-align: right;\n",
              "    }\n",
              "</style>\n",
              "<table border=\"1\" class=\"dataframe\">\n",
              "  <thead>\n",
              "    <tr style=\"text-align: right;\">\n",
              "      <th></th>\n",
              "      <th>show_id</th>\n",
              "      <th>type</th>\n",
              "      <th>title</th>\n",
              "      <th>country</th>\n",
              "      <th>date_added</th>\n",
              "      <th>release_year</th>\n",
              "      <th>rating</th>\n",
              "      <th>duration</th>\n",
              "      <th>listed_in</th>\n",
              "      <th>description</th>\n",
              "      <th>year_added</th>\n",
              "      <th>month_added</th>\n",
              "      <th>target_ages</th>\n",
              "      <th>principal_country</th>\n",
              "      <th>genre</th>\n",
              "    </tr>\n",
              "  </thead>\n",
              "  <tbody>\n",
              "    <tr>\n",
              "      <th>0</th>\n",
              "      <td>s1</td>\n",
              "      <td>TV Show</td>\n",
              "      <td>3%</td>\n",
              "      <td>Brazil</td>\n",
              "      <td>August 14, 2020</td>\n",
              "      <td>2020</td>\n",
              "      <td>TV-MA</td>\n",
              "      <td>4 Seasons</td>\n",
              "      <td>International TV Shows, TV Dramas, TV Sci-Fi &amp;...</td>\n",
              "      <td>In a future where the elite inhabit an island ...</td>\n",
              "      <td>2020</td>\n",
              "      <td>August</td>\n",
              "      <td>Adults</td>\n",
              "      <td>Brazil</td>\n",
              "      <td>[International TV Shows, TV Dramas, TV Sci-Fi ...</td>\n",
              "    </tr>\n",
              "    <tr>\n",
              "      <th>5</th>\n",
              "      <td>s6</td>\n",
              "      <td>TV Show</td>\n",
              "      <td>46</td>\n",
              "      <td>Turkey</td>\n",
              "      <td>July 1, 2017</td>\n",
              "      <td>2016</td>\n",
              "      <td>TV-MA</td>\n",
              "      <td>1 Season</td>\n",
              "      <td>International TV Shows, TV Dramas, TV Mysteries</td>\n",
              "      <td>A genetics professor experiments with a treatm...</td>\n",
              "      <td>2017</td>\n",
              "      <td>July</td>\n",
              "      <td>Adults</td>\n",
              "      <td>Turkey</td>\n",
              "      <td>[International TV Shows, TV Dramas, TV Mysteries]</td>\n",
              "    </tr>\n",
              "    <tr>\n",
              "      <th>11</th>\n",
              "      <td>s12</td>\n",
              "      <td>TV Show</td>\n",
              "      <td>1983</td>\n",
              "      <td>Poland, United States</td>\n",
              "      <td>November 30, 2018</td>\n",
              "      <td>2018</td>\n",
              "      <td>TV-MA</td>\n",
              "      <td>1 Season</td>\n",
              "      <td>Crime TV Shows, International TV Shows, TV Dramas</td>\n",
              "      <td>In this dark alt-history thriller, a naïve law...</td>\n",
              "      <td>2018</td>\n",
              "      <td>November</td>\n",
              "      <td>Adults</td>\n",
              "      <td>Poland</td>\n",
              "      <td>[Crime TV Shows, International TV Shows, TV Dr...</td>\n",
              "    </tr>\n",
              "    <tr>\n",
              "      <th>12</th>\n",
              "      <td>s13</td>\n",
              "      <td>TV Show</td>\n",
              "      <td>1994</td>\n",
              "      <td>Mexico</td>\n",
              "      <td>May 17, 2019</td>\n",
              "      <td>2019</td>\n",
              "      <td>TV-MA</td>\n",
              "      <td>1 Season</td>\n",
              "      <td>Crime TV Shows, Docuseries, International TV S...</td>\n",
              "      <td>Archival video and new interviews examine Mexi...</td>\n",
              "      <td>2019</td>\n",
              "      <td>May</td>\n",
              "      <td>Adults</td>\n",
              "      <td>Mexico</td>\n",
              "      <td>[Crime TV Shows, Docuseries, International TV ...</td>\n",
              "    </tr>\n",
              "    <tr>\n",
              "      <th>16</th>\n",
              "      <td>s17</td>\n",
              "      <td>TV Show</td>\n",
              "      <td>Feb-09</td>\n",
              "      <td>United States</td>\n",
              "      <td>March 20, 2019</td>\n",
              "      <td>2018</td>\n",
              "      <td>TV-14</td>\n",
              "      <td>1 Season</td>\n",
              "      <td>International TV Shows, TV Dramas</td>\n",
              "      <td>As a psychology professor faces Alzheimer's, h...</td>\n",
              "      <td>2019</td>\n",
              "      <td>March</td>\n",
              "      <td>Teens</td>\n",
              "      <td>United States</td>\n",
              "      <td>[International TV Shows, TV Dramas]</td>\n",
              "    </tr>\n",
              "  </tbody>\n",
              "</table>\n",
              "</div>"
            ],
            "text/plain": [
              "   show_id  ...                                              genre\n",
              "0       s1  ...  [International TV Shows, TV Dramas, TV Sci-Fi ...\n",
              "5       s6  ...  [International TV Shows, TV Dramas, TV Mysteries]\n",
              "11     s12  ...  [Crime TV Shows, International TV Shows, TV Dr...\n",
              "12     s13  ...  [Crime TV Shows, Docuseries, International TV ...\n",
              "16     s17  ...                [International TV Shows, TV Dramas]\n",
              "\n",
              "[5 rows x 15 columns]"
            ]
          },
          "metadata": {
            "tags": []
          },
          "execution_count": 27
        }
      ]
    },
    {
      "cell_type": "markdown",
      "metadata": {
        "papermill": {
          "duration": 0.108891,
          "end_time": "2021-02-08T10:54:04.400564",
          "exception": false,
          "start_time": "2021-02-08T10:54:04.291673",
          "status": "completed"
        },
        "tags": [],
        "id": "HUM22zhFGb8x"
      },
      "source": [
        "As we can see, there are many more TV shows than Movies"
      ]
    },
    {
      "cell_type": "code",
      "metadata": {
        "papermill": {
          "duration": 1.422905,
          "end_time": "2021-02-08T10:54:05.934596",
          "exception": false,
          "start_time": "2021-02-08T10:54:04.511691",
          "status": "completed"
        },
        "tags": [],
        "colab": {
          "base_uri": "https://localhost:8080/",
          "height": 542
        },
        "id": "34yeup9fGb8x",
        "outputId": "dca04ef8-5211-4268-b980-27199e2d6ac5"
      },
      "source": [
        "fig = px.pie(df['type'].value_counts().reset_index(), values='type', names='index')\n",
        "fig.update_traces(textposition='inside', textinfo='percent+label')\n",
        "fig.show()"
      ],
      "execution_count": 28,
      "outputs": [
        {
          "output_type": "display_data",
          "data": {
            "text/html": [
              "<html>\n",
              "<head><meta charset=\"utf-8\" /></head>\n",
              "<body>\n",
              "    <div>            <script src=\"https://cdnjs.cloudflare.com/ajax/libs/mathjax/2.7.5/MathJax.js?config=TeX-AMS-MML_SVG\"></script><script type=\"text/javascript\">if (window.MathJax) {MathJax.Hub.Config({SVG: {font: \"STIX-Web\"}});}</script>                <script type=\"text/javascript\">window.PlotlyConfig = {MathJaxConfig: 'local'};</script>\n",
              "        <script src=\"https://cdn.plot.ly/plotly-latest.min.js\"></script>                <div id=\"3cfd5ab7-82f0-4b8a-a0d9-f428e91109a9\" class=\"plotly-graph-div\" style=\"height:525px; width:100%;\"></div>            <script type=\"text/javascript\">                                    window.PLOTLYENV=window.PLOTLYENV || {};                                    if (document.getElementById(\"3cfd5ab7-82f0-4b8a-a0d9-f428e91109a9\")) {                    Plotly.newPlot(                        \"3cfd5ab7-82f0-4b8a-a0d9-f428e91109a9\",                        [{\"domain\": {\"x\": [0.0, 1.0], \"y\": [0.0, 1.0]}, \"hovertemplate\": \"index=%{label}<br>type=%{value}<extra></extra>\", \"labels\": [\"Movie\", \"TV Show\"], \"legendgroup\": \"\", \"name\": \"\", \"showlegend\": true, \"textinfo\": \"percent+label\", \"textposition\": \"inside\", \"type\": \"pie\", \"values\": [5377, 2400]}],                        {\"legend\": {\"tracegroupgap\": 0}, \"margin\": {\"t\": 60}, \"template\": {\"data\": {\"bar\": [{\"error_x\": {\"color\": \"#2a3f5f\"}, \"error_y\": {\"color\": \"#2a3f5f\"}, \"marker\": {\"line\": {\"color\": \"#E5ECF6\", \"width\": 0.5}}, \"type\": \"bar\"}], \"barpolar\": [{\"marker\": {\"line\": {\"color\": \"#E5ECF6\", \"width\": 0.5}}, \"type\": \"barpolar\"}], \"carpet\": [{\"aaxis\": {\"endlinecolor\": \"#2a3f5f\", \"gridcolor\": \"white\", \"linecolor\": \"white\", \"minorgridcolor\": \"white\", \"startlinecolor\": \"#2a3f5f\"}, \"baxis\": {\"endlinecolor\": \"#2a3f5f\", \"gridcolor\": \"white\", \"linecolor\": \"white\", \"minorgridcolor\": \"white\", \"startlinecolor\": \"#2a3f5f\"}, \"type\": \"carpet\"}], \"choropleth\": [{\"colorbar\": {\"outlinewidth\": 0, \"ticks\": \"\"}, \"type\": \"choropleth\"}], \"contour\": [{\"colorbar\": {\"outlinewidth\": 0, \"ticks\": \"\"}, \"colorscale\": [[0.0, \"#0d0887\"], [0.1111111111111111, \"#46039f\"], [0.2222222222222222, \"#7201a8\"], [0.3333333333333333, \"#9c179e\"], [0.4444444444444444, \"#bd3786\"], [0.5555555555555556, \"#d8576b\"], [0.6666666666666666, \"#ed7953\"], [0.7777777777777778, \"#fb9f3a\"], [0.8888888888888888, \"#fdca26\"], [1.0, \"#f0f921\"]], \"type\": \"contour\"}], \"contourcarpet\": [{\"colorbar\": {\"outlinewidth\": 0, \"ticks\": \"\"}, \"type\": \"contourcarpet\"}], \"heatmap\": [{\"colorbar\": {\"outlinewidth\": 0, \"ticks\": \"\"}, \"colorscale\": [[0.0, \"#0d0887\"], [0.1111111111111111, \"#46039f\"], [0.2222222222222222, \"#7201a8\"], [0.3333333333333333, \"#9c179e\"], [0.4444444444444444, \"#bd3786\"], [0.5555555555555556, \"#d8576b\"], [0.6666666666666666, \"#ed7953\"], [0.7777777777777778, \"#fb9f3a\"], [0.8888888888888888, \"#fdca26\"], [1.0, \"#f0f921\"]], \"type\": \"heatmap\"}], \"heatmapgl\": [{\"colorbar\": {\"outlinewidth\": 0, \"ticks\": \"\"}, \"colorscale\": [[0.0, \"#0d0887\"], [0.1111111111111111, \"#46039f\"], [0.2222222222222222, \"#7201a8\"], [0.3333333333333333, \"#9c179e\"], [0.4444444444444444, \"#bd3786\"], [0.5555555555555556, \"#d8576b\"], [0.6666666666666666, \"#ed7953\"], [0.7777777777777778, \"#fb9f3a\"], [0.8888888888888888, \"#fdca26\"], [1.0, \"#f0f921\"]], \"type\": \"heatmapgl\"}], \"histogram\": [{\"marker\": {\"colorbar\": {\"outlinewidth\": 0, \"ticks\": \"\"}}, \"type\": \"histogram\"}], \"histogram2d\": [{\"colorbar\": {\"outlinewidth\": 0, \"ticks\": \"\"}, \"colorscale\": [[0.0, \"#0d0887\"], [0.1111111111111111, \"#46039f\"], [0.2222222222222222, \"#7201a8\"], [0.3333333333333333, \"#9c179e\"], [0.4444444444444444, \"#bd3786\"], [0.5555555555555556, \"#d8576b\"], [0.6666666666666666, \"#ed7953\"], [0.7777777777777778, \"#fb9f3a\"], [0.8888888888888888, \"#fdca26\"], [1.0, \"#f0f921\"]], \"type\": \"histogram2d\"}], \"histogram2dcontour\": [{\"colorbar\": {\"outlinewidth\": 0, \"ticks\": \"\"}, \"colorscale\": [[0.0, \"#0d0887\"], [0.1111111111111111, \"#46039f\"], [0.2222222222222222, \"#7201a8\"], [0.3333333333333333, \"#9c179e\"], [0.4444444444444444, \"#bd3786\"], [0.5555555555555556, \"#d8576b\"], [0.6666666666666666, \"#ed7953\"], [0.7777777777777778, \"#fb9f3a\"], [0.8888888888888888, \"#fdca26\"], [1.0, \"#f0f921\"]], \"type\": \"histogram2dcontour\"}], \"mesh3d\": [{\"colorbar\": {\"outlinewidth\": 0, \"ticks\": \"\"}, \"type\": \"mesh3d\"}], \"parcoords\": [{\"line\": {\"colorbar\": {\"outlinewidth\": 0, \"ticks\": \"\"}}, \"type\": \"parcoords\"}], \"pie\": [{\"automargin\": true, \"type\": \"pie\"}], \"scatter\": [{\"marker\": {\"colorbar\": {\"outlinewidth\": 0, \"ticks\": \"\"}}, \"type\": \"scatter\"}], \"scatter3d\": [{\"line\": {\"colorbar\": {\"outlinewidth\": 0, \"ticks\": \"\"}}, \"marker\": {\"colorbar\": {\"outlinewidth\": 0, \"ticks\": \"\"}}, \"type\": \"scatter3d\"}], \"scattercarpet\": [{\"marker\": {\"colorbar\": {\"outlinewidth\": 0, \"ticks\": \"\"}}, \"type\": \"scattercarpet\"}], \"scattergeo\": [{\"marker\": {\"colorbar\": {\"outlinewidth\": 0, \"ticks\": \"\"}}, \"type\": \"scattergeo\"}], \"scattergl\": [{\"marker\": {\"colorbar\": {\"outlinewidth\": 0, \"ticks\": \"\"}}, \"type\": \"scattergl\"}], \"scattermapbox\": [{\"marker\": {\"colorbar\": {\"outlinewidth\": 0, \"ticks\": \"\"}}, \"type\": \"scattermapbox\"}], \"scatterpolar\": [{\"marker\": {\"colorbar\": {\"outlinewidth\": 0, \"ticks\": \"\"}}, \"type\": \"scatterpolar\"}], \"scatterpolargl\": [{\"marker\": {\"colorbar\": {\"outlinewidth\": 0, \"ticks\": \"\"}}, \"type\": \"scatterpolargl\"}], \"scatterternary\": [{\"marker\": {\"colorbar\": {\"outlinewidth\": 0, \"ticks\": \"\"}}, \"type\": \"scatterternary\"}], \"surface\": [{\"colorbar\": {\"outlinewidth\": 0, \"ticks\": \"\"}, \"colorscale\": [[0.0, \"#0d0887\"], [0.1111111111111111, \"#46039f\"], [0.2222222222222222, \"#7201a8\"], [0.3333333333333333, \"#9c179e\"], [0.4444444444444444, \"#bd3786\"], [0.5555555555555556, \"#d8576b\"], [0.6666666666666666, \"#ed7953\"], [0.7777777777777778, \"#fb9f3a\"], [0.8888888888888888, \"#fdca26\"], [1.0, \"#f0f921\"]], \"type\": \"surface\"}], \"table\": [{\"cells\": {\"fill\": {\"color\": \"#EBF0F8\"}, \"line\": {\"color\": \"white\"}}, \"header\": {\"fill\": {\"color\": \"#C8D4E3\"}, \"line\": {\"color\": \"white\"}}, \"type\": \"table\"}]}, \"layout\": {\"annotationdefaults\": {\"arrowcolor\": \"#2a3f5f\", \"arrowhead\": 0, \"arrowwidth\": 1}, \"autotypenumbers\": \"strict\", \"coloraxis\": {\"colorbar\": {\"outlinewidth\": 0, \"ticks\": \"\"}}, \"colorscale\": {\"diverging\": [[0, \"#8e0152\"], [0.1, \"#c51b7d\"], [0.2, \"#de77ae\"], [0.3, \"#f1b6da\"], [0.4, \"#fde0ef\"], [0.5, \"#f7f7f7\"], [0.6, \"#e6f5d0\"], [0.7, \"#b8e186\"], [0.8, \"#7fbc41\"], [0.9, \"#4d9221\"], [1, \"#276419\"]], \"sequential\": [[0.0, \"#0d0887\"], [0.1111111111111111, \"#46039f\"], [0.2222222222222222, \"#7201a8\"], [0.3333333333333333, \"#9c179e\"], [0.4444444444444444, \"#bd3786\"], [0.5555555555555556, \"#d8576b\"], [0.6666666666666666, \"#ed7953\"], [0.7777777777777778, \"#fb9f3a\"], [0.8888888888888888, \"#fdca26\"], [1.0, \"#f0f921\"]], \"sequentialminus\": [[0.0, \"#0d0887\"], [0.1111111111111111, \"#46039f\"], [0.2222222222222222, \"#7201a8\"], [0.3333333333333333, \"#9c179e\"], [0.4444444444444444, \"#bd3786\"], [0.5555555555555556, \"#d8576b\"], [0.6666666666666666, \"#ed7953\"], [0.7777777777777778, \"#fb9f3a\"], [0.8888888888888888, \"#fdca26\"], [1.0, \"#f0f921\"]]}, \"colorway\": [\"#636efa\", \"#EF553B\", \"#00cc96\", \"#ab63fa\", \"#FFA15A\", \"#19d3f3\", \"#FF6692\", \"#B6E880\", \"#FF97FF\", \"#FECB52\"], \"font\": {\"color\": \"#2a3f5f\"}, \"geo\": {\"bgcolor\": \"white\", \"lakecolor\": \"white\", \"landcolor\": \"#E5ECF6\", \"showlakes\": true, \"showland\": true, \"subunitcolor\": \"white\"}, \"hoverlabel\": {\"align\": \"left\"}, \"hovermode\": \"closest\", \"mapbox\": {\"style\": \"light\"}, \"paper_bgcolor\": \"white\", \"plot_bgcolor\": \"#E5ECF6\", \"polar\": {\"angularaxis\": {\"gridcolor\": \"white\", \"linecolor\": \"white\", \"ticks\": \"\"}, \"bgcolor\": \"#E5ECF6\", \"radialaxis\": {\"gridcolor\": \"white\", \"linecolor\": \"white\", \"ticks\": \"\"}}, \"scene\": {\"xaxis\": {\"backgroundcolor\": \"#E5ECF6\", \"gridcolor\": \"white\", \"gridwidth\": 2, \"linecolor\": \"white\", \"showbackground\": true, \"ticks\": \"\", \"zerolinecolor\": \"white\"}, \"yaxis\": {\"backgroundcolor\": \"#E5ECF6\", \"gridcolor\": \"white\", \"gridwidth\": 2, \"linecolor\": \"white\", \"showbackground\": true, \"ticks\": \"\", \"zerolinecolor\": \"white\"}, \"zaxis\": {\"backgroundcolor\": \"#E5ECF6\", \"gridcolor\": \"white\", \"gridwidth\": 2, \"linecolor\": \"white\", \"showbackground\": true, \"ticks\": \"\", \"zerolinecolor\": \"white\"}}, \"shapedefaults\": {\"line\": {\"color\": \"#2a3f5f\"}}, \"ternary\": {\"aaxis\": {\"gridcolor\": \"white\", \"linecolor\": \"white\", \"ticks\": \"\"}, \"baxis\": {\"gridcolor\": \"white\", \"linecolor\": \"white\", \"ticks\": \"\"}, \"bgcolor\": \"#E5ECF6\", \"caxis\": {\"gridcolor\": \"white\", \"linecolor\": \"white\", \"ticks\": \"\"}}, \"title\": {\"x\": 0.05}, \"xaxis\": {\"automargin\": true, \"gridcolor\": \"white\", \"linecolor\": \"white\", \"ticks\": \"\", \"title\": {\"standoff\": 15}, \"zerolinecolor\": \"white\", \"zerolinewidth\": 2}, \"yaxis\": {\"automargin\": true, \"gridcolor\": \"white\", \"linecolor\": \"white\", \"ticks\": \"\", \"title\": {\"standoff\": 15}, \"zerolinecolor\": \"white\", \"zerolinewidth\": 2}}}},                        {\"responsive\": true}                    ).then(function(){\n",
              "                            \n",
              "var gd = document.getElementById('3cfd5ab7-82f0-4b8a-a0d9-f428e91109a9');\n",
              "var x = new MutationObserver(function (mutations, observer) {{\n",
              "        var display = window.getComputedStyle(gd).display;\n",
              "        if (!display || display === 'none') {{\n",
              "            console.log([gd, 'removed!']);\n",
              "            Plotly.purge(gd);\n",
              "            observer.disconnect();\n",
              "        }}\n",
              "}});\n",
              "\n",
              "// Listen for the removal of the full notebook cells\n",
              "var notebookContainer = gd.closest('#notebook-container');\n",
              "if (notebookContainer) {{\n",
              "    x.observe(notebookContainer, {childList: true});\n",
              "}}\n",
              "\n",
              "// Listen for the clearing of the current output cell\n",
              "var outputEl = gd.closest('.output');\n",
              "if (outputEl) {{\n",
              "    x.observe(outputEl, {childList: true});\n",
              "}}\n",
              "\n",
              "                        })                };                            </script>        </div>\n",
              "</body>\n",
              "</html>"
            ]
          },
          "metadata": {
            "tags": []
          }
        }
      ]
    },
    {
      "cell_type": "code",
      "metadata": {
        "papermill": {
          "duration": 0.119424,
          "end_time": "2021-02-08T10:54:06.169453",
          "exception": false,
          "start_time": "2021-02-08T10:54:06.050029",
          "status": "completed"
        },
        "tags": [],
        "id": "gKP_2WZnGb8y"
      },
      "source": [
        "def generate_rating_df(df):\n",
        "    rating_df = df.groupby(['rating', 'target_ages']).agg({'show_id': 'count'}).reset_index()\n",
        "    rating_df = rating_df[rating_df['show_id'] != 0]\n",
        "    rating_df.columns = ['rating', 'target_ages', 'counts']\n",
        "    rating_df = rating_df.sort_values('target_ages')\n",
        "    return rating_df"
      ],
      "execution_count": 29,
      "outputs": []
    },
    {
      "cell_type": "code",
      "metadata": {
        "papermill": {
          "duration": 0.262164,
          "end_time": "2021-02-08T10:54:06.545955",
          "exception": false,
          "start_time": "2021-02-08T10:54:06.283791",
          "status": "completed"
        },
        "tags": [],
        "colab": {
          "base_uri": "https://localhost:8080/",
          "height": 542
        },
        "id": "g9iC1ZQHGb8y",
        "outputId": "c9929636-c115-4f4c-c502-3c756f103256"
      },
      "source": [
        "rating_df = generate_rating_df(df)\n",
        "fig = px.bar(rating_df, x='rating', y='counts', color='target_ages')\n",
        "fig.show()"
      ],
      "execution_count": 30,
      "outputs": [
        {
          "output_type": "display_data",
          "data": {
            "text/html": [
              "<html>\n",
              "<head><meta charset=\"utf-8\" /></head>\n",
              "<body>\n",
              "    <div>            <script src=\"https://cdnjs.cloudflare.com/ajax/libs/mathjax/2.7.5/MathJax.js?config=TeX-AMS-MML_SVG\"></script><script type=\"text/javascript\">if (window.MathJax) {MathJax.Hub.Config({SVG: {font: \"STIX-Web\"}});}</script>                <script type=\"text/javascript\">window.PlotlyConfig = {MathJaxConfig: 'local'};</script>\n",
              "        <script src=\"https://cdn.plot.ly/plotly-latest.min.js\"></script>                <div id=\"cf0e1a00-f094-41ce-9dbe-5d71046fb2db\" class=\"plotly-graph-div\" style=\"height:525px; width:100%;\"></div>            <script type=\"text/javascript\">                                    window.PLOTLYENV=window.PLOTLYENV || {};                                    if (document.getElementById(\"cf0e1a00-f094-41ce-9dbe-5d71046fb2db\")) {                    Plotly.newPlot(                        \"cf0e1a00-f094-41ce-9dbe-5d71046fb2db\",                        [{\"alignmentgroup\": \"True\", \"hovertemplate\": \"target_ages=Kids<br>rating=%{x}<br>counts=%{y}<extra></extra>\", \"legendgroup\": \"Kids\", \"marker\": {\"color\": \"#636efa\"}, \"name\": \"Kids\", \"offsetgroup\": \"Kids\", \"orientation\": \"v\", \"showlegend\": true, \"textposition\": \"auto\", \"type\": \"bar\", \"x\": [\"G\", \"TV-G\", \"TV-Y\"], \"xaxis\": \"x\", \"y\": [39, 197, 280], \"yaxis\": \"y\"}, {\"alignmentgroup\": \"True\", \"hovertemplate\": \"target_ages=Older Kids<br>rating=%{x}<br>counts=%{y}<extra></extra>\", \"legendgroup\": \"Older Kids\", \"marker\": {\"color\": \"#EF553B\"}, \"name\": \"Older Kids\", \"offsetgroup\": \"Older Kids\", \"orientation\": \"v\", \"showlegend\": true, \"textposition\": \"auto\", \"type\": \"bar\", \"x\": [\"PG\", \"TV-PG\", \"TV-Y7\", \"TV-Y7-FV\"], \"xaxis\": \"x\", \"y\": [247, 804, 270, 6], \"yaxis\": \"y\"}, {\"alignmentgroup\": \"True\", \"hovertemplate\": \"target_ages=Teens<br>rating=%{x}<br>counts=%{y}<extra></extra>\", \"legendgroup\": \"Teens\", \"marker\": {\"color\": \"#00cc96\"}, \"name\": \"Teens\", \"offsetgroup\": \"Teens\", \"orientation\": \"v\", \"showlegend\": true, \"textposition\": \"auto\", \"type\": \"bar\", \"x\": [\"PG-13\", \"TV-14\"], \"xaxis\": \"x\", \"y\": [387, 1929], \"yaxis\": \"y\"}, {\"alignmentgroup\": \"True\", \"hovertemplate\": \"target_ages=Adults<br>rating=%{x}<br>counts=%{y}<extra></extra>\", \"legendgroup\": \"Adults\", \"marker\": {\"color\": \"#ab63fa\"}, \"name\": \"Adults\", \"offsetgroup\": \"Adults\", \"orientation\": \"v\", \"showlegend\": true, \"textposition\": \"auto\", \"type\": \"bar\", \"x\": [\"NC-17\", \"NR\", \"R\", \"TV-MA\", \"UR\"], \"xaxis\": \"x\", \"y\": [3, 83, 665, 2855, 5], \"yaxis\": \"y\"}],                        {\"barmode\": \"relative\", \"legend\": {\"title\": {\"text\": \"target_ages\"}, \"tracegroupgap\": 0}, \"margin\": {\"t\": 60}, \"template\": {\"data\": {\"bar\": [{\"error_x\": {\"color\": \"#2a3f5f\"}, \"error_y\": {\"color\": \"#2a3f5f\"}, \"marker\": {\"line\": {\"color\": \"#E5ECF6\", \"width\": 0.5}}, \"type\": \"bar\"}], \"barpolar\": [{\"marker\": {\"line\": {\"color\": \"#E5ECF6\", \"width\": 0.5}}, \"type\": \"barpolar\"}], \"carpet\": [{\"aaxis\": {\"endlinecolor\": \"#2a3f5f\", \"gridcolor\": \"white\", \"linecolor\": \"white\", \"minorgridcolor\": \"white\", \"startlinecolor\": \"#2a3f5f\"}, \"baxis\": {\"endlinecolor\": \"#2a3f5f\", \"gridcolor\": \"white\", \"linecolor\": \"white\", \"minorgridcolor\": \"white\", \"startlinecolor\": \"#2a3f5f\"}, \"type\": \"carpet\"}], \"choropleth\": [{\"colorbar\": {\"outlinewidth\": 0, \"ticks\": \"\"}, \"type\": \"choropleth\"}], \"contour\": [{\"colorbar\": {\"outlinewidth\": 0, \"ticks\": \"\"}, \"colorscale\": [[0.0, \"#0d0887\"], [0.1111111111111111, \"#46039f\"], [0.2222222222222222, \"#7201a8\"], [0.3333333333333333, \"#9c179e\"], [0.4444444444444444, \"#bd3786\"], [0.5555555555555556, \"#d8576b\"], [0.6666666666666666, \"#ed7953\"], [0.7777777777777778, \"#fb9f3a\"], [0.8888888888888888, \"#fdca26\"], [1.0, \"#f0f921\"]], \"type\": \"contour\"}], \"contourcarpet\": [{\"colorbar\": {\"outlinewidth\": 0, \"ticks\": \"\"}, \"type\": \"contourcarpet\"}], \"heatmap\": [{\"colorbar\": {\"outlinewidth\": 0, \"ticks\": \"\"}, \"colorscale\": [[0.0, \"#0d0887\"], [0.1111111111111111, \"#46039f\"], [0.2222222222222222, \"#7201a8\"], [0.3333333333333333, \"#9c179e\"], [0.4444444444444444, \"#bd3786\"], [0.5555555555555556, \"#d8576b\"], [0.6666666666666666, \"#ed7953\"], [0.7777777777777778, \"#fb9f3a\"], [0.8888888888888888, \"#fdca26\"], [1.0, \"#f0f921\"]], \"type\": \"heatmap\"}], \"heatmapgl\": [{\"colorbar\": {\"outlinewidth\": 0, \"ticks\": \"\"}, \"colorscale\": [[0.0, \"#0d0887\"], [0.1111111111111111, \"#46039f\"], [0.2222222222222222, \"#7201a8\"], [0.3333333333333333, \"#9c179e\"], [0.4444444444444444, \"#bd3786\"], [0.5555555555555556, \"#d8576b\"], [0.6666666666666666, \"#ed7953\"], [0.7777777777777778, \"#fb9f3a\"], [0.8888888888888888, \"#fdca26\"], [1.0, \"#f0f921\"]], \"type\": \"heatmapgl\"}], \"histogram\": [{\"marker\": {\"colorbar\": {\"outlinewidth\": 0, \"ticks\": \"\"}}, \"type\": \"histogram\"}], \"histogram2d\": [{\"colorbar\": {\"outlinewidth\": 0, \"ticks\": \"\"}, \"colorscale\": [[0.0, \"#0d0887\"], [0.1111111111111111, \"#46039f\"], [0.2222222222222222, \"#7201a8\"], [0.3333333333333333, \"#9c179e\"], [0.4444444444444444, \"#bd3786\"], [0.5555555555555556, \"#d8576b\"], [0.6666666666666666, \"#ed7953\"], [0.7777777777777778, \"#fb9f3a\"], [0.8888888888888888, \"#fdca26\"], [1.0, \"#f0f921\"]], \"type\": \"histogram2d\"}], \"histogram2dcontour\": [{\"colorbar\": {\"outlinewidth\": 0, \"ticks\": \"\"}, \"colorscale\": [[0.0, \"#0d0887\"], [0.1111111111111111, \"#46039f\"], [0.2222222222222222, \"#7201a8\"], [0.3333333333333333, \"#9c179e\"], [0.4444444444444444, \"#bd3786\"], [0.5555555555555556, \"#d8576b\"], [0.6666666666666666, \"#ed7953\"], [0.7777777777777778, \"#fb9f3a\"], [0.8888888888888888, \"#fdca26\"], [1.0, \"#f0f921\"]], \"type\": \"histogram2dcontour\"}], \"mesh3d\": [{\"colorbar\": {\"outlinewidth\": 0, \"ticks\": \"\"}, \"type\": \"mesh3d\"}], \"parcoords\": [{\"line\": {\"colorbar\": {\"outlinewidth\": 0, \"ticks\": \"\"}}, \"type\": \"parcoords\"}], \"pie\": [{\"automargin\": true, \"type\": \"pie\"}], \"scatter\": [{\"marker\": {\"colorbar\": {\"outlinewidth\": 0, \"ticks\": \"\"}}, \"type\": \"scatter\"}], \"scatter3d\": [{\"line\": {\"colorbar\": {\"outlinewidth\": 0, \"ticks\": \"\"}}, \"marker\": {\"colorbar\": {\"outlinewidth\": 0, \"ticks\": \"\"}}, \"type\": \"scatter3d\"}], \"scattercarpet\": [{\"marker\": {\"colorbar\": {\"outlinewidth\": 0, \"ticks\": \"\"}}, \"type\": \"scattercarpet\"}], \"scattergeo\": [{\"marker\": {\"colorbar\": {\"outlinewidth\": 0, \"ticks\": \"\"}}, \"type\": \"scattergeo\"}], \"scattergl\": [{\"marker\": {\"colorbar\": {\"outlinewidth\": 0, \"ticks\": \"\"}}, \"type\": \"scattergl\"}], \"scattermapbox\": [{\"marker\": {\"colorbar\": {\"outlinewidth\": 0, \"ticks\": \"\"}}, \"type\": \"scattermapbox\"}], \"scatterpolar\": [{\"marker\": {\"colorbar\": {\"outlinewidth\": 0, \"ticks\": \"\"}}, \"type\": \"scatterpolar\"}], \"scatterpolargl\": [{\"marker\": {\"colorbar\": {\"outlinewidth\": 0, \"ticks\": \"\"}}, \"type\": \"scatterpolargl\"}], \"scatterternary\": [{\"marker\": {\"colorbar\": {\"outlinewidth\": 0, \"ticks\": \"\"}}, \"type\": \"scatterternary\"}], \"surface\": [{\"colorbar\": {\"outlinewidth\": 0, \"ticks\": \"\"}, \"colorscale\": [[0.0, \"#0d0887\"], [0.1111111111111111, \"#46039f\"], [0.2222222222222222, \"#7201a8\"], [0.3333333333333333, \"#9c179e\"], [0.4444444444444444, \"#bd3786\"], [0.5555555555555556, \"#d8576b\"], [0.6666666666666666, \"#ed7953\"], [0.7777777777777778, \"#fb9f3a\"], [0.8888888888888888, \"#fdca26\"], [1.0, \"#f0f921\"]], \"type\": \"surface\"}], \"table\": [{\"cells\": {\"fill\": {\"color\": \"#EBF0F8\"}, \"line\": {\"color\": \"white\"}}, \"header\": {\"fill\": {\"color\": \"#C8D4E3\"}, \"line\": {\"color\": \"white\"}}, \"type\": \"table\"}]}, \"layout\": {\"annotationdefaults\": {\"arrowcolor\": \"#2a3f5f\", \"arrowhead\": 0, \"arrowwidth\": 1}, \"autotypenumbers\": \"strict\", \"coloraxis\": {\"colorbar\": {\"outlinewidth\": 0, \"ticks\": \"\"}}, \"colorscale\": {\"diverging\": [[0, \"#8e0152\"], [0.1, \"#c51b7d\"], [0.2, \"#de77ae\"], [0.3, \"#f1b6da\"], [0.4, \"#fde0ef\"], [0.5, \"#f7f7f7\"], [0.6, \"#e6f5d0\"], [0.7, \"#b8e186\"], [0.8, \"#7fbc41\"], [0.9, \"#4d9221\"], [1, \"#276419\"]], \"sequential\": [[0.0, \"#0d0887\"], [0.1111111111111111, \"#46039f\"], [0.2222222222222222, \"#7201a8\"], [0.3333333333333333, \"#9c179e\"], [0.4444444444444444, \"#bd3786\"], [0.5555555555555556, \"#d8576b\"], [0.6666666666666666, \"#ed7953\"], [0.7777777777777778, \"#fb9f3a\"], [0.8888888888888888, \"#fdca26\"], [1.0, \"#f0f921\"]], \"sequentialminus\": [[0.0, \"#0d0887\"], [0.1111111111111111, \"#46039f\"], [0.2222222222222222, \"#7201a8\"], [0.3333333333333333, \"#9c179e\"], [0.4444444444444444, \"#bd3786\"], [0.5555555555555556, \"#d8576b\"], [0.6666666666666666, \"#ed7953\"], [0.7777777777777778, \"#fb9f3a\"], [0.8888888888888888, \"#fdca26\"], [1.0, \"#f0f921\"]]}, \"colorway\": [\"#636efa\", \"#EF553B\", \"#00cc96\", \"#ab63fa\", \"#FFA15A\", \"#19d3f3\", \"#FF6692\", \"#B6E880\", \"#FF97FF\", \"#FECB52\"], \"font\": {\"color\": \"#2a3f5f\"}, \"geo\": {\"bgcolor\": \"white\", \"lakecolor\": \"white\", \"landcolor\": \"#E5ECF6\", \"showlakes\": true, \"showland\": true, \"subunitcolor\": \"white\"}, \"hoverlabel\": {\"align\": \"left\"}, \"hovermode\": \"closest\", \"mapbox\": {\"style\": \"light\"}, \"paper_bgcolor\": \"white\", \"plot_bgcolor\": \"#E5ECF6\", \"polar\": {\"angularaxis\": {\"gridcolor\": \"white\", \"linecolor\": \"white\", \"ticks\": \"\"}, \"bgcolor\": \"#E5ECF6\", \"radialaxis\": {\"gridcolor\": \"white\", \"linecolor\": \"white\", \"ticks\": \"\"}}, \"scene\": {\"xaxis\": {\"backgroundcolor\": \"#E5ECF6\", \"gridcolor\": \"white\", \"gridwidth\": 2, \"linecolor\": \"white\", \"showbackground\": true, \"ticks\": \"\", \"zerolinecolor\": \"white\"}, \"yaxis\": {\"backgroundcolor\": \"#E5ECF6\", \"gridcolor\": \"white\", \"gridwidth\": 2, \"linecolor\": \"white\", \"showbackground\": true, \"ticks\": \"\", \"zerolinecolor\": \"white\"}, \"zaxis\": {\"backgroundcolor\": \"#E5ECF6\", \"gridcolor\": \"white\", \"gridwidth\": 2, \"linecolor\": \"white\", \"showbackground\": true, \"ticks\": \"\", \"zerolinecolor\": \"white\"}}, \"shapedefaults\": {\"line\": {\"color\": \"#2a3f5f\"}}, \"ternary\": {\"aaxis\": {\"gridcolor\": \"white\", \"linecolor\": \"white\", \"ticks\": \"\"}, \"baxis\": {\"gridcolor\": \"white\", \"linecolor\": \"white\", \"ticks\": \"\"}, \"bgcolor\": \"#E5ECF6\", \"caxis\": {\"gridcolor\": \"white\", \"linecolor\": \"white\", \"ticks\": \"\"}}, \"title\": {\"x\": 0.05}, \"xaxis\": {\"automargin\": true, \"gridcolor\": \"white\", \"linecolor\": \"white\", \"ticks\": \"\", \"title\": {\"standoff\": 15}, \"zerolinecolor\": \"white\", \"zerolinewidth\": 2}, \"yaxis\": {\"automargin\": true, \"gridcolor\": \"white\", \"linecolor\": \"white\", \"ticks\": \"\", \"title\": {\"standoff\": 15}, \"zerolinecolor\": \"white\", \"zerolinewidth\": 2}}}, \"xaxis\": {\"anchor\": \"y\", \"domain\": [0.0, 1.0], \"title\": {\"text\": \"rating\"}}, \"yaxis\": {\"anchor\": \"x\", \"domain\": [0.0, 1.0], \"title\": {\"text\": \"counts\"}}},                        {\"responsive\": true}                    ).then(function(){\n",
              "                            \n",
              "var gd = document.getElementById('cf0e1a00-f094-41ce-9dbe-5d71046fb2db');\n",
              "var x = new MutationObserver(function (mutations, observer) {{\n",
              "        var display = window.getComputedStyle(gd).display;\n",
              "        if (!display || display === 'none') {{\n",
              "            console.log([gd, 'removed!']);\n",
              "            Plotly.purge(gd);\n",
              "            observer.disconnect();\n",
              "        }}\n",
              "}});\n",
              "\n",
              "// Listen for the removal of the full notebook cells\n",
              "var notebookContainer = gd.closest('#notebook-container');\n",
              "if (notebookContainer) {{\n",
              "    x.observe(notebookContainer, {childList: true});\n",
              "}}\n",
              "\n",
              "// Listen for the clearing of the current output cell\n",
              "var outputEl = gd.closest('.output');\n",
              "if (outputEl) {{\n",
              "    x.observe(outputEl, {childList: true});\n",
              "}}\n",
              "\n",
              "                        })                };                            </script>        </div>\n",
              "</body>\n",
              "</html>"
            ]
          },
          "metadata": {
            "tags": []
          }
        }
      ]
    },
    {
      "cell_type": "code",
      "metadata": {
        "papermill": {
          "duration": 0.433357,
          "end_time": "2021-02-08T10:54:07.094705",
          "exception": false,
          "start_time": "2021-02-08T10:54:06.661348",
          "status": "completed"
        },
        "tags": [],
        "colab": {
          "base_uri": "https://localhost:8080/",
          "height": 542
        },
        "id": "pmOnryWkGb8z",
        "outputId": "5343793a-be19-498a-c5b0-75bcf74ef0b9"
      },
      "source": [
        "movie_rating_df = generate_rating_df(movie_df)\n",
        "show_rating_df = generate_rating_df(show_df)\n",
        "\n",
        "fig = make_subplots(rows=1, cols=2, specs=[[{\"type\": \"pie\"}, {\"type\": \"pie\"}]])\n",
        "\n",
        "fig.add_trace(\n",
        "    go.Pie(labels=movie_rating_df['target_ages'], values=movie_rating_df['counts']),\n",
        "    row=1, col=1\n",
        ")\n",
        "\n",
        "fig.add_trace(\n",
        "    go.Pie(labels=show_rating_df['target_ages'], values=show_rating_df['counts']),\n",
        "    row=1, col=2\n",
        ")\n",
        "\n",
        "fig.update_traces(textposition='inside', hole=.4, hoverinfo=\"label+percent+name\")\n",
        "fig.update_layout(\n",
        "    title_text=\"Rating distribution by Type of content\",\n",
        "    # Add annotations in the center of the donut pies.\n",
        "    annotations=[dict(text='Movies', x=0.16, y=0.5, font_size=12, showarrow=False),\n",
        "                 dict(text='TV Shows', x=0.82, y=0.5, font_size=12, showarrow=False)])\n",
        "fig.show()"
      ],
      "execution_count": 31,
      "outputs": [
        {
          "output_type": "display_data",
          "data": {
            "text/html": [
              "<html>\n",
              "<head><meta charset=\"utf-8\" /></head>\n",
              "<body>\n",
              "    <div>            <script src=\"https://cdnjs.cloudflare.com/ajax/libs/mathjax/2.7.5/MathJax.js?config=TeX-AMS-MML_SVG\"></script><script type=\"text/javascript\">if (window.MathJax) {MathJax.Hub.Config({SVG: {font: \"STIX-Web\"}});}</script>                <script type=\"text/javascript\">window.PlotlyConfig = {MathJaxConfig: 'local'};</script>\n",
              "        <script src=\"https://cdn.plot.ly/plotly-latest.min.js\"></script>                <div id=\"3ae2769c-5297-4bd1-a9c6-9f8b3f212c7a\" class=\"plotly-graph-div\" style=\"height:525px; width:100%;\"></div>            <script type=\"text/javascript\">                                    window.PLOTLYENV=window.PLOTLYENV || {};                                    if (document.getElementById(\"3ae2769c-5297-4bd1-a9c6-9f8b3f212c7a\")) {                    Plotly.newPlot(                        \"3ae2769c-5297-4bd1-a9c6-9f8b3f212c7a\",                        [{\"domain\": {\"x\": [0.0, 0.45], \"y\": [0.0, 1.0]}, \"hole\": 0.4, \"hoverinfo\": \"label+percent+name\", \"labels\": [\"Kids\", \"Kids\", \"Kids\", \"Older Kids\", \"Older Kids\", \"Older Kids\", \"Older Kids\", \"Teens\", \"Teens\", \"Adults\", \"Adults\", \"Adults\", \"Adults\", \"Adults\"], \"textposition\": \"inside\", \"type\": \"pie\", \"values\": [39, 111, 118, 247, 505, 95, 5, 387, 1273, 3, 79, 663, 1842, 5]}, {\"domain\": {\"x\": [0.55, 1.0], \"y\": [0.0, 1.0]}, \"hole\": 0.4, \"hoverinfo\": \"label+percent+name\", \"labels\": [\"Kids\", \"Kids\", \"Older Kids\", \"Older Kids\", \"Older Kids\", \"Teens\", \"Adults\", \"Adults\", \"Adults\"], \"textposition\": \"inside\", \"type\": \"pie\", \"values\": [86, 162, 299, 175, 1, 656, 4, 2, 1013]}],                        {\"annotations\": [{\"font\": {\"size\": 12}, \"showarrow\": false, \"text\": \"Movies\", \"x\": 0.16, \"y\": 0.5}, {\"font\": {\"size\": 12}, \"showarrow\": false, \"text\": \"TV Shows\", \"x\": 0.82, \"y\": 0.5}], \"template\": {\"data\": {\"bar\": [{\"error_x\": {\"color\": \"#2a3f5f\"}, \"error_y\": {\"color\": \"#2a3f5f\"}, \"marker\": {\"line\": {\"color\": \"#E5ECF6\", \"width\": 0.5}}, \"type\": \"bar\"}], \"barpolar\": [{\"marker\": {\"line\": {\"color\": \"#E5ECF6\", \"width\": 0.5}}, \"type\": \"barpolar\"}], \"carpet\": [{\"aaxis\": {\"endlinecolor\": \"#2a3f5f\", \"gridcolor\": \"white\", \"linecolor\": \"white\", \"minorgridcolor\": \"white\", \"startlinecolor\": \"#2a3f5f\"}, \"baxis\": {\"endlinecolor\": \"#2a3f5f\", \"gridcolor\": \"white\", \"linecolor\": \"white\", \"minorgridcolor\": \"white\", \"startlinecolor\": \"#2a3f5f\"}, \"type\": \"carpet\"}], \"choropleth\": [{\"colorbar\": {\"outlinewidth\": 0, \"ticks\": \"\"}, \"type\": \"choropleth\"}], \"contour\": [{\"colorbar\": {\"outlinewidth\": 0, \"ticks\": \"\"}, \"colorscale\": [[0.0, \"#0d0887\"], [0.1111111111111111, \"#46039f\"], [0.2222222222222222, \"#7201a8\"], [0.3333333333333333, \"#9c179e\"], [0.4444444444444444, \"#bd3786\"], [0.5555555555555556, \"#d8576b\"], [0.6666666666666666, \"#ed7953\"], [0.7777777777777778, \"#fb9f3a\"], [0.8888888888888888, \"#fdca26\"], [1.0, \"#f0f921\"]], \"type\": \"contour\"}], \"contourcarpet\": [{\"colorbar\": {\"outlinewidth\": 0, \"ticks\": \"\"}, \"type\": \"contourcarpet\"}], \"heatmap\": [{\"colorbar\": {\"outlinewidth\": 0, \"ticks\": \"\"}, \"colorscale\": [[0.0, \"#0d0887\"], [0.1111111111111111, \"#46039f\"], [0.2222222222222222, \"#7201a8\"], [0.3333333333333333, \"#9c179e\"], [0.4444444444444444, \"#bd3786\"], [0.5555555555555556, \"#d8576b\"], [0.6666666666666666, \"#ed7953\"], [0.7777777777777778, \"#fb9f3a\"], [0.8888888888888888, \"#fdca26\"], [1.0, \"#f0f921\"]], \"type\": \"heatmap\"}], \"heatmapgl\": [{\"colorbar\": {\"outlinewidth\": 0, \"ticks\": \"\"}, \"colorscale\": [[0.0, \"#0d0887\"], [0.1111111111111111, \"#46039f\"], [0.2222222222222222, \"#7201a8\"], [0.3333333333333333, \"#9c179e\"], [0.4444444444444444, \"#bd3786\"], [0.5555555555555556, \"#d8576b\"], [0.6666666666666666, \"#ed7953\"], [0.7777777777777778, \"#fb9f3a\"], [0.8888888888888888, \"#fdca26\"], [1.0, \"#f0f921\"]], \"type\": \"heatmapgl\"}], \"histogram\": [{\"marker\": {\"colorbar\": {\"outlinewidth\": 0, \"ticks\": \"\"}}, \"type\": \"histogram\"}], \"histogram2d\": [{\"colorbar\": {\"outlinewidth\": 0, \"ticks\": \"\"}, \"colorscale\": [[0.0, \"#0d0887\"], [0.1111111111111111, \"#46039f\"], [0.2222222222222222, \"#7201a8\"], [0.3333333333333333, \"#9c179e\"], [0.4444444444444444, \"#bd3786\"], [0.5555555555555556, \"#d8576b\"], [0.6666666666666666, \"#ed7953\"], [0.7777777777777778, \"#fb9f3a\"], [0.8888888888888888, \"#fdca26\"], [1.0, \"#f0f921\"]], \"type\": \"histogram2d\"}], \"histogram2dcontour\": [{\"colorbar\": {\"outlinewidth\": 0, \"ticks\": \"\"}, \"colorscale\": [[0.0, \"#0d0887\"], [0.1111111111111111, \"#46039f\"], [0.2222222222222222, \"#7201a8\"], [0.3333333333333333, \"#9c179e\"], [0.4444444444444444, \"#bd3786\"], [0.5555555555555556, \"#d8576b\"], [0.6666666666666666, \"#ed7953\"], [0.7777777777777778, \"#fb9f3a\"], [0.8888888888888888, \"#fdca26\"], [1.0, \"#f0f921\"]], \"type\": \"histogram2dcontour\"}], \"mesh3d\": [{\"colorbar\": {\"outlinewidth\": 0, \"ticks\": \"\"}, \"type\": \"mesh3d\"}], \"parcoords\": [{\"line\": {\"colorbar\": {\"outlinewidth\": 0, \"ticks\": \"\"}}, \"type\": \"parcoords\"}], \"pie\": [{\"automargin\": true, \"type\": \"pie\"}], \"scatter\": [{\"marker\": {\"colorbar\": {\"outlinewidth\": 0, \"ticks\": \"\"}}, \"type\": \"scatter\"}], \"scatter3d\": [{\"line\": {\"colorbar\": {\"outlinewidth\": 0, \"ticks\": \"\"}}, \"marker\": {\"colorbar\": {\"outlinewidth\": 0, \"ticks\": \"\"}}, \"type\": \"scatter3d\"}], \"scattercarpet\": [{\"marker\": {\"colorbar\": {\"outlinewidth\": 0, \"ticks\": \"\"}}, \"type\": \"scattercarpet\"}], \"scattergeo\": [{\"marker\": {\"colorbar\": {\"outlinewidth\": 0, \"ticks\": \"\"}}, \"type\": \"scattergeo\"}], \"scattergl\": [{\"marker\": {\"colorbar\": {\"outlinewidth\": 0, \"ticks\": \"\"}}, \"type\": \"scattergl\"}], \"scattermapbox\": [{\"marker\": {\"colorbar\": {\"outlinewidth\": 0, \"ticks\": \"\"}}, \"type\": \"scattermapbox\"}], \"scatterpolar\": [{\"marker\": {\"colorbar\": {\"outlinewidth\": 0, \"ticks\": \"\"}}, \"type\": \"scatterpolar\"}], \"scatterpolargl\": [{\"marker\": {\"colorbar\": {\"outlinewidth\": 0, \"ticks\": \"\"}}, \"type\": \"scatterpolargl\"}], \"scatterternary\": [{\"marker\": {\"colorbar\": {\"outlinewidth\": 0, \"ticks\": \"\"}}, \"type\": \"scatterternary\"}], \"surface\": [{\"colorbar\": {\"outlinewidth\": 0, \"ticks\": \"\"}, \"colorscale\": [[0.0, \"#0d0887\"], [0.1111111111111111, \"#46039f\"], [0.2222222222222222, \"#7201a8\"], [0.3333333333333333, \"#9c179e\"], [0.4444444444444444, \"#bd3786\"], [0.5555555555555556, \"#d8576b\"], [0.6666666666666666, \"#ed7953\"], [0.7777777777777778, \"#fb9f3a\"], [0.8888888888888888, \"#fdca26\"], [1.0, \"#f0f921\"]], \"type\": \"surface\"}], \"table\": [{\"cells\": {\"fill\": {\"color\": \"#EBF0F8\"}, \"line\": {\"color\": \"white\"}}, \"header\": {\"fill\": {\"color\": \"#C8D4E3\"}, \"line\": {\"color\": \"white\"}}, \"type\": \"table\"}]}, \"layout\": {\"annotationdefaults\": {\"arrowcolor\": \"#2a3f5f\", \"arrowhead\": 0, \"arrowwidth\": 1}, \"autotypenumbers\": \"strict\", \"coloraxis\": {\"colorbar\": {\"outlinewidth\": 0, \"ticks\": \"\"}}, \"colorscale\": {\"diverging\": [[0, \"#8e0152\"], [0.1, \"#c51b7d\"], [0.2, \"#de77ae\"], [0.3, \"#f1b6da\"], [0.4, \"#fde0ef\"], [0.5, \"#f7f7f7\"], [0.6, \"#e6f5d0\"], [0.7, \"#b8e186\"], [0.8, \"#7fbc41\"], [0.9, \"#4d9221\"], [1, \"#276419\"]], \"sequential\": [[0.0, \"#0d0887\"], [0.1111111111111111, \"#46039f\"], [0.2222222222222222, \"#7201a8\"], [0.3333333333333333, \"#9c179e\"], [0.4444444444444444, \"#bd3786\"], [0.5555555555555556, \"#d8576b\"], [0.6666666666666666, \"#ed7953\"], [0.7777777777777778, \"#fb9f3a\"], [0.8888888888888888, \"#fdca26\"], [1.0, \"#f0f921\"]], \"sequentialminus\": [[0.0, \"#0d0887\"], [0.1111111111111111, \"#46039f\"], [0.2222222222222222, \"#7201a8\"], [0.3333333333333333, \"#9c179e\"], [0.4444444444444444, \"#bd3786\"], [0.5555555555555556, \"#d8576b\"], [0.6666666666666666, \"#ed7953\"], [0.7777777777777778, \"#fb9f3a\"], [0.8888888888888888, \"#fdca26\"], [1.0, \"#f0f921\"]]}, \"colorway\": [\"#636efa\", \"#EF553B\", \"#00cc96\", \"#ab63fa\", \"#FFA15A\", \"#19d3f3\", \"#FF6692\", \"#B6E880\", \"#FF97FF\", \"#FECB52\"], \"font\": {\"color\": \"#2a3f5f\"}, \"geo\": {\"bgcolor\": \"white\", \"lakecolor\": \"white\", \"landcolor\": \"#E5ECF6\", \"showlakes\": true, \"showland\": true, \"subunitcolor\": \"white\"}, \"hoverlabel\": {\"align\": \"left\"}, \"hovermode\": \"closest\", \"mapbox\": {\"style\": \"light\"}, \"paper_bgcolor\": \"white\", \"plot_bgcolor\": \"#E5ECF6\", \"polar\": {\"angularaxis\": {\"gridcolor\": \"white\", \"linecolor\": \"white\", \"ticks\": \"\"}, \"bgcolor\": \"#E5ECF6\", \"radialaxis\": {\"gridcolor\": \"white\", \"linecolor\": \"white\", \"ticks\": \"\"}}, \"scene\": {\"xaxis\": {\"backgroundcolor\": \"#E5ECF6\", \"gridcolor\": \"white\", \"gridwidth\": 2, \"linecolor\": \"white\", \"showbackground\": true, \"ticks\": \"\", \"zerolinecolor\": \"white\"}, \"yaxis\": {\"backgroundcolor\": \"#E5ECF6\", \"gridcolor\": \"white\", \"gridwidth\": 2, \"linecolor\": \"white\", \"showbackground\": true, \"ticks\": \"\", \"zerolinecolor\": \"white\"}, \"zaxis\": {\"backgroundcolor\": \"#E5ECF6\", \"gridcolor\": \"white\", \"gridwidth\": 2, \"linecolor\": \"white\", \"showbackground\": true, \"ticks\": \"\", \"zerolinecolor\": \"white\"}}, \"shapedefaults\": {\"line\": {\"color\": \"#2a3f5f\"}}, \"ternary\": {\"aaxis\": {\"gridcolor\": \"white\", \"linecolor\": \"white\", \"ticks\": \"\"}, \"baxis\": {\"gridcolor\": \"white\", \"linecolor\": \"white\", \"ticks\": \"\"}, \"bgcolor\": \"#E5ECF6\", \"caxis\": {\"gridcolor\": \"white\", \"linecolor\": \"white\", \"ticks\": \"\"}}, \"title\": {\"x\": 0.05}, \"xaxis\": {\"automargin\": true, \"gridcolor\": \"white\", \"linecolor\": \"white\", \"ticks\": \"\", \"title\": {\"standoff\": 15}, \"zerolinecolor\": \"white\", \"zerolinewidth\": 2}, \"yaxis\": {\"automargin\": true, \"gridcolor\": \"white\", \"linecolor\": \"white\", \"ticks\": \"\", \"title\": {\"standoff\": 15}, \"zerolinecolor\": \"white\", \"zerolinewidth\": 2}}}, \"title\": {\"text\": \"Rating distribution by Type of content\"}},                        {\"responsive\": true}                    ).then(function(){\n",
              "                            \n",
              "var gd = document.getElementById('3ae2769c-5297-4bd1-a9c6-9f8b3f212c7a');\n",
              "var x = new MutationObserver(function (mutations, observer) {{\n",
              "        var display = window.getComputedStyle(gd).display;\n",
              "        if (!display || display === 'none') {{\n",
              "            console.log([gd, 'removed!']);\n",
              "            Plotly.purge(gd);\n",
              "            observer.disconnect();\n",
              "        }}\n",
              "}});\n",
              "\n",
              "// Listen for the removal of the full notebook cells\n",
              "var notebookContainer = gd.closest('#notebook-container');\n",
              "if (notebookContainer) {{\n",
              "    x.observe(notebookContainer, {childList: true});\n",
              "}}\n",
              "\n",
              "// Listen for the clearing of the current output cell\n",
              "var outputEl = gd.closest('.output');\n",
              "if (outputEl) {{\n",
              "    x.observe(outputEl, {childList: true});\n",
              "}}\n",
              "\n",
              "                        })                };                            </script>        </div>\n",
              "</body>\n",
              "</html>"
            ]
          },
          "metadata": {
            "tags": []
          }
        }
      ]
    },
    {
      "cell_type": "code",
      "metadata": {
        "papermill": {
          "duration": 0.181254,
          "end_time": "2021-02-08T10:54:07.392994",
          "exception": false,
          "start_time": "2021-02-08T10:54:07.211740",
          "status": "completed"
        },
        "tags": [],
        "colab": {
          "base_uri": "https://localhost:8080/",
          "height": 542
        },
        "id": "LQ1yIwW6Gb8z",
        "outputId": "b0386738-02cb-4c82-c218-38128e3bacdb"
      },
      "source": [
        "country_df = df['principal_country'].value_counts().reset_index()\n",
        "country_df = country_df[country_df['principal_country'] /  country_df['principal_country'].sum() > 0.01]\n",
        "\n",
        "fig = px.pie(country_df, values='principal_country', names='index')\n",
        "fig.update_traces(textposition='inside', textinfo='percent+label')\n",
        "fig.show()"
      ],
      "execution_count": 32,
      "outputs": [
        {
          "output_type": "display_data",
          "data": {
            "text/html": [
              "<html>\n",
              "<head><meta charset=\"utf-8\" /></head>\n",
              "<body>\n",
              "    <div>            <script src=\"https://cdnjs.cloudflare.com/ajax/libs/mathjax/2.7.5/MathJax.js?config=TeX-AMS-MML_SVG\"></script><script type=\"text/javascript\">if (window.MathJax) {MathJax.Hub.Config({SVG: {font: \"STIX-Web\"}});}</script>                <script type=\"text/javascript\">window.PlotlyConfig = {MathJaxConfig: 'local'};</script>\n",
              "        <script src=\"https://cdn.plot.ly/plotly-latest.min.js\"></script>                <div id=\"69fe9594-72b2-4b69-946a-0c30f2f7df25\" class=\"plotly-graph-div\" style=\"height:525px; width:100%;\"></div>            <script type=\"text/javascript\">                                    window.PLOTLYENV=window.PLOTLYENV || {};                                    if (document.getElementById(\"69fe9594-72b2-4b69-946a-0c30f2f7df25\")) {                    Plotly.newPlot(                        \"69fe9594-72b2-4b69-946a-0c30f2f7df25\",                        [{\"domain\": {\"x\": [0.0, 1.0], \"y\": [0.0, 1.0]}, \"hovertemplate\": \"index=%{label}<br>principal_country=%{value}<extra></extra>\", \"labels\": [\"United States\", \"India\", \"United Kingdom\", \"Canada\", \"Japan\", \"France\", \"South Korea\", \"Spain\", \"Mexico\", \"Australia\", \"Turkey\", \"Egypt\", \"Germany\", \"China\", \"Taiwan\", \"Brazil\"], \"legendgroup\": \"\", \"name\": \"\", \"showlegend\": true, \"textinfo\": \"percent+label\", \"textposition\": \"inside\", \"type\": \"pie\", \"values\": [3383, 956, 576, 259, 236, 196, 194, 168, 123, 107, 106, 105, 92, 86, 82, 79]}],                        {\"legend\": {\"tracegroupgap\": 0}, \"margin\": {\"t\": 60}, \"template\": {\"data\": {\"bar\": [{\"error_x\": {\"color\": \"#2a3f5f\"}, \"error_y\": {\"color\": \"#2a3f5f\"}, \"marker\": {\"line\": {\"color\": \"#E5ECF6\", \"width\": 0.5}}, \"type\": \"bar\"}], \"barpolar\": [{\"marker\": {\"line\": {\"color\": \"#E5ECF6\", \"width\": 0.5}}, \"type\": \"barpolar\"}], \"carpet\": [{\"aaxis\": {\"endlinecolor\": \"#2a3f5f\", \"gridcolor\": \"white\", \"linecolor\": \"white\", \"minorgridcolor\": \"white\", \"startlinecolor\": \"#2a3f5f\"}, \"baxis\": {\"endlinecolor\": \"#2a3f5f\", \"gridcolor\": \"white\", \"linecolor\": \"white\", \"minorgridcolor\": \"white\", \"startlinecolor\": \"#2a3f5f\"}, \"type\": \"carpet\"}], \"choropleth\": [{\"colorbar\": {\"outlinewidth\": 0, \"ticks\": \"\"}, \"type\": \"choropleth\"}], \"contour\": [{\"colorbar\": {\"outlinewidth\": 0, \"ticks\": \"\"}, \"colorscale\": [[0.0, \"#0d0887\"], [0.1111111111111111, \"#46039f\"], [0.2222222222222222, \"#7201a8\"], [0.3333333333333333, \"#9c179e\"], [0.4444444444444444, \"#bd3786\"], [0.5555555555555556, \"#d8576b\"], [0.6666666666666666, \"#ed7953\"], [0.7777777777777778, \"#fb9f3a\"], [0.8888888888888888, \"#fdca26\"], [1.0, \"#f0f921\"]], \"type\": \"contour\"}], \"contourcarpet\": [{\"colorbar\": {\"outlinewidth\": 0, \"ticks\": \"\"}, \"type\": \"contourcarpet\"}], \"heatmap\": [{\"colorbar\": {\"outlinewidth\": 0, \"ticks\": \"\"}, \"colorscale\": [[0.0, \"#0d0887\"], [0.1111111111111111, \"#46039f\"], [0.2222222222222222, \"#7201a8\"], [0.3333333333333333, \"#9c179e\"], [0.4444444444444444, \"#bd3786\"], [0.5555555555555556, \"#d8576b\"], [0.6666666666666666, \"#ed7953\"], [0.7777777777777778, \"#fb9f3a\"], [0.8888888888888888, \"#fdca26\"], [1.0, \"#f0f921\"]], \"type\": \"heatmap\"}], \"heatmapgl\": [{\"colorbar\": {\"outlinewidth\": 0, \"ticks\": \"\"}, \"colorscale\": [[0.0, \"#0d0887\"], [0.1111111111111111, \"#46039f\"], [0.2222222222222222, \"#7201a8\"], [0.3333333333333333, \"#9c179e\"], [0.4444444444444444, \"#bd3786\"], [0.5555555555555556, \"#d8576b\"], [0.6666666666666666, \"#ed7953\"], [0.7777777777777778, \"#fb9f3a\"], [0.8888888888888888, \"#fdca26\"], [1.0, \"#f0f921\"]], \"type\": \"heatmapgl\"}], \"histogram\": [{\"marker\": {\"colorbar\": {\"outlinewidth\": 0, \"ticks\": \"\"}}, \"type\": \"histogram\"}], \"histogram2d\": [{\"colorbar\": {\"outlinewidth\": 0, \"ticks\": \"\"}, \"colorscale\": [[0.0, \"#0d0887\"], [0.1111111111111111, \"#46039f\"], [0.2222222222222222, \"#7201a8\"], [0.3333333333333333, \"#9c179e\"], [0.4444444444444444, \"#bd3786\"], [0.5555555555555556, \"#d8576b\"], [0.6666666666666666, \"#ed7953\"], [0.7777777777777778, \"#fb9f3a\"], [0.8888888888888888, \"#fdca26\"], [1.0, \"#f0f921\"]], \"type\": \"histogram2d\"}], \"histogram2dcontour\": [{\"colorbar\": {\"outlinewidth\": 0, \"ticks\": \"\"}, \"colorscale\": [[0.0, \"#0d0887\"], [0.1111111111111111, \"#46039f\"], [0.2222222222222222, \"#7201a8\"], [0.3333333333333333, \"#9c179e\"], [0.4444444444444444, \"#bd3786\"], [0.5555555555555556, \"#d8576b\"], [0.6666666666666666, \"#ed7953\"], [0.7777777777777778, \"#fb9f3a\"], [0.8888888888888888, \"#fdca26\"], [1.0, \"#f0f921\"]], \"type\": \"histogram2dcontour\"}], \"mesh3d\": [{\"colorbar\": {\"outlinewidth\": 0, \"ticks\": \"\"}, \"type\": \"mesh3d\"}], \"parcoords\": [{\"line\": {\"colorbar\": {\"outlinewidth\": 0, \"ticks\": \"\"}}, \"type\": \"parcoords\"}], \"pie\": [{\"automargin\": true, \"type\": \"pie\"}], \"scatter\": [{\"marker\": {\"colorbar\": {\"outlinewidth\": 0, \"ticks\": \"\"}}, \"type\": \"scatter\"}], \"scatter3d\": [{\"line\": {\"colorbar\": {\"outlinewidth\": 0, \"ticks\": \"\"}}, \"marker\": {\"colorbar\": {\"outlinewidth\": 0, \"ticks\": \"\"}}, \"type\": \"scatter3d\"}], \"scattercarpet\": [{\"marker\": {\"colorbar\": {\"outlinewidth\": 0, \"ticks\": \"\"}}, \"type\": \"scattercarpet\"}], \"scattergeo\": [{\"marker\": {\"colorbar\": {\"outlinewidth\": 0, \"ticks\": \"\"}}, \"type\": \"scattergeo\"}], \"scattergl\": [{\"marker\": {\"colorbar\": {\"outlinewidth\": 0, \"ticks\": \"\"}}, \"type\": \"scattergl\"}], \"scattermapbox\": [{\"marker\": {\"colorbar\": {\"outlinewidth\": 0, \"ticks\": \"\"}}, \"type\": \"scattermapbox\"}], \"scatterpolar\": [{\"marker\": {\"colorbar\": {\"outlinewidth\": 0, \"ticks\": \"\"}}, \"type\": \"scatterpolar\"}], \"scatterpolargl\": [{\"marker\": {\"colorbar\": {\"outlinewidth\": 0, \"ticks\": \"\"}}, \"type\": \"scatterpolargl\"}], \"scatterternary\": [{\"marker\": {\"colorbar\": {\"outlinewidth\": 0, \"ticks\": \"\"}}, \"type\": \"scatterternary\"}], \"surface\": [{\"colorbar\": {\"outlinewidth\": 0, \"ticks\": \"\"}, \"colorscale\": [[0.0, \"#0d0887\"], [0.1111111111111111, \"#46039f\"], [0.2222222222222222, \"#7201a8\"], [0.3333333333333333, \"#9c179e\"], [0.4444444444444444, \"#bd3786\"], [0.5555555555555556, \"#d8576b\"], [0.6666666666666666, \"#ed7953\"], [0.7777777777777778, \"#fb9f3a\"], [0.8888888888888888, \"#fdca26\"], [1.0, \"#f0f921\"]], \"type\": \"surface\"}], \"table\": [{\"cells\": {\"fill\": {\"color\": \"#EBF0F8\"}, \"line\": {\"color\": \"white\"}}, \"header\": {\"fill\": {\"color\": \"#C8D4E3\"}, \"line\": {\"color\": \"white\"}}, \"type\": \"table\"}]}, \"layout\": {\"annotationdefaults\": {\"arrowcolor\": \"#2a3f5f\", \"arrowhead\": 0, \"arrowwidth\": 1}, \"autotypenumbers\": \"strict\", \"coloraxis\": {\"colorbar\": {\"outlinewidth\": 0, \"ticks\": \"\"}}, \"colorscale\": {\"diverging\": [[0, \"#8e0152\"], [0.1, \"#c51b7d\"], [0.2, \"#de77ae\"], [0.3, \"#f1b6da\"], [0.4, \"#fde0ef\"], [0.5, \"#f7f7f7\"], [0.6, \"#e6f5d0\"], [0.7, \"#b8e186\"], [0.8, \"#7fbc41\"], [0.9, \"#4d9221\"], [1, \"#276419\"]], \"sequential\": [[0.0, \"#0d0887\"], [0.1111111111111111, \"#46039f\"], [0.2222222222222222, \"#7201a8\"], [0.3333333333333333, \"#9c179e\"], [0.4444444444444444, \"#bd3786\"], [0.5555555555555556, \"#d8576b\"], [0.6666666666666666, \"#ed7953\"], [0.7777777777777778, \"#fb9f3a\"], [0.8888888888888888, \"#fdca26\"], [1.0, \"#f0f921\"]], \"sequentialminus\": [[0.0, \"#0d0887\"], [0.1111111111111111, \"#46039f\"], [0.2222222222222222, \"#7201a8\"], [0.3333333333333333, \"#9c179e\"], [0.4444444444444444, \"#bd3786\"], [0.5555555555555556, \"#d8576b\"], [0.6666666666666666, \"#ed7953\"], [0.7777777777777778, \"#fb9f3a\"], [0.8888888888888888, \"#fdca26\"], [1.0, \"#f0f921\"]]}, \"colorway\": [\"#636efa\", \"#EF553B\", \"#00cc96\", \"#ab63fa\", \"#FFA15A\", \"#19d3f3\", \"#FF6692\", \"#B6E880\", \"#FF97FF\", \"#FECB52\"], \"font\": {\"color\": \"#2a3f5f\"}, \"geo\": {\"bgcolor\": \"white\", \"lakecolor\": \"white\", \"landcolor\": \"#E5ECF6\", \"showlakes\": true, \"showland\": true, \"subunitcolor\": \"white\"}, \"hoverlabel\": {\"align\": \"left\"}, \"hovermode\": \"closest\", \"mapbox\": {\"style\": \"light\"}, \"paper_bgcolor\": \"white\", \"plot_bgcolor\": \"#E5ECF6\", \"polar\": {\"angularaxis\": {\"gridcolor\": \"white\", \"linecolor\": \"white\", \"ticks\": \"\"}, \"bgcolor\": \"#E5ECF6\", \"radialaxis\": {\"gridcolor\": \"white\", \"linecolor\": \"white\", \"ticks\": \"\"}}, \"scene\": {\"xaxis\": {\"backgroundcolor\": \"#E5ECF6\", \"gridcolor\": \"white\", \"gridwidth\": 2, \"linecolor\": \"white\", \"showbackground\": true, \"ticks\": \"\", \"zerolinecolor\": \"white\"}, \"yaxis\": {\"backgroundcolor\": \"#E5ECF6\", \"gridcolor\": \"white\", \"gridwidth\": 2, \"linecolor\": \"white\", \"showbackground\": true, \"ticks\": \"\", \"zerolinecolor\": \"white\"}, \"zaxis\": {\"backgroundcolor\": \"#E5ECF6\", \"gridcolor\": \"white\", \"gridwidth\": 2, \"linecolor\": \"white\", \"showbackground\": true, \"ticks\": \"\", \"zerolinecolor\": \"white\"}}, \"shapedefaults\": {\"line\": {\"color\": \"#2a3f5f\"}}, \"ternary\": {\"aaxis\": {\"gridcolor\": \"white\", \"linecolor\": \"white\", \"ticks\": \"\"}, \"baxis\": {\"gridcolor\": \"white\", \"linecolor\": \"white\", \"ticks\": \"\"}, \"bgcolor\": \"#E5ECF6\", \"caxis\": {\"gridcolor\": \"white\", \"linecolor\": \"white\", \"ticks\": \"\"}}, \"title\": {\"x\": 0.05}, \"xaxis\": {\"automargin\": true, \"gridcolor\": \"white\", \"linecolor\": \"white\", \"ticks\": \"\", \"title\": {\"standoff\": 15}, \"zerolinecolor\": \"white\", \"zerolinewidth\": 2}, \"yaxis\": {\"automargin\": true, \"gridcolor\": \"white\", \"linecolor\": \"white\", \"ticks\": \"\", \"title\": {\"standoff\": 15}, \"zerolinecolor\": \"white\", \"zerolinewidth\": 2}}}},                        {\"responsive\": true}                    ).then(function(){\n",
              "                            \n",
              "var gd = document.getElementById('69fe9594-72b2-4b69-946a-0c30f2f7df25');\n",
              "var x = new MutationObserver(function (mutations, observer) {{\n",
              "        var display = window.getComputedStyle(gd).display;\n",
              "        if (!display || display === 'none') {{\n",
              "            console.log([gd, 'removed!']);\n",
              "            Plotly.purge(gd);\n",
              "            observer.disconnect();\n",
              "        }}\n",
              "}});\n",
              "\n",
              "// Listen for the removal of the full notebook cells\n",
              "var notebookContainer = gd.closest('#notebook-container');\n",
              "if (notebookContainer) {{\n",
              "    x.observe(notebookContainer, {childList: true});\n",
              "}}\n",
              "\n",
              "// Listen for the clearing of the current output cell\n",
              "var outputEl = gd.closest('.output');\n",
              "if (outputEl) {{\n",
              "    x.observe(outputEl, {childList: true});\n",
              "}}\n",
              "\n",
              "                        })                };                            </script>        </div>\n",
              "</body>\n",
              "</html>"
            ]
          },
          "metadata": {
            "tags": []
          }
        }
      ]
    },
    {
      "cell_type": "code",
      "metadata": {
        "papermill": {
          "duration": 0.289239,
          "end_time": "2021-02-08T10:54:07.801026",
          "exception": false,
          "start_time": "2021-02-08T10:54:07.511787",
          "status": "completed"
        },
        "tags": [],
        "colab": {
          "base_uri": "https://localhost:8080/",
          "height": 542
        },
        "id": "HtYrgO2yGb8z",
        "outputId": "5f637ca1-5ccb-4172-d7f8-0f5b2e3ce5cf"
      },
      "source": [
        "fig = px.histogram(df, x='principal_country')\n",
        "fig.update_xaxes(categoryorder='total descending')\n",
        "fig.show()"
      ],
      "execution_count": 33,
      "outputs": [
        {
          "output_type": "display_data",
          "data": {
            "text/html": [
              "<html>\n",
              "<head><meta charset=\"utf-8\" /></head>\n",
              "<body>\n",
              "    <div>            <script src=\"https://cdnjs.cloudflare.com/ajax/libs/mathjax/2.7.5/MathJax.js?config=TeX-AMS-MML_SVG\"></script><script type=\"text/javascript\">if (window.MathJax) {MathJax.Hub.Config({SVG: {font: \"STIX-Web\"}});}</script>                <script type=\"text/javascript\">window.PlotlyConfig = {MathJaxConfig: 'local'};</script>\n",
              "        <script src=\"https://cdn.plot.ly/plotly-latest.min.js\"></script>                <div id=\"296e4ea2-3747-4521-afc5-0972b7a6a9d5\" class=\"plotly-graph-div\" style=\"height:525px; width:100%;\"></div>            <script type=\"text/javascript\">                                    window.PLOTLYENV=window.PLOTLYENV || {};                                    if (document.getElementById(\"296e4ea2-3747-4521-afc5-0972b7a6a9d5\")) {                    Plotly.newPlot(                        \"296e4ea2-3747-4521-afc5-0972b7a6a9d5\",                        [{\"alignmentgroup\": \"True\", \"bingroup\": \"x\", \"hovertemplate\": \"principal_country=%{x}<br>count=%{y}<extra></extra>\", \"legendgroup\": \"\", \"marker\": {\"color\": \"#636efa\"}, \"name\": \"\", \"offsetgroup\": \"\", \"orientation\": \"v\", \"showlegend\": false, \"type\": \"histogram\", \"x\": [\"Brazil\", \"Mexico\", \"Singapore\", \"United States\", \"United States\", \"Turkey\", \"Egypt\", \"United States\", \"India\", \"India\", \"United States\", \"Poland\", \"Mexico\", \"Thailand\", \"United States\", \"Nigeria\", \"United States\", \"Norway\", \"India\", \"United Kingdom\", \"India\", \"India\", \"India\", \"India\", \"Japan\", \"United States\", \"United States\", \"South Korea\", \"Italy\", \"United States\", \"Canada\", \"Indonesia\", \"Indonesia\", \"United States\", \"Canada\", \"United States\", \"Romania\", \"Romania\", \"United States\", \"Spain\", \"Turkey\", \"Iceland\", \"Turkey\", \"Nigeria\", \"United States\", \"Turkey\", \"United States\", \"United States\", \"South Africa\", \"France\", \"United States\", \"South Korea\", \"Spain\", \"United States\", \"Portugal\", \"United States\", \"United States\", \"Indonesia\", \"United Kingdom\", \"India\", \"United States\", \"South Korea\", \"United States\", \"United States\", \"United States\", \"United States\", \"United States\", \"United States\", \"Hong Kong\", \"United States\", \"United States\", \"United States\", \"United States\", \"Italy\", \"Spain\", \"United States\", \"United States\", \"France\", \"India\", \"United States\", \"Turkey\", \"South Korea\", \"United Kingdom\", \"United States\", \"United States\", \"United Kingdom\", \"India\", \"Canada\", \"United States\", \"South Africa\", \"India\", \"South Korea\", \"Argentina\", \"United Kingdom\", \"United States\", \"South Korea\", \"United States\", \"United States\", \"United States\", \"Indonesia\", \"India\", \"Canada\", \"Germany\", \"Egypt\", \"United States\", \"Denmark\", \"Poland\", \"Japan\", \"United States\", \"Kenya\", \"United States\", \"Italy\", \"Spain\", \"Canada\", \"Spain\", \"United States\", \"Nigeria\", \"United States\", \"United States\", \"Italy\", \"United States\", \"United States\", \"United States\", \"Indonesia\", \"Romania\", \"United States\", \"New Zealand\", \"United States\", \"United States\", \"India\", \"United States\", \"United States\", \"India\", \"Spain\", \"United States\", \"Pakistan\", \"India\", \"Australia\", \"Australia\", \"Australia\", \"Australia\", \"United States\", \"United States\", \"India\", \"Nigeria\", \"Australia\", \"Mexico\", \"United States\", \"United States\", \"China\", \"India\", \"United States\", \"Taiwan\", \"United States\", \"United States\", \"United States\", \"Turkey\", \"Taiwan\", \"Canada\", \"United States\", \"United States\", \"United States\", \"France\", \"United States\", \"United States\", \"United Kingdom\", \"United States\", \"United States\", \"United States\", \"Netherlands\", \"Canada\", \"United States\", \"India\", \"Denmark\", \"United States\", \"United States\", \"United States\", \"United States\", \"United States\", \"United States\", \"Taiwan\", \"United Kingdom\", \"United States\", \"United States\", \"United States\", \"Germany\", \"United States\", \"Hong Kong\", \"Taiwan\", \"United States\", \"United States\", \"South Korea\", \"France\", \"United States\", \"Argentina\", \"United States\", \"United Kingdom\", \"United States\", \"China\", \"South Korea\", \"United States\", \"Philippines\", \"South Korea\", \"France\", \"United States\", \"United Kingdom\", \"United Arab Emirates\", \"United States\", \"Brazil\", \"United States\", \"United States\", \"Netherlands\", \"United Kingdom\", \"Germany\", \"United States\", \"United States\", \"United Kingdom\", \"United States\", \"Brazil\", \"Spain\", \"Canada\", \"India\", \"Philippines\", \"United States\", \"Iran\", \"United States\", \"United States\", \"United Kingdom\", \"Japan\", \"United States\", \"Argentina\", \"United States\", \"United States\", \"United States\", \"Taiwan\", \"Taiwan\", \"Israel\", \"United States\", \"United States\", \"Taiwan\", \"United States\", \"Taiwan\", \"United States\", \"Nigeria\", \"India\", \"Uruguay\", \"United States\", \"United States\", \"France\", \"Philippines\", \"United States\", \"India\", \"United States\", \"Japan\", \"Canada\", \"United States\", \"United States\", \"Singapore\", \"United States\", \"Japan\", \"Canada\", \"United States\", \"Turkey\", \"India\", \"India\", \"India\", \"India\", \"India\", \"India\", \"India\", \"India\", \"India\", \"India\", \"India\", \"India\", \"United States\", \"India\", \"India\", \"India\", \"Egypt\", \"United States\", \"Pakistan\", \"India\", \"South Korea\", \"United States\", \"United Kingdom\", \"United Kingdom\", \"United States\", \"United States\", \"South Korea\", \"Argentina\", \"Mexico\", \"Hong Kong\", \"China\", \"United States\", \"Canada\", \"United States\", \"United States\", \"Turkey\", \"India\", \"Bulgaria\", \"Canada\", \"France\", \"Spain\", \"United States\", \"United States\", \"United States\", \"United States\", \"France\", \"United States\", \"India\", \"India\", \"Australia\", \"Hong Kong\", \"India\", \"United States\", \"Canada\", \"United Arab Emirates\", \"United States\", \"Brazil\", \"United Kingdom\", \"Brazil\", \"United States\", \"United Kingdom\", \"United States\", \"United States\", \"United States\", \"United States\", \"United States\", \"United Kingdom\", \"United States\", \"United States\", \"Singapore\", \"United Kingdom\", \"United Kingdom\", \"United States\", \"Taiwan\", \"Germany\", \"Mauritius\", \"India\", \"Japan\", \"Japan\", \"India\", \"Argentina\", \"India\", \"India\", \"United States\", \"Japan\", \"Japan\", \"United Kingdom\", \"United States\", \"United States\", \"India\", \"India\", \"India\", \"India\", \"United States\", \"India\", \"United States\", \"Japan\", \"India\", \"India\", \"Japan\", \"India\", \"United States\", \"United States\", \"Lebanon\", \"India\", \"United States\", \"Mexico\", \"Egypt\", \"United States\", \"India\", \"United States\", \"Colombia\", \"Spain\", \"Uruguay\", \"Mexico\", \"United States\", \"United States\", \"Egypt\", \"France\", \"Uruguay\", \"United Arab Emirates\", \"Turkey\", \"United States\", \"United States\", \"Australia\", \"Canada\", \"United States\", \"Soviet Union\", \"United States\", \"Japan\", \"Brazil\", \"United States\", \"United States\", \"United States\", \"United Kingdom\", \"United States\", \"United States\", \"Sweden\", \"South Africa\", \"United States\", \"United States\", \"United States\", \"Malaysia\", \"United States\", \"Ireland\", \"Colombia\", \"Spain\", \"United States\", \"United States\", \"United States\", \"United States\", \"United States\", \"Philippines\", \"United States\", \"United States\", \"United Kingdom\", \"Mexico\", \"Brazil\", \"United States\", \"Hong Kong\", \"Germany\", \"United States\", \"Argentina\", \"United States\", \"United States\", \"United Kingdom\", \"Philippines\", \"United States\", \"United States\", \"United States\", \"United Kingdom\", \"United States\", \"United States\", \"United States\", \"Japan\", \"United States\", \"Colombia\", \"Philippines\", \"Denmark\", \"South Africa\", \"Spain\", \"United Kingdom\", \"India\", \"Egypt\", \"United States\", \"United Kingdom\", \"United Kingdom\", \"United States\", \"United States\", \"United States\", \"United States\", \"United States\", \"United States\", \"United States\", \"United States\", \"United States\", \"United States\", \"United States\", \"United States\", \"United States\", \"Canada\", \"Canada\", \"United States\", \"United Kingdom\", \"United States\", \"United States\", \"United States\", \"United States\", \"United States\", \"United States\", \"United States\", \"United States\", \"United States\", \"India\", \"Philippines\", \"Turkey\", \"India\", \"United Kingdom\", \"United States\", \"United States\", \"India\", \"United States\", \"United States\", \"United States\", \"United States\", \"France\", \"Egypt\", \"United Kingdom\", \"Egypt\", \"United States\", \"Taiwan\", \"United States\", \"Serbia\", \"Colombia\", \"Egypt\", \"Brazil\", \"India\", \"India\", \"Spain\", \"Canada\", \"United States\", \"Iceland\", \"Egypt\", \"India\", \"India\", \"United States\", \"India\", \"Singapore\", \"France\", \"United States\", \"India\", \"Taiwan\", \"Japan\", \"United States\", \"United States\", \"Ireland\", \"United States\", \"United States\", \"United States\", \"Finland\", \"India\", \"United States\", \"India\", \"United Kingdom\", \"China\", \"China\", \"Spain\", \"Brazil\", \"India\", \"India\", \"India\", \"United States\", \"India\", \"India\", \"United States\", \"Canada\", \"Japan\", \"United Kingdom\", \"Brazil\", \"United States\", \"South Korea\", \"United States\", \"United States\", \"Egypt\", \"United States\", \"United States\", \"United States\", \"India\", \"United States\", \"United States\", \"India\", \"Japan\", \"United States\", \"Argentina\", \"Spain\", \"India\", \"United States\", \"United States\", \"United Kingdom\", \"France\", \"United States\", \"France\", \"United States\", \"Colombia\", \"Japan\", \"United States\", \"India\", \"France\", \"Egypt\", \"United States\", \"Netherlands\", \"South Korea\", \"Iceland\", \"United States\", \"United States\", \"Indonesia\", \"India\", \"Canada\", \"United States\", \"United States\", \"United States\", \"South Korea\", \"United States\", \"United Kingdom\", \"India\", \"Indonesia\", \"United States\", \"United States\", \"India\", \"India\", \"United States\", \"China\", \"Australia\", \"United States\", \"India\", \"United States\", \"Norway\", \"United States\", \"United States\", \"Peru\", \"India\", \"South Korea\", \"United States\", \"Canada\", \"Taiwan\", \"Japan\", \"United States\", \"France\", \"United States\", \"United States\", \"Canada\", \"Japan\", \"United Kingdom\", \"Chile\", \"United States\", \"United States\", \"Australia\", \"Romania\", \"United Kingdom\", \"Australia\", \"United States\", \"United States\", \"United States\", \"India\", \"Bulgaria\", \"Taiwan\", \"United States\", \"United States\", \"Indonesia\", \"United Kingdom\", \"United States\", \"Sweden\", \"United Kingdom\", \"United States\", \"United States\", \"United States\", \"United States\", \"India\", \"India\", \"India\", \"Mexico\", \"Ghana\", \"India\", \"United States\", \"United States\", \"United States\", \"Japan\", \"India\", \"India\", \"India\", \"India\", \"India\", \"United States\", \"United States\", \"United States\", \"India\", \"United States\", \"United States\", \"India\", \"Turkey\", \"Turkey\", \"France\", \"United States\", \"Italy\", \"United Kingdom\", \"India\", \"South Africa\", \"Germany\", \"India\", \"Brazil\", \"Australia\", \"Japan\", \"Taiwan\", \"United States\", \"Thailand\", \"United States\", \"Canada\", \"United States\", \"United States\", \"Australia\", \"Canada\", \"India\", \"United States\", \"United States\", \"United Kingdom\", \"United Kingdom\", \"Thailand\", \"United States\", \"South Korea\", \"South Korea\", \"Singapore\", \"United States\", \"France\", \"India\", \"India\", \"India\", \"United States\", \"United States\", \"Japan\", \"United States\", \"Japan\", \"United States\", \"Chile\", \"United States\", \"United States\", \"United States\", \"Pakistan\", \"Turkey\", \"Nigeria\", \"United States\", \"United States\", \"United States\", \"India\", \"Thailand\", \"India\", \"United States\", \"Thailand\", \"Thailand\", \"United States\", \"Thailand\", \"Thailand\", \"Thailand\", \"Thailand\", \"Spain\", \"India\", \"Saudi Arabia\", \"Germany\", \"Australia\", \"United States\", \"United States\", \"United States\", \"United States\", \"United States\", \"United States\", \"United States\", \"United States\", \"United States\", \"United States\", \"United States\", \"United States\", \"United States\", \"United States\", \"United States\", \"United States\", \"Philippines\", \"India\", \"India\", \"United States\", \"India\", \"Chile\", \"United States\", \"India\", \"United States\", \"United States\", \"United States\", \"Italy\", \"United States\", \"India\", \"United States\", \"United States\", \"Norway\", \"United States\", \"United States\", \"United Kingdom\", \"United States\", \"India\", \"Namibia\", \"Mexico\", \"India\", \"India\", \"United States\", \"United States\", \"Taiwan\", \"Taiwan\", \"Russia\", \"Germany\", \"United Kingdom\", \"United States\", \"Canada\", \"Japan\", \"United States\", \"Australia\", \"Australia\", \"South Korea\", \"United States\", \"Mexico\", \"Canada\", \"Philippines\", \"United States\", \"United States\", \"United States\", \"Indonesia\", \"South Korea\", \"Egypt\", \"United States\", \"Mexico\", \"United Kingdom\", \"United States\", \"United States\", \"United States\", \"Nigeria\", \"United States\", \"United States\", \"United States\", \"Egypt\", \"Japan\", \"United States\", \"United States\", \"United States\", \"United States\", \"Turkey\", \"India\", \"United Kingdom\", \"United States\", \"United States\", \"Nigeria\", \"United States\", \"Lebanon\", \"Belgium\", \"New Zealand\", \"United States\", \"Uruguay\", \"Canada\", \"United Kingdom\", \"United States\", \"United States\", \"United States\", \"United States\", \"United States\", \"United Arab Emirates\", \"United States\", \"United States\", \"United States\", \"Germany\", \"Turkey\", \"Australia\", \"Germany\", \"Germany\", \"Japan\", \"Japan\", \"Japan\", \"United States\", \"United States\", \"United States\", \"United States\", \"South Korea\", \"United States\", \"United States\", \"Canada\", \"United States\", \"United States\", \"India\", \"United States\", \"United States\", \"Russia\", \"United States\", \"United States\", \"Canada\", \"Philippines\", \"United States\", \"Spain\", \"India\", \"Egypt\", \"Japan\", \"United States\", \"Japan\", \"United States\", \"Japan\", \"Turkey\", \"United States\", \"United States\", \"United States\", \"United States\", \"India\", \"India\", \"India\", \"India\", \"India\", \"India\", \"India\", \"India\", \"India\", \"India\", \"India\", \"United States\", \"India\", \"India\", \"India\", \"India\", \"Germany\", \"Germany\", \"Germany\", \"Germany\", \"United States\", \"United States\", \"United States\", \"United States\", \"United Kingdom\", \"United States\", \"United States\", \"United States\", \"United States\", \"United States\", \"Denmark\", \"United States\", \"France\", \"United States\", \"United Kingdom\", \"United States\", \"United States\", \"United States\", \"United States\", \"United States\", \"United States\", \"United Kingdom\", \"United States\", \"United Kingdom\", \"United Kingdom\", \"United States\", \"United States\", \"United States\", \"India\", \"United Kingdom\", \"United States\", \"United States\", \"India\", \"Germany\", \"India\", \"Turkey\", \"United States\", \"United States\", \"Philippines\", \"Canada\", \"United States\", \"Vietnam\", \"Canada\", \"Spain\", \"Egypt\", \"India\", \"India\", \"Ireland\", \"United States\", \"Japan\", \"Saudi Arabia\", \"United Kingdom\", \"India\", \"United States\", \"Turkey\", \"United States\", \"United States\", \"Spain\", \"United Kingdom\", \"United States\", \"Turkey\", \"United States\", \"Russia\", \"United Kingdom\", \"United States\", \"United States\", \"Argentina\", \"France\", \"Canada\", \"United States\", \"United States\", \"United States\", \"Japan\", \"United States\", \"Japan\", \"Japan\", \"Japan\", \"Japan\", \"United States\", \"Germany\", \"France\", \"Hong Kong\", \"United States\", \"Australia\", \"South Africa\", \"France\", \"Thailand\", \"South Africa\", \"France\", \"India\", \"United States\", \"Brazil\", \"Argentina\", \"United States\", \"Norway\", \"United States\", \"Canada\", \"Japan\", \"France\", \"United States\", \"United States\", \"United States\", \"United Kingdom\", \"United States\", \"Germany\", \"United States\", \"India\", \"Canada\", \"Japan\", \"Thailand\", \"United States\", \"United States\", \"Canada\", \"United States\", \"United States\", \"Canada\", \"Denmark\", \"United States\", \"India\", \"India\", \"United States\", \"United Kingdom\", \"Ireland\", \"United States\", \"India\", \"India\", \"Spain\", \"United States\", \"United States\", \"United States\", \"Colombia\", \"India\", \"United States\", \"Spain\", \"United Arab Emirates\", \"India\", \"New Zealand\", \"United States\", \"Netherlands\", \"Canada\", \"Canada\", \"Australia\", \"United States\", \"United States\", \"Sweden\", \"Russia\", \"United States\", \"India\", \"United States\", \"Canada\", \"United Kingdom\", \"Norway\", \"Finland\", \"Denmark\", \"Brazil\", \"Philippines\", \"Spain\", \"Denmark\", \"New Zealand\", \"United States\", \"United Kingdom\", \"India\", \"Lebanon\", \"United Kingdom\", \"United States\", \"Canada\", \"Singapore\", \"Egypt\", \"Brazil\", \"United States\", \"Spain\", \"Bulgaria\", \"South Korea\", \"United States\", \"India\", \"United States\", \"United States\", \"United States\", \"United States\", \"United States\", \"Canada\", \"United States\", \"United States\", \"Canada\", \"United States\", \"United States\", \"France\", \"United States\", \"India\", \"Hong Kong\", \"United States\", \"United States\", \"India\", \"United Kingdom\", \"United States\", \"Australia\", \"United States\", \"United States\", \"United States\", \"United States\", \"Philippines\", \"Indonesia\", \"United States\", \"United Kingdom\", \"United States\", \"United States\", \"India\", \"South Korea\", \"United States\", \"United States\", \"United Kingdom\", \"United States\", \"Taiwan\", \"United States\", \"France\", \"Turkey\", \"United States\", \"Brazil\", \"China\", \"India\", \"United States\", \"Canada\", \"Canada\", \"Canada\", \"India\", \"France\", \"United States\", \"United Kingdom\", \"Brazil\", \"United States\", \"United States\", \"India\", \"Indonesia\", \"Netherlands\", \"India\", \"India\", \"Bulgaria\", \"United States\", \"United States\", \"United States\", \"United States\", \"United States\", \"United States\", \"United States\", \"United States\", \"France\", \"Turkey\", \"South Korea\", \"United States\", \"United States\", \"United Kingdom\", \"United States\", \"South Korea\", \"United States\", \"United States\", \"Philippines\", \"Philippines\", \"France\", \"Kuwait\", \"Turkey\", \"India\", \"India\", \"Belgium\", \"United States\", \"United Kingdom\", \"Spain\", \"Norway\", \"Japan\", \"Indonesia\", \"Argentina\", \"South Korea\", \"Egypt\", \"United Kingdom\", \"India\", \"United Kingdom\", \"United States\", \"United States\", \"United States\", \"United States\", \"United States\", \"Sweden\", \"Italy\", \"France\", \"United Kingdom\", \"United States\", \"United States\", \"United States\", \"Spain\", \"Mexico\", \"United States\", \"United States\", \"Canada\", \"United States\", \"South Korea\", \"Canada\", \"Ireland\", \"United States\", \"Philippines\", \"Egypt\", \"United States\", \"Taiwan\", \"India\", \"United States\", \"France\", \"United States\", \"United States\", \"France\", \"India\", \"United States\", \"United States\", \"United Kingdom\", \"United States\", \"France\", \"Ireland\", \"Japan\", \"United States\", \"United States\", \"India\", \"Philippines\", \"India\", \"United States\", \"Mexico\", \"Mexico\", \"Argentina\", \"United States\", \"Canada\", \"United Kingdom\", \"Japan\", \"United States\", \"United States\", \"United States\", \"United States\", \"France\", \"Iceland\", \"United States\", \"Japan\", \"United Kingdom\", \"Hong Kong\", \"Hong Kong\", \"United States\", \"Nigeria\", \"United States\", \"United States\", \"United States\", \"United States\", \"South Africa\", \"China\", \"United States\", \"Spain\", \"United States\", \"Canada\", \"United Kingdom\", \"Norway\", \"United States\", \"United States\", \"Japan\", \"India\", \"Indonesia\", \"United States\", \"India\", \"India\", \"India\", \"India\", \"India\", \"India\", \"Pakistan\", \"United States\", \"India\", \"India\", \"India\", \"United States\", \"India\", \"United States\", \"India\", \"Germany\", \"United States\", \"Indonesia\", \"United States\", \"South Africa\", \"Germany\", \"United States\", \"United Kingdom\", \"United States\", \"United States\", \"United States\", \"United States\", \"United States\", \"Canada\", \"India\", \"India\", \"United States\", \"United States\", \"United States\", \"Canada\", \"Hong Kong\", \"United States\", \"Brazil\", \"India\", \"Australia\", \"Indonesia\", \"United States\", \"United States\", \"United States\", \"South Korea\", \"United States\", \"South Korea\", \"United States\", \"United States\", \"United States\", \"United States\", \"United States\", \"United States\", \"United States\", \"India\", \"United States\", \"United States\", \"United Kingdom\", \"United Kingdom\", \"India\", \"India\", \"United States\", \"United States\", \"United States\", \"United States\", \"India\", \"South Korea\", \"India\", \"United States\", \"United States\", \"United States\", \"United States\", \"Nigeria\", \"South Korea\", \"United States\", \"Lebanon\", \"United Kingdom\", \"Japan\", \"Japan\", \"United States\", \"India\", \"United States\", \"China\", \"United States\", \"United Kingdom\", \"India\", \"United States\", \"United Kingdom\", \"United States\", \"South Korea\", \"United States\", \"India\", \"India\", \"China\", \"United States\", \"United States\", \"United States\", \"United States\", \"United States\", \"United States\", \"United States\", \"United States\", \"United States\", \"United States\", \"United Kingdom\", \"United States\", \"Germany\", \"Canada\", \"United States\", \"United States\", \"United States\", \"United Kingdom\", \"Canada\", \"Canada\", \"Canada\", \"United States\", \"United States\", \"United States\", \"Argentina\", \"United States\", \"India\", \"United States\", \"United States\", \"United States\", \"United States\", \"Malaysia\", \"India\", \"Pakistan\", \"India\", \"United Kingdom\", \"India\", \"Turkey\", \"South Korea\", \"United States\", \"United States\", \"United States\", \"United States\", \"United States\", \"United States\", \"United States\", \"Nigeria\", \"Taiwan\", \"United Kingdom\", \"Brazil\", \"Brazil\", \"United States\", \"United Kingdom\", \"United Kingdom\", \"Turkey\", \"Japan\", \"United States\", \"United States\", \"United States\", \"India\", \"United States\", \"India\", \"Spain\", \"United States\", \"Australia\", \"United States\", \"United Kingdom\", \"United States\", \"United States\", \"United Kingdom\", \"France\", \"Taiwan\", \"United Kingdom\", \"Germany\", \"France\", \"United States\", \"United States\", \"United States\", \"Mexico\", \"United States\", \"United States\", \"United States\", \"United States\", \"United States\", \"United States\", \"United States\", \"Mexico\", \"United States\", \"United States\", \"United States\", \"United Kingdom\", \"Spain\", \"Mexico\", \"United States\", \"United States\", \"Canada\", \"Japan\", \"France\", \"United States\", \"United States\", \"Italy\", \"India\", \"United States\", \"United States\", \"United States\", \"Nigeria\", \"South Africa\", \"United States\", \"United States\", \"United States\", \"India\", \"United Kingdom\", \"India\", \"Germany\", \"United States\", \"South Korea\", \"India\", \"Canada\", \"United States\", \"United States\", \"United States\", \"United States\", \"United States\", \"United States\", \"United States\", \"Mexico\", \"India\", \"United Kingdom\", \"United States\", \"Czech Republic\", \"United States\", \"Vietnam\", \"United Kingdom\", \"Ireland\", \"Turkey\", \"Turkey\", \"United Kingdom\", \"United States\", \"India\", \"Mexico\", \"United States\", \"United States\", \"Zimbabwe\", \"United States\", \"United States\", \"United States\", \"United States\", \"Canada\", \"United States\", \"United States\", \"United States\", \"United States\", \"United States\", \"Netherlands\", \"United States\", \"Canada\", \"United States\", \"United States\", \"Nigeria\", \"Brazil\", \"Australia\", \"United States\", \"United States\", \"United States\", \"United States\", \"United States\", \"United States\", \"South Korea\", \"United Kingdom\", \"Indonesia\", \"Philippines\", \"United Kingdom\", \"United States\", \"Nigeria\", \"Nigeria\", \"United Kingdom\", \"India\", \"United States\", \"Argentina\", \"United States\", \"United States\", \"United Kingdom\", \"India\", \"Mexico\", \"Mexico\", \"France\", \"United States\", \"United States\", \"Germany\", \"Spain\", \"United Kingdom\", \"United States\", \"United States\", \"United States\", \"Malaysia\", \"Taiwan\", \"China\", \"United States\", \"United Kingdom\", \"Philippines\", \"United States\", \"United States\", \"Canada\", \"Italy\", \"United Kingdom\", \"Hungary\", \"United States\", \"United States\", \"France\", \"Japan\", \"Japan\", \"India\", \"United States\", \"United States\", \"United States\", \"United States\", \"Turkey\", \"Turkey\", \"United States\", \"Australia\", \"India\", \"Turkey\", \"Turkey\", \"Turkey\", \"United States\", \"Mexico\", \"United Kingdom\", \"United States\", \"United States\", \"Argentina\", \"India\", \"United States\", \"United States\", \"United States\", \"United States\", \"United States\", \"Australia\", \"Germany\", \"United States\", \"United States\", \"United States\", \"Germany\", \"United States\", \"Mexico\", \"India\", \"United Kingdom\", \"United Kingdom\", \"United States\", \"United Kingdom\", \"United States\", \"Mexico\", \"Mexico\", \"United States\", \"United States\", \"Indonesia\", \"France\", \"United States\", \"United States\", \"Ireland\", \"Germany\", \"India\", \"United Kingdom\", \"Mexico\", \"Mexico\", \"United States\", \"Canada\", \"United States\", \"United States\", \"New Zealand\", \"Egypt\", \"India\", \"India\", \"India\", \"United States\", \"United States\", \"Brazil\", \"United States\", \"United Kingdom\", \"United States\", \"United States\", \"United States\", \"United States\", \"United States\", \"Sweden\", \"United Kingdom\", \"United States\", \"Canada\", \"United States\", \"United States\", \"United States\", \"China\", \"Bulgaria\", \"United States\", \"Taiwan\", \"United States\", \"United States\", \"United States\", \"Netherlands\", \"United States\", \"United Kingdom\", \"Philippines\", \"United Kingdom\", \"United States\", \"United States\", \"India\", \"United States\", \"United States\", \"Finland\", \"United States\", \"United States\", \"India\", \"United States\", \"Taiwan\", \"South Korea\", \"Canada\", \"United States\", \"India\", \"United States\", \"United States\", \"Colombia\", \"United States\", \"United States\", \"United States\", \"United States\", \"United States\", \"United Kingdom\", \"Turkey\", \"India\", \"Spain\", \"United States\", \"Australia\", \"India\", \"India\", \"United States\", \"United States\", \"United States\", \"Canada\", \"United States\", \"India\", \"India\", \"India\", \"Turkey\", \"Turkey\", \"United States\", \"United States\", \"United States\", \"United States\", \"Denmark\", \"United States\", \"United States\", \"United States\", \"United States\", \"United Kingdom\", \"United States\", \"United States\", \"United Kingdom\", \"United Kingdom\", \"United States\", \"United Kingdom\", \"United Kingdom\", \"United States\", \"South Korea\", \"Argentina\", \"United States\", \"United States\", \"United States\", \"Argentina\", \"Spain\", \"France\", \"Taiwan\", \"Egypt\", \"United Kingdom\", \"United States\", \"India\", \"United States\", \"Finland\", \"Canada\", \"Japan\", \"India\", \"India\", \"United States\", \"India\", \"United Kingdom\", \"India\", \"India\", \"India\", \"India\", \"Malaysia\", \"India\", \"India\", \"China\", \"Mexico\", \"United States\", \"United States\", \"China\", \"United States\", \"United Kingdom\", \"United Kingdom\", \"France\", \"United States\", \"United Kingdom\", \"South Africa\", \"Germany\", \"United States\", \"United States\", \"India\", \"India\", \"India\", \"India\", \"India\", \"India\", \"Indonesia\", \"Indonesia\", \"India\", \"United States\", \"United States\", \"United States\", \"Canada\", \"Japan\", \"United States\", \"United States\", \"United States\", \"United States\", \"Egypt\", \"Hong Kong\", \"United States\", \"India\", \"Kenya\", \"United States\", \"United States\", \"United States\", \"United States\", \"South Africa\", \"United States\", \"France\", \"Brazil\", \"United States\", \"France\", \"South Korea\", \"India\", \"India\", \"United Kingdom\", \"United States\", \"United States\", \"United States\", \"United States\", \"Germany\", \"United States\", \"Lebanon\", \"India\", \"United Kingdom\", \"United States\", \"United States\", \"United States\", \"United States\", \"Denmark\", \"India\", \"India\", \"United States\", \"United States\", \"United States\", \"France\", \"France\", \"France\", \"United Kingdom\", \"Hong Kong\", \"Hong Kong\", \"United Kingdom\", \"United Kingdom\", \"United States\", \"Spain\", \"United States\", \"United States\", \"United Kingdom\", \"United States\", \"United States\", \"India\", \"United States\", \"India\", \"Japan\", \"India\", \"Brazil\", \"United States\", \"China\", \"Hong Kong\", \"United States\", \"Russia\", \"United States\", \"United States\", \"United States\", \"United States\", \"France\", \"United States\", \"United Kingdom\", \"Japan\", \"Japan\", \"Hong Kong\", \"United States\", \"United States\", \"United States\", \"United States\", \"United States\", \"United States\", \"United States\", \"United States\", \"United States\", \"United States\", \"United States\", \"United States\", \"United States\", \"United States\", \"United States\", \"Germany\", \"United States\", \"United States\", \"United States\", \"United States\", \"United States\", \"United States\", \"United States\", \"United States\", \"United States\", \"United States\", \"Germany\", \"Japan\", \"Hong Kong\", \"India\", \"India\", \"United States\", \"United States\", \"United States\", \"Spain\", \"United States\", \"United States\", \"Chile\", \"Japan\", \"United States\", \"China\", \"United States\", \"United States\", \"Pakistan\", \"India\", \"United States\", \"United States\", \"India\", \"India\", \"Japan\", \"United States\", \"Spain\", \"United States\", \"United Kingdom\", \"United States\", \"France\", \"United States\", \"Brazil\", \"United Kingdom\", \"United States\", \"United Kingdom\", \"United States\", \"United States\", \"United States\", \"United States\", \"Taiwan\", \"United States\", \"India\", \"United States\", \"United Kingdom\", \"United States\", \"United States\", \"United States\", \"United States\", \"United States\", \"United Kingdom\", \"Argentina\", \"Brazil\", \"Italy\", \"India\", \"India\", \"Philippines\", \"United Kingdom\", \"Indonesia\", \"India\", \"France\", \"Egypt\", \"India\", \"India\", \"India\", \"India\", \"India\", \"India\", \"Turkey\", \"United States\", \"Spain\", \"United States\", \"United States\", \"Colombia\", \"Colombia\", \"Mexico\", \"Mexico\", \"Venezuela\", \"United States\", \"Spain\", \"Mexico\", \"United States\", \"Mexico\", \"Mexico\", \"Spain\", \"United States\", \"Argentina\", \"Argentina\", \"United States\", \"Chile\", \"United States\", \"Colombia\", \"Mexico\", \"Colombia\", \"United States\", \"United States\", \"Egypt\", \"India\", \"Brazil\", \"Netherlands\", \"Nigeria\", \"United States\", \"United States\", \"United States\", \"Spain\", \"Spain\", \"United Kingdom\", \"United States\", \"United States\", \"France\", \"United States\", \"United States\", \"Canada\", \"United Kingdom\", \"United States\", \"India\", \"Brazil\", \"United States\", \"United States\", \"Indonesia\", \"Australia\", \"United States\", \"Czech Republic\", \"Canada\", \"United States\", \"United States\", \"India\", \"United Kingdom\", \"United States\", \"United States\", \"United States\", \"Canada\", \"India\", \"India\", \"Germany\", \"United States\", \"United Kingdom\", \"South Korea\", \"Canada\", \"United States\", \"Hong Kong\", \"France\", \"United Kingdom\", \"United States\", \"United States\", \"United States\", \"Denmark\", \"Japan\", \"United States\", \"United States\", \"Spain\", \"United States\", \"Poland\", \"Egypt\", \"United States\", \"Argentina\", \"Mexico\", \"China\", \"India\", \"Turkey\", \"Egypt\", \"Italy\", \"United States\", \"United States\", \"United States\", \"Japan\", \"Spain\", \"United Kingdom\", \"Spain\", \"India\", \"United Kingdom\", \"Canada\", \"United States\", \"Spain\", \"Philippines\", \"United Kingdom\", \"Philippines\", \"United States\", \"United States\", \"United States\", \"United States\", \"India\", \"United Kingdom\", \"China\", \"Spain\", \"United States\", \"United States\", \"Philippines\", \"United States\", \"Norway\", \"United States\", \"United States\", \"United States\", \"Germany\", \"Japan\", \"United States\", \"United States\", \"United States\", \"United States\", \"South Korea\", \"United Kingdom\", \"United States\", \"United States\", \"United States\", \"Spain\", \"Turkey\", \"Turkey\", \"Turkey\", \"Turkey\", \"United States\", \"United States\", \"United States\", \"United States\", \"Chile\", \"India\", \"United States\", \"France\", \"Japan\", \"United States\", \"United Kingdom\", \"Singapore\", \"India\", \"United States\", \"Taiwan\", \"United States\", \"Sweden\", \"United States\", \"Mexico\", \"United States\", \"South Korea\", \"Germany\", \"United States\", \"France\", \"United States\", \"India\", \"United Arab Emirates\", \"United States\", \"Poland\", \"India\", \"Canada\", \"Philippines\", \"Australia\", \"Egypt\", \"Russia\", \"France\", \"France\", \"India\", \"United States\", \"United States\", \"United States\", \"United States\", \"United States\", \"Japan\", \"Japan\", \"Japan\", \"Japan\", \"Japan\", \"United Kingdom\", \"United States\", \"United States\", \"India\", \"Israel\", \"United States\", \"United States\", \"India\", \"Canada\", \"United Kingdom\", \"United States\", \"United States\", \"United States\", \"United States\", \"Brazil\", \"Germany\", \"United States\", \"Colombia\", \"Argentina\", \"India\", \"United States\", \"India\", \"United States\", \"Poland\", \"Nigeria\", \"United States\", \"Nigeria\", \"United Kingdom\", \"United States\", \"United States\", \"Turkey\", \"United States\", \"Indonesia\", \"United States\", \"United States\", \"United States\", \"Japan\", \"Philippines\", \"United States\", \"Philippines\", \"Italy\", \"United States\", \"United States\", \"India\", \"India\", \"India\", \"United Kingdom\", \"United States\", \"United States\", \"Japan\", \"United States\", \"United States\", \"United Kingdom\", \"Netherlands\", \"Philippines\", \"United States\", \"United States\", \"Cambodia\", \"United Kingdom\", \"United Kingdom\", \"United States\", \"United States\", \"Brazil\", \"United States\", \"India\", \"United Arab Emirates\", \"United States\", \"Hong Kong\", \"United States\", \"United States\", \"India\", \"United States\", \"Canada\", \"China\", \"China\", \"Egypt\", \"United Kingdom\", \"United States\", \"United States\", \"United States\", \"South Korea\", \"United Kingdom\", \"Hong Kong\", \"United Arab Emirates\", \"United States\", \"Japan\", \"Argentina\", \"Japan\", \"United States\", \"United States\", \"Spain\", \"United States\", \"United States\", \"Mexico\", \"United States\", \"United Kingdom\", \"United States\", \"Philippines\", \"United States\", \"Canada\", \"United States\", \"Spain\", \"United Kingdom\", \"United States\", \"India\", \"United Kingdom\", \"India\", \"United States\", \"Japan\", \"Brazil\", \"United Kingdom\", \"United States\", \"United Kingdom\", \"Italy\", \"South Korea\", \"United States\", \"United Kingdom\", \"United States\", \"Germany\", \"Spain\", \"Philippines\", \"United Kingdom\", \"United States\", \"United States\", \"United States\", \"United States\", \"Italy\", \"Mexico\", \"Mexico\", \"United States\", \"United States\", \"Germany\", \"United States\", \"United States\", \"United States\", \"United States\", \"Germany\", \"United States\", \"United States\", \"United Kingdom\", \"United States\", \"United States\", \"United States\", \"United States\", \"United States\", \"United States\", \"United Arab Emirates\", \"United States\", \"Egypt\", \"United States\", \"South Africa\", \"United States\", \"United States\", \"Austria\", \"United States\", \"United States\", \"Germany\", \"United States\", \"India\", \"United Arab Emirates\", \"United States\", \"Egypt\", \"United States\", \"France\", \"United States\", \"United States\", \"Canada\", \"United Kingdom\", \"United Kingdom\", \"United Kingdom\", \"United States\", \"United States\", \"Spain\", \"India\", \"United States\", \"India\", \"United States\", \"Canada\", \"United States\", \"United States\", \"Japan\", \"Japan\", \"United States\", \"France\", \"United States\", \"Canada\", \"Vietnam\", \"United States\", \"United States\", \"United States\", \"Italy\", \"United States\", \"Turkey\", \"Turkey\", \"India\", \"United States\", \"United States\", \"Brazil\", \"United States\", \"India\", \"United States\", \"France\", \"India\", \"United States\", \"Russia\", \"United States\", \"Indonesia\", \"India\", \"United States\", \"Egypt\", \"United States\", \"India\", \"United States\", \"United States\", \"Taiwan\", \"United States\", \"France\", \"India\", \"India\", \"United States\", \"Japan\", \"India\", \"Kenya\", \"United States\", \"United States\", \"South Korea\", \"United States\", \"Japan\", \"United States\", \"Indonesia\", \"Indonesia\", \"Taiwan\", \"Nigeria\", \"Japan\", \"India\", \"India\", \"United States\", \"United States\", \"United States\", \"United States\", \"India\", \"United Kingdom\", \"United Kingdom\", \"United States\", \"Sweden\", \"United States\", \"United States\", \"United States\", \"Italy\", \"United Kingdom\", \"United States\", \"France\", \"United States\", \"United States\", \"United Kingdom\", \"United States\", \"United States\", \"Spain\", \"United States\", \"Lebanon\", \"India\", \"India\", \"Thailand\", \"Japan\", \"United States\", \"Japan\", \"Canada\", \"United States\", \"India\", \"Japan\", \"United States\", \"Japan\", \"United States\", \"United Kingdom\", \"India\", \"India\", \"Indonesia\", \"United States\", \"United States\", \"United States\", \"United States\", \"United States\", \"France\", \"United States\", \"United Kingdom\", \"United Kingdom\", \"India\", \"United Kingdom\", \"Netherlands\", \"Thailand\", \"United States\", \"Philippines\", \"Taiwan\", \"United States\", \"United States\", \"United States\", \"United States\", \"India\", \"United States\", \"Japan\", \"Japan\", \"France\", \"United States\", \"United States\", \"Australia\", \"United States\", \"Japan\", \"Japan\", \"United States\", \"United Kingdom\", \"United States\", \"United States\", \"United Kingdom\", \"Australia\", \"United States\", \"United States\", \"Argentina\", \"Argentina\", \"United States\", \"Japan\", \"United States\", \"China\", \"United States\", \"United States\", \"United Kingdom\", \"United States\", \"Japan\", \"Japan\", \"Japan\", \"South Korea\", \"Australia\", \"India\", \"Japan\", \"United Kingdom\", \"United States\", \"United States\", \"Australia\", \"India\", \"India\", \"India\", \"Italy\", \"United States\", \"Turkey\", \"Egypt\", \"United States\", \"Turkey\", \"United States\", \"United States\", \"United States\", \"United States\", \"United States\", \"Egypt\", \"United States\", \"Japan\", \"Brazil\", \"United States\", \"United States\", \"United States\", \"United States\", \"United States\", \"South Korea\", \"United States\", \"United States\", \"United States\", \"United States\", \"Canada\", \"Canada\", \"United States\", \"India\", \"Spain\", \"United States\", \"United States\", \"United States\", \"United States\", \"India\", \"Philippines\", \"United States\", \"South Korea\", \"Germany\", \"Japan\", \"United States\", \"United Kingdom\", \"Spain\", \"India\", \"United States\", \"India\", \"United Arab Emirates\", \"United Arab Emirates\", \"United States\", \"United States\", \"United States\", \"United Kingdom\", \"United States\", \"Japan\", \"United Kingdom\", \"United States\", \"United Kingdom\", \"Taiwan\", \"United Kingdom\", \"Colombia\", \"United States\", \"Nigeria\", \"United States\", \"United States\", \"United Kingdom\", \"Argentina\", \"United States\", \"Canada\", \"Italy\", \"United States\", \"Canada\", \"France\", \"United States\", \"United States\", \"Uruguay\", \"United States\", \"Argentina\", \"India\", \"India\", \"Spain\", \"Canada\", \"India\", \"India\", \"India\", \"Japan\", \"India\", \"United States\", \"United Kingdom\", \"India\", \"United States\", \"France\", \"Chile\", \"Turkey\", \"Turkey\", \"Australia\", \"Germany\", \"United States\", \"India\", \"India\", \"Indonesia\", \"Spain\", \"Turkey\", \"India\", \"Japan\", \"United States\", \"United States\", \"United Arab Emirates\", \"United Arab Emirates\", \"Nigeria\", \"United States\", \"India\", \"India\", \"United States\", \"United States\", \"United States\", \"India\", \"United States\", \"India\", \"Egypt\", \"Ireland\", \"China\", \"United States\", \"United States\", \"United States\", \"United States\", \"Australia\", \"Australia\", \"United States\", \"United States\", \"Netherlands\", \"United Kingdom\", \"Malaysia\", \"United States\", \"Taiwan\", \"South Korea\", \"United States\", \"Italy\", \"India\", \"United States\", \"United States\", \"India\", \"Thailand\", \"Mexico\", \"United Kingdom\", \"United States\", \"United States\", \"India\", \"India\", \"United States\", \"United States\", \"United Kingdom\", \"Russia\", \"Ireland\", \"United States\", \"India\", \"United States\", \"United States\", \"United States\", \"United States\", \"United States\", \"United Kingdom\", \"United States\", \"Malaysia\", \"United States\", \"United States\", \"United States\", \"India\", \"United States\", \"United States\", \"India\", \"India\", \"Israel\", \"India\", \"Mexico\", \"United States\", \"United States\", \"Indonesia\", \"India\", \"United States\", \"United States\", \"United States\", \"United States\", \"United States\", \"United States\", \"Australia\", \"Canada\", \"United States\", \"India\", \"Turkey\", \"Ireland\", \"India\", \"Germany\", \"France\", \"United States\", \"Canada\", \"United States\", \"United States\", \"Australia\", \"Indonesia\", \"United States\", \"France\", \"United States\", \"United States\", \"Australia\", \"United States\", \"Canada\", \"United States\", \"Lebanon\", \"South Korea\", \"Canada\", \"United States\", \"France\", \"Argentina\", \"Hong Kong\", \"United States\", \"United States\", \"Canada\", \"United States\", \"United States\", \"India\", \"United States\", \"Philippines\", \"South Korea\", \"United States\", \"United States\", \"Philippines\", \"United States\", \"United States\", \"Colombia\", \"United States\", \"India\", \"United States\", \"China\", \"Lebanon\", \"Hong Kong\", \"United States\", \"Spain\", \"United States\", \"India\", \"Denmark\", \"United States\", \"South Korea\", \"Japan\", \"Japan\", \"United States\", \"United States\", \"South Korea\", \"Egypt\", \"India\", \"China\", \"Japan\", \"Japan\", \"Japan\", \"Japan\", \"United States\", \"India\", \"United States\", \"United States\", \"United States\", \"Spain\", \"South Korea\", \"Romania\", \"Thailand\", \"Australia\", \"India\", \"Canada\", \"United States\", \"Japan\", \"United Kingdom\", \"United States\", \"India\", \"United Kingdom\", \"Canada\", \"United Kingdom\", \"United Kingdom\", \"India\", \"Argentina\", \"United States\", \"United Kingdom\", \"India\", \"United States\", \"Australia\", \"United States\", \"United States\", \"West Germany\", \"United Kingdom\", \"United Kingdom\", \"France\", \"Denmark\", \"Pakistan\", \"United States\", \"United Kingdom\", \"United States\", \"Turkey\", \"United States\", \"Australia\", \"South Africa\", \"United States\", \"United States\", \"United States\", \"United States\", \"Germany\", \"United States\", \"United States\", \"United States\", \"Spain\", \"United States\", \"Spain\", \"United States\", \"Thailand\", \"Thailand\", \"India\", \"Norway\", \"United States\", \"United States\", \"United States\", \"United States\", \"United States\", \"Chile\", \"Canada\", \"United States\", \"United States\", \"India\", \"United Kingdom\", \"Hong Kong\", \"United States\", \"United States\", \"United States\", \"United States\", \"India\", \"Thailand\", \"United States\", \"United States\", \"Thailand\", \"United States\", \"United Kingdom\", \"United Kingdom\", \"United Kingdom\", \"India\", \"United States\", \"South Korea\", \"Ireland\", \"United States\", \"United States\", \"United States\", \"United States\", \"Japan\", \"United States\", \"United States\", \"United Kingdom\", \"United States\", \"Turkey\", \"Belgium\", \"Germany\", \"Poland\", \"United States\", \"United States\", \"India\", \"United States\", \"United States\", \"United States\", \"United States\", \"Slovenia\", \"United States\", \"United States\", \"United States\", \"United States\", \"Mexico\", \"United States\", \"Canada\", \"United States\", \"United States\", \"Peru\", \"United States\", \"United States\", \"South Africa\", \"Germany\", \"United Kingdom\", \"United States\", \"United States\", \"United Kingdom\", \"India\", \"United States\", \"United States\", \"United Kingdom\", \"United States\", \"India\", \"India\", \"United States\", \"India\", \"India\", \"Pakistan\", \"United Kingdom\", \"New Zealand\", \"Canada\", \"Indonesia\", \"Japan\", \"United States\", \"India\", \"United Kingdom\", \"United States\", \"United States\", \"United States\", \"India\", \"United States\", \"United States\", \"South Korea\", \"South Korea\", \"United States\", \"United States\", \"United States\", \"Argentina\", \"India\", \"United Kingdom\", \"United Kingdom\", \"United Kingdom\", \"United States\", \"United States\", \"France\", \"India\", \"United States\", \"Mexico\", \"United States\", \"Australia\", \"France\", \"China\", \"United States\", \"Switzerland\", \"China\", \"Canada\", \"United Kingdom\", \"United Kingdom\", \"Australia\", \"United States\", \"Sweden\", \"United States\", \"United States\", \"United States\", \"Thailand\", \"India\", \"United States\", \"United States\", \"France\", \"Spain\", \"United States\", \"United States\", \"United Kingdom\", \"United States\", \"United States\", \"United States\", \"United States\", \"United States\", \"Mexico\", \"United States\", \"United States\", \"United States\", \"South Korea\", \"United States\", \"United Kingdom\", \"United States\", \"China\", \"Canada\", \"China\", \"Japan\", \"India\", \"United States\", \"United States\", \"Spain\", \"United States\", \"United States\", \"India\", \"United States\", \"United States\", \"United States\", \"United States\", \"United States\", \"South Korea\", \"United States\", \"India\", \"United States\", \"France\", \"South Korea\", \"Turkey\", \"Singapore\", \"United States\", \"United States\", \"United States\", \"Taiwan\", \"United Kingdom\", \"United States\", \"Spain\", \"Thailand\", \"United States\", \"Nigeria\", \"United States\", \"Kuwait\", \"United States\", \"Kuwait\", \"United States\", \"United Kingdom\", \"France\", \"United States\", \"Canada\", \"Japan\", \"Taiwan\", \"United States\", \"United States\", \"Turkey\", \"Serbia\", \"India\", \"United Kingdom\", \"United States\", \"United States\", \"India\", \"United Kingdom\", \"Canada\", \"United States\", \"United States\", \"United States\", \"United States\", \"United States\", \"United States\", \"United States\", \"United Kingdom\", \"Germany\", \"Mexico\", \"Japan\", \"South Korea\", \"Thailand\", \"France\", \"China\", \"United States\", \"India\", \"Germany\", \"India\", \"Turkey\", \"India\", \"United States\", \"United States\", \"United States\", \"United States\", \"United Kingdom\", \"United States\", \"Israel\", \"United States\", \"United Kingdom\", \"United States\", \"Canada\", \"United Kingdom\", \"Australia\", \"Mexico\", \"Canada\", \"United Kingdom\", \"United States\", \"India\", \"Turkey\", \"United States\", \"United States\", \"Canada\", \"United Kingdom\", \"Belgium\", \"United States\", \"Argentina\", \"Japan\", \"Japan\", \"Japan\", \"Japan\", \"Japan\", \"South Korea\", \"United States\", \"Argentina\", \"Canada\", \"South Africa\", \"United States\", \"Hong Kong\", \"Hong Kong\", \"China\", \"Hong Kong\", \"India\", \"India\", \"South Korea\", \"United States\", \"Australia\", \"Taiwan\", \"United States\", \"Canada\", \"Finland\", \"United States\", \"Japan\", \"India\", \"Philippines\", \"India\", \"India\", \"India\", \"Germany\", \"Indonesia\", \"United Kingdom\", \"Nigeria\", \"South Korea\", \"India\", \"United States\", \"United States\", \"Philippines\", \"United States\", \"United States\", \"United States\", \"Nigeria\", \"Spain\", \"South Korea\", \"Egypt\", \"South Korea\", \"India\", \"United States\", \"Nigeria\", \"United States\", \"Australia\", \"United States\", \"Taiwan\", \"India\", \"India\", \"India\", \"India\", \"India\", \"France\", \"Canada\", \"United States\", \"United Kingdom\", \"United Kingdom\", \"United Kingdom\", \"United Kingdom\", \"United States\", \"United Kingdom\", \"Vietnam\", \"United States\", \"India\", \"Sweden\", \"Malaysia\", \"India\", \"India\", \"India\", \"United States\", \"Cambodia\", \"United States\", \"India\", \"India\", \"United Kingdom\", \"India\", \"Pakistan\", \"United Kingdom\", \"United States\", \"Chile\", \"India\", \"Japan\", \"Japan\", \"Israel\", \"India\", \"India\", \"United States\", \"Poland\", \"Spain\", \"United States\", \"United States\", \"United States\", \"United States\", \"United States\", \"United States\", \"United States\", \"United States\", \"United States\", \"United States\", \"United States\", \"United States\", \"United States\", \"United States\", \"United States\", \"United States\", \"United States\", \"Mexico\", \"United States\", \"United States\", \"United States\", \"United States\", \"United States\", \"United States\", \"United States\", \"United States\", \"Ireland\", \"United States\", \"United States\", \"United Kingdom\", \"India\", \"India\", \"Canada\", \"United States\", \"United States\", \"United States\", \"United States\", \"United States\", \"United States\", \"United States\", \"United States\", \"United States\", \"United States\", \"United States\", \"United Kingdom\", \"United States\", \"United States\", \"Japan\", \"India\", \"United States\", \"Russia\", \"Jordan\", \"United States\", \"United States\", \"United States\", \"United States\", \"United States\", \"United States\", \"South Korea\", \"United States\", \"United States\", \"United States\", \"India\", \"United Kingdom\", \"United States\", \"United States\", \"United States\", \"India\", \"United Kingdom\", \"United States\", \"India\", \"United States\", \"United States\", \"United States\", \"United States\", \"United States\", \"United States\", \"United States\", \"United States\", \"United States\", \"Japan\", \"Taiwan\", \"India\", \"India\", \"Brazil\", \"United States\", \"United Kingdom\", \"India\", \"United States\", \"United States\", \"United States\", \"France\", \"Austria\", \"Japan\", \"Chile\", \"Mexico\", \"United States\", \"United States\", \"United States\", \"India\", \"India\", \"India\", \"United States\", \"United States\", \"United States\", \"United States\", \"United States\", \"United States\", \"Kuwait\", \"South Korea\", \"United States\", \"United States\", \"United States\", \"United States\", \"Brazil\", \"Denmark\", \"Germany\", \"Argentina\", \"Philippines\", \"Taiwan\", \"United States\", \"United States\", \"Hong Kong\", \"United States\", \"United States\", \"Canada\", \"United States\", \"United States\", \"Japan\", \"United Kingdom\", \"Japan\", \"Japan\", \"South Korea\", \"United States\", \"Taiwan\", \"Turkey\", \"Turkey\", \"India\", \"India\", \"India\", \"India\", \"India\", \"India\", \"India\", \"India\", \"India\", \"Japan\", \"India\", \"India\", \"India\", \"India\", \"India\", \"India\", \"United States\", \"India\", \"India\", \"United States\", \"India\", \"India\", \"United Kingdom\", \"United Arab Emirates\", \"Philippines\", \"India\", \"South Africa\", \"India\", \"India\", \"South Africa\", \"India\", \"India\", \"Japan\", \"India\", \"India\", \"Turkey\", \"Brazil\", \"Egypt\", \"United States\", \"India\", \"Indonesia\", \"India\", \"Nigeria\", \"United States\", \"United States\", \"Australia\", \"Australia\", \"India\", \"United States\", \"United Kingdom\", \"United States\", \"United States\", \"United States\", \"United States\", \"United States\", \"United States\", \"India\", \"United States\", \"India\", \"India\", \"Australia\", \"India\", \"United States\", \"United States\", \"United States\", \"United States\", \"United States\", \"United States\", \"United States\", \"India\", \"United States\", \"United States\", \"United States\", \"United States\", \"United States\", \"United States\", \"United States\", \"United States\", \"United States\", \"United States\", \"United States\", \"United States\", \"Pakistan\", \"India\", \"India\", \"India\", \"India\", \"India\", \"India\", \"India\", \"India\", \"India\", \"India\", \"India\", \"China\", \"United States\", \"United States\", \"United States\", \"United States\", \"Philippines\", \"Russia\", \"Netherlands\", \"Germany\", \"Turkey\", \"United States\", \"United States\", \"United Kingdom\", \"France\", \"Japan\", \"Turkey\", \"United States\", \"United States\", \"United States\", \"India\", \"United States\", \"United States\", \"United States\", \"United States\", \"United Kingdom\", \"United States\", \"United States\", \"United States\", \"Hungary\", \"United Kingdom\", \"Canada\", \"United States\", \"Nigeria\", \"China\", \"United States\", \"China\", \"United States\", \"United Kingdom\", \"United States\", \"United States\", \"France\", \"South Africa\", \"United States\", \"India\", \"India\", \"India\", \"Canada\", \"United Kingdom\", \"United States\", \"United States\", \"United States\", \"Brazil\", \"Philippines\", \"United Kingdom\", \"Malaysia\", \"Spain\", \"United States\", \"Japan\", \"United States\", \"United States\", \"United States\", \"United States\", \"Taiwan\", \"United States\", \"Turkey\", \"Turkey\", \"Canada\", \"India\", \"United Kingdom\", \"India\", \"Bangladesh\", \"United States\", \"United Kingdom\", \"United States\", \"United States\", \"Malaysia\", \"United States\", \"India\", \"Norway\", \"United States\", \"United States\", \"United States\", \"United States\", \"India\", \"United States\", \"United States\", \"United States\", \"United States\", \"India\", \"United States\", \"India\", \"United States\", \"India\", \"United States\", \"India\", \"India\", \"India\", \"United States\", \"United States\", \"Hong Kong\", \"Mexico\", \"United States\", \"United States\", \"China\", \"Indonesia\", \"United States\", \"India\", \"Japan\", \"Japan\", \"United Kingdom\", \"Turkey\", \"Turkey\", \"India\", \"India\", \"India\", \"United States\", \"India\", \"India\", \"United States\", \"United States\", \"Argentina\", \"United States\", \"United States\", \"Spain\", \"Italy\", \"United States\", \"Colombia\", \"United States\", \"United States\", \"Taiwan\", \"Spain\", \"Mexico\", \"France\", \"Colombia\", \"United States\", \"Mexico\", \"France\", \"Mexico\", \"Taiwan\", \"Mexico\", \"Colombia\", \"India\", \"India\", \"Thailand\", \"India\", \"India\", \"United States\", \"Hong Kong\", \"United States\", \"United States\", \"United States\", \"France\", \"United States\", \"Colombia\", \"Brazil\", \"India\", \"United States\", \"India\", \"India\", \"India\", \"India\", \"United Kingdom\", \"Singapore\", \"Nigeria\", \"United States\", \"United States\", \"United States\", \"Russia\", \"United States\", \"Colombia\", \"South Korea\", \"United Kingdom\", \"United States\", \"United States\", \"Nigeria\", \"Japan\", \"United Kingdom\", \"United States\", \"United Kingdom\", \"United States\", \"Germany\", \"United States\", \"Taiwan\", \"United States\", \"United States\", \"United Kingdom\", \"Netherlands\", \"France\", \"France\", \"United States\", \"United States\", \"United States\", \"France\", \"United States\", \"United States\", \"United States\", \"United States\", \"United States\", \"United Kingdom\", \"India\", \"United States\", \"United States\", \"United States\", \"United Kingdom\", \"United States\", \"China\", \"Mexico\", \"Mexico\", \"Hong Kong\", \"United States\", \"United States\", \"United States\", \"United States\", \"United States\", \"United States\", \"United States\", \"Denmark\", \"Denmark\", \"United States\", \"United States\", \"United States\", \"United States\", \"United States\", \"United States\", \"United States\", \"Canada\", \"Denmark\", \"Denmark\", \"United States\", \"United States\", \"India\", \"United States\", \"United States\", \"India\", \"United States\", \"United States\", \"France\", \"United Kingdom\", \"United States\", \"United States\", \"United States\", \"United States\", \"United States\", \"Egypt\", \"Malaysia\", \"South Korea\", \"Japan\", \"Turkey\", \"Turkey\", \"United States\", \"United States\", \"India\", \"United States\", \"Canada\", \"South Africa\", \"South Korea\", \"United States\", \"United States\", \"India\", \"United States\", \"India\", \"India\", \"United States\", \"Sweden\", \"Taiwan\", \"United States\", \"United Kingdom\", \"Egypt\", \"Canada\", \"Hong Kong\", \"Nigeria\", \"United States\", \"United States\", \"Mexico\", \"United States\", \"United States\", \"India\", \"Norway\", \"India\", \"United Kingdom\", \"United States\", \"China\", \"United States\", \"Taiwan\", \"Egypt\", \"Nigeria\", \"Brazil\", \"Lebanon\", \"United States\", \"United States\", \"United Kingdom\", \"United States\", \"Hong Kong\", \"United States\", \"Australia\", \"Australia\", \"Australia\", \"United States\", \"United Kingdom\", \"United States\", \"United States\", \"India\", \"United States\", \"United States\", \"United States\", \"United States\", \"United States\", \"United States\", \"United States\", \"United States\", \"India\", \"Japan\", \"United States\", \"United States\", \"South Korea\", \"Spain\", \"South Korea\", \"Nigeria\", \"United States\", \"United States\", \"United States\", \"United States\", \"United States\", \"Mexico\", \"Spain\", \"Mexico\", \"United Kingdom\", \"India\", \"United States\", \"United Kingdom\", \"United Kingdom\", \"Canada\", \"Turkey\", \"Spain\", \"France\", \"Mexico\", \"Russia\", \"India\", \"United States\", \"Philippines\", \"South Korea\", \"United Kingdom\", \"Germany\", \"United Kingdom\", \"United States\", \"United Kingdom\", \"United States\", \"Canada\", \"United States\", \"United States\", \"Hong Kong\", \"Hong Kong\", \"Germany\", \"India\", \"Mexico\", \"United States\", \"Mexico\", \"United States\", \"Colombia\", \"United States\", \"United States\", \"United States\", \"Canada\", \"France\", \"Canada\", \"United States\", \"Nigeria\", \"United States\", \"Japan\", \"United States\", \"United States\", \"United States\", \"United States\", \"United States\", \"Taiwan\", \"Sweden\", \"Turkey\", \"India\", \"South Korea\", \"Japan\", \"Japan\", \"India\", \"Taiwan\", \"United States\", \"Taiwan\", \"Taiwan\", \"United States\", \"Taiwan\", \"Indonesia\", \"Indonesia\", \"South Korea\", \"Hong Kong\", \"Romania\", \"United States\", \"United Kingdom\", \"Nigeria\", \"Canada\", \"United States\", \"Indonesia\", \"Turkey\", \"Taiwan\", \"India\", \"Taiwan\", \"China\", \"China\", \"Hong Kong\", \"Australia\", \"India\", \"South Korea\", \"United States\", \"United States\", \"Egypt\", \"United States\", \"United Kingdom\", \"Philippines\", \"Indonesia\", \"United Kingdom\", \"Japan\", \"United States\", \"United States\", \"Germany\", \"Turkey\", \"Brazil\", \"United States\", \"United States\", \"South Korea\", \"United States\", \"United Kingdom\", \"United States\", \"Colombia\", \"Hong Kong\", \"India\", \"Japan\", \"United States\", \"Brazil\", \"United States\", \"Brazil\", \"Brazil\", \"Argentina\", \"Argentina\", \"South Korea\", \"United States\", \"India\", \"India\", \"India\", \"China\", \"India\", \"India\", \"Brazil\", \"Mexico\", \"India\", \"Italy\", \"United States\", \"Canada\", \"Australia\", \"China\", \"United States\", \"Japan\", \"India\", \"Argentina\", \"India\", \"India\", \"United States\", \"India\", \"United States\", \"United States\", \"India\", \"United States\", \"India\", \"United States\", \"Mexico\", \"Australia\", \"United States\", \"United States\", \"United States\", \"Hong Kong\", \"India\", \"United States\", \"United States\", \"United States\", \"India\", \"United States\", \"India\", \"India\", \"Chile\", \"Italy\", \"Japan\", \"Japan\", \"United States\", \"South Korea\", \"France\", \"Uruguay\", \"France\", \"India\", \"United States\", \"Norway\", \"India\", \"United States\", \"India\", \"India\", \"United Kingdom\", \"India\", \"Hong Kong\", \"Turkey\", \"Japan\", \"India\", \"India\", \"India\", \"India\", \"India\", \"United States\", \"United States\", \"United States\", \"Germany\", \"Australia\", \"Israel\", \"India\", \"India\", \"India\", \"Argentina\", \"United Kingdom\", \"United States\", \"United States\", \"United States\", \"United States\", \"India\", \"Egypt\", \"United Kingdom\", \"United Kingdom\", \"United States\", \"South Korea\", \"United Kingdom\", \"United States\", \"United States\", \"India\", \"India\", \"United States\", \"United States\", \"United States\", \"China\", \"United States\", \"United States\", \"India\", \"India\", \"United States\", \"India\", \"India\", \"United Kingdom\", \"India\", \"India\", \"United Kingdom\", \"United States\", \"India\", \"India\", \"India\", \"India\", \"India\", \"Canada\", \"Spain\", \"United Kingdom\", \"Argentina\", \"Canada\", \"United States\", \"United States\", \"United States\", \"United Kingdom\", \"Japan\", \"United States\", \"Brazil\", \"United States\", \"United States\", \"Philippines\", \"United States\", \"United States\", \"United States\", \"France\", \"United States\", \"United States\", \"United States\", \"United States\", \"India\", \"India\", \"United Kingdom\", \"United States\", \"United States\", \"France\", \"Hong Kong\", \"United States\", \"United States\", \"Canada\", \"India\", \"United States\", \"United States\", \"Japan\", \"United States\", \"United States\", \"United States\", \"United States\", \"United States\", \"United States\", \"United States\", \"United States\", \"United States\", \"United States\", \"Japan\", \"India\", \"United States\", \"United Kingdom\", \"India\", \"Saudi Arabia\", \"Saudi Arabia\", \"United States\", \"Russia\", \"United States\", \"United States\", \"India\", \"India\", \"South Korea\", \"United States\", \"Hong Kong\", \"United States\", \"Argentina\", \"South Africa\", \"India\", \"Mexico\", \"India\", \"Brazil\", \"United States\", \"Indonesia\", \"Hong Kong\", \"Egypt\", \"United States\", \"France\", \"China\", \"United States\", \"United States\", \"India\", \"Mexico\", \"Mexico\", \"Canada\", \"United States\", \"United States\", \"United States\", \"United States\", \"United States\", \"Italy\", \"Canada\", \"Poland\", \"United Kingdom\", \"Nigeria\", \"United Kingdom\", \"United Kingdom\", \"Japan\", \"Australia\", \"India\", \"India\", \"India\", \"United States\", \"United States\", \"South Korea\", \"Argentina\", \"South Korea\", \"Germany\", \"United States\", \"United States\", \"United States\", \"South Korea\", \"Saudi Arabia\", \"United States\", \"Canada\", \"Indonesia\", \"New Zealand\", \"France\", \"United States\", \"United States\", \"United States\", \"United States\", \"India\", \"India\", \"Spain\", \"United Kingdom\", \"United States\", \"Nigeria\", \"Nigeria\", \"India\", \"United Kingdom\", \"United States\", \"United States\", \"United States\", \"China\", \"India\", \"Mexico\", \"United States\", \"France\", \"Chile\", \"Argentina\", \"India\", \"United Kingdom\", \"Netherlands\", \"India\", \"United States\", \"United States\", \"Canada\", \"United Kingdom\", \"United States\", \"United States\", \"United States\", \"United States\", \"United States\", \"Canada\", \"Japan\", \"Japan\", \"India\", \"United States\", \"United States\", \"Canada\", \"United States\", \"India\", \"India\", \"India\", \"United States\", \"United States\", \"India\", \"United States\", \"United States\", \"United States\", \"United States\", \"United States\", \"United States\", \"Czech Republic\", \"United States\", \"Indonesia\", \"United States\", \"France\", \"United States\", \"Argentina\", \"United States\", \"United Kingdom\", \"Japan\", \"Singapore\", \"Austria\", \"United Kingdom\", \"United States\", \"United States\", \"United States\", \"United States\", \"France\", \"United States\", \"South Korea\", \"United States\", \"India\", \"United States\", \"Canada\", \"Turkey\", \"France\", \"Spain\", \"Japan\", \"United States\", \"United States\", \"India\", \"South Korea\", \"India\", \"Netherlands\", \"Netherlands\", \"India\", \"United States\", \"United States\", \"Mexico\", \"Japan\", \"Taiwan\", \"India\", \"Singapore\", \"Norway\", \"United States\", \"South Korea\", \"United States\", \"Taiwan\", \"United States\", \"United States\", \"United States\", \"United States\", \"United States\", \"India\", \"United Kingdom\", \"Malaysia\", \"United States\", \"United States\", \"United States\", \"United Kingdom\", \"Japan\", \"Japan\", \"Japan\", \"Japan\", \"United States\", \"India\", \"Egypt\", \"United States\", \"India\", \"United States\", \"Nigeria\", \"France\", \"China\", \"India\", \"South Korea\", \"Nigeria\", \"United States\", \"Mexico\", \"United States\", \"United States\", \"Spain\", \"United States\", \"Turkey\", \"United States\", \"United Kingdom\", \"Thailand\", \"Canada\", \"Egypt\", \"Germany\", \"United States\", \"United States\", \"United States\", \"United States\", \"United States\", \"United States\", \"United States\", \"United States\", \"United States\", \"United States\", \"United States\", \"United States\", \"United States\", \"United States\", \"United States\", \"India\", \"Canada\", \"United States\", \"United Kingdom\", \"Japan\", \"United Kingdom\", \"United Kingdom\", \"United Kingdom\", \"United Kingdom\", \"United States\", \"United Kingdom\", \"United Kingdom\", \"United States\", \"United Kingdom\", \"United Kingdom\", \"United Kingdom\", \"United Kingdom\", \"United Kingdom\", \"United Kingdom\", \"United States\", \"Argentina\", \"United Kingdom\", \"United States\", \"France\", \"Pakistan\", \"Egypt\", \"Netherlands\", \"Germany\", \"France\", \"United States\", \"India\", \"United States\", \"Israel\", \"Brazil\", \"Canada\", \"United States\", \"Japan\", \"United States\", \"India\", \"India\", \"Australia\", \"India\", \"Australia\", \"United States\", \"United States\", \"United States\", \"United States\", \"United Kingdom\", \"India\", \"United States\", \"United States\", \"Israel\", \"United States\", \"United States\", \"Mexico\", \"United States\", \"United States\", \"United States\", \"South Korea\", \"Hong Kong\", \"United States\", \"Canada\", \"India\", \"Egypt\", \"India\", \"Chile\", \"France\", \"United States\", \"Turkey\", \"United States\", \"United States\", \"India\", \"Chile\", \"India\", \"India\", \"Malaysia\", \"India\", \"India\", \"India\", \"India\", \"Malaysia\", \"India\", \"France\", \"United States\", \"India\", \"India\", \"India\", \"United Kingdom\", \"United States\", \"United States\", \"United States\", \"United States\", \"United States\", \"Taiwan\", \"India\", \"Philippines\", \"United States\", \"Spain\", \"United Kingdom\", \"Mexico\", \"United States\", \"India\", \"Philippines\", \"Canada\", \"Canada\", \"United Kingdom\", \"Spain\", \"India\", \"India\", \"South Korea\", \"United States\", \"Taiwan\", \"Thailand\", \"Egypt\", \"United States\", \"Philippines\", \"Canada\", \"South Korea\", \"India\", \"Germany\", \"United States\", \"Georgia\", \"United States\", \"Italy\", \"Egypt\", \"United Kingdom\", \"Japan\", \"Switzerland\", \"United States\", \"South Korea\", \"United States\", \"United States\", \"United States\", \"United States\", \"United States\", \"United States\", \"United States\", \"South Korea\", \"United States\", \"Taiwan\", \"United States\", \"United States\", \"South Africa\", \"South Korea\", \"United States\", \"United States\", \"Canada\", \"Canada\", \"United States\", \"South Korea\", \"South Korea\", \"Hong Kong\", \"United Kingdom\", \"South Korea\", \"South Korea\", \"United States\", \"Egypt\", \"Turkey\", \"Indonesia\", \"Indonesia\", \"United States\", \"United Kingdom\", \"United States\", \"Turkey\", \"Thailand\", \"Italy\", \"United Kingdom\", \"South Africa\", \"United States\", \"Brazil\", \"United States\", \"United States\", \"United States\", \"South Korea\", \"United States\", \"Singapore\", \"India\", \"France\", \"United Kingdom\", \"India\", \"India\", \"India\", \"United States\", \"United Kingdom\", \"Italy\", \"Japan\", \"United States\", \"France\", \"Germany\", \"United States\", \"Mexico\", \"Spain\", \"Ireland\", \"United States\", \"United States\", \"India\", \"India\", \"United States\", \"Thailand\", \"United States\", \"United States\", \"United States\", \"Mexico\", \"United States\", \"Japan\", \"Japan\", \"Japan\", \"Japan\", \"Japan\", \"Japan\", \"Japan\", \"Japan\", \"Japan\", \"India\", \"Uruguay\", \"Chile\", \"United States\", \"United States\", \"United States\", \"United States\", \"India\", \"United States\", \"United States\", \"United States\", \"United States\", \"India\", \"United States\", \"United States\", \"United Kingdom\", \"United States\", \"United States\", \"United States\", \"United States\", \"United Kingdom\", \"United Kingdom\", \"India\", \"United States\", \"United States\", \"United States\", \"China\", \"United States\", \"United States\", \"India\", \"India\", \"United States\", \"Japan\", \"Chile\", \"Turkey\", \"United States\", \"United States\", \"United States\", \"United States\", \"Nigeria\", \"United States\", \"United States\", \"United States\", \"United States\", \"India\", \"China\", \"United States\", \"India\", \"Puerto Rico\", \"United States\", \"United States\", \"United States\", \"Turkey\", \"United Kingdom\", \"United Kingdom\", \"United States\", \"United States\", \"United States\", \"South Korea\", \"United States\", \"United States\", \"United States\", \"India\", \"Nigeria\", \"Germany\", \"Japan\", \"Canada\", \"Japan\", \"Spain\", \"Turkey\", \"India\", \"United Kingdom\", \"India\", \"Chile\", \"Japan\", \"Japan\", \"United States\", \"Egypt\", \"India\", \"Mexico\", \"Philippines\", \"United States\", \"Argentina\", \"United States\", \"Norway\", \"India\", \"Chile\", \"Poland\", \"Netherlands\", \"Brazil\", \"United States\", \"France\", \"United States\", \"United States\", \"United States\", \"India\", \"United States\", \"United States\", \"Norway\", \"United Kingdom\", \"Canada\", \"United States\", \"Argentina\", \"United Kingdom\", \"France\", \"Brazil\", \"Brazil\", \"United States\", \"United States\", \"United States\", \"United States\", \"United States\", \"United States\", \"United States\", \"United States\", \"United States\", \"United States\", \"United States\", \"United States\", \"United States\", \"United States\", \"United States\", \"United States\", \"United States\", \"United States\", \"United States\", \"United States\", \"France\", \"United States\", \"United States\", \"United States\", \"United Kingdom\", \"Taiwan\", \"Germany\", \"United States\", \"United Kingdom\", \"Israel\", \"Italy\", \"Japan\", \"United States\", \"United Kingdom\", \"Denmark\", \"Denmark\", \"Brazil\", \"United States\", \"United Kingdom\", \"United States\", \"France\", \"Australia\", \"Norway\", \"United States\", \"United States\", \"United States\", \"Hong Kong\", \"United States\", \"United States\", \"United Kingdom\", \"United Kingdom\", \"United Kingdom\", \"United States\", \"United States\", \"India\", \"United States\", \"Spain\", \"Spain\", \"Taiwan\", \"United States\", \"Germany\", \"Australia\", \"France\", \"India\", \"South Korea\", \"Thailand\", \"Thailand\", \"United States\", \"India\", \"Canada\", \"Canada\", \"United States\", \"Romania\", \"India\", \"United States\", \"United States\", \"Nigeria\", \"Nigeria\", \"South Korea\", \"Japan\", \"United States\", \"Germany\", \"Brazil\", \"United States\", \"United States\", \"France\", \"Denmark\", \"United States\", \"India\", \"Egypt\", \"Egypt\", \"Brazil\", \"Hungary\", \"Taiwan\", \"United States\", \"Italy\", \"Nigeria\", \"Hong Kong\", \"Brazil\", \"India\", \"Hong Kong\", \"India\", \"United States\", \"United States\", \"United States\", \"United States\", \"United States\", \"United States\", \"United States\", \"United States\", \"Egypt\", \"China\", \"United Kingdom\", \"India\", \"India\", \"Italy\", \"India\", \"India\", \"Thailand\", \"United States\", \"Indonesia\", \"India\", \"United States\", \"India\", \"United States\", \"Canada\", \"United States\", \"United States\", \"South Korea\", \"Philippines\", \"India\", \"United States\", \"United States\", \"Japan\", \"South Korea\", \"United States\", \"Thailand\", \"Japan\", \"Turkey\", \"United States\", \"Denmark\", \"United States\", \"Australia\", \"United States\", \"United States\", \"Brazil\", \"United States\", \"South Korea\", \"United Kingdom\", \"China\", \"United States\", \"United Kingdom\", \"South Korea\", \"China\", \"United States\", \"Hong Kong\", \"United States\", \"United States\", \"Spain\", \"United States\", \"Philippines\", \"United States\", \"Turkey\", \"United States\", \"India\", \"France\", \"France\", \"United States\", \"United Kingdom\", \"Australia\", \"India\", \"India\", \"United Kingdom\", \"Canada\", \"United States\", \"Spain\", \"United States\", \"United Kingdom\", \"China\", \"United States\", \"Japan\", \"France\", \"United States\", \"United States\", \"Australia\", \"United States\", \"United States\", \"United Kingdom\", \"United Kingdom\", \"United States\", \"United States\", \"Germany\", \"China\", \"Turkey\", \"Thailand\", \"India\", \"United States\", \"United Kingdom\", \"India\", \"United States\", \"United States\", \"India\", \"United States\", \"India\", \"India\", \"United Kingdom\", \"Colombia\", \"Venezuela\", \"United States\", \"United States\", \"France\", \"Australia\", \"Peru\", \"India\", \"United States\", \"United States\", \"Philippines\", \"India\", \"India\", \"India\", \"Thailand\", \"United States\", \"United States\", \"Hong Kong\", \"United States\", \"United States\", \"Argentina\", \"United Kingdom\", \"Spain\", \"Mexico\", \"United States\", \"India\", \"South Korea\", \"United States\", \"India\", \"Lebanon\", \"Canada\", \"India\", \"Canada\", \"United States\", \"Spain\", \"France\", \"Brazil\", \"United States\", \"United States\", \"United Kingdom\", \"Egypt\", \"United States\", \"United States\", \"Canada\", \"United States\", \"Japan\", \"Spain\", \"India\", \"India\", \"Pakistan\", \"United States\", \"France\", \"South Korea\", \"United States\", \"India\", \"United Kingdom\", \"United States\", \"United States\", \"Colombia\", \"Malaysia\", \"United States\", \"United States\", \"United States\", \"India\", \"United States\", \"Mexico\", \"United Kingdom\", \"United States\", \"United States\", \"Turkey\", \"United States\", \"United States\", \"United States\", \"United States\", \"United Kingdom\", \"India\", \"United States\", \"Nigeria\", \"India\", \"India\", \"United Kingdom\", \"Lebanon\", \"Germany\", \"Thailand\", \"United States\", \"United States\", \"United States\", \"India\", \"China\", \"Turkey\", \"Malaysia\", \"India\", \"Colombia\", \"United Kingdom\", \"United States\", \"Ireland\", \"United Kingdom\", \"United States\", \"Hong Kong\", \"Uruguay\", \"Argentina\", \"Canada\", \"United States\", \"Germany\", \"United States\", \"United States\", \"South Korea\", \"France\", \"United States\", \"United States\", \"United States\", \"Germany\", \"India\", \"United States\", \"Germany\", \"United States\", \"India\", \"France\", \"United States\", \"India\", \"India\", \"India\", \"Thailand\", \"Nigeria\", \"India\", \"India\", \"United States\", \"Colombia\", \"Canada\", \"United States\", \"United States\", \"India\", \"United States\", \"India\", \"Australia\", \"United States\", \"India\", \"United States\", \"United States\", \"Pakistan\", \"United States\", \"United States\", \"India\", \"India\", \"Argentina\", \"France\", \"India\", \"France\", \"Spain\", \"United Kingdom\", \"United Kingdom\", \"United States\", \"France\", \"United States\", \"India\", \"United States\", \"United States\", \"Canada\", \"United States\", \"United States\", \"United Kingdom\", \"Spain\", \"United States\", \"Spain\", \"United States\", \"United States\", \"United States\", \"United States\", \"France\", \"United States\", \"Japan\", \"Japan\", \"United States\", \"Japan\", \"Japan\", \"United States\", \"United States\", \"Canada\", \"Canada\", \"India\", \"Japan\", \"South Africa\", \"Switzerland\", \"United States\", \"United States\", \"South Korea\", \"United States\", \"Portugal\", \"United States\", \"United States\", \"Indonesia\", \"India\", \"South Korea\", \"United Kingdom\", \"India\", \"Ghana\", \"United States\", \"India\", \"United States\", \"India\", \"United States\", \"United States\", \"United States\", \"United States\", \"United States\", \"United States\", \"United States\", \"France\", \"United States\", \"United States\", \"United States\", \"United States\", \"United States\", \"United States\", \"United States\", \"United States\", \"United States\", \"United States\", \"United States\", \"United States\", \"United States\", \"United States\", \"United States\", \"United States\", \"United States\", \"United States\", \"United States\", \"United States\", \"United States\", \"United States\", \"United States\", \"India\", \"India\", \"United States\", \"United States\", \"India\", \"India\", \"United States\", \"South Korea\", \"United States\", \"United States\", \"United States\", \"South Africa\", \"United States\", \"India\", \"Hong Kong\", \"United States\", \"United States\", \"United States\", \"United States\", \"United States\", \"South Korea\", \"United States\", \"South Korea\", \"United States\", \"India\", \"United States\", \"United States\", \"India\", \"United States\", \"India\", \"United States\", \"Thailand\", \"United States\", \"Canada\", \"Canada\", \"Argentina\", \"India\", \"South Korea\", \"United States\", \"Japan\", \"Argentina\", \"United States\", \"Ireland\", \"India\", \"Malaysia\", \"United States\", \"Canada\", \"United States\", \"Canada\", \"Canada\", \"Canada\", \"United States\", \"India\", \"United Kingdom\", \"United States\", \"United States\", \"China\", \"India\", \"India\", \"India\", \"India\", \"India\", \"United States\", \"India\", \"United States\", \"India\", \"China\", \"India\", \"Netherlands\", \"United States\", \"United States\", \"United Kingdom\", \"United Kingdom\", \"India\", \"Taiwan\", \"United States\", \"United States\", \"South Africa\", \"United States\", \"United States\", \"United States\", \"United States\", \"Spain\", \"Sweden\", \"United States\", \"Australia\", \"United States\", \"United States\", \"India\", \"United States\", \"India\", \"India\", \"United States\", \"France\", \"Malaysia\", \"India\", \"India\", \"United States\", \"United States\", \"Brazil\", \"United States\", \"India\", \"United States\", \"India\", \"United States\", \"Brazil\", \"United States\", \"India\", \"India\", \"Norway\", \"India\", \"United States\", \"China\", \"United States\", \"India\", \"South Korea\", \"United States\", \"United States\", \"Australia\", \"France\", \"India\", \"India\", \"India\", \"India\", \"India\", \"Australia\", \"India\", \"United States\", \"United States\", \"United States\", \"United States\", \"India\", \"India\", \"India\", \"India\", \"Singapore\", \"India\", \"Canada\", \"South Korea\", \"India\", \"India\", \"United States\", \"India\", \"Pakistan\", \"United States\", \"United States\", \"United States\", \"United States\", \"United States\", \"Canada\", \"United States\", \"United States\", \"India\", \"Japan\", \"Japan\", \"Egypt\", \"India\", \"Mexico\", \"United Kingdom\", \"United Kingdom\", \"United States\", \"United States\", \"United States\", \"Brazil\", \"United Kingdom\", \"United States\", \"Mexico\", \"Ireland\", \"United States\", \"Canada\", \"Canada\", \"Australia\", \"Japan\", \"South Korea\", \"United States\", \"United States\", \"Australia\", \"United States\", \"India\", \"United Kingdom\", \"United Kingdom\", \"Taiwan\", \"United States\", \"Egypt\", \"United States\", \"United Kingdom\", \"India\", \"India\", \"United States\", \"United States\", \"United States\", \"United States\", \"United States\", \"United States\", \"United States\", \"United States\", \"United States\", \"United States\", \"Malaysia\", \"Canada\", \"United States\", \"United Kingdom\", \"Mexico\", \"South Korea\", \"South Korea\", \"South Korea\", \"Canada\", \"United Kingdom\", \"Germany\", \"United States\", \"United States\", \"Canada\", \"United States\", \"United States\", \"United States\", \"Turkey\", \"Peru\", \"United Kingdom\", \"Egypt\", \"Hong Kong\", \"India\", \"United States\", \"Hong Kong\", \"Singapore\", \"South Korea\", \"United States\", \"Japan\", \"United Kingdom\", \"United Kingdom\", \"South Korea\", \"United States\", \"Mexico\", \"United States\", \"United States\", \"United Kingdom\", \"United States\", \"United States\", \"Mexico\", \"Mexico\", \"Colombia\", \"United States\", \"Brazil\", \"United States\", \"United States\", \"United Kingdom\", \"Australia\", \"United States\", \"United States\", \"Germany\", \"United States\", \"Japan\", \"United States\", \"Malaysia\", \"India\", \"United States\", \"Australia\", \"Netherlands\", \"United Kingdom\", \"United States\", \"India\", \"Malaysia\", \"India\", \"Germany\", \"United Kingdom\", \"Denmark\", \"India\", \"Argentina\", \"Japan\", \"United States\", \"United States\", \"Japan\", \"Mexico\", \"India\", \"Nigeria\", \"United States\", \"United States\", \"Italy\", \"United Kingdom\", \"South Korea\", \"South Korea\", \"United States\", \"United Kingdom\", \"France\", \"Germany\", \"India\", \"United States\", \"United States\", \"India\", \"United States\", \"United States\", \"United States\", \"United States\", \"United States\", \"United States\", \"United States\", \"France\", \"United States\", \"United States\", \"Egypt\", \"United States\", \"United States\", \"United States\", \"United States\", \"Mexico\", \"Canada\", \"Japan\", \"South Korea\", \"Turkey\", \"Turkey\", \"India\", \"India\", \"Mexico\", \"United States\", \"United States\", \"United States\", \"South Korea\", \"Ireland\", \"France\", \"Canada\", \"United Kingdom\", \"Thailand\", \"India\", \"United States\", \"United States\", \"United States\", \"Mexico\", \"Italy\", \"United States\", \"United States\", \"United States\", \"United States\", \"India\", \"United States\", \"United States\", \"Mexico\", \"Indonesia\", \"South Korea\", \"Germany\", \"India\", \"Mexico\", \"Hong Kong\", \"United States\", \"India\", \"South Korea\", \"United States\", \"United States\", \"United States\", \"United States\", \"India\", \"Japan\", \"Canada\", \"United States\", \"United Kingdom\", \"United States\", \"United States\", \"United States\", \"United States\", \"United States\", \"United States\", \"Canada\", \"India\", \"United States\", \"Italy\", \"Hong Kong\", \"United States\", \"United States\", \"India\", \"India\", \"India\", \"India\", \"Pakistan\", \"India\", \"Indonesia\", \"India\", \"Italy\", \"Spain\", \"Turkey\", \"Canada\", \"India\", \"Pakistan\", \"India\", \"United Kingdom\", \"United States\", \"France\", \"India\", \"India\", \"Japan\", \"Japan\", \"India\", \"Philippines\", \"India\", \"Senegal\", \"India\", \"Egypt\", \"United States\", \"Egypt\", \"United States\", \"United States\", \"United States\", \"United States\", \"United States\", \"United States\", \"United States\", \"India\", \"Brazil\", \"India\", \"United States\", \"Egypt\", \"France\", \"United States\", \"South Africa\", \"United States\", \"Japan\", \"United States\", \"India\", \"United States\", \"Israel\", \"United States\", \"India\", \"India\", \"Italy\", \"India\", \"United States\", \"United States\", \"United States\", \"United States\", \"Australia\", \"South Africa\", \"Colombia\", \"Spain\", \"United States\", \"United States\", \"France\", \"Austria\", \"Canada\", \"Australia\", \"India\", \"United States\", \"United States\", \"India\", \"India\", \"India\", \"India\", \"United States\", \"United States\", \"India\", \"Indonesia\", \"India\", \"United States\", \"United States\", \"India\", \"United Kingdom\", \"United States\", \"Egypt\", \"South Korea\", \"United States\", \"Italy\", \"United States\", \"United States\", \"United States\", \"India\", \"United States\", \"United States\", \"United States\", \"United States\", \"Japan\", \"United States\", \"Italy\", \"United States\", \"Egypt\", \"United States\", \"United States\", \"United States\", \"Canada\", \"United States\", \"France\", \"Germany\", \"United States\", \"China\", \"United States\", \"United States\", \"United States\", \"United States\", \"United States\", \"United States\", \"United States\", \"United States\", \"Hong Kong\", \"Mexico\", \"United States\", \"United States\", \"United States\", \"Sweden\", \"United States\", \"Argentina\", \"United States\", \"United States\", \"United States\", \"South Korea\", \"Hong Kong\", \"South Korea\", \"Australia\", \"United States\", \"United States\", \"United States\", \"Egypt\", \"India\", \"Argentina\", \"Taiwan\", \"United States\", \"United States\", \"United Kingdom\", \"United States\", \"United Kingdom\", \"United States\", \"United Kingdom\", \"United States\", \"United States\", \"United Kingdom\", \"United Kingdom\", \"United States\", \"United States\", \"United States\", \"United States\", \"United States\", \"India\", \"United States\", \"India\", \"Mexico\", \"United States\", \"United States\", \"United States\", \"Mexico\", \"Turkey\", \"United Kingdom\", \"United States\", \"Canada\", \"South Korea\", \"United States\", \"Guatemala\", \"United States\", \"United Kingdom\", \"India\", \"South Africa\", \"Ukraine\", \"United States\", \"China\", \"United States\", \"United States\", \"United States\", \"India\", \"India\", \"India\", \"United States\", \"United States\", \"France\", \"United States\", \"United States\", \"United States\", \"Philippines\", \"Spain\", \"United States\", \"United States\", \"United States\", \"United Kingdom\", \"United States\", \"United Kingdom\", \"United States\", \"Mexico\", \"United States\", \"Hong Kong\", \"United States\", \"France\", \"India\", \"China\", \"Israel\", \"India\", \"India\", \"Italy\", \"India\", \"United States\", \"India\", \"China\", \"India\", \"Hong Kong\", \"United States\", \"United States\", \"United Kingdom\", \"United Kingdom\", \"United Kingdom\", \"India\", \"United States\", \"United Kingdom\", \"India\", \"United States\", \"Egypt\", \"United States\", \"Philippines\", \"United States\", \"United States\", \"Philippines\", \"United States\", \"United States\", \"South Africa\", \"United Kingdom\", \"United States\", \"India\", \"India\", \"Canada\", \"United States\", \"Brazil\", \"United States\", \"India\", \"India\", \"United States\", \"India\", \"United States\", \"United States\", \"Australia\", \"Australia\", \"India\", \"India\", \"United States\", \"India\", \"United States\", \"United States\", \"United States\", \"United Kingdom\", \"United States\", \"United States\", \"Israel\", \"India\", \"India\", \"Thailand\", \"Indonesia\", \"Indonesia\", \"Indonesia\", \"Colombia\", \"Italy\", \"United Kingdom\", \"United States\", \"India\", \"United States\", \"India\", \"South Korea\", \"Poland\", \"United States\", \"United States\", \"Canada\", \"United States\", \"India\", \"United States\", \"United States\", \"Russia\", \"France\", \"United Kingdom\", \"United States\", \"Mexico\", \"United States\", \"Colombia\", \"United States\", \"United States\", \"Bangladesh\", \"United States\", \"Germany\", \"Spain\", \"India\", \"Singapore\", \"India\", \"India\", \"Indonesia\", \"United States\", \"Australia\", \"China\", \"Switzerland\", \"United States\", \"Peru\", \"Brazil\", \"United States\", \"Japan\", \"United States\", \"United States\", \"United States\", \"Philippines\", \"Australia\", \"Pakistan\", \"Saudi Arabia\", \"Nigeria\", \"United States\", \"Thailand\", \"United States\", \"United States\", \"Spain\", \"China\", \"United States\", \"China\", \"Vietnam\", \"United States\", \"South Korea\", \"United States\", \"Germany\", \"Italy\", \"Canada\", \"United States\", \"United States\", \"Thailand\", \"Thailand\", \"Thailand\", \"United States\", \"United States\", \"United States\", \"United States\", \"Nigeria\", \"United Kingdom\", \"Canada\", \"United States\", \"United States\", \"United States\", \"United States\", \"Spain\", \"Japan\", \"United States\", \"United States\", \"United States\", \"United States\", \"United Kingdom\", \"South Korea\", \"Argentina\", \"India\", \"United States\", \"United States\", \"Indonesia\", \"Mexico\", \"Mexico\", \"United States\", \"India\", \"Japan\", \"India\", \"Spain\", \"Mexico\", \"United States\", \"United States\", \"Czech Republic\", \"Canada\", \"United States\", \"United States\", \"United States\", \"Mexico\", \"Taiwan\", \"Spain\", \"South Korea\", \"United States\", \"India\", \"United States\", \"China\", \"United States\", \"United States\", \"Australia\", \"Egypt\", \"United States\", \"India\", \"Japan\", \"United States\", \"Nigeria\", \"India\", \"Egypt\", \"Thailand\", \"Japan\", \"Mexico\", \"United States\", \"United States\", \"United States\", \"United Kingdom\", \"United States\", \"United States\", \"United States\", \"United States\", \"United States\", \"Spain\", \"South Korea\", \"United States\", \"France\", \"Russia\", \"United States\", \"United States\", \"India\", \"Canada\", \"United States\", \"Brazil\", \"United States\", \"United Kingdom\", \"United States\", \"United States\", \"United States\", \"United States\", \"United States\", \"United States\", \"United States\", \"United States\", \"United States\", \"United States\", \"United States\", \"United States\", \"United States\", \"United Kingdom\", \"United States\", \"United States\", \"United States\", \"United States\", \"United States\", \"United Kingdom\", \"United States\", \"United States\", \"United States\", \"Jamaica\", \"United States\", \"United States\", \"United States\", \"United States\", \"United States\", \"Spain\", \"India\", \"United States\", \"United States\", \"United States\", \"Canada\", \"Canada\", \"United States\", \"United States\", \"United States\", \"United States\", \"United States\", \"United States\", \"United States\", \"United States\", \"Canada\", \"United Kingdom\", \"United States\", \"United Kingdom\", \"United States\", \"United States\", \"South Korea\", \"Philippines\", \"Australia\", \"Switzerland\", \"United States\", \"Japan\", \"United States\", \"United States\", \"United States\", \"South Korea\", \"United States\", \"Egypt\", \"United States\", \"United States\", \"Germany\", \"United Kingdom\", \"United States\", \"India\", \"Thailand\", \"United Kingdom\", \"United States\", \"United States\", \"United States\", \"Spain\", \"South Korea\", \"United States\", \"Australia\", \"United States\", \"India\", \"India\", \"United States\", \"United States\", \"Canada\", \"United States\", \"United States\", \"South Korea\", \"United States\", \"United States\", \"South Korea\", \"France\", \"Lebanon\", \"India\", \"France\", \"United States\", \"United States\", \"United States\", \"United States\", \"Australia\", \"Netherlands\", \"United States\", \"United States\", \"United States\", \"South Korea\", \"United States\", \"Brazil\", \"South Korea\", \"United States\", \"Poland\", \"Germany\", \"United States\", \"Turkey\", \"United States\", \"Turkey\", \"United Kingdom\", \"United States\", \"United States\", \"United States\", \"Italy\", \"Italy\", \"Thailand\", \"India\", \"Singapore\", \"United Kingdom\", \"United States\", \"United States\", \"United States\", \"Israel\", \"United Kingdom\", \"South Korea\", \"United States\", \"Denmark\", \"Italy\", \"Mexico\", \"Spain\", \"United Kingdom\", \"India\", \"Belarus\", \"India\", \"India\", \"India\", \"United States\", \"India\", \"Brazil\", \"United States\", \"United States\", \"Canada\", \"United States\", \"United States\", \"United States\", \"United States\", \"United States\", \"Canada\", \"United States\", \"Canada\", \"United States\", \"India\", \"United States\", \"United States\", \"United States\", \"United States\", \"Spain\", \"United States\", \"United States\", \"United States\", \"United Kingdom\", \"United States\", \"India\", \"India\", \"Indonesia\", \"United States\", \"Indonesia\", \"Indonesia\", \"United States\", \"United States\", \"United States\", \"United States\", \"United States\", \"United States\", \"United States\", \"United States\", \"United States\", \"Indonesia\", \"South Korea\", \"India\", \"India\", \"United States\", \"Canada\", \"Canada\", \"United States\", \"United States\", \"United States\", \"United States\", \"United States\", \"United States\", \"Japan\", \"Japan\", \"Japan\", \"China\", \"Hong Kong\", \"United States\", \"Japan\", \"Nigeria\", \"United States\", \"Germany\", \"India\", \"India\", \"Belgium\", \"United States\", \"India\", \"India\", \"United States\", \"United States\", \"China\", \"United States\", \"Spain\", \"United States\", \"France\", \"United States\", \"Saudi Arabia\", \"India\", \"Malaysia\", \"Australia\", \"United States\", \"United States\", \"United Kingdom\", \"Cyprus\", \"United States\", \"United States\", \"India\", \"India\", \"United States\", \"Lebanon\", \"Argentina\", \"India\", \"India\", \"Egypt\", \"Indonesia\", \"France\", \"Indonesia\", \"United States\", \"United States\", \"Egypt\", \"Nigeria\", \"United States\", \"Lebanon\", \"United States\", \"Egypt\", \"United States\", \"United States\", \"South Korea\", \"United States\", \"India\", \"United States\", \"United States\", \"United States\", \"United States\", \"Japan\", \"Thailand\", \"Pakistan\", \"India\", \"United States\", \"India\", \"United States\", \"United States\", \"Hong Kong\", \"United States\", \"United States\", \"India\", \"United Kingdom\", \"United States\", \"Japan\", \"Argentina\", \"Hong Kong\", \"India\", \"Mexico\", \"United States\", \"United States\", \"United States\", \"France\", \"United States\", \"Japan\", \"Japan\", \"Japan\", \"United States\", \"United States\", \"India\", \"United Kingdom\", \"India\", \"India\", \"India\", \"India\", \"United States\", \"India\", \"India\", \"United States\", \"Philippines\", \"South Korea\", \"United States\", \"United States\", \"Sweden\", \"Norway\", \"United States\", \"United States\", \"United States\", \"Indonesia\", \"Indonesia\", \"United States\", \"United States\", \"Mexico\", \"Taiwan\", \"United Kingdom\", \"Nigeria\", \"Canada\", \"United States\", \"United States\", \"Canada\", \"United States\", \"United States\", \"United States\", \"United States\", \"Argentina\", \"France\", \"United States\", \"South Korea\", \"Spain\", \"Philippines\", \"United States\", \"United States\", \"United States\", \"United States\", \"United States\", \"United States\", \"United States\", \"Israel\", \"Finland\", \"United States\", \"Egypt\", \"Singapore\", \"Spain\", \"Italy\", \"United States\", \"Nigeria\", \"Poland\", \"Canada\", \"United States\", \"France\", \"United States\", \"France\", \"United Kingdom\", \"Switzerland\", \"United States\", \"United States\", \"United States\", \"United States\", \"United States\", \"United States\", \"United States\", \"United States\", \"United Kingdom\", \"United States\", \"United States\", \"United States\", \"Spain\", \"Hong Kong\", \"Spain\", \"United States\", \"United States\", \"United States\", \"Egypt\", \"Italy\", \"Hong Kong\", \"United States\", \"United States\", \"Brazil\", \"Brazil\", \"United States\", \"United Kingdom\", \"United Kingdom\", \"United Kingdom\", \"United Kingdom\", \"United States\", \"United States\", \"Italy\", \"United States\", \"United States\", \"China\", \"United States\", \"United Kingdom\", \"United States\", \"Canada\", \"United States\", \"Egypt\", \"United States\", \"Australia\", \"Chile\", \"Nigeria\", \"United States\", \"Egypt\", \"United Kingdom\", \"India\", \"India\", \"Canada\", \"United States\", \"United Kingdom\", \"France\", \"United States\", \"Saudi Arabia\", \"United States\", \"United States\", \"United States\", \"France\", \"United States\", \"United States\", \"United States\", \"United States\", \"United Kingdom\", \"United States\", \"United Kingdom\", \"United States\", \"United States\", \"United States\", \"United States\", \"United States\", \"Ireland\", \"Belgium\", \"United States\", \"United States\", \"New Zealand\", \"Philippines\", \"South Korea\", \"Nigeria\", \"Taiwan\", \"South Korea\", \"United States\", \"United States\", \"United States\", \"Hong Kong\", \"Ghana\", \"United States\", \"Turkey\", \"United States\", \"United States\", \"United States\", \"United States\", \"Israel\", \"South Korea\", \"India\", \"Canada\", \"United States\", \"United States\", \"United States\", \"United States\", \"New Zealand\", \"Canada\", \"Egypt\", \"Nigeria\", \"France\", \"United States\", \"United States\", \"United States\", \"United States\", \"United States\", \"Australia\", \"Egypt\", \"Spain\", \"Brazil\", \"Mexico\", \"United Kingdom\", \"United States\", \"Canada\", \"United States\", \"United States\", \"United States\", \"Brazil\", \"United States\", \"United States\", \"United States\", \"France\", \"United States\", \"Mexico\", \"United Kingdom\", \"Poland\", \"United States\", \"France\", \"United States\", \"United States\", \"United States\", \"United States\", \"United States\", \"Canada\", \"United States\", \"Israel\", \"United States\", \"Egypt\", \"Japan\", \"United States\", \"South Korea\", \"United States\", \"India\", \"France\", \"Poland\", \"Argentina\", \"United States\", \"United States\", \"United Kingdom\", \"Poland\", \"United Kingdom\", \"United States\", \"France\", \"United States\", \"United States\", \"United Kingdom\", \"United States\", \"India\", \"Indonesia\", \"United Kingdom\", \"United States\", \"United Kingdom\", \"India\", \"United Kingdom\", \"United States\", \"Australia\", \"Austria\", \"United States\", \"Canada\", \"Mexico\", \"Denmark\", \"Egypt\", \"Greece\", \"Romania\", \"United Kingdom\", \"United Kingdom\", \"United States\", \"Canada\", \"Canada\", \"China\", \"United States\", \"Nigeria\", \"United States\", \"Argentina\", \"United States\", \"United States\", \"Italy\", \"United States\", \"Japan\", \"United States\", \"Taiwan\", \"United States\", \"Czech Republic\", \"United States\", \"United States\", \"United States\", \"United States\", \"Japan\", \"Japan\", \"United States\", \"Argentina\", \"United States\", \"Indonesia\", \"Indonesia\", \"United States\", \"Singapore\", \"Singapore\", \"Indonesia\", \"United States\", \"South Korea\", \"Canada\", \"United Kingdom\", \"United States\", \"United States\", \"United States\", \"United States\", \"United Kingdom\", \"Brazil\", \"United States\", \"United Kingdom\", \"United States\", \"Egypt\", \"Kuwait\", \"Japan\", \"United Kingdom\", \"United States\", \"United States\", \"Spain\", \"United Kingdom\", \"United States\", \"United States\", \"United States\", \"United Kingdom\", \"United States\", \"United States\", \"United States\", \"France\", \"United States\", \"United Kingdom\", \"United Kingdom\", \"United States\", \"Taiwan\", \"United States\", \"Nigeria\", \"United States\", \"United States\", \"United States\", \"United States\", \"Brazil\", \"United States\", \"United Kingdom\", \"Hong Kong\", \"United States\", \"United States\", \"United States\", \"United States\", \"United States\", \"Hong Kong\", \"United States\", \"United States\", \"United Kingdom\", \"United States\", \"Japan\", \"Japan\", \"United Kingdom\", \"United States\", \"United States\", \"United States\", \"United Kingdom\", \"New Zealand\", \"France\", \"United States\", \"United States\", \"United Kingdom\", \"Spain\", \"Norway\", \"United States\", \"United States\", \"Japan\", \"France\", \"Indonesia\", \"United States\", \"United States\", \"Nigeria\", \"Taiwan\", \"United States\", \"Spain\", \"Turkey\", \"Philippines\", \"Spain\", \"United States\", \"United States\", \"India\", \"Israel\", \"Colombia\", \"United States\", \"United States\", \"South Korea\", \"United States\", \"United States\", \"United States\", \"United States\", \"United Kingdom\", \"United States\", \"United States\", \"United States\", \"Nigeria\", \"Hong Kong\", \"South Korea\", \"United Kingdom\", \"United States\", \"United Kingdom\", \"United States\", \"India\", \"United States\", \"Colombia\", \"Hong Kong\", \"United States\", \"United Kingdom\", \"United States\", \"United States\", \"China\", \"United Kingdom\", \"South Korea\", \"United States\", \"United States\", \"United States\", \"United States\", \"United States\", \"United States\", \"Poland\", \"United States\", \"United States\", \"United States\", \"United States\", \"United States\", \"Spain\", \"United States\", \"Indonesia\", \"United States\", \"Canada\", \"United States\", \"Canada\", \"Spain\", \"United States\", \"United States\", \"United States\", \"Spain\", \"United States\", \"United States\", \"Canada\", \"United States\", \"United States\", \"Thailand\", \"United States\", \"United States\", \"France\", \"India\", \"Mexico\", \"United States\", \"United States\", \"India\", \"Philippines\", \"India\", \"Canada\", \"Canada\", \"United States\", \"United Kingdom\", \"United Kingdom\", \"United States\", \"United States\", \"Spain\", \"United States\", \"United Kingdom\", \"Spain\", \"Singapore\", \"Australia\", \"United Kingdom\", \"Mexico\", \"United States\", \"Denmark\", \"United States\", \"Canada\", \"United States\", \"Spain\", \"United States\", \"Mexico\", \"United States\", \"United States\", \"United Kingdom\", \"United Kingdom\", \"United Kingdom\", \"Egypt\", \"Australia\", \"France\", \"United States\", \"United Kingdom\", \"Spain\", \"Spain\", \"United States\", \"United States\", \"United States\", \"United States\", \"United Kingdom\", \"Japan\", \"Nigeria\", \"United Kingdom\", \"Austria\", \"France\", \"United States\", \"United States\", \"United States\", \"United States\", \"Thailand\", \"India\", \"Indonesia\", \"South Korea\", \"United States\", \"United States\", \"United States\", \"Brazil\", \"Ireland\", \"United States\", \"United States\", \"United Kingdom\", \"South Korea\", \"China\", \"United Kingdom\", \"Argentina\", \"United Kingdom\", \"United Kingdom\", \"Lebanon\", \"United States\", \"United States\", \"Canada\", \"South Korea\", \"United States\", \"United States\", \"Egypt\", \"India\", \"Egypt\", \"United States\", \"Belgium\", \"South Korea\", \"United States\", \"India\", \"United States\", \"United States\", \"United States\", \"United States\", \"Australia\", \"France\", \"United States\", \"Brazil\", \"Chile\", \"United States\", \"United Kingdom\", \"United States\", \"United Kingdom\", \"United States\", \"Egypt\", \"United States\", \"Paraguay\", \"United Kingdom\", \"United States\", \"United States\", \"United States\", \"Germany\", \"United States\", \"United States\", \"Spain\", \"United States\", \"United States\", \"Spain\", \"United States\", \"India\", \"China\", \"United States\", \"United States\", \"India\", \"China\", \"Australia\", \"United Kingdom\", \"South Africa\", \"United States\", \"South Korea\", \"United States\", \"South Korea\", \"Italy\", \"India\", \"United States\", \"Spain\", \"Norway\", \"Canada\", \"United States\", \"United States\", \"France\", \"Spain\", \"Netherlands\", \"France\", \"Germany\", \"United States\", \"Ireland\", \"Ireland\", \"United States\", \"United States\", \"United States\", \"United States\", \"United States\", \"Denmark\", \"New Zealand\", \"New Zealand\", \"Argentina\", \"United States\", \"Nigeria\", \"Philippines\", \"United Kingdom\", \"United States\", \"United States\", \"United Kingdom\", \"Poland\", \"Hong Kong\", \"United States\", \"Canada\", \"United States\", \"Canada\", \"United States\", \"Canada\", \"United States\", \"United States\", \"United Kingdom\", \"India\", \"United States\", \"Italy\", \"France\", \"Japan\", \"Egypt\", \"United States\", \"United States\", \"United States\", \"United States\", \"Italy\", \"United States\", \"United States\", \"United States\", \"Spain\", \"United States\", \"South Korea\", \"United Kingdom\", \"Brazil\", \"Chile\", \"United States\", \"United States\", \"Spain\", \"United States\", \"Russia\", \"United States\", \"Hong Kong\", \"United States\", \"United States\", \"Germany\", \"Nigeria\", \"United States\", \"United States\", \"United States\", \"France\", \"Spain\", \"Spain\", \"South Korea\", \"Poland\", \"United Kingdom\", \"United States\", \"Canada\", \"Philippines\", \"United Kingdom\", \"Denmark\", \"United States\", \"New Zealand\", \"United States\", \"Belgium\", \"Sweden\", \"United States\", \"United States\", \"Spain\", \"United States\", \"United States\", \"United States\", \"United Kingdom\", \"Italy\", \"Japan\", \"United States\", \"United States\", \"United States\", \"United States\", \"Spain\", \"United States\", \"United States\", \"Australia\", \"Canada\", \"United States\", \"Spain\", \"Canada\", \"United States\", \"Indonesia\", \"United States\", \"United States\", \"Germany\", \"Canada\", \"United States\", \"United States\", \"Singapore\", \"Spain\", \"United States\", \"United States\", \"Mexico\", \"France\", \"United States\", \"Philippines\", \"Canada\", \"United States\", \"United States\", \"United States\", \"France\", \"United States\", \"United States\", \"France\", \"Turkey\", \"United States\", \"United States\", \"United States\", \"Taiwan\", \"United States\", \"Philippines\", \"Croatia\", \"Spain\", \"United States\", \"United Kingdom\", \"United Kingdom\", \"United States\", \"United States\", \"United States\", \"United States\", \"Mexico\", \"United States\", \"Ghana\", \"United States\", \"United States\", \"United Kingdom\", \"United States\", \"Spain\", \"Germany\", \"United States\", \"United States\", \"Somalia\", \"United Kingdom\", \"United States\", \"United States\", \"Poland\", \"India\", \"United Arab Emirates\", \"United States\", \"Egypt\", \"Italy\", \"United States\", \"United States\", \"United States\", \"Canada\", \"South Korea\", \"France\", \"United States\", \"United States\", \"China\", \"Taiwan\", \"United States\", \"United States\", \"United States\", \"China\", \"South Korea\", \"Ireland\", \"United States\", \"Spain\", \"Japan\", \"Turkey\", \"United States\", \"United States\", \"United States\", \"Canada\", \"United States\", \"Colombia\", \"Colombia\", \"United States\", \"United States\", \"Denmark\", \"Indonesia\", \"United States\", \"United States\", \"United States\", \"India\", \"United Kingdom\", \"United States\", \"United States\", \"Spain\", \"Canada\", \"United States\", \"New Zealand\", \"United States\", \"United States\", \"United Kingdom\", \"United States\", \"South Korea\", \"Netherlands\", \"France\", \"United Kingdom\", \"United States\", \"Serbia\", \"Egypt\", \"United States\", \"United Kingdom\", \"United Kingdom\", \"China\", \"United Kingdom\", \"United States\", \"United States\", \"Russia\", \"United States\", \"Colombia\", \"United Kingdom\", \"United States\", \"Taiwan\", \"Australia\", \"India\", \"Nigeria\", \"United Kingdom\", \"United States\", \"United States\", \"United States\", \"United States\", \"United Kingdom\", \"Italy\", \"United States\", \"United States\", \"Denmark\", \"Australia\", \"South Korea\", \"Egypt\", \"Germany\", \"United States\", \"Mexico\", \"United States\", \"United States\", \"United States\", \"Nigeria\", \"Japan\", \"Japan\", \"United States\", \"United States\", \"United States\", \"India\", \"United States\", \"United States\", \"United Kingdom\", \"Ireland\", \"Italy\", \"United States\", \"Canada\", \"Spain\", \"Spain\", \"Spain\", \"Mexico\", \"Indonesia\", \"United States\", \"Spain\", \"India\", \"United States\", \"United States\", \"United States\", \"Ukraine\", \"United States\", \"United States\", \"United States\", \"Argentina\", \"South Korea\", \"South Korea\", \"United States\", \"United States\", \"United States\", \"United States\", \"Poland\", \"United States\", \"France\", \"United States\", \"United Kingdom\", \"United Kingdom\", \"United States\", \"France\", \"United States\", \"United States\", \"United States\", \"United Kingdom\", \"United States\", \"United States\", \"Thailand\", \"United Kingdom\", \"United States\", \"Egypt\", \"Egypt\", \"United Kingdom\", \"United States\", \"United States\", \"Philippines\", \"United States\", \"United States\", \"United Kingdom\", \"United States\", \"United States\", \"Argentina\", \"United States\", \"United States\", \"United Kingdom\", \"Egypt\", \"Philippines\", \"Mexico\", \"United States\", \"United Kingdom\", \"United States\", \"United States\", \"United Kingdom\", \"United States\", \"United States\", \"Georgia\", \"United States\", \"United States\", \"Spain\", \"Italy\", \"United States\", \"United States\", \"Spain\", \"United States\", \"United States\", \"United Kingdom\", \"United States\", \"United States\", \"United Kingdom\", \"Singapore\", \"Ireland\", \"United States\", \"Belgium\", \"United States\", \"Hong Kong\", \"United Kingdom\", \"United States\", \"Singapore\", \"United States\", \"Thailand\", \"South Korea\", \"Thailand\", \"United States\", \"United States\", \"United States\", \"United States\", \"Belgium\", \"United States\", \"Australia\", \"Philippines\", \"United States\", \"China\", \"United States\", \"Iceland\", \"United States\", \"United States\", \"United States\", \"United States\", \"United States\", \"Taiwan\", \"United States\", \"India\", \"United States\", \"United States\", \"Egypt\", \"China\", \"United States\", \"Spain\", \"Australia\", \"New Zealand\", \"United States\", \"Philippines\", \"Nigeria\", \"Nigeria\", \"United States\", \"United States\", \"United States\", \"United Kingdom\", \"United States\", \"Australia\", \"Canada\", \"United Kingdom\", \"India\", \"United Kingdom\", \"United States\", \"South Korea\", \"United States\", \"United States\", \"Egypt\", \"France\", \"China\", \"United Kingdom\", \"Israel\", \"Poland\", \"France\", \"United Kingdom\", \"France\", \"United States\", \"United Kingdom\", \"United Kingdom\", \"United Kingdom\", \"United Arab Emirates\", \"Lebanon\", \"Canada\", \"United States\", \"Turkey\", \"Taiwan\", \"United States\", \"Ireland\", \"Hong Kong\", \"India\", \"Canada\", \"India\", \"India\", \"United States\", \"United States\", \"United States\", \"United States\", \"United States\", \"Canada\", \"France\", \"United Kingdom\", \"United States\", \"Spain\", \"Brazil\", \"Belgium\", \"Thailand\", \"Indonesia\", \"Egypt\", \"South Korea\", \"China\", \"Belgium\", \"India\", \"United States\", \"United States\", \"United States\", \"United Kingdom\", \"Thailand\", \"United States\", \"United States\", \"United Kingdom\", \"United Kingdom\", \"India\", \"Hong Kong\", \"Spain\", \"United Kingdom\", \"Philippines\", \"United States\", \"United States\", \"Canada\", \"India\", \"United States\", \"United States\", \"Australia\", \"United States\", \"Spain\", \"China\", \"United States\", \"United States\", \"United States\", \"United States\", \"United States\", \"India\", \"United States\", \"United States\", \"Mexico\", \"China\", \"India\", \"Taiwan\", \"United States\", \"United States\", \"United Kingdom\", \"United Kingdom\", \"India\", \"India\", \"Mexico\", \"South Korea\", \"United States\", \"United States\", \"United States\", \"United States\", \"United Kingdom\", \"Spain\", \"United States\", \"United States\", \"United States\", \"United States\", \"United States\", \"Germany\", \"United States\", \"South Africa\", \"United States\", \"United States\", \"United States\", \"United States\", \"United States\", \"France\", \"United States\", \"Russia\", \"United States\", \"United Kingdom\", \"Canada\", \"Spain\", \"United States\", \"United States\", \"United States\", \"Argentina\", \"Argentina\", \"Singapore\", \"India\", \"India\", \"United Kingdom\", \"Canada\", \"Turkey\", \"United States\", \"United States\", \"United States\", \"United States\", \"United States\", \"United States\", \"United States\", \"United States\", \"United Kingdom\", \"South Korea\", \"South Korea\", \"France\", \"United States\", \"Indonesia\", \"United States\", \"United States\", \"Netherlands\", \"Thailand\", \"United Kingdom\", \"United States\", \"United States\", \"India\", \"Japan\", \"India\", \"Spain\", \"United States\", \"Canada\", \"United States\", \"United States\", \"India\", \"United States\", \"Spain\", \"United States\", \"United States\", \"India\", \"Canada\", \"Canada\", \"Canada\", \"Canada\", \"Canada\", \"Canada\", \"United States\", \"Canada\", \"Canada\", \"Canada\", \"Canada\", \"Thailand\", \"South Korea\", \"United Kingdom\", \"United States\", \"United Kingdom\", \"United States\", \"United Kingdom\", \"France\", \"Canada\", \"United States\", \"United States\", \"United States\", \"Canada\", \"United States\", \"United States\", \"United States\", \"United Kingdom\", \"United States\", \"United States\", \"Turkey\", \"Canada\", \"United States\", \"United States\", \"United Kingdom\", \"United States\", \"Canada\", \"South Korea\", \"United States\", \"United States\", \"United States\", \"United States\", \"South Africa\", \"United States\", \"United States\", \"United Kingdom\", \"United States\", \"United States\", \"United States\", \"United States\", \"United States\", \"United States\", \"United States\", \"India\", \"India\", \"United States\", \"United States\", \"India\", \"United States\", \"United States\", \"Thailand\", \"United States\", \"United States\", \"United States\", \"United States\", \"United States\", \"United Kingdom\", \"France\", \"Russia\", \"United Kingdom\", \"United States\", \"India\", \"United States\", \"United States\", \"United States\", \"United States\", \"United States\", \"Canada\", \"Canada\", \"United States\", \"United States\", \"Canada\", \"Canada\", \"Canada\", \"United States\", \"United States\", \"Canada\", \"United States\", \"United Kingdom\", \"United States\", \"India\", \"United States\", \"Canada\", \"India\", \"India\", \"United States\", \"Japan\", \"United States\", \"South Korea\", \"United States\", \"United States\", \"United States\", \"United States\", \"Turkey\", \"United Kingdom\", \"United States\", \"United States\", \"United States\", \"Japan\", \"France\", \"Spain\", \"United States\", \"Hong Kong\", \"United States\", \"United Kingdom\", \"India\", \"Spain\", \"Taiwan\", \"United Kingdom\", \"Canada\", \"United States\", \"South Korea\", \"Australia\", \"India\", \"United States\", \"India\", \"Philippines\", \"India\", \"India\", \"India\", \"India\", \"United States\", \"Thailand\", \"India\", \"United States\", \"United States\", \"United States\", \"Japan\", \"Italy\", \"Poland\", \"India\", \"India\", \"France\", \"United Kingdom\", \"Canada\", \"United States\", \"United States\", \"Spain\", \"United States\", \"United States\", \"United States\", \"Spain\", \"India\", \"Spain\", \"United States\", \"United States\", \"United Arab Emirates\", \"United States\", \"South Africa\", \"United States\", \"United States\", \"United States\", \"United States\", \"South Korea\", \"France\", \"United States\", \"Italy\", \"United Kingdom\", \"Switzerland\", \"Belgium\", \"United States\", \"Canada\", \"Colombia\", \"United States\", \"Argentina\", \"Philippines\", \"United Kingdom\", \"United States\", \"India\", \"United States\", \"Canada\", \"Belgium\", \"United Kingdom\", \"Spain\", \"United States\", \"United States\", \"Germany\", \"China\", \"United Kingdom\", \"Singapore\", \"Egypt\", \"United States\", \"United States\", \"United States\", \"Mexico\", \"Romania\", \"France\", \"Spain\", \"United States\", \"Nigeria\", \"Malaysia\", \"United States\", \"India\", \"India\", \"India\", \"Australia\", \"China\", \"Egypt\", \"United States\", \"India\", \"United States\", \"United States\", \"United States\", \"South Korea\", \"Brazil\", \"Egypt\", \"Spain\", \"United States\", \"Japan\", \"France\", \"United States\", \"United States\", \"India\", \"United States\", \"India\", \"South Africa\", \"India\", \"India\", \"United States\", \"United States\", \"United States\", \"Spain\", \"United States\", \"Spain\", \"United States\", \"Mexico\", \"Spain\", \"France\", \"Indonesia\", \"Indonesia\", \"Lebanon\", \"India\", \"United Kingdom\", \"United Kingdom\", \"Spain\", \"United States\", \"United States\", \"United States\", \"Argentina\", \"United Kingdom\", \"United States\", \"United Kingdom\", \"Philippines\", \"United States\", \"Japan\", \"Japan\", \"United States\", \"United States\", \"India\", \"United States\", \"India\", \"United States\", \"United States\", \"India\", \"United Kingdom\", \"United States\", \"India\", \"India\", \"India\", \"Turkey\", \"Turkey\", \"India\", \"South Korea\", \"United States\", \"United States\", \"France\", \"United States\", \"South Korea\", \"United Kingdom\", \"United States\", \"United Kingdom\", \"United States\", \"India\", \"United Kingdom\", \"Pakistan\", \"India\", \"United States\", \"Saudi Arabia\", \"China\", \"India\", \"United States\", \"United States\", \"United States\", \"India\", \"United States\", \"France\", \"United States\", \"United States\", \"United Kingdom\", \"United States\", \"United States\", \"United States\", \"United States\", \"France\", \"United Kingdom\", \"Australia\", \"United States\", \"United States\", \"India\", \"United States\", \"United States\", \"United Kingdom\", \"Egypt\", \"Mexico\", \"Denmark\", \"United States\", \"Poland\", \"South Korea\", \"France\", \"United States\", \"India\", \"United States\", \"United States\", \"United Kingdom\", \"Taiwan\", \"India\", \"Lebanon\", \"India\", \"Hong Kong\", \"France\", \"United States\", \"Germany\", \"Germany\", \"United Kingdom\", \"United States\", \"United States\", \"United States\", \"United States\", \"Spain\", \"United States\", \"United States\", \"United States\", \"United States\", \"Egypt\", \"United States\", \"United States\", \"Austria\", \"Poland\", \"France\", \"Kuwait\", \"United States\", \"United States\", \"Hong Kong\", \"United Kingdom\", \"India\", \"India\", \"Italy\", \"United States\", \"United States\", \"India\", \"United States\", \"Spain\", \"United States\", \"India\", \"China\", \"Australia\", \"France\", \"France\", \"United States\", \"Poland\", \"United States\", \"United States\", \"United States\", \"United States\", \"United States\", \"United States\", \"United States\", \"China\", \"India\", \"Lebanon\", \"United States\", \"United Kingdom\", \"South Korea\", \"United States\", \"Turkey\", \"United States\", \"South Korea\", \"Taiwan\", \"Canada\", \"United States\", \"United Kingdom\", \"Taiwan\", \"United States\", \"Spain\", \"India\", \"United States\", \"India\", \"United States\", \"United States\", \"Austria\", \"United States\", \"United States\", \"United States\", \"Indonesia\", \"Saudi Arabia\", \"India\", \"United States\", \"United States\", \"Spain\", \"United States\", \"United Kingdom\", \"Israel\", \"Taiwan\", \"Nigeria\", \"South Korea\", \"United States\", \"Peru\", \"United States\", \"Germany\", \"United States\", \"United States\", \"Brazil\", \"Indonesia\", \"Uruguay\", \"Lebanon\", \"United Kingdom\", \"United States\", \"France\", \"United States\", \"United Kingdom\", \"United Kingdom\", \"United Kingdom\", \"South Korea\", \"United States\", \"United States\", \"United States\", \"France\", \"United States\", \"United States\", \"Spain\", \"United States\", \"Taiwan\", \"United States\", \"United States\", \"United Kingdom\", \"Canada\", \"Romania\", \"United States\", \"United Kingdom\", \"United Kingdom\", \"United States\", \"Colombia\", \"Germany\", \"United States\", \"United States\", \"United States\", \"United States\", \"United Kingdom\", \"Hungary\", \"United States\", \"United States\", \"United Kingdom\", \"Australia\", \"United States\", \"France\", \"United States\", \"Australia\", \"United Kingdom\", \"Turkey\", \"United States\", \"Italy\", \"Malaysia\", \"United States\", \"United States\", \"United States\", \"United States\", \"United Kingdom\", \"Canada\", \"United Kingdom\", \"Nigeria\", \"United Kingdom\", \"United States\", \"Turkey\", \"United States\", \"United States\", \"Poland\", \"Netherlands\", \"United States\", \"United States\", \"United States\", \"United States\", \"United States\", \"United States\", \"United States\", \"Canada\", \"Singapore\", \"India\", \"Italy\", \"United States\", \"United Kingdom\", \"United Kingdom\", \"United States\", \"United States\", \"United States\", \"United States\", \"Australia\", \"Pakistan\", \"India\", \"United States\", \"United States\", \"United States\", \"United States\", \"United States\", \"Canada\", \"Egypt\", \"India\", \"United States\", \"United Kingdom\", \"Canada\", \"United States\", \"United States\", \"Mexico\", \"India\", \"United States\", \"India\", \"India\", \"India\", \"India\", \"India\", \"Mexico\", \"China\", \"Egypt\", \"India\", \"India\", \"India\", \"France\", \"United States\", \"Thailand\", \"Thailand\", \"Thailand\", \"Singapore\", \"United States\", \"South Korea\", \"United States\", \"Japan\", \"United States\", \"United States\", \"Russia\", \"United States\", \"South Korea\", \"United States\", \"South Korea\", \"United States\", \"United States\", \"United Kingdom\", \"United States\", \"Mexico\", \"Croatia\", \"Philippines\", \"United States\", \"United States\", \"United States\", \"Turkey\", \"Philippines\", \"Taiwan\", \"Mexico\", \"United States\", \"United States\", \"Hong Kong\", \"United Kingdom\", \"United States\", \"Japan\", \"Taiwan\", \"Spain\", \"Singapore\", \"India\", \"United States\", \"United States\", \"Egypt\", \"Egypt\", \"Japan\", \"Japan\", \"Spain\", \"Australia\", \"Turkey\", \"India\", \"United States\", \"Brazil\", \"United States\", \"United States\", \"United States\", \"Egypt\", \"Canada\", \"India\", \"India\", \"India\", \"United States\", \"France\", \"Pakistan\", \"Pakistan\", \"India\", \"United Arab Emirates\", \"United States\", \"Spain\", \"Mexico\", \"United States\", \"Japan\", \"India\", \"United States\", \"United States\", \"Mexico\", \"India\", \"United States\", \"Sweden\", \"India\", \"United States\", \"Australia\", \"United Kingdom\"], \"xaxis\": \"x\", \"yaxis\": \"y\"}],                        {\"barmode\": \"relative\", \"legend\": {\"tracegroupgap\": 0}, \"margin\": {\"t\": 60}, \"template\": {\"data\": {\"bar\": [{\"error_x\": {\"color\": \"#2a3f5f\"}, \"error_y\": {\"color\": \"#2a3f5f\"}, \"marker\": {\"line\": {\"color\": \"#E5ECF6\", \"width\": 0.5}}, \"type\": \"bar\"}], \"barpolar\": [{\"marker\": {\"line\": {\"color\": \"#E5ECF6\", \"width\": 0.5}}, \"type\": \"barpolar\"}], \"carpet\": [{\"aaxis\": {\"endlinecolor\": \"#2a3f5f\", \"gridcolor\": \"white\", \"linecolor\": \"white\", \"minorgridcolor\": \"white\", \"startlinecolor\": \"#2a3f5f\"}, \"baxis\": {\"endlinecolor\": \"#2a3f5f\", \"gridcolor\": \"white\", \"linecolor\": \"white\", \"minorgridcolor\": \"white\", \"startlinecolor\": \"#2a3f5f\"}, \"type\": \"carpet\"}], \"choropleth\": [{\"colorbar\": {\"outlinewidth\": 0, \"ticks\": \"\"}, \"type\": \"choropleth\"}], \"contour\": [{\"colorbar\": {\"outlinewidth\": 0, \"ticks\": \"\"}, \"colorscale\": [[0.0, \"#0d0887\"], [0.1111111111111111, \"#46039f\"], [0.2222222222222222, \"#7201a8\"], [0.3333333333333333, \"#9c179e\"], [0.4444444444444444, \"#bd3786\"], [0.5555555555555556, \"#d8576b\"], [0.6666666666666666, \"#ed7953\"], [0.7777777777777778, \"#fb9f3a\"], [0.8888888888888888, \"#fdca26\"], [1.0, \"#f0f921\"]], \"type\": \"contour\"}], \"contourcarpet\": [{\"colorbar\": {\"outlinewidth\": 0, \"ticks\": \"\"}, \"type\": \"contourcarpet\"}], \"heatmap\": [{\"colorbar\": {\"outlinewidth\": 0, \"ticks\": \"\"}, \"colorscale\": [[0.0, \"#0d0887\"], [0.1111111111111111, \"#46039f\"], [0.2222222222222222, \"#7201a8\"], [0.3333333333333333, \"#9c179e\"], [0.4444444444444444, \"#bd3786\"], [0.5555555555555556, \"#d8576b\"], [0.6666666666666666, \"#ed7953\"], [0.7777777777777778, \"#fb9f3a\"], [0.8888888888888888, \"#fdca26\"], [1.0, \"#f0f921\"]], \"type\": \"heatmap\"}], \"heatmapgl\": [{\"colorbar\": {\"outlinewidth\": 0, \"ticks\": \"\"}, \"colorscale\": [[0.0, \"#0d0887\"], [0.1111111111111111, \"#46039f\"], [0.2222222222222222, \"#7201a8\"], [0.3333333333333333, \"#9c179e\"], [0.4444444444444444, \"#bd3786\"], [0.5555555555555556, \"#d8576b\"], [0.6666666666666666, \"#ed7953\"], [0.7777777777777778, \"#fb9f3a\"], [0.8888888888888888, \"#fdca26\"], [1.0, \"#f0f921\"]], \"type\": \"heatmapgl\"}], \"histogram\": [{\"marker\": {\"colorbar\": {\"outlinewidth\": 0, \"ticks\": \"\"}}, \"type\": \"histogram\"}], \"histogram2d\": [{\"colorbar\": {\"outlinewidth\": 0, \"ticks\": \"\"}, \"colorscale\": [[0.0, \"#0d0887\"], [0.1111111111111111, \"#46039f\"], [0.2222222222222222, \"#7201a8\"], [0.3333333333333333, \"#9c179e\"], [0.4444444444444444, \"#bd3786\"], [0.5555555555555556, \"#d8576b\"], [0.6666666666666666, \"#ed7953\"], [0.7777777777777778, \"#fb9f3a\"], [0.8888888888888888, \"#fdca26\"], [1.0, \"#f0f921\"]], \"type\": \"histogram2d\"}], \"histogram2dcontour\": [{\"colorbar\": {\"outlinewidth\": 0, \"ticks\": \"\"}, \"colorscale\": [[0.0, \"#0d0887\"], [0.1111111111111111, \"#46039f\"], [0.2222222222222222, \"#7201a8\"], [0.3333333333333333, \"#9c179e\"], [0.4444444444444444, \"#bd3786\"], [0.5555555555555556, \"#d8576b\"], [0.6666666666666666, \"#ed7953\"], [0.7777777777777778, \"#fb9f3a\"], [0.8888888888888888, \"#fdca26\"], [1.0, \"#f0f921\"]], \"type\": \"histogram2dcontour\"}], \"mesh3d\": [{\"colorbar\": {\"outlinewidth\": 0, \"ticks\": \"\"}, \"type\": \"mesh3d\"}], \"parcoords\": [{\"line\": {\"colorbar\": {\"outlinewidth\": 0, \"ticks\": \"\"}}, \"type\": \"parcoords\"}], \"pie\": [{\"automargin\": true, \"type\": \"pie\"}], \"scatter\": [{\"marker\": {\"colorbar\": {\"outlinewidth\": 0, \"ticks\": \"\"}}, \"type\": \"scatter\"}], \"scatter3d\": [{\"line\": {\"colorbar\": {\"outlinewidth\": 0, \"ticks\": \"\"}}, \"marker\": {\"colorbar\": {\"outlinewidth\": 0, \"ticks\": \"\"}}, \"type\": \"scatter3d\"}], \"scattercarpet\": [{\"marker\": {\"colorbar\": {\"outlinewidth\": 0, \"ticks\": \"\"}}, \"type\": \"scattercarpet\"}], \"scattergeo\": [{\"marker\": {\"colorbar\": {\"outlinewidth\": 0, \"ticks\": \"\"}}, \"type\": \"scattergeo\"}], \"scattergl\": [{\"marker\": {\"colorbar\": {\"outlinewidth\": 0, \"ticks\": \"\"}}, \"type\": \"scattergl\"}], \"scattermapbox\": [{\"marker\": {\"colorbar\": {\"outlinewidth\": 0, \"ticks\": \"\"}}, \"type\": \"scattermapbox\"}], \"scatterpolar\": [{\"marker\": {\"colorbar\": {\"outlinewidth\": 0, \"ticks\": \"\"}}, \"type\": \"scatterpolar\"}], \"scatterpolargl\": [{\"marker\": {\"colorbar\": {\"outlinewidth\": 0, \"ticks\": \"\"}}, \"type\": \"scatterpolargl\"}], \"scatterternary\": [{\"marker\": {\"colorbar\": {\"outlinewidth\": 0, \"ticks\": \"\"}}, \"type\": \"scatterternary\"}], \"surface\": [{\"colorbar\": {\"outlinewidth\": 0, \"ticks\": \"\"}, \"colorscale\": [[0.0, \"#0d0887\"], [0.1111111111111111, \"#46039f\"], [0.2222222222222222, \"#7201a8\"], [0.3333333333333333, \"#9c179e\"], [0.4444444444444444, \"#bd3786\"], [0.5555555555555556, \"#d8576b\"], [0.6666666666666666, \"#ed7953\"], [0.7777777777777778, \"#fb9f3a\"], [0.8888888888888888, \"#fdca26\"], [1.0, \"#f0f921\"]], \"type\": \"surface\"}], \"table\": [{\"cells\": {\"fill\": {\"color\": \"#EBF0F8\"}, \"line\": {\"color\": \"white\"}}, \"header\": {\"fill\": {\"color\": \"#C8D4E3\"}, \"line\": {\"color\": \"white\"}}, \"type\": \"table\"}]}, \"layout\": {\"annotationdefaults\": {\"arrowcolor\": \"#2a3f5f\", \"arrowhead\": 0, \"arrowwidth\": 1}, \"autotypenumbers\": \"strict\", \"coloraxis\": {\"colorbar\": {\"outlinewidth\": 0, \"ticks\": \"\"}}, \"colorscale\": {\"diverging\": [[0, \"#8e0152\"], [0.1, \"#c51b7d\"], [0.2, \"#de77ae\"], [0.3, \"#f1b6da\"], [0.4, \"#fde0ef\"], [0.5, \"#f7f7f7\"], [0.6, \"#e6f5d0\"], [0.7, \"#b8e186\"], [0.8, \"#7fbc41\"], [0.9, \"#4d9221\"], [1, \"#276419\"]], \"sequential\": [[0.0, \"#0d0887\"], [0.1111111111111111, \"#46039f\"], [0.2222222222222222, \"#7201a8\"], [0.3333333333333333, \"#9c179e\"], [0.4444444444444444, \"#bd3786\"], [0.5555555555555556, \"#d8576b\"], [0.6666666666666666, \"#ed7953\"], [0.7777777777777778, \"#fb9f3a\"], [0.8888888888888888, \"#fdca26\"], [1.0, \"#f0f921\"]], \"sequentialminus\": [[0.0, \"#0d0887\"], [0.1111111111111111, \"#46039f\"], [0.2222222222222222, \"#7201a8\"], [0.3333333333333333, \"#9c179e\"], [0.4444444444444444, \"#bd3786\"], [0.5555555555555556, \"#d8576b\"], [0.6666666666666666, \"#ed7953\"], [0.7777777777777778, \"#fb9f3a\"], [0.8888888888888888, \"#fdca26\"], [1.0, \"#f0f921\"]]}, \"colorway\": [\"#636efa\", \"#EF553B\", \"#00cc96\", \"#ab63fa\", \"#FFA15A\", \"#19d3f3\", \"#FF6692\", \"#B6E880\", \"#FF97FF\", \"#FECB52\"], \"font\": {\"color\": \"#2a3f5f\"}, \"geo\": {\"bgcolor\": \"white\", \"lakecolor\": \"white\", \"landcolor\": \"#E5ECF6\", \"showlakes\": true, \"showland\": true, \"subunitcolor\": \"white\"}, \"hoverlabel\": {\"align\": \"left\"}, \"hovermode\": \"closest\", \"mapbox\": {\"style\": \"light\"}, \"paper_bgcolor\": \"white\", \"plot_bgcolor\": \"#E5ECF6\", \"polar\": {\"angularaxis\": {\"gridcolor\": \"white\", \"linecolor\": \"white\", \"ticks\": \"\"}, \"bgcolor\": \"#E5ECF6\", \"radialaxis\": {\"gridcolor\": \"white\", \"linecolor\": \"white\", \"ticks\": \"\"}}, \"scene\": {\"xaxis\": {\"backgroundcolor\": \"#E5ECF6\", \"gridcolor\": \"white\", \"gridwidth\": 2, \"linecolor\": \"white\", \"showbackground\": true, \"ticks\": \"\", \"zerolinecolor\": \"white\"}, \"yaxis\": {\"backgroundcolor\": \"#E5ECF6\", \"gridcolor\": \"white\", \"gridwidth\": 2, \"linecolor\": \"white\", \"showbackground\": true, \"ticks\": \"\", \"zerolinecolor\": \"white\"}, \"zaxis\": {\"backgroundcolor\": \"#E5ECF6\", \"gridcolor\": \"white\", \"gridwidth\": 2, \"linecolor\": \"white\", \"showbackground\": true, \"ticks\": \"\", \"zerolinecolor\": \"white\"}}, \"shapedefaults\": {\"line\": {\"color\": \"#2a3f5f\"}}, \"ternary\": {\"aaxis\": {\"gridcolor\": \"white\", \"linecolor\": \"white\", \"ticks\": \"\"}, \"baxis\": {\"gridcolor\": \"white\", \"linecolor\": \"white\", \"ticks\": \"\"}, \"bgcolor\": \"#E5ECF6\", \"caxis\": {\"gridcolor\": \"white\", \"linecolor\": \"white\", \"ticks\": \"\"}}, \"title\": {\"x\": 0.05}, \"xaxis\": {\"automargin\": true, \"gridcolor\": \"white\", \"linecolor\": \"white\", \"ticks\": \"\", \"title\": {\"standoff\": 15}, \"zerolinecolor\": \"white\", \"zerolinewidth\": 2}, \"yaxis\": {\"automargin\": true, \"gridcolor\": \"white\", \"linecolor\": \"white\", \"ticks\": \"\", \"title\": {\"standoff\": 15}, \"zerolinecolor\": \"white\", \"zerolinewidth\": 2}}}, \"xaxis\": {\"anchor\": \"y\", \"categoryorder\": \"total descending\", \"domain\": [0.0, 1.0], \"title\": {\"text\": \"principal_country\"}}, \"yaxis\": {\"anchor\": \"x\", \"domain\": [0.0, 1.0], \"title\": {\"text\": \"count\"}}},                        {\"responsive\": true}                    ).then(function(){\n",
              "                            \n",
              "var gd = document.getElementById('296e4ea2-3747-4521-afc5-0972b7a6a9d5');\n",
              "var x = new MutationObserver(function (mutations, observer) {{\n",
              "        var display = window.getComputedStyle(gd).display;\n",
              "        if (!display || display === 'none') {{\n",
              "            console.log([gd, 'removed!']);\n",
              "            Plotly.purge(gd);\n",
              "            observer.disconnect();\n",
              "        }}\n",
              "}});\n",
              "\n",
              "// Listen for the removal of the full notebook cells\n",
              "var notebookContainer = gd.closest('#notebook-container');\n",
              "if (notebookContainer) {{\n",
              "    x.observe(notebookContainer, {childList: true});\n",
              "}}\n",
              "\n",
              "// Listen for the clearing of the current output cell\n",
              "var outputEl = gd.closest('.output');\n",
              "if (outputEl) {{\n",
              "    x.observe(outputEl, {childList: true});\n",
              "}}\n",
              "\n",
              "                        })                };                            </script>        </div>\n",
              "</body>\n",
              "</html>"
            ]
          },
          "metadata": {
            "tags": []
          }
        }
      ]
    },
    {
      "cell_type": "markdown",
      "metadata": {
        "papermill": {
          "duration": 0.121045,
          "end_time": "2021-02-08T10:54:08.043503",
          "exception": false,
          "start_time": "2021-02-08T10:54:07.922458",
          "status": "completed"
        },
        "tags": [],
        "id": "u0h254CjGb8z"
      },
      "source": [
        "# Distribution of content released\n",
        "\n",
        "As we can see, in the last few years, there has been a increment in content productions"
      ]
    },
    {
      "cell_type": "code",
      "metadata": {
        "papermill": {
          "duration": 0.18999,
          "end_time": "2021-02-08T10:54:08.354573",
          "exception": false,
          "start_time": "2021-02-08T10:54:08.164583",
          "status": "completed"
        },
        "tags": [],
        "colab": {
          "base_uri": "https://localhost:8080/",
          "height": 542
        },
        "id": "SjBsr9RhGb8z",
        "outputId": "ee4e5571-5a8d-4850-ab5a-90f5759ac05b"
      },
      "source": [
        "released_year_df = df.loc[df['release_year'] > 2010].groupby(['release_year', 'type']).agg({'show_id': 'count'}).reset_index()\n",
        "added_year_df = df.loc[df['year_added'] > 2010].groupby(['year_added', 'type']).agg({'show_id': 'count'}).reset_index()\n",
        "\n",
        "fig = go.Figure()\n",
        "fig.add_trace(go.Scatter( \n",
        "    x=released_year_df.loc[released_year_df['type'] == 'Movie']['release_year'], \n",
        "    y=released_year_df.loc[released_year_df['type'] == 'Movie']['show_id'],\n",
        "    mode='lines+markers',\n",
        "    name='Movie: Released Year',\n",
        "    marker_color='green',\n",
        "))\n",
        "fig.add_trace(go.Scatter( \n",
        "    x=released_year_df.loc[released_year_df['type'] == 'TV Show']['release_year'], \n",
        "    y=released_year_df.loc[released_year_df['type'] == 'TV Show']['show_id'],\n",
        "    mode='lines+markers',\n",
        "    name='TV Show: Released Year',\n",
        "    marker_color='darkgreen',\n",
        "))\n",
        "fig.add_trace(go.Scatter( \n",
        "    x=added_year_df.loc[added_year_df['type'] == 'Movie']['year_added'], \n",
        "    y=added_year_df.loc[added_year_df['type'] == 'Movie']['show_id'],\n",
        "    mode='lines+markers',\n",
        "    name='Movie: Year Added',\n",
        "    marker_color='orange',\n",
        "))\n",
        "fig.add_trace(go.Scatter( \n",
        "    x=added_year_df.loc[added_year_df['type'] == 'TV Show']['year_added'], \n",
        "    y=added_year_df.loc[added_year_df['type'] == 'TV Show']['show_id'],\n",
        "    mode='lines+markers',\n",
        "    name='TV Show: Year Added',\n",
        "    marker_color='darkorange',\n",
        "))\n",
        "fig.update_xaxes(categoryorder='total descending')\n",
        "fig.show()"
      ],
      "execution_count": 34,
      "outputs": [
        {
          "output_type": "display_data",
          "data": {
            "text/html": [
              "<html>\n",
              "<head><meta charset=\"utf-8\" /></head>\n",
              "<body>\n",
              "    <div>            <script src=\"https://cdnjs.cloudflare.com/ajax/libs/mathjax/2.7.5/MathJax.js?config=TeX-AMS-MML_SVG\"></script><script type=\"text/javascript\">if (window.MathJax) {MathJax.Hub.Config({SVG: {font: \"STIX-Web\"}});}</script>                <script type=\"text/javascript\">window.PlotlyConfig = {MathJaxConfig: 'local'};</script>\n",
              "        <script src=\"https://cdn.plot.ly/plotly-latest.min.js\"></script>                <div id=\"895f9586-3585-4835-adca-e65828365550\" class=\"plotly-graph-div\" style=\"height:525px; width:100%;\"></div>            <script type=\"text/javascript\">                                    window.PLOTLYENV=window.PLOTLYENV || {};                                    if (document.getElementById(\"895f9586-3585-4835-adca-e65828365550\")) {                    Plotly.newPlot(                        \"895f9586-3585-4835-adca-e65828365550\",                        [{\"marker\": {\"color\": \"green\"}, \"mode\": \"lines+markers\", \"name\": \"Movie: Released Year\", \"type\": \"scatter\", \"x\": [2011, 2012, 2013, 2014, 2015, 2016, 2017, 2018, 2019, 2020, 2021], \"y\": [127, 158, 202, 244, 382, 642, 744, 734, 582, 411, 12]}, {\"marker\": {\"color\": \"darkgreen\"}, \"mode\": \"lines+markers\", \"name\": \"TV Show: Released Year\", \"type\": \"scatter\", \"x\": [2011, 2012, 2013, 2014, 2015, 2016, 2017, 2018, 2019, 2020, 2021], \"y\": [39, 60, 64, 90, 157, 239, 268, 386, 414, 457, 19]}, {\"marker\": {\"color\": \"orange\"}, \"mode\": \"lines+markers\", \"name\": \"Movie: Year Added\", \"type\": \"scatter\", \"x\": [2011, 2012, 2013, 2014, 2015, 2016, 2017, 2018, 2019, 2020, 2021], \"y\": [13, 3, 6, 19, 58, 258, 864, 1255, 1497, 1312, 88]}, {\"marker\": {\"color\": \"darkorange\"}, \"mode\": \"lines+markers\", \"name\": \"TV Show: Year Added\", \"type\": \"scatter\", \"x\": [2011, 2012, 2013, 2014, 2015, 2016, 2017, 2018, 2019, 2020, 2021], \"y\": [0, 0, 5, 6, 30, 185, 361, 430, 656, 697, 29]}],                        {\"template\": {\"data\": {\"bar\": [{\"error_x\": {\"color\": \"#2a3f5f\"}, \"error_y\": {\"color\": \"#2a3f5f\"}, \"marker\": {\"line\": {\"color\": \"#E5ECF6\", \"width\": 0.5}}, \"type\": \"bar\"}], \"barpolar\": [{\"marker\": {\"line\": {\"color\": \"#E5ECF6\", \"width\": 0.5}}, \"type\": \"barpolar\"}], \"carpet\": [{\"aaxis\": {\"endlinecolor\": \"#2a3f5f\", \"gridcolor\": \"white\", \"linecolor\": \"white\", \"minorgridcolor\": \"white\", \"startlinecolor\": \"#2a3f5f\"}, \"baxis\": {\"endlinecolor\": \"#2a3f5f\", \"gridcolor\": \"white\", \"linecolor\": \"white\", \"minorgridcolor\": \"white\", \"startlinecolor\": \"#2a3f5f\"}, \"type\": \"carpet\"}], \"choropleth\": [{\"colorbar\": {\"outlinewidth\": 0, \"ticks\": \"\"}, \"type\": \"choropleth\"}], \"contour\": [{\"colorbar\": {\"outlinewidth\": 0, \"ticks\": \"\"}, \"colorscale\": [[0.0, \"#0d0887\"], [0.1111111111111111, \"#46039f\"], [0.2222222222222222, \"#7201a8\"], [0.3333333333333333, \"#9c179e\"], [0.4444444444444444, \"#bd3786\"], [0.5555555555555556, \"#d8576b\"], [0.6666666666666666, \"#ed7953\"], [0.7777777777777778, \"#fb9f3a\"], [0.8888888888888888, \"#fdca26\"], [1.0, \"#f0f921\"]], \"type\": \"contour\"}], \"contourcarpet\": [{\"colorbar\": {\"outlinewidth\": 0, \"ticks\": \"\"}, \"type\": \"contourcarpet\"}], \"heatmap\": [{\"colorbar\": {\"outlinewidth\": 0, \"ticks\": \"\"}, \"colorscale\": [[0.0, \"#0d0887\"], [0.1111111111111111, \"#46039f\"], [0.2222222222222222, \"#7201a8\"], [0.3333333333333333, \"#9c179e\"], [0.4444444444444444, \"#bd3786\"], [0.5555555555555556, \"#d8576b\"], [0.6666666666666666, \"#ed7953\"], [0.7777777777777778, \"#fb9f3a\"], [0.8888888888888888, \"#fdca26\"], [1.0, \"#f0f921\"]], \"type\": \"heatmap\"}], \"heatmapgl\": [{\"colorbar\": {\"outlinewidth\": 0, \"ticks\": \"\"}, \"colorscale\": [[0.0, \"#0d0887\"], [0.1111111111111111, \"#46039f\"], [0.2222222222222222, \"#7201a8\"], [0.3333333333333333, \"#9c179e\"], [0.4444444444444444, \"#bd3786\"], [0.5555555555555556, \"#d8576b\"], [0.6666666666666666, \"#ed7953\"], [0.7777777777777778, \"#fb9f3a\"], [0.8888888888888888, \"#fdca26\"], [1.0, \"#f0f921\"]], \"type\": \"heatmapgl\"}], \"histogram\": [{\"marker\": {\"colorbar\": {\"outlinewidth\": 0, \"ticks\": \"\"}}, \"type\": \"histogram\"}], \"histogram2d\": [{\"colorbar\": {\"outlinewidth\": 0, \"ticks\": \"\"}, \"colorscale\": [[0.0, \"#0d0887\"], [0.1111111111111111, \"#46039f\"], [0.2222222222222222, \"#7201a8\"], [0.3333333333333333, \"#9c179e\"], [0.4444444444444444, \"#bd3786\"], [0.5555555555555556, \"#d8576b\"], [0.6666666666666666, \"#ed7953\"], [0.7777777777777778, \"#fb9f3a\"], [0.8888888888888888, \"#fdca26\"], [1.0, \"#f0f921\"]], \"type\": \"histogram2d\"}], \"histogram2dcontour\": [{\"colorbar\": {\"outlinewidth\": 0, \"ticks\": \"\"}, \"colorscale\": [[0.0, \"#0d0887\"], [0.1111111111111111, \"#46039f\"], [0.2222222222222222, \"#7201a8\"], [0.3333333333333333, \"#9c179e\"], [0.4444444444444444, \"#bd3786\"], [0.5555555555555556, \"#d8576b\"], [0.6666666666666666, \"#ed7953\"], [0.7777777777777778, \"#fb9f3a\"], [0.8888888888888888, \"#fdca26\"], [1.0, \"#f0f921\"]], \"type\": \"histogram2dcontour\"}], \"mesh3d\": [{\"colorbar\": {\"outlinewidth\": 0, \"ticks\": \"\"}, \"type\": \"mesh3d\"}], \"parcoords\": [{\"line\": {\"colorbar\": {\"outlinewidth\": 0, \"ticks\": \"\"}}, \"type\": \"parcoords\"}], \"pie\": [{\"automargin\": true, \"type\": \"pie\"}], \"scatter\": [{\"marker\": {\"colorbar\": {\"outlinewidth\": 0, \"ticks\": \"\"}}, \"type\": \"scatter\"}], \"scatter3d\": [{\"line\": {\"colorbar\": {\"outlinewidth\": 0, \"ticks\": \"\"}}, \"marker\": {\"colorbar\": {\"outlinewidth\": 0, \"ticks\": \"\"}}, \"type\": \"scatter3d\"}], \"scattercarpet\": [{\"marker\": {\"colorbar\": {\"outlinewidth\": 0, \"ticks\": \"\"}}, \"type\": \"scattercarpet\"}], \"scattergeo\": [{\"marker\": {\"colorbar\": {\"outlinewidth\": 0, \"ticks\": \"\"}}, \"type\": \"scattergeo\"}], \"scattergl\": [{\"marker\": {\"colorbar\": {\"outlinewidth\": 0, \"ticks\": \"\"}}, \"type\": \"scattergl\"}], \"scattermapbox\": [{\"marker\": {\"colorbar\": {\"outlinewidth\": 0, \"ticks\": \"\"}}, \"type\": \"scattermapbox\"}], \"scatterpolar\": [{\"marker\": {\"colorbar\": {\"outlinewidth\": 0, \"ticks\": \"\"}}, \"type\": \"scatterpolar\"}], \"scatterpolargl\": [{\"marker\": {\"colorbar\": {\"outlinewidth\": 0, \"ticks\": \"\"}}, \"type\": \"scatterpolargl\"}], \"scatterternary\": [{\"marker\": {\"colorbar\": {\"outlinewidth\": 0, \"ticks\": \"\"}}, \"type\": \"scatterternary\"}], \"surface\": [{\"colorbar\": {\"outlinewidth\": 0, \"ticks\": \"\"}, \"colorscale\": [[0.0, \"#0d0887\"], [0.1111111111111111, \"#46039f\"], [0.2222222222222222, \"#7201a8\"], [0.3333333333333333, \"#9c179e\"], [0.4444444444444444, \"#bd3786\"], [0.5555555555555556, \"#d8576b\"], [0.6666666666666666, \"#ed7953\"], [0.7777777777777778, \"#fb9f3a\"], [0.8888888888888888, \"#fdca26\"], [1.0, \"#f0f921\"]], \"type\": \"surface\"}], \"table\": [{\"cells\": {\"fill\": {\"color\": \"#EBF0F8\"}, \"line\": {\"color\": \"white\"}}, \"header\": {\"fill\": {\"color\": \"#C8D4E3\"}, \"line\": {\"color\": \"white\"}}, \"type\": \"table\"}]}, \"layout\": {\"annotationdefaults\": {\"arrowcolor\": \"#2a3f5f\", \"arrowhead\": 0, \"arrowwidth\": 1}, \"autotypenumbers\": \"strict\", \"coloraxis\": {\"colorbar\": {\"outlinewidth\": 0, \"ticks\": \"\"}}, \"colorscale\": {\"diverging\": [[0, \"#8e0152\"], [0.1, \"#c51b7d\"], [0.2, \"#de77ae\"], [0.3, \"#f1b6da\"], [0.4, \"#fde0ef\"], [0.5, \"#f7f7f7\"], [0.6, \"#e6f5d0\"], [0.7, \"#b8e186\"], [0.8, \"#7fbc41\"], [0.9, \"#4d9221\"], [1, \"#276419\"]], \"sequential\": [[0.0, \"#0d0887\"], [0.1111111111111111, \"#46039f\"], [0.2222222222222222, \"#7201a8\"], [0.3333333333333333, \"#9c179e\"], [0.4444444444444444, \"#bd3786\"], [0.5555555555555556, \"#d8576b\"], [0.6666666666666666, \"#ed7953\"], [0.7777777777777778, \"#fb9f3a\"], [0.8888888888888888, \"#fdca26\"], [1.0, \"#f0f921\"]], \"sequentialminus\": [[0.0, \"#0d0887\"], [0.1111111111111111, \"#46039f\"], [0.2222222222222222, \"#7201a8\"], [0.3333333333333333, \"#9c179e\"], [0.4444444444444444, \"#bd3786\"], [0.5555555555555556, \"#d8576b\"], [0.6666666666666666, \"#ed7953\"], [0.7777777777777778, \"#fb9f3a\"], [0.8888888888888888, \"#fdca26\"], [1.0, \"#f0f921\"]]}, \"colorway\": [\"#636efa\", \"#EF553B\", \"#00cc96\", \"#ab63fa\", \"#FFA15A\", \"#19d3f3\", \"#FF6692\", \"#B6E880\", \"#FF97FF\", \"#FECB52\"], \"font\": {\"color\": \"#2a3f5f\"}, \"geo\": {\"bgcolor\": \"white\", \"lakecolor\": \"white\", \"landcolor\": \"#E5ECF6\", \"showlakes\": true, \"showland\": true, \"subunitcolor\": \"white\"}, \"hoverlabel\": {\"align\": \"left\"}, \"hovermode\": \"closest\", \"mapbox\": {\"style\": \"light\"}, \"paper_bgcolor\": \"white\", \"plot_bgcolor\": \"#E5ECF6\", \"polar\": {\"angularaxis\": {\"gridcolor\": \"white\", \"linecolor\": \"white\", \"ticks\": \"\"}, \"bgcolor\": \"#E5ECF6\", \"radialaxis\": {\"gridcolor\": \"white\", \"linecolor\": \"white\", \"ticks\": \"\"}}, \"scene\": {\"xaxis\": {\"backgroundcolor\": \"#E5ECF6\", \"gridcolor\": \"white\", \"gridwidth\": 2, \"linecolor\": \"white\", \"showbackground\": true, \"ticks\": \"\", \"zerolinecolor\": \"white\"}, \"yaxis\": {\"backgroundcolor\": \"#E5ECF6\", \"gridcolor\": \"white\", \"gridwidth\": 2, \"linecolor\": \"white\", \"showbackground\": true, \"ticks\": \"\", \"zerolinecolor\": \"white\"}, \"zaxis\": {\"backgroundcolor\": \"#E5ECF6\", \"gridcolor\": \"white\", \"gridwidth\": 2, \"linecolor\": \"white\", \"showbackground\": true, \"ticks\": \"\", \"zerolinecolor\": \"white\"}}, \"shapedefaults\": {\"line\": {\"color\": \"#2a3f5f\"}}, \"ternary\": {\"aaxis\": {\"gridcolor\": \"white\", \"linecolor\": \"white\", \"ticks\": \"\"}, \"baxis\": {\"gridcolor\": \"white\", \"linecolor\": \"white\", \"ticks\": \"\"}, \"bgcolor\": \"#E5ECF6\", \"caxis\": {\"gridcolor\": \"white\", \"linecolor\": \"white\", \"ticks\": \"\"}}, \"title\": {\"x\": 0.05}, \"xaxis\": {\"automargin\": true, \"gridcolor\": \"white\", \"linecolor\": \"white\", \"ticks\": \"\", \"title\": {\"standoff\": 15}, \"zerolinecolor\": \"white\", \"zerolinewidth\": 2}, \"yaxis\": {\"automargin\": true, \"gridcolor\": \"white\", \"linecolor\": \"white\", \"ticks\": \"\", \"title\": {\"standoff\": 15}, \"zerolinecolor\": \"white\", \"zerolinewidth\": 2}}}, \"xaxis\": {\"categoryorder\": \"total descending\"}},                        {\"responsive\": true}                    ).then(function(){\n",
              "                            \n",
              "var gd = document.getElementById('895f9586-3585-4835-adca-e65828365550');\n",
              "var x = new MutationObserver(function (mutations, observer) {{\n",
              "        var display = window.getComputedStyle(gd).display;\n",
              "        if (!display || display === 'none') {{\n",
              "            console.log([gd, 'removed!']);\n",
              "            Plotly.purge(gd);\n",
              "            observer.disconnect();\n",
              "        }}\n",
              "}});\n",
              "\n",
              "// Listen for the removal of the full notebook cells\n",
              "var notebookContainer = gd.closest('#notebook-container');\n",
              "if (notebookContainer) {{\n",
              "    x.observe(notebookContainer, {childList: true});\n",
              "}}\n",
              "\n",
              "// Listen for the clearing of the current output cell\n",
              "var outputEl = gd.closest('.output');\n",
              "if (outputEl) {{\n",
              "    x.observe(outputEl, {childList: true});\n",
              "}}\n",
              "\n",
              "                        })                };                            </script>        </div>\n",
              "</body>\n",
              "</html>"
            ]
          },
          "metadata": {
            "tags": []
          }
        }
      ]
    },
    {
      "cell_type": "code",
      "metadata": {
        "papermill": {
          "duration": 0.514108,
          "end_time": "2021-02-08T10:54:08.990976",
          "exception": false,
          "start_time": "2021-02-08T10:54:08.476868",
          "status": "completed"
        },
        "tags": [],
        "colab": {
          "base_uri": "https://localhost:8080/",
          "height": 385
        },
        "id": "wSkoA4aCGb80",
        "outputId": "110470d2-abd4-4778-aeed-5a132a958fb3"
      },
      "source": [
        "from scipy.stats import norm\n",
        "\n",
        "sns.distplot(df.loc[df['release_year'] > 2000, 'release_year'], fit=norm, kde=False)"
      ],
      "execution_count": 35,
      "outputs": [
        {
          "output_type": "stream",
          "text": [
            "/usr/local/lib/python3.6/dist-packages/seaborn/distributions.py:2557: FutureWarning:\n",
            "\n",
            "`distplot` is a deprecated function and will be removed in a future version. Please adapt your code to use either `displot` (a figure-level function with similar flexibility) or `histplot` (an axes-level function for histograms).\n",
            "\n"
          ],
          "name": "stderr"
        },
        {
          "output_type": "execute_result",
          "data": {
            "text/plain": [
              "<matplotlib.axes._subplots.AxesSubplot at 0x7f23291a6e80>"
            ]
          },
          "metadata": {
            "tags": []
          },
          "execution_count": 35
        },
        {
          "output_type": "display_data",
          "data": {
            "image/png": "[encoded data removed]",
            "text/plain": [
              "<Figure size 432x288 with 1 Axes>"
            ]
          },
          "metadata": {
            "tags": [],
            "needs_background": "light"
          }
        }
      ]
    },
    {
      "cell_type": "markdown",
      "metadata": {
        "papermill": {
          "duration": 0.120723,
          "end_time": "2021-02-08T10:54:09.236818",
          "exception": false,
          "start_time": "2021-02-08T10:54:09.116095",
          "status": "completed"
        },
        "tags": [],
        "id": "MAykQ5y3Gb80"
      },
      "source": [
        "# Genres Analysis\n",
        "\n",
        "### Build dataframes for `type`s of content"
      ]
    },
    {
      "cell_type": "code",
      "metadata": {
        "papermill": {
          "duration": 0.202058,
          "end_time": "2021-02-08T10:54:09.561863",
          "exception": false,
          "start_time": "2021-02-08T10:54:09.359805",
          "status": "completed"
        },
        "tags": [],
        "id": "hsFVpTaqGb80"
      },
      "source": [
        "from sklearn.preprocessing import MultiLabelBinarizer "
      ],
      "execution_count": 36,
      "outputs": []
    },
    {
      "cell_type": "code",
      "metadata": {
        "papermill": {
          "duration": 0.130279,
          "end_time": "2021-02-08T10:54:09.815372",
          "exception": false,
          "start_time": "2021-02-08T10:54:09.685093",
          "status": "completed"
        },
        "tags": [],
        "id": "Gs8LsE8mGb80"
      },
      "source": [
        "def calculate_mlb(series):\n",
        "    mlb = MultiLabelBinarizer()\n",
        "    mlb_df = pd.DataFrame(mlb.fit_transform(series), columns=mlb.classes_, index=series.index)\n",
        "    return mlb_df"
      ],
      "execution_count": 37,
      "outputs": []
    },
    {
      "cell_type": "code",
      "metadata": {
        "papermill": {
          "duration": 0.135065,
          "end_time": "2021-02-08T10:54:10.073600",
          "exception": false,
          "start_time": "2021-02-08T10:54:09.938535",
          "status": "completed"
        },
        "tags": [],
        "id": "-f191GrKGb80"
      },
      "source": [
        "def top_genres(df, title='Top ones'):\n",
        "    genres_df = calculate_mlb(df['genre'])\n",
        "    tdata = genres_df.sum().sort_values(ascending=False)\n",
        "    \n",
        "    fig = go.Figure()\n",
        "    fig.add_trace(go.Bar(\n",
        "        x=tdata.index,\n",
        "        y=tdata.values,\n",
        "    ))\n",
        "    fig.update_xaxes(categoryorder='total descending')\n",
        "    fig.update_layout(title=title)\n",
        "    fig.show()"
      ],
      "execution_count": 38,
      "outputs": []
    },
    {
      "cell_type": "code",
      "metadata": {
        "papermill": {
          "duration": 0.156302,
          "end_time": "2021-02-08T10:54:10.352515",
          "exception": false,
          "start_time": "2021-02-08T10:54:10.196213",
          "status": "completed"
        },
        "tags": [],
        "colab": {
          "base_uri": "https://localhost:8080/",
          "height": 542
        },
        "id": "HlMUznotGb80",
        "outputId": "eb9fb945-450c-4a63-8e45-26bd4ac08d8c"
      },
      "source": [
        "top_genres(movie_df, title='Top Movies Genres')"
      ],
      "execution_count": 39,
      "outputs": [
        {
          "output_type": "display_data",
          "data": {
            "text/html": [
              "<html>\n",
              "<head><meta charset=\"utf-8\" /></head>\n",
              "<body>\n",
              "    <div>            <script src=\"https://cdnjs.cloudflare.com/ajax/libs/mathjax/2.7.5/MathJax.js?config=TeX-AMS-MML_SVG\"></script><script type=\"text/javascript\">if (window.MathJax) {MathJax.Hub.Config({SVG: {font: \"STIX-Web\"}});}</script>                <script type=\"text/javascript\">window.PlotlyConfig = {MathJaxConfig: 'local'};</script>\n",
              "        <script src=\"https://cdn.plot.ly/plotly-latest.min.js\"></script>                <div id=\"9d7cf4d3-b9cf-4bc8-a7a4-c09ed6ba42a1\" class=\"plotly-graph-div\" style=\"height:525px; width:100%;\"></div>            <script type=\"text/javascript\">                                    window.PLOTLYENV=window.PLOTLYENV || {};                                    if (document.getElementById(\"9d7cf4d3-b9cf-4bc8-a7a4-c09ed6ba42a1\")) {                    Plotly.newPlot(                        \"9d7cf4d3-b9cf-4bc8-a7a4-c09ed6ba42a1\",                        [{\"type\": \"bar\", \"x\": [\"International Movies\", \"Dramas\", \"Comedies\", \"Documentaries\", \"Action & Adventure\", \"Independent Movies\", \"Children & Family Movies\", \"Romantic Movies\", \"Thrillers\", \"Stand-Up Comedy\", \"Music & Musicals\", \"Horror Movies\", \"Sci-Fi & Fantasy\", \"Sports Movies\", \"Classic Movies\", \"LGBTQ Movies\", \"Cult Movies\", \"Faith & Spirituality\", \"Anime Features\", \"Movies\"], \"y\": [2437, 2106, 1471, 786, 721, 673, 532, 531, 491, 329, 321, 312, 218, 196, 103, 90, 59, 57, 57, 56]}],                        {\"template\": {\"data\": {\"bar\": [{\"error_x\": {\"color\": \"#2a3f5f\"}, \"error_y\": {\"color\": \"#2a3f5f\"}, \"marker\": {\"line\": {\"color\": \"#E5ECF6\", \"width\": 0.5}}, \"type\": \"bar\"}], \"barpolar\": [{\"marker\": {\"line\": {\"color\": \"#E5ECF6\", \"width\": 0.5}}, \"type\": \"barpolar\"}], \"carpet\": [{\"aaxis\": {\"endlinecolor\": \"#2a3f5f\", \"gridcolor\": \"white\", \"linecolor\": \"white\", \"minorgridcolor\": \"white\", \"startlinecolor\": \"#2a3f5f\"}, \"baxis\": {\"endlinecolor\": \"#2a3f5f\", \"gridcolor\": \"white\", \"linecolor\": \"white\", \"minorgridcolor\": \"white\", \"startlinecolor\": \"#2a3f5f\"}, \"type\": \"carpet\"}], \"choropleth\": [{\"colorbar\": {\"outlinewidth\": 0, \"ticks\": \"\"}, \"type\": \"choropleth\"}], \"contour\": [{\"colorbar\": {\"outlinewidth\": 0, \"ticks\": \"\"}, \"colorscale\": [[0.0, \"#0d0887\"], [0.1111111111111111, \"#46039f\"], [0.2222222222222222, \"#7201a8\"], [0.3333333333333333, \"#9c179e\"], [0.4444444444444444, \"#bd3786\"], [0.5555555555555556, \"#d8576b\"], [0.6666666666666666, \"#ed7953\"], [0.7777777777777778, \"#fb9f3a\"], [0.8888888888888888, \"#fdca26\"], [1.0, \"#f0f921\"]], \"type\": \"contour\"}], \"contourcarpet\": [{\"colorbar\": {\"outlinewidth\": 0, \"ticks\": \"\"}, \"type\": \"contourcarpet\"}], \"heatmap\": [{\"colorbar\": {\"outlinewidth\": 0, \"ticks\": \"\"}, \"colorscale\": [[0.0, \"#0d0887\"], [0.1111111111111111, \"#46039f\"], [0.2222222222222222, \"#7201a8\"], [0.3333333333333333, \"#9c179e\"], [0.4444444444444444, \"#bd3786\"], [0.5555555555555556, \"#d8576b\"], [0.6666666666666666, \"#ed7953\"], [0.7777777777777778, \"#fb9f3a\"], [0.8888888888888888, \"#fdca26\"], [1.0, \"#f0f921\"]], \"type\": \"heatmap\"}], \"heatmapgl\": [{\"colorbar\": {\"outlinewidth\": 0, \"ticks\": \"\"}, \"colorscale\": [[0.0, \"#0d0887\"], [0.1111111111111111, \"#46039f\"], [0.2222222222222222, \"#7201a8\"], [0.3333333333333333, \"#9c179e\"], [0.4444444444444444, \"#bd3786\"], [0.5555555555555556, \"#d8576b\"], [0.6666666666666666, \"#ed7953\"], [0.7777777777777778, \"#fb9f3a\"], [0.8888888888888888, \"#fdca26\"], [1.0, \"#f0f921\"]], \"type\": \"heatmapgl\"}], \"histogram\": [{\"marker\": {\"colorbar\": {\"outlinewidth\": 0, \"ticks\": \"\"}}, \"type\": \"histogram\"}], \"histogram2d\": [{\"colorbar\": {\"outlinewidth\": 0, \"ticks\": \"\"}, \"colorscale\": [[0.0, \"#0d0887\"], [0.1111111111111111, \"#46039f\"], [0.2222222222222222, \"#7201a8\"], [0.3333333333333333, \"#9c179e\"], [0.4444444444444444, \"#bd3786\"], [0.5555555555555556, \"#d8576b\"], [0.6666666666666666, \"#ed7953\"], [0.7777777777777778, \"#fb9f3a\"], [0.8888888888888888, \"#fdca26\"], [1.0, \"#f0f921\"]], \"type\": \"histogram2d\"}], \"histogram2dcontour\": [{\"colorbar\": {\"outlinewidth\": 0, \"ticks\": \"\"}, \"colorscale\": [[0.0, \"#0d0887\"], [0.1111111111111111, \"#46039f\"], [0.2222222222222222, \"#7201a8\"], [0.3333333333333333, \"#9c179e\"], [0.4444444444444444, \"#bd3786\"], [0.5555555555555556, \"#d8576b\"], [0.6666666666666666, \"#ed7953\"], [0.7777777777777778, \"#fb9f3a\"], [0.8888888888888888, \"#fdca26\"], [1.0, \"#f0f921\"]], \"type\": \"histogram2dcontour\"}], \"mesh3d\": [{\"colorbar\": {\"outlinewidth\": 0, \"ticks\": \"\"}, \"type\": \"mesh3d\"}], \"parcoords\": [{\"line\": {\"colorbar\": {\"outlinewidth\": 0, \"ticks\": \"\"}}, \"type\": \"parcoords\"}], \"pie\": [{\"automargin\": true, \"type\": \"pie\"}], \"scatter\": [{\"marker\": {\"colorbar\": {\"outlinewidth\": 0, \"ticks\": \"\"}}, \"type\": \"scatter\"}], \"scatter3d\": [{\"line\": {\"colorbar\": {\"outlinewidth\": 0, \"ticks\": \"\"}}, \"marker\": {\"colorbar\": {\"outlinewidth\": 0, \"ticks\": \"\"}}, \"type\": \"scatter3d\"}], \"scattercarpet\": [{\"marker\": {\"colorbar\": {\"outlinewidth\": 0, \"ticks\": \"\"}}, \"type\": \"scattercarpet\"}], \"scattergeo\": [{\"marker\": {\"colorbar\": {\"outlinewidth\": 0, \"ticks\": \"\"}}, \"type\": \"scattergeo\"}], \"scattergl\": [{\"marker\": {\"colorbar\": {\"outlinewidth\": 0, \"ticks\": \"\"}}, \"type\": \"scattergl\"}], \"scattermapbox\": [{\"marker\": {\"colorbar\": {\"outlinewidth\": 0, \"ticks\": \"\"}}, \"type\": \"scattermapbox\"}], \"scatterpolar\": [{\"marker\": {\"colorbar\": {\"outlinewidth\": 0, \"ticks\": \"\"}}, \"type\": \"scatterpolar\"}], \"scatterpolargl\": [{\"marker\": {\"colorbar\": {\"outlinewidth\": 0, \"ticks\": \"\"}}, \"type\": \"scatterpolargl\"}], \"scatterternary\": [{\"marker\": {\"colorbar\": {\"outlinewidth\": 0, \"ticks\": \"\"}}, \"type\": \"scatterternary\"}], \"surface\": [{\"colorbar\": {\"outlinewidth\": 0, \"ticks\": \"\"}, \"colorscale\": [[0.0, \"#0d0887\"], [0.1111111111111111, \"#46039f\"], [0.2222222222222222, \"#7201a8\"], [0.3333333333333333, \"#9c179e\"], [0.4444444444444444, \"#bd3786\"], [0.5555555555555556, \"#d8576b\"], [0.6666666666666666, \"#ed7953\"], [0.7777777777777778, \"#fb9f3a\"], [0.8888888888888888, \"#fdca26\"], [1.0, \"#f0f921\"]], \"type\": \"surface\"}], \"table\": [{\"cells\": {\"fill\": {\"color\": \"#EBF0F8\"}, \"line\": {\"color\": \"white\"}}, \"header\": {\"fill\": {\"color\": \"#C8D4E3\"}, \"line\": {\"color\": \"white\"}}, \"type\": \"table\"}]}, \"layout\": {\"annotationdefaults\": {\"arrowcolor\": \"#2a3f5f\", \"arrowhead\": 0, \"arrowwidth\": 1}, \"autotypenumbers\": \"strict\", \"coloraxis\": {\"colorbar\": {\"outlinewidth\": 0, \"ticks\": \"\"}}, \"colorscale\": {\"diverging\": [[0, \"#8e0152\"], [0.1, \"#c51b7d\"], [0.2, \"#de77ae\"], [0.3, \"#f1b6da\"], [0.4, \"#fde0ef\"], [0.5, \"#f7f7f7\"], [0.6, \"#e6f5d0\"], [0.7, \"#b8e186\"], [0.8, \"#7fbc41\"], [0.9, \"#4d9221\"], [1, \"#276419\"]], \"sequential\": [[0.0, \"#0d0887\"], [0.1111111111111111, \"#46039f\"], [0.2222222222222222, \"#7201a8\"], [0.3333333333333333, \"#9c179e\"], [0.4444444444444444, \"#bd3786\"], [0.5555555555555556, \"#d8576b\"], [0.6666666666666666, \"#ed7953\"], [0.7777777777777778, \"#fb9f3a\"], [0.8888888888888888, \"#fdca26\"], [1.0, \"#f0f921\"]], \"sequentialminus\": [[0.0, \"#0d0887\"], [0.1111111111111111, \"#46039f\"], [0.2222222222222222, \"#7201a8\"], [0.3333333333333333, \"#9c179e\"], [0.4444444444444444, \"#bd3786\"], [0.5555555555555556, \"#d8576b\"], [0.6666666666666666, \"#ed7953\"], [0.7777777777777778, \"#fb9f3a\"], [0.8888888888888888, \"#fdca26\"], [1.0, \"#f0f921\"]]}, \"colorway\": [\"#636efa\", \"#EF553B\", \"#00cc96\", \"#ab63fa\", \"#FFA15A\", \"#19d3f3\", \"#FF6692\", \"#B6E880\", \"#FF97FF\", \"#FECB52\"], \"font\": {\"color\": \"#2a3f5f\"}, \"geo\": {\"bgcolor\": \"white\", \"lakecolor\": \"white\", \"landcolor\": \"#E5ECF6\", \"showlakes\": true, \"showland\": true, \"subunitcolor\": \"white\"}, \"hoverlabel\": {\"align\": \"left\"}, \"hovermode\": \"closest\", \"mapbox\": {\"style\": \"light\"}, \"paper_bgcolor\": \"white\", \"plot_bgcolor\": \"#E5ECF6\", \"polar\": {\"angularaxis\": {\"gridcolor\": \"white\", \"linecolor\": \"white\", \"ticks\": \"\"}, \"bgcolor\": \"#E5ECF6\", \"radialaxis\": {\"gridcolor\": \"white\", \"linecolor\": \"white\", \"ticks\": \"\"}}, \"scene\": {\"xaxis\": {\"backgroundcolor\": \"#E5ECF6\", \"gridcolor\": \"white\", \"gridwidth\": 2, \"linecolor\": \"white\", \"showbackground\": true, \"ticks\": \"\", \"zerolinecolor\": \"white\"}, \"yaxis\": {\"backgroundcolor\": \"#E5ECF6\", \"gridcolor\": \"white\", \"gridwidth\": 2, \"linecolor\": \"white\", \"showbackground\": true, \"ticks\": \"\", \"zerolinecolor\": \"white\"}, \"zaxis\": {\"backgroundcolor\": \"#E5ECF6\", \"gridcolor\": \"white\", \"gridwidth\": 2, \"linecolor\": \"white\", \"showbackground\": true, \"ticks\": \"\", \"zerolinecolor\": \"white\"}}, \"shapedefaults\": {\"line\": {\"color\": \"#2a3f5f\"}}, \"ternary\": {\"aaxis\": {\"gridcolor\": \"white\", \"linecolor\": \"white\", \"ticks\": \"\"}, \"baxis\": {\"gridcolor\": \"white\", \"linecolor\": \"white\", \"ticks\": \"\"}, \"bgcolor\": \"#E5ECF6\", \"caxis\": {\"gridcolor\": \"white\", \"linecolor\": \"white\", \"ticks\": \"\"}}, \"title\": {\"x\": 0.05}, \"xaxis\": {\"automargin\": true, \"gridcolor\": \"white\", \"linecolor\": \"white\", \"ticks\": \"\", \"title\": {\"standoff\": 15}, \"zerolinecolor\": \"white\", \"zerolinewidth\": 2}, \"yaxis\": {\"automargin\": true, \"gridcolor\": \"white\", \"linecolor\": \"white\", \"ticks\": \"\", \"title\": {\"standoff\": 15}, \"zerolinecolor\": \"white\", \"zerolinewidth\": 2}}}, \"title\": {\"text\": \"Top Movies Genres\"}, \"xaxis\": {\"categoryorder\": \"total descending\"}},                        {\"responsive\": true}                    ).then(function(){\n",
              "                            \n",
              "var gd = document.getElementById('9d7cf4d3-b9cf-4bc8-a7a4-c09ed6ba42a1');\n",
              "var x = new MutationObserver(function (mutations, observer) {{\n",
              "        var display = window.getComputedStyle(gd).display;\n",
              "        if (!display || display === 'none') {{\n",
              "            console.log([gd, 'removed!']);\n",
              "            Plotly.purge(gd);\n",
              "            observer.disconnect();\n",
              "        }}\n",
              "}});\n",
              "\n",
              "// Listen for the removal of the full notebook cells\n",
              "var notebookContainer = gd.closest('#notebook-container');\n",
              "if (notebookContainer) {{\n",
              "    x.observe(notebookContainer, {childList: true});\n",
              "}}\n",
              "\n",
              "// Listen for the clearing of the current output cell\n",
              "var outputEl = gd.closest('.output');\n",
              "if (outputEl) {{\n",
              "    x.observe(outputEl, {childList: true});\n",
              "}}\n",
              "\n",
              "                        })                };                            </script>        </div>\n",
              "</body>\n",
              "</html>"
            ]
          },
          "metadata": {
            "tags": []
          }
        }
      ]
    },
    {
      "cell_type": "code",
      "metadata": {
        "papermill": {
          "duration": 0.128791,
          "end_time": "2021-02-08T10:54:10.605629",
          "exception": false,
          "start_time": "2021-02-08T10:54:10.476838",
          "status": "completed"
        },
        "tags": [],
        "id": "ExDAU6XvGb80"
      },
      "source": [
        "top_movies_genres = [\n",
        "    'International Movies',\n",
        "    'Dramas',\n",
        "    'Comedies',\n",
        "    'Documentaries',\n",
        "    'Action & Adventure',\n",
        "]"
      ],
      "execution_count": 40,
      "outputs": []
    },
    {
      "cell_type": "code",
      "metadata": {
        "papermill": {
          "duration": 0.146202,
          "end_time": "2021-02-08T10:54:10.877224",
          "exception": false,
          "start_time": "2021-02-08T10:54:10.731022",
          "status": "completed"
        },
        "tags": [],
        "colab": {
          "base_uri": "https://localhost:8080/",
          "height": 542
        },
        "id": "7CxINqm7Gb80",
        "outputId": "ca1dda4e-3a74-4259-a381-c3eb0e34151d"
      },
      "source": [
        "top_genres(show_df, title='Top TV Shows Genres')"
      ],
      "execution_count": 41,
      "outputs": [
        {
          "output_type": "display_data",
          "data": {
            "text/html": [
              "<html>\n",
              "<head><meta charset=\"utf-8\" /></head>\n",
              "<body>\n",
              "    <div>            <script src=\"https://cdnjs.cloudflare.com/ajax/libs/mathjax/2.7.5/MathJax.js?config=TeX-AMS-MML_SVG\"></script><script type=\"text/javascript\">if (window.MathJax) {MathJax.Hub.Config({SVG: {font: \"STIX-Web\"}});}</script>                <script type=\"text/javascript\">window.PlotlyConfig = {MathJaxConfig: 'local'};</script>\n",
              "        <script src=\"https://cdn.plot.ly/plotly-latest.min.js\"></script>                <div id=\"51f5f388-31e3-427a-8b8c-ac6d6380019b\" class=\"plotly-graph-div\" style=\"height:525px; width:100%;\"></div>            <script type=\"text/javascript\">                                    window.PLOTLYENV=window.PLOTLYENV || {};                                    if (document.getElementById(\"51f5f388-31e3-427a-8b8c-ac6d6380019b\")) {                    Plotly.newPlot(                        \"51f5f388-31e3-427a-8b8c-ac6d6380019b\",                        [{\"type\": \"bar\", \"x\": [\"International TV Shows\", \"TV Dramas\", \"TV Comedies\", \"Crime TV Shows\", \"Kids' TV\", \"Docuseries\", \"Romantic TV Shows\", \"British TV Shows\", \"Reality TV\", \"Korean TV Shows\", \"TV Action & Adventure\", \"Anime Series\", \"Spanish-Language TV Shows\", \"TV Mysteries\", \"Science & Nature TV\", \"TV Sci-Fi & Fantasy\", \"TV Horror\", \"Teen TV Shows\", \"Stand-Up Comedy & Talk Shows\", \"TV Thrillers\", \"Classic & Cult TV\", \"TV Shows\"], \"y\": [1198, 703, 518, 426, 412, 352, 333, 231, 222, 150, 149, 147, 146, 90, 85, 75, 69, 60, 52, 50, 25, 12]}],                        {\"template\": {\"data\": {\"bar\": [{\"error_x\": {\"color\": \"#2a3f5f\"}, \"error_y\": {\"color\": \"#2a3f5f\"}, \"marker\": {\"line\": {\"color\": \"#E5ECF6\", \"width\": 0.5}}, \"type\": \"bar\"}], \"barpolar\": [{\"marker\": {\"line\": {\"color\": \"#E5ECF6\", \"width\": 0.5}}, \"type\": \"barpolar\"}], \"carpet\": [{\"aaxis\": {\"endlinecolor\": \"#2a3f5f\", \"gridcolor\": \"white\", \"linecolor\": \"white\", \"minorgridcolor\": \"white\", \"startlinecolor\": \"#2a3f5f\"}, \"baxis\": {\"endlinecolor\": \"#2a3f5f\", \"gridcolor\": \"white\", \"linecolor\": \"white\", \"minorgridcolor\": \"white\", \"startlinecolor\": \"#2a3f5f\"}, \"type\": \"carpet\"}], \"choropleth\": [{\"colorbar\": {\"outlinewidth\": 0, \"ticks\": \"\"}, \"type\": \"choropleth\"}], \"contour\": [{\"colorbar\": {\"outlinewidth\": 0, \"ticks\": \"\"}, \"colorscale\": [[0.0, \"#0d0887\"], [0.1111111111111111, \"#46039f\"], [0.2222222222222222, \"#7201a8\"], [0.3333333333333333, \"#9c179e\"], [0.4444444444444444, \"#bd3786\"], [0.5555555555555556, \"#d8576b\"], [0.6666666666666666, \"#ed7953\"], [0.7777777777777778, \"#fb9f3a\"], [0.8888888888888888, \"#fdca26\"], [1.0, \"#f0f921\"]], \"type\": \"contour\"}], \"contourcarpet\": [{\"colorbar\": {\"outlinewidth\": 0, \"ticks\": \"\"}, \"type\": \"contourcarpet\"}], \"heatmap\": [{\"colorbar\": {\"outlinewidth\": 0, \"ticks\": \"\"}, \"colorscale\": [[0.0, \"#0d0887\"], [0.1111111111111111, \"#46039f\"], [0.2222222222222222, \"#7201a8\"], [0.3333333333333333, \"#9c179e\"], [0.4444444444444444, \"#bd3786\"], [0.5555555555555556, \"#d8576b\"], [0.6666666666666666, \"#ed7953\"], [0.7777777777777778, \"#fb9f3a\"], [0.8888888888888888, \"#fdca26\"], [1.0, \"#f0f921\"]], \"type\": \"heatmap\"}], \"heatmapgl\": [{\"colorbar\": {\"outlinewidth\": 0, \"ticks\": \"\"}, \"colorscale\": [[0.0, \"#0d0887\"], [0.1111111111111111, \"#46039f\"], [0.2222222222222222, \"#7201a8\"], [0.3333333333333333, \"#9c179e\"], [0.4444444444444444, \"#bd3786\"], [0.5555555555555556, \"#d8576b\"], [0.6666666666666666, \"#ed7953\"], [0.7777777777777778, \"#fb9f3a\"], [0.8888888888888888, \"#fdca26\"], [1.0, \"#f0f921\"]], \"type\": \"heatmapgl\"}], \"histogram\": [{\"marker\": {\"colorbar\": {\"outlinewidth\": 0, \"ticks\": \"\"}}, \"type\": \"histogram\"}], \"histogram2d\": [{\"colorbar\": {\"outlinewidth\": 0, \"ticks\": \"\"}, \"colorscale\": [[0.0, \"#0d0887\"], [0.1111111111111111, \"#46039f\"], [0.2222222222222222, \"#7201a8\"], [0.3333333333333333, \"#9c179e\"], [0.4444444444444444, \"#bd3786\"], [0.5555555555555556, \"#d8576b\"], [0.6666666666666666, \"#ed7953\"], [0.7777777777777778, \"#fb9f3a\"], [0.8888888888888888, \"#fdca26\"], [1.0, \"#f0f921\"]], \"type\": \"histogram2d\"}], \"histogram2dcontour\": [{\"colorbar\": {\"outlinewidth\": 0, \"ticks\": \"\"}, \"colorscale\": [[0.0, \"#0d0887\"], [0.1111111111111111, \"#46039f\"], [0.2222222222222222, \"#7201a8\"], [0.3333333333333333, \"#9c179e\"], [0.4444444444444444, \"#bd3786\"], [0.5555555555555556, \"#d8576b\"], [0.6666666666666666, \"#ed7953\"], [0.7777777777777778, \"#fb9f3a\"], [0.8888888888888888, \"#fdca26\"], [1.0, \"#f0f921\"]], \"type\": \"histogram2dcontour\"}], \"mesh3d\": [{\"colorbar\": {\"outlinewidth\": 0, \"ticks\": \"\"}, \"type\": \"mesh3d\"}], \"parcoords\": [{\"line\": {\"colorbar\": {\"outlinewidth\": 0, \"ticks\": \"\"}}, \"type\": \"parcoords\"}], \"pie\": [{\"automargin\": true, \"type\": \"pie\"}], \"scatter\": [{\"marker\": {\"colorbar\": {\"outlinewidth\": 0, \"ticks\": \"\"}}, \"type\": \"scatter\"}], \"scatter3d\": [{\"line\": {\"colorbar\": {\"outlinewidth\": 0, \"ticks\": \"\"}}, \"marker\": {\"colorbar\": {\"outlinewidth\": 0, \"ticks\": \"\"}}, \"type\": \"scatter3d\"}], \"scattercarpet\": [{\"marker\": {\"colorbar\": {\"outlinewidth\": 0, \"ticks\": \"\"}}, \"type\": \"scattercarpet\"}], \"scattergeo\": [{\"marker\": {\"colorbar\": {\"outlinewidth\": 0, \"ticks\": \"\"}}, \"type\": \"scattergeo\"}], \"scattergl\": [{\"marker\": {\"colorbar\": {\"outlinewidth\": 0, \"ticks\": \"\"}}, \"type\": \"scattergl\"}], \"scattermapbox\": [{\"marker\": {\"colorbar\": {\"outlinewidth\": 0, \"ticks\": \"\"}}, \"type\": \"scattermapbox\"}], \"scatterpolar\": [{\"marker\": {\"colorbar\": {\"outlinewidth\": 0, \"ticks\": \"\"}}, \"type\": \"scatterpolar\"}], \"scatterpolargl\": [{\"marker\": {\"colorbar\": {\"outlinewidth\": 0, \"ticks\": \"\"}}, \"type\": \"scatterpolargl\"}], \"scatterternary\": [{\"marker\": {\"colorbar\": {\"outlinewidth\": 0, \"ticks\": \"\"}}, \"type\": \"scatterternary\"}], \"surface\": [{\"colorbar\": {\"outlinewidth\": 0, \"ticks\": \"\"}, \"colorscale\": [[0.0, \"#0d0887\"], [0.1111111111111111, \"#46039f\"], [0.2222222222222222, \"#7201a8\"], [0.3333333333333333, \"#9c179e\"], [0.4444444444444444, \"#bd3786\"], [0.5555555555555556, \"#d8576b\"], [0.6666666666666666, \"#ed7953\"], [0.7777777777777778, \"#fb9f3a\"], [0.8888888888888888, \"#fdca26\"], [1.0, \"#f0f921\"]], \"type\": \"surface\"}], \"table\": [{\"cells\": {\"fill\": {\"color\": \"#EBF0F8\"}, \"line\": {\"color\": \"white\"}}, \"header\": {\"fill\": {\"color\": \"#C8D4E3\"}, \"line\": {\"color\": \"white\"}}, \"type\": \"table\"}]}, \"layout\": {\"annotationdefaults\": {\"arrowcolor\": \"#2a3f5f\", \"arrowhead\": 0, \"arrowwidth\": 1}, \"autotypenumbers\": \"strict\", \"coloraxis\": {\"colorbar\": {\"outlinewidth\": 0, \"ticks\": \"\"}}, \"colorscale\": {\"diverging\": [[0, \"#8e0152\"], [0.1, \"#c51b7d\"], [0.2, \"#de77ae\"], [0.3, \"#f1b6da\"], [0.4, \"#fde0ef\"], [0.5, \"#f7f7f7\"], [0.6, \"#e6f5d0\"], [0.7, \"#b8e186\"], [0.8, \"#7fbc41\"], [0.9, \"#4d9221\"], [1, \"#276419\"]], \"sequential\": [[0.0, \"#0d0887\"], [0.1111111111111111, \"#46039f\"], [0.2222222222222222, \"#7201a8\"], [0.3333333333333333, \"#9c179e\"], [0.4444444444444444, \"#bd3786\"], [0.5555555555555556, \"#d8576b\"], [0.6666666666666666, \"#ed7953\"], [0.7777777777777778, \"#fb9f3a\"], [0.8888888888888888, \"#fdca26\"], [1.0, \"#f0f921\"]], \"sequentialminus\": [[0.0, \"#0d0887\"], [0.1111111111111111, \"#46039f\"], [0.2222222222222222, \"#7201a8\"], [0.3333333333333333, \"#9c179e\"], [0.4444444444444444, \"#bd3786\"], [0.5555555555555556, \"#d8576b\"], [0.6666666666666666, \"#ed7953\"], [0.7777777777777778, \"#fb9f3a\"], [0.8888888888888888, \"#fdca26\"], [1.0, \"#f0f921\"]]}, \"colorway\": [\"#636efa\", \"#EF553B\", \"#00cc96\", \"#ab63fa\", \"#FFA15A\", \"#19d3f3\", \"#FF6692\", \"#B6E880\", \"#FF97FF\", \"#FECB52\"], \"font\": {\"color\": \"#2a3f5f\"}, \"geo\": {\"bgcolor\": \"white\", \"lakecolor\": \"white\", \"landcolor\": \"#E5ECF6\", \"showlakes\": true, \"showland\": true, \"subunitcolor\": \"white\"}, \"hoverlabel\": {\"align\": \"left\"}, \"hovermode\": \"closest\", \"mapbox\": {\"style\": \"light\"}, \"paper_bgcolor\": \"white\", \"plot_bgcolor\": \"#E5ECF6\", \"polar\": {\"angularaxis\": {\"gridcolor\": \"white\", \"linecolor\": \"white\", \"ticks\": \"\"}, \"bgcolor\": \"#E5ECF6\", \"radialaxis\": {\"gridcolor\": \"white\", \"linecolor\": \"white\", \"ticks\": \"\"}}, \"scene\": {\"xaxis\": {\"backgroundcolor\": \"#E5ECF6\", \"gridcolor\": \"white\", \"gridwidth\": 2, \"linecolor\": \"white\", \"showbackground\": true, \"ticks\": \"\", \"zerolinecolor\": \"white\"}, \"yaxis\": {\"backgroundcolor\": \"#E5ECF6\", \"gridcolor\": \"white\", \"gridwidth\": 2, \"linecolor\": \"white\", \"showbackground\": true, \"ticks\": \"\", \"zerolinecolor\": \"white\"}, \"zaxis\": {\"backgroundcolor\": \"#E5ECF6\", \"gridcolor\": \"white\", \"gridwidth\": 2, \"linecolor\": \"white\", \"showbackground\": true, \"ticks\": \"\", \"zerolinecolor\": \"white\"}}, \"shapedefaults\": {\"line\": {\"color\": \"#2a3f5f\"}}, \"ternary\": {\"aaxis\": {\"gridcolor\": \"white\", \"linecolor\": \"white\", \"ticks\": \"\"}, \"baxis\": {\"gridcolor\": \"white\", \"linecolor\": \"white\", \"ticks\": \"\"}, \"bgcolor\": \"#E5ECF6\", \"caxis\": {\"gridcolor\": \"white\", \"linecolor\": \"white\", \"ticks\": \"\"}}, \"title\": {\"x\": 0.05}, \"xaxis\": {\"automargin\": true, \"gridcolor\": \"white\", \"linecolor\": \"white\", \"ticks\": \"\", \"title\": {\"standoff\": 15}, \"zerolinecolor\": \"white\", \"zerolinewidth\": 2}, \"yaxis\": {\"automargin\": true, \"gridcolor\": \"white\", \"linecolor\": \"white\", \"ticks\": \"\", \"title\": {\"standoff\": 15}, \"zerolinecolor\": \"white\", \"zerolinewidth\": 2}}}, \"title\": {\"text\": \"Top TV Shows Genres\"}, \"xaxis\": {\"categoryorder\": \"total descending\"}},                        {\"responsive\": true}                    ).then(function(){\n",
              "                            \n",
              "var gd = document.getElementById('51f5f388-31e3-427a-8b8c-ac6d6380019b');\n",
              "var x = new MutationObserver(function (mutations, observer) {{\n",
              "        var display = window.getComputedStyle(gd).display;\n",
              "        if (!display || display === 'none') {{\n",
              "            console.log([gd, 'removed!']);\n",
              "            Plotly.purge(gd);\n",
              "            observer.disconnect();\n",
              "        }}\n",
              "}});\n",
              "\n",
              "// Listen for the removal of the full notebook cells\n",
              "var notebookContainer = gd.closest('#notebook-container');\n",
              "if (notebookContainer) {{\n",
              "    x.observe(notebookContainer, {childList: true});\n",
              "}}\n",
              "\n",
              "// Listen for the clearing of the current output cell\n",
              "var outputEl = gd.closest('.output');\n",
              "if (outputEl) {{\n",
              "    x.observe(outputEl, {childList: true});\n",
              "}}\n",
              "\n",
              "                        })                };                            </script>        </div>\n",
              "</body>\n",
              "</html>"
            ]
          },
          "metadata": {
            "tags": []
          }
        }
      ]
    },
    {
      "cell_type": "code",
      "metadata": {
        "papermill": {
          "duration": 0.696302,
          "end_time": "2021-02-08T10:54:11.701814",
          "exception": false,
          "start_time": "2021-02-08T10:54:11.005512",
          "status": "completed"
        },
        "tags": [],
        "colab": {
          "base_uri": "https://localhost:8080/",
          "height": 544
        },
        "id": "KG63TdKJGb80",
        "outputId": "e6727d81-9fd6-4576-f065-0febb4ffdcbd"
      },
      "source": [
        "genres_df = calculate_mlb(movie_df['genre'])\n",
        "\n",
        "movie_corr = genres_df.corr()\n",
        "movie_mask = np.zeros_like(movie_corr, dtype=np.bool)\n",
        "movie_mask[np.triu_indices_from(movie_mask)] = True\n",
        "fig, ax = plt.subplots(figsize=(10, 7))\n",
        "pl = sns.heatmap(movie_corr, mask=movie_mask, cmap= \"coolwarm\", vmax=.5, vmin=-.5, center=0, linewidths=.5,\n",
        "                 cbar_kws={\"shrink\": 0.6})\n",
        "plt.show()"
      ],
      "execution_count": 42,
      "outputs": [
        {
          "output_type": "display_data",
          "data": {
            "image/png": "[encoded data removed]",
            "text/plain": [
              "<Figure size 720x504 with 2 Axes>"
            ]
          },
          "metadata": {
            "tags": [],
            "needs_background": "light"
          }
        }
      ]
    },
    {
      "cell_type": "code",
      "metadata": {
        "papermill": {
          "duration": 0.766082,
          "end_time": "2021-02-08T10:54:12.598693",
          "exception": false,
          "start_time": "2021-02-08T10:54:11.832611",
          "status": "completed"
        },
        "tags": [],
        "colab": {
          "base_uri": "https://localhost:8080/",
          "height": 577
        },
        "id": "b9Muron-Gb80",
        "outputId": "e99a66fc-6e7a-4697-b51b-879aefc557b9"
      },
      "source": [
        "genres_df = calculate_mlb(show_df['genre'])\n",
        "\n",
        "show_corr = genres_df.corr()\n",
        "show_mask = np.zeros_like(show_corr, dtype=np.bool)\n",
        "show_mask[np.triu_indices_from(show_mask)] = True\n",
        "fig, ax = plt.subplots(figsize=(10, 7))\n",
        "pl = sns.heatmap(show_corr, mask=show_mask, cmap= \"coolwarm\", vmax=.5, vmin=-.5, center=0, linewidths=.5,\n",
        "                 cbar_kws={\"shrink\": 0.6})\n",
        "plt.show()"
      ],
      "execution_count": 43,
      "outputs": [
        {
          "output_type": "display_data",
          "data": {
            "image/png": "[encoded data removed]",
            "text/plain": [
              "<Figure size 720x504 with 2 Axes>"
            ]
          },
          "metadata": {
            "tags": [],
            "needs_background": "light"
          }
        }
      ]
    },
    {
      "cell_type": "markdown",
      "metadata": {
        "papermill": {
          "duration": 0.135333,
          "end_time": "2021-02-08T10:54:15.540614",
          "exception": false,
          "start_time": "2021-02-08T10:54:15.405281",
          "status": "completed"
        },
        "tags": [],
        "id": "wwBMq370Gb81"
      },
      "source": [
        "# Duration analysis"
      ]
    },
    {
      "cell_type": "markdown",
      "metadata": {
        "papermill": {
          "duration": 0.137319,
          "end_time": "2021-02-08T10:54:15.815976",
          "exception": false,
          "start_time": "2021-02-08T10:54:15.678657",
          "status": "completed"
        },
        "tags": [],
        "id": "kj-ItOGXGb81"
      },
      "source": [
        "### Analyze Series duration\n",
        "\n",
        "This values are in term of seasons, so there is no much to analyze.\n",
        "\n",
        "As we can see the most of the series are only **1 season** probably becasuse they were cancelled or they are new and the second one is in production."
      ]
    },
    {
      "cell_type": "code",
      "metadata": {
        "papermill": {
          "duration": 0.234986,
          "end_time": "2021-02-08T10:54:16.190513",
          "exception": false,
          "start_time": "2021-02-08T10:54:15.955527",
          "status": "completed"
        },
        "tags": [],
        "colab": {
          "base_uri": "https://localhost:8080/",
          "height": 542
        },
        "id": "SIQ8TD0uGb81",
        "outputId": "ddcfdb5c-1607-4016-9e48-585d9c039c50"
      },
      "source": [
        "fig = px.histogram(x=show_df['duration'])\n",
        "fig.update_xaxes(categoryorder=\"total descending\")\n",
        "fig.update_layout(\n",
        "    title=\"Distribution of shows duration\",\n",
        "    xaxis_title=\"Duration of the Show\",\n",
        ")\n",
        "fig.show()"
      ],
      "execution_count": 44,
      "outputs": [
        {
          "output_type": "display_data",
          "data": {
            "text/html": [
              "<html>\n",
              "<head><meta charset=\"utf-8\" /></head>\n",
              "<body>\n",
              "    <div>            <script src=\"https://cdnjs.cloudflare.com/ajax/libs/mathjax/2.7.5/MathJax.js?config=TeX-AMS-MML_SVG\"></script><script type=\"text/javascript\">if (window.MathJax) {MathJax.Hub.Config({SVG: {font: \"STIX-Web\"}});}</script>                <script type=\"text/javascript\">window.PlotlyConfig = {MathJaxConfig: 'local'};</script>\n",
              "        <script src=\"https://cdn.plot.ly/plotly-latest.min.js\"></script>                <div id=\"acf9bb63-9033-47d7-8d41-d4a1e84ce57f\" class=\"plotly-graph-div\" style=\"height:525px; width:100%;\"></div>            <script type=\"text/javascript\">                                    window.PLOTLYENV=window.PLOTLYENV || {};                                    if (document.getElementById(\"acf9bb63-9033-47d7-8d41-d4a1e84ce57f\")) {                    Plotly.newPlot(                        \"acf9bb63-9033-47d7-8d41-d4a1e84ce57f\",                        [{\"alignmentgroup\": \"True\", \"bingroup\": \"x\", \"hovertemplate\": \"x=%{x}<br>count=%{y}<extra></extra>\", \"legendgroup\": \"\", \"marker\": {\"color\": \"#636efa\"}, \"name\": \"\", \"offsetgroup\": \"\", \"orientation\": \"v\", \"showlegend\": false, \"type\": \"histogram\", \"x\": [\"4 Seasons\", \"1 Season\", \"1 Season\", \"1 Season\", \"1 Season\", \"2 Seasons\", \"1 Season\", \"1 Season\", \"1 Season\", \"1 Season\", \"1 Season\", \"1 Season\", \"1 Season\", \"1 Season\", \"4 Seasons\", \"3 Seasons\", \"1 Season\", \"1 Season\", \"1 Season\", \"1 Season\", \"1 Season\", \"2 Seasons\", \"2 Seasons\", \"1 Season\", \"1 Season\", \"1 Season\", \"1 Season\", \"1 Season\", \"1 Season\", \"1 Season\", \"1 Season\", \"2 Seasons\", \"1 Season\", \"1 Season\", \"1 Season\", \"1 Season\", \"1 Season\", \"1 Season\", \"1 Season\", \"1 Season\", \"1 Season\", \"1 Season\", \"1 Season\", \"1 Season\", \"3 Seasons\", \"1 Season\", \"1 Season\", \"1 Season\", \"2 Seasons\", \"1 Season\", \"1 Season\", \"1 Season\", \"1 Season\", \"2 Seasons\", \"2 Seasons\", \"1 Season\", \"1 Season\", \"1 Season\", \"1 Season\", \"1 Season\", \"1 Season\", \"1 Season\", \"1 Season\", \"2 Seasons\", \"1 Season\", \"1 Season\", \"2 Seasons\", \"1 Season\", \"1 Season\", \"1 Season\", \"1 Season\", \"3 Seasons\", \"1 Season\", \"2 Seasons\", \"1 Season\", \"1 Season\", \"1 Season\", \"2 Seasons\", \"1 Season\", \"1 Season\", \"1 Season\", \"1 Season\", \"4 Seasons\", \"1 Season\", \"1 Season\", \"1 Season\", \"1 Season\", \"1 Season\", \"2 Seasons\", \"1 Season\", \"5 Seasons\", \"1 Season\", \"1 Season\", \"1 Season\", \"5 Seasons\", \"2 Seasons\", \"2 Seasons\", \"1 Season\", \"1 Season\", \"2 Seasons\", \"3 Seasons\", \"1 Season\", \"1 Season\", \"9 Seasons\", \"1 Season\", \"2 Seasons\", \"1 Season\", \"1 Season\", \"1 Season\", \"1 Season\", \"1 Season\", \"3 Seasons\", \"1 Season\", \"1 Season\", \"1 Season\", \"3 Seasons\", \"1 Season\", \"1 Season\", \"1 Season\", \"1 Season\", \"2 Seasons\", \"1 Season\", \"1 Season\", \"2 Seasons\", \"1 Season\", \"2 Seasons\", \"2 Seasons\", \"1 Season\", \"1 Season\", \"1 Season\", \"5 Seasons\", \"8 Seasons\", \"1 Season\", \"3 Seasons\", \"1 Season\", \"1 Season\", \"3 Seasons\", \"1 Season\", \"1 Season\", \"1 Season\", \"1 Season\", \"1 Season\", \"3 Seasons\", \"1 Season\", \"1 Season\", \"1 Season\", \"3 Seasons\", \"1 Season\", \"1 Season\", \"1 Season\", \"1 Season\", \"2 Seasons\", \"3 Seasons\", \"2 Seasons\", \"3 Seasons\", \"1 Season\", \"1 Season\", \"1 Season\", \"2 Seasons\", \"1 Season\", \"3 Seasons\", \"1 Season\", \"1 Season\", \"1 Season\", \"1 Season\", \"3 Seasons\", \"1 Season\", \"1 Season\", \"1 Season\", \"1 Season\", \"1 Season\", \"1 Season\", \"1 Season\", \"1 Season\", \"1 Season\", \"1 Season\", \"1 Season\", \"3 Seasons\", \"2 Seasons\", \"1 Season\", \"1 Season\", \"1 Season\", \"1 Season\", \"5 Seasons\", \"1 Season\", \"1 Season\", \"1 Season\", \"1 Season\", \"1 Season\", \"1 Season\", \"1 Season\", \"1 Season\", \"3 Seasons\", \"1 Season\", \"4 Seasons\", \"2 Seasons\", \"1 Season\", \"1 Season\", \"1 Season\", \"1 Season\", \"1 Season\", \"1 Season\", \"4 Seasons\", \"1 Season\", \"1 Season\", \"1 Season\", \"1 Season\", \"1 Season\", \"1 Season\", \"1 Season\", \"4 Seasons\", \"1 Season\", \"2 Seasons\", \"1 Season\", \"1 Season\", \"1 Season\", \"1 Season\", \"1 Season\", \"1 Season\", \"1 Season\", \"1 Season\", \"1 Season\", \"1 Season\", \"2 Seasons\", \"3 Seasons\", \"4 Seasons\", \"3 Seasons\", \"4 Seasons\", \"1 Season\", \"3 Seasons\", \"1 Season\", \"3 Seasons\", \"1 Season\", \"1 Season\", \"1 Season\", \"2 Seasons\", \"3 Seasons\", \"5 Seasons\", \"1 Season\", \"2 Seasons\", \"1 Season\", \"1 Season\", \"5 Seasons\", \"1 Season\", \"1 Season\", \"1 Season\", \"1 Season\", \"1 Season\", \"3 Seasons\", \"1 Season\", \"1 Season\", \"2 Seasons\", \"1 Season\", \"1 Season\", \"1 Season\", \"1 Season\", \"1 Season\", \"1 Season\", \"6 Seasons\", \"1 Season\", \"1 Season\", \"1 Season\", \"3 Seasons\", \"3 Seasons\", \"1 Season\", \"1 Season\", \"1 Season\", \"2 Seasons\", \"1 Season\", \"3 Seasons\", \"3 Seasons\", \"1 Season\", \"1 Season\", \"2 Seasons\", \"1 Season\", \"1 Season\", \"3 Seasons\", \"1 Season\", \"1 Season\", \"2 Seasons\", \"1 Season\", \"1 Season\", \"1 Season\", \"5 Seasons\", \"1 Season\", \"1 Season\", \"1 Season\", \"1 Season\", \"1 Season\", \"1 Season\", \"3 Seasons\", \"1 Season\", \"1 Season\", \"1 Season\", \"1 Season\", \"1 Season\", \"2 Seasons\", \"1 Season\", \"1 Season\", \"4 Seasons\", \"1 Season\", \"1 Season\", \"2 Seasons\", \"2 Seasons\", \"1 Season\", \"6 Seasons\", \"1 Season\", \"1 Season\", \"1 Season\", \"1 Season\", \"1 Season\", \"1 Season\", \"3 Seasons\", \"9 Seasons\", \"1 Season\", \"1 Season\", \"1 Season\", \"1 Season\", \"2 Seasons\", \"2 Seasons\", \"1 Season\", \"1 Season\", \"1 Season\", \"1 Season\", \"2 Seasons\", \"2 Seasons\", \"2 Seasons\", \"1 Season\", \"1 Season\", \"4 Seasons\", \"2 Seasons\", \"1 Season\", \"1 Season\", \"1 Season\", \"1 Season\", \"3 Seasons\", \"1 Season\", \"3 Seasons\", \"1 Season\", \"1 Season\", \"1 Season\", \"1 Season\", \"1 Season\", \"1 Season\", \"1 Season\", \"2 Seasons\", \"1 Season\", \"2 Seasons\", \"1 Season\", \"2 Seasons\", \"1 Season\", \"1 Season\", \"11 Seasons\", \"1 Season\", \"2 Seasons\", \"6 Seasons\", \"1 Season\", \"1 Season\", \"2 Seasons\", \"1 Season\", \"1 Season\", \"1 Season\", \"2 Seasons\", \"1 Season\", \"1 Season\", \"1 Season\", \"1 Season\", \"4 Seasons\", \"2 Seasons\", \"1 Season\", \"1 Season\", \"1 Season\", \"4 Seasons\", \"2 Seasons\", \"1 Season\", \"2 Seasons\", \"1 Season\", \"1 Season\", \"1 Season\", \"1 Season\", \"1 Season\", \"1 Season\", \"1 Season\", \"1 Season\", \"1 Season\", \"1 Season\", \"1 Season\", \"1 Season\", \"2 Seasons\", \"1 Season\", \"2 Seasons\", \"1 Season\", \"1 Season\", \"1 Season\", \"1 Season\", \"9 Seasons\", \"7 Seasons\", \"8 Seasons\", \"1 Season\", \"1 Season\", \"1 Season\", \"4 Seasons\", \"1 Season\", \"3 Seasons\", \"1 Season\", \"1 Season\", \"2 Seasons\", \"2 Seasons\", \"2 Seasons\", \"4 Seasons\", \"1 Season\", \"1 Season\", \"1 Season\", \"1 Season\", \"3 Seasons\", \"1 Season\", \"6 Seasons\", \"13 Seasons\", \"5 Seasons\", \"1 Season\", \"6 Seasons\", \"1 Season\", \"1 Season\", \"1 Season\", \"1 Season\", \"1 Season\", \"1 Season\", \"1 Season\", \"1 Season\", \"1 Season\", \"1 Season\", \"1 Season\", \"1 Season\", \"1 Season\", \"1 Season\", \"1 Season\", \"4 Seasons\", \"1 Season\", \"1 Season\", \"2 Seasons\", \"2 Seasons\", \"1 Season\", \"1 Season\", \"1 Season\", \"1 Season\", \"12 Seasons\", \"1 Season\", \"1 Season\", \"1 Season\", \"2 Seasons\", \"5 Seasons\", \"2 Seasons\", \"1 Season\", \"1 Season\", \"1 Season\", \"1 Season\", \"1 Season\", \"1 Season\", \"10 Seasons\", \"1 Season\", \"1 Season\", \"1 Season\", \"1 Season\", \"1 Season\", \"1 Season\", \"2 Seasons\", \"10 Seasons\", \"2 Seasons\", \"1 Season\", \"1 Season\", \"3 Seasons\", \"1 Season\", \"3 Seasons\", \"1 Season\", \"1 Season\", \"1 Season\", \"2 Seasons\", \"1 Season\", \"1 Season\", \"1 Season\", \"1 Season\", \"1 Season\", \"4 Seasons\", \"6 Seasons\", \"1 Season\", \"1 Season\", \"2 Seasons\", \"1 Season\", \"5 Seasons\", \"1 Season\", \"2 Seasons\", \"2 Seasons\", \"1 Season\", \"1 Season\", \"3 Seasons\", \"1 Season\", \"3 Seasons\", \"1 Season\", \"4 Seasons\", \"1 Season\", \"1 Season\", \"1 Season\", \"1 Season\", \"3 Seasons\", \"2 Seasons\", \"3 Seasons\", \"1 Season\", \"1 Season\", \"1 Season\", \"1 Season\", \"8 Seasons\", \"1 Season\", \"1 Season\", \"2 Seasons\", \"1 Season\", \"1 Season\", \"1 Season\", \"1 Season\", \"2 Seasons\", \"1 Season\", \"2 Seasons\", \"5 Seasons\", \"3 Seasons\", \"1 Season\", \"2 Seasons\", \"1 Season\", \"3 Seasons\", \"2 Seasons\", \"1 Season\", \"1 Season\", \"2 Seasons\", \"3 Seasons\", \"1 Season\", \"1 Season\", \"1 Season\", \"1 Season\", \"1 Season\", \"1 Season\", \"3 Seasons\", \"1 Season\", \"1 Season\", \"1 Season\", \"1 Season\", \"1 Season\", \"6 Seasons\", \"2 Seasons\", \"1 Season\", \"2 Seasons\", \"1 Season\", \"1 Season\", \"1 Season\", \"1 Season\", \"1 Season\", \"1 Season\", \"1 Season\", \"1 Season\", \"2 Seasons\", \"2 Seasons\", \"1 Season\", \"1 Season\", \"1 Season\", \"1 Season\", \"3 Seasons\", \"1 Season\", \"1 Season\", \"1 Season\", \"4 Seasons\", \"3 Seasons\", \"1 Season\", \"2 Seasons\", \"1 Season\", \"1 Season\", \"1 Season\", \"3 Seasons\", \"1 Season\", \"1 Season\", \"3 Seasons\", \"1 Season\", \"1 Season\", \"2 Seasons\", \"2 Seasons\", \"3 Seasons\", \"2 Seasons\", \"7 Seasons\", \"2 Seasons\", \"3 Seasons\", \"1 Season\", \"1 Season\", \"1 Season\", \"1 Season\", \"1 Season\", \"1 Season\", \"1 Season\", \"1 Season\", \"1 Season\", \"1 Season\", \"5 Seasons\", \"1 Season\", \"1 Season\", \"1 Season\", \"1 Season\", \"1 Season\", \"1 Season\", \"1 Season\", \"1 Season\", \"5 Seasons\", \"1 Season\", \"1 Season\", \"1 Season\", \"1 Season\", \"1 Season\", \"1 Season\", \"1 Season\", \"1 Season\", \"2 Seasons\", \"1 Season\", \"2 Seasons\", \"1 Season\", \"1 Season\", \"1 Season\", \"4 Seasons\", \"1 Season\", \"1 Season\", \"1 Season\", \"1 Season\", \"1 Season\", \"1 Season\", \"1 Season\", \"2 Seasons\", \"2 Seasons\", \"1 Season\", \"1 Season\", \"2 Seasons\", \"3 Seasons\", \"2 Seasons\", \"1 Season\", \"2 Seasons\", \"2 Seasons\", \"2 Seasons\", \"2 Seasons\", \"6 Seasons\", \"3 Seasons\", \"1 Season\", \"1 Season\", \"1 Season\", \"1 Season\", \"2 Seasons\", \"1 Season\", \"2 Seasons\", \"1 Season\", \"1 Season\", \"1 Season\", \"4 Seasons\", \"1 Season\", \"2 Seasons\", \"2 Seasons\", \"1 Season\", \"3 Seasons\", \"2 Seasons\", \"3 Seasons\", \"1 Season\", \"1 Season\", \"1 Season\", \"1 Season\", \"2 Seasons\", \"3 Seasons\", \"1 Season\", \"2 Seasons\", \"1 Season\", \"1 Season\", \"1 Season\", \"1 Season\", \"9 Seasons\", \"2 Seasons\", \"1 Season\", \"1 Season\", \"2 Seasons\", \"1 Season\", \"1 Season\", \"3 Seasons\", \"1 Season\", \"1 Season\", \"4 Seasons\", \"2 Seasons\", \"3 Seasons\", \"3 Seasons\", \"1 Season\", \"1 Season\", \"1 Season\", \"5 Seasons\", \"5 Seasons\", \"1 Season\", \"1 Season\", \"1 Season\", \"2 Seasons\", \"1 Season\", \"1 Season\", \"1 Season\", \"1 Season\", \"1 Season\", \"1 Season\", \"1 Season\", \"1 Season\", \"1 Season\", \"1 Season\", \"1 Season\", \"1 Season\", \"1 Season\", \"1 Season\", \"1 Season\", \"1 Season\", \"1 Season\", \"1 Season\", \"7 Seasons\", \"1 Season\", \"1 Season\", \"1 Season\", \"1 Season\", \"8 Seasons\", \"5 Seasons\", \"1 Season\", \"2 Seasons\", \"1 Season\", \"6 Seasons\", \"3 Seasons\", \"2 Seasons\", \"2 Seasons\", \"2 Seasons\", \"3 Seasons\", \"2 Seasons\", \"1 Season\", \"3 Seasons\", \"2 Seasons\", \"1 Season\", \"1 Season\", \"1 Season\", \"1 Season\", \"2 Seasons\", \"2 Seasons\", \"1 Season\", \"2 Seasons\", \"2 Seasons\", \"1 Season\", \"5 Seasons\", \"1 Season\", \"2 Seasons\", \"5 Seasons\", \"1 Season\", \"6 Seasons\", \"5 Seasons\", \"6 Seasons\", \"1 Season\", \"1 Season\", \"1 Season\", \"2 Seasons\", \"3 Seasons\", \"2 Seasons\", \"2 Seasons\", \"2 Seasons\", \"1 Season\", \"1 Season\", \"1 Season\", \"1 Season\", \"1 Season\", \"4 Seasons\", \"5 Seasons\", \"16 Seasons\", \"2 Seasons\", \"1 Season\", \"3 Seasons\", \"1 Season\", \"4 Seasons\", \"3 Seasons\", \"2 Seasons\", \"2 Seasons\", \"1 Season\", \"2 Seasons\", \"4 Seasons\", \"4 Seasons\", \"1 Season\", \"1 Season\", \"3 Seasons\", \"3 Seasons\", \"1 Season\", \"1 Season\", \"1 Season\", \"2 Seasons\", \"2 Seasons\", \"1 Season\", \"4 Seasons\", \"1 Season\", \"1 Season\", \"4 Seasons\", \"4 Seasons\", \"1 Season\", \"1 Season\", \"2 Seasons\", \"2 Seasons\", \"1 Season\", \"2 Seasons\", \"1 Season\", \"1 Season\", \"5 Seasons\", \"1 Season\", \"1 Season\", \"7 Seasons\", \"11 Seasons\", \"1 Season\", \"2 Seasons\", \"1 Season\", \"1 Season\", \"1 Season\", \"5 Seasons\", \"3 Seasons\", \"2 Seasons\", \"3 Seasons\", \"3 Seasons\", \"1 Season\", \"1 Season\", \"2 Seasons\", \"2 Seasons\", \"1 Season\", \"2 Seasons\", \"1 Season\", \"1 Season\", \"1 Season\", \"1 Season\", \"1 Season\", \"3 Seasons\", \"1 Season\", \"3 Seasons\", \"5 Seasons\", \"2 Seasons\", \"3 Seasons\", \"4 Seasons\", \"1 Season\", \"1 Season\", \"1 Season\", \"1 Season\", \"1 Season\", \"1 Season\", \"1 Season\", \"1 Season\", \"2 Seasons\", \"1 Season\", \"1 Season\", \"1 Season\", \"1 Season\", \"2 Seasons\", \"1 Season\", \"4 Seasons\", \"1 Season\", \"1 Season\", \"1 Season\", \"3 Seasons\", \"2 Seasons\", \"1 Season\", \"1 Season\", \"1 Season\", \"1 Season\", \"1 Season\", \"1 Season\", \"6 Seasons\", \"1 Season\", \"6 Seasons\", \"1 Season\", \"1 Season\", \"2 Seasons\", \"1 Season\", \"1 Season\", \"4 Seasons\", \"1 Season\", \"2 Seasons\", \"1 Season\", \"1 Season\", \"2 Seasons\", \"1 Season\", \"1 Season\", \"2 Seasons\", \"1 Season\", \"1 Season\", \"1 Season\", \"1 Season\", \"1 Season\", \"1 Season\", \"2 Seasons\", \"1 Season\", \"1 Season\", \"1 Season\", \"1 Season\", \"1 Season\", \"1 Season\", \"1 Season\", \"1 Season\", \"1 Season\", \"2 Seasons\", \"1 Season\", \"1 Season\", \"1 Season\", \"1 Season\", \"2 Seasons\", \"1 Season\", \"1 Season\", \"1 Season\", \"2 Seasons\", \"1 Season\", \"1 Season\", \"1 Season\", \"2 Seasons\", \"1 Season\", \"1 Season\", \"2 Seasons\", \"1 Season\", \"1 Season\", \"1 Season\", \"1 Season\", \"1 Season\", \"1 Season\", \"5 Seasons\", \"4 Seasons\", \"1 Season\", \"2 Seasons\", \"2 Seasons\", \"1 Season\", \"3 Seasons\", \"3 Seasons\", \"1 Season\", \"2 Seasons\", \"1 Season\", \"1 Season\", \"2 Seasons\", \"1 Season\", \"1 Season\", \"1 Season\", \"1 Season\", \"1 Season\", \"1 Season\", \"5 Seasons\", \"1 Season\", \"1 Season\", \"1 Season\", \"4 Seasons\", \"1 Season\", \"1 Season\", \"1 Season\", \"5 Seasons\", \"1 Season\", \"1 Season\", \"1 Season\", \"1 Season\", \"2 Seasons\", \"2 Seasons\", \"1 Season\", \"1 Season\", \"1 Season\", \"1 Season\", \"6 Seasons\", \"2 Seasons\", \"1 Season\", \"1 Season\", \"1 Season\", \"1 Season\", \"1 Season\", \"1 Season\", \"1 Season\", \"1 Season\", \"2 Seasons\", \"1 Season\", \"1 Season\", \"1 Season\", \"1 Season\", \"1 Season\", \"2 Seasons\", \"1 Season\", \"1 Season\", \"2 Seasons\", \"1 Season\", \"1 Season\", \"1 Season\", \"1 Season\", \"1 Season\", \"2 Seasons\", \"1 Season\", \"6 Seasons\", \"3 Seasons\", \"1 Season\", \"1 Season\", \"1 Season\", \"1 Season\", \"2 Seasons\", \"1 Season\", \"1 Season\", \"1 Season\", \"1 Season\", \"1 Season\", \"2 Seasons\", \"1 Season\", \"1 Season\", \"1 Season\", \"1 Season\", \"1 Season\", \"1 Season\", \"4 Seasons\", \"1 Season\", \"3 Seasons\", \"1 Season\", \"1 Season\", \"3 Seasons\", \"1 Season\", \"1 Season\", \"1 Season\", \"1 Season\", \"2 Seasons\", \"2 Seasons\", \"1 Season\", \"1 Season\", \"1 Season\", \"2 Seasons\", \"2 Seasons\", \"7 Seasons\", \"1 Season\", \"1 Season\", \"1 Season\", \"1 Season\", \"1 Season\", \"2 Seasons\", \"1 Season\", \"1 Season\", \"4 Seasons\", \"1 Season\", \"1 Season\", \"1 Season\", \"1 Season\", \"1 Season\", \"1 Season\", \"1 Season\", \"1 Season\", \"1 Season\", \"2 Seasons\", \"1 Season\", \"1 Season\", \"1 Season\", \"1 Season\", \"2 Seasons\", \"1 Season\", \"3 Seasons\", \"1 Season\", \"3 Seasons\", \"2 Seasons\", \"2 Seasons\", \"1 Season\", \"5 Seasons\", \"2 Seasons\", \"4 Seasons\", \"1 Season\", \"1 Season\", \"3 Seasons\", \"1 Season\", \"1 Season\", \"2 Seasons\", \"1 Season\", \"1 Season\", \"1 Season\", \"2 Seasons\", \"1 Season\", \"3 Seasons\", \"1 Season\", \"2 Seasons\", \"1 Season\", \"1 Season\", \"2 Seasons\", \"10 Seasons\", \"1 Season\", \"1 Season\", \"1 Season\", \"1 Season\", \"1 Season\", \"1 Season\", \"1 Season\", \"3 Seasons\", \"1 Season\", \"1 Season\", \"1 Season\", \"1 Season\", \"1 Season\", \"1 Season\", \"3 Seasons\", \"2 Seasons\", \"1 Season\", \"2 Seasons\", \"1 Season\", \"2 Seasons\", \"3 Seasons\", \"2 Seasons\", \"2 Seasons\", \"4 Seasons\", \"1 Season\", \"1 Season\", \"1 Season\", \"1 Season\", \"2 Seasons\", \"1 Season\", \"1 Season\", \"1 Season\", \"1 Season\", \"5 Seasons\", \"1 Season\", \"2 Seasons\", \"1 Season\", \"6 Seasons\", \"1 Season\", \"1 Season\", \"1 Season\", \"1 Season\", \"2 Seasons\", \"5 Seasons\", \"2 Seasons\", \"1 Season\", \"3 Seasons\", \"1 Season\", \"1 Season\", \"1 Season\", \"1 Season\", \"1 Season\", \"1 Season\", \"1 Season\", \"1 Season\", \"1 Season\", \"1 Season\", \"1 Season\", \"1 Season\", \"3 Seasons\", \"1 Season\", \"1 Season\", \"1 Season\", \"1 Season\", \"1 Season\", \"1 Season\", \"1 Season\", \"2 Seasons\", \"1 Season\", \"1 Season\", \"1 Season\", \"5 Seasons\", \"1 Season\", \"1 Season\", \"1 Season\", \"1 Season\", \"3 Seasons\", \"2 Seasons\", \"1 Season\", \"1 Season\", \"1 Season\", \"7 Seasons\", \"6 Seasons\", \"1 Season\", \"1 Season\", \"1 Season\", \"2 Seasons\", \"3 Seasons\", \"1 Season\", \"1 Season\", \"1 Season\", \"1 Season\", \"1 Season\", \"1 Season\", \"1 Season\", \"1 Season\", \"2 Seasons\", \"4 Seasons\", \"1 Season\", \"4 Seasons\", \"3 Seasons\", \"1 Season\", \"1 Season\", \"4 Seasons\", \"1 Season\", \"1 Season\", \"2 Seasons\", \"1 Season\", \"3 Seasons\", \"2 Seasons\", \"1 Season\", \"2 Seasons\", \"1 Season\", \"2 Seasons\", \"1 Season\", \"2 Seasons\", \"2 Seasons\", \"1 Season\", \"1 Season\", \"7 Seasons\", \"3 Seasons\", \"2 Seasons\", \"3 Seasons\", \"2 Seasons\", \"1 Season\", \"2 Seasons\", \"1 Season\", \"1 Season\", \"4 Seasons\", \"4 Seasons\", \"1 Season\", \"1 Season\", \"2 Seasons\", \"3 Seasons\", \"1 Season\", \"1 Season\", \"3 Seasons\", \"3 Seasons\", \"1 Season\", \"1 Season\", \"1 Season\", \"1 Season\", \"1 Season\", \"1 Season\", \"5 Seasons\", \"1 Season\", \"1 Season\", \"5 Seasons\", \"1 Season\", \"1 Season\", \"1 Season\", \"1 Season\", \"1 Season\", \"2 Seasons\", \"1 Season\", \"3 Seasons\", \"2 Seasons\", \"1 Season\", \"1 Season\", \"3 Seasons\", \"1 Season\", \"1 Season\", \"1 Season\", \"1 Season\", \"4 Seasons\", \"2 Seasons\", \"1 Season\", \"2 Seasons\", \"1 Season\", \"1 Season\", \"2 Seasons\", \"1 Season\", \"2 Seasons\", \"1 Season\", \"1 Season\", \"1 Season\", \"5 Seasons\", \"1 Season\", \"1 Season\", \"1 Season\", \"1 Season\", \"1 Season\", \"1 Season\", \"1 Season\", \"1 Season\", \"1 Season\", \"2 Seasons\", \"6 Seasons\", \"1 Season\", \"1 Season\", \"2 Seasons\", \"1 Season\", \"1 Season\", \"1 Season\", \"1 Season\", \"2 Seasons\", \"1 Season\", \"1 Season\", \"1 Season\", \"1 Season\", \"1 Season\", \"1 Season\", \"4 Seasons\", \"1 Season\", \"1 Season\", \"1 Season\", \"2 Seasons\", \"1 Season\", \"2 Seasons\", \"2 Seasons\", \"2 Seasons\", \"2 Seasons\", \"1 Season\", \"3 Seasons\", \"1 Season\", \"3 Seasons\", \"1 Season\", \"2 Seasons\", \"3 Seasons\", \"1 Season\", \"3 Seasons\", \"1 Season\", \"2 Seasons\", \"2 Seasons\", \"1 Season\", \"1 Season\", \"1 Season\", \"2 Seasons\", \"1 Season\", \"1 Season\", \"1 Season\", \"1 Season\", \"1 Season\", \"8 Seasons\", \"1 Season\", \"1 Season\", \"3 Seasons\", \"1 Season\", \"1 Season\", \"1 Season\", \"1 Season\", \"1 Season\", \"1 Season\", \"1 Season\", \"1 Season\", \"1 Season\", \"1 Season\", \"2 Seasons\", \"1 Season\", \"1 Season\", \"1 Season\", \"1 Season\", \"1 Season\", \"1 Season\", \"4 Seasons\", \"1 Season\", \"1 Season\", \"2 Seasons\", \"3 Seasons\", \"1 Season\", \"3 Seasons\", \"2 Seasons\", \"1 Season\", \"9 Seasons\", \"1 Season\", \"1 Season\", \"1 Season\", \"1 Season\", \"1 Season\", \"3 Seasons\", \"3 Seasons\", \"15 Seasons\", \"2 Seasons\", \"1 Season\", \"1 Season\", \"1 Season\", \"7 Seasons\", \"1 Season\", \"1 Season\", \"1 Season\", \"1 Season\", \"1 Season\", \"1 Season\", \"2 Seasons\", \"1 Season\", \"1 Season\", \"1 Season\", \"1 Season\", \"2 Seasons\", \"1 Season\", \"1 Season\", \"1 Season\", \"1 Season\", \"2 Seasons\", \"1 Season\", \"3 Seasons\", \"1 Season\", \"1 Season\", \"1 Season\", \"1 Season\", \"1 Season\", \"1 Season\", \"5 Seasons\", \"1 Season\", \"7 Seasons\", \"1 Season\", \"1 Season\", \"3 Seasons\", \"1 Season\", \"1 Season\", \"4 Seasons\", \"1 Season\", \"3 Seasons\", \"1 Season\", \"7 Seasons\", \"1 Season\", \"1 Season\", \"2 Seasons\", \"1 Season\", \"1 Season\", \"1 Season\", \"1 Season\", \"1 Season\", \"1 Season\", \"1 Season\", \"1 Season\", \"3 Seasons\", \"1 Season\", \"1 Season\", \"1 Season\", \"3 Seasons\", \"1 Season\", \"5 Seasons\", \"4 Seasons\", \"1 Season\", \"1 Season\", \"1 Season\", \"1 Season\", \"1 Season\", \"1 Season\", \"7 Seasons\", \"1 Season\", \"3 Seasons\", \"1 Season\", \"1 Season\", \"1 Season\", \"1 Season\", \"3 Seasons\", \"1 Season\", \"3 Seasons\", \"1 Season\", \"3 Seasons\", \"1 Season\", \"1 Season\", \"1 Season\", \"1 Season\", \"1 Season\", \"2 Seasons\", \"1 Season\", \"1 Season\", \"1 Season\", \"1 Season\", \"1 Season\", \"1 Season\", \"3 Seasons\", \"2 Seasons\", \"1 Season\", \"1 Season\", \"2 Seasons\", \"1 Season\", \"7 Seasons\", \"1 Season\", \"1 Season\", \"1 Season\", \"1 Season\", \"6 Seasons\", \"1 Season\", \"1 Season\", \"1 Season\", \"5 Seasons\", \"1 Season\", \"5 Seasons\", \"3 Seasons\", \"5 Seasons\", \"1 Season\", \"5 Seasons\", \"1 Season\", \"1 Season\", \"1 Season\", \"3 Seasons\", \"1 Season\", \"1 Season\", \"2 Seasons\", \"1 Season\", \"1 Season\", \"1 Season\", \"4 Seasons\", \"3 Seasons\", \"3 Seasons\", \"1 Season\", \"2 Seasons\", \"2 Seasons\", \"1 Season\", \"3 Seasons\", \"2 Seasons\", \"8 Seasons\", \"2 Seasons\", \"1 Season\", \"1 Season\", \"1 Season\", \"2 Seasons\", \"2 Seasons\", \"1 Season\", \"1 Season\", \"1 Season\", \"1 Season\", \"1 Season\", \"1 Season\", \"1 Season\", \"1 Season\", \"2 Seasons\", \"1 Season\", \"1 Season\", \"1 Season\", \"1 Season\", \"1 Season\", \"1 Season\", \"1 Season\", \"1 Season\", \"1 Season\", \"1 Season\", \"1 Season\", \"1 Season\", \"1 Season\", \"1 Season\", \"1 Season\", \"1 Season\", \"1 Season\", \"2 Seasons\", \"1 Season\", \"1 Season\", \"6 Seasons\", \"1 Season\", \"6 Seasons\", \"4 Seasons\", \"2 Seasons\", \"1 Season\", \"1 Season\", \"1 Season\", \"2 Seasons\", \"2 Seasons\", \"1 Season\", \"3 Seasons\", \"1 Season\", \"1 Season\", \"1 Season\", \"3 Seasons\", \"1 Season\", \"4 Seasons\", \"1 Season\", \"1 Season\", \"1 Season\", \"5 Seasons\", \"1 Season\", \"1 Season\", \"1 Season\", \"1 Season\", \"1 Season\", \"1 Season\", \"1 Season\", \"1 Season\", \"1 Season\", \"5 Seasons\", \"1 Season\", \"1 Season\", \"1 Season\", \"1 Season\", \"1 Season\", \"1 Season\", \"2 Seasons\", \"1 Season\", \"1 Season\", \"1 Season\", \"1 Season\", \"2 Seasons\", \"1 Season\", \"1 Season\", \"1 Season\", \"4 Seasons\", \"1 Season\", \"2 Seasons\", \"2 Seasons\", \"4 Seasons\", \"1 Season\", \"1 Season\", \"1 Season\", \"6 Seasons\", \"1 Season\", \"2 Seasons\", \"5 Seasons\", \"1 Season\", \"1 Season\", \"1 Season\", \"1 Season\", \"1 Season\", \"1 Season\", \"1 Season\", \"1 Season\", \"4 Seasons\", \"2 Seasons\", \"2 Seasons\", \"1 Season\", \"1 Season\", \"5 Seasons\", \"1 Season\", \"1 Season\", \"5 Seasons\", \"4 Seasons\", \"4 Seasons\", \"2 Seasons\", \"1 Season\", \"2 Seasons\", \"3 Seasons\", \"1 Season\", \"1 Season\", \"1 Season\", \"3 Seasons\", \"2 Seasons\", \"2 Seasons\", \"2 Seasons\", \"8 Seasons\", \"1 Season\", \"1 Season\", \"1 Season\", \"1 Season\", \"3 Seasons\", \"1 Season\", \"1 Season\", \"3 Seasons\", \"3 Seasons\", \"2 Seasons\", \"1 Season\", \"1 Season\", \"6 Seasons\", \"1 Season\", \"1 Season\", \"1 Season\", \"2 Seasons\", \"2 Seasons\", \"1 Season\", \"1 Season\", \"1 Season\", \"3 Seasons\", \"1 Season\", \"1 Season\", \"1 Season\", \"1 Season\", \"1 Season\", \"1 Season\", \"7 Seasons\", \"2 Seasons\", \"6 Seasons\", \"1 Season\", \"2 Seasons\", \"2 Seasons\", \"3 Seasons\", \"5 Seasons\", \"1 Season\", \"1 Season\", \"2 Seasons\", \"1 Season\", \"1 Season\", \"1 Season\", \"1 Season\", \"1 Season\", \"1 Season\", \"1 Season\", \"1 Season\", \"1 Season\", \"3 Seasons\", \"2 Seasons\", \"1 Season\", \"1 Season\", \"1 Season\", \"1 Season\", \"1 Season\", \"2 Seasons\", \"1 Season\", \"1 Season\", \"1 Season\", \"1 Season\", \"10 Seasons\", \"2 Seasons\", \"1 Season\", \"1 Season\", \"5 Seasons\", \"2 Seasons\", \"4 Seasons\", \"1 Season\", \"3 Seasons\", \"1 Season\", \"1 Season\", \"2 Seasons\", \"2 Seasons\", \"2 Seasons\", \"1 Season\", \"1 Season\", \"2 Seasons\", \"1 Season\", \"2 Seasons\", \"1 Season\", \"1 Season\", \"3 Seasons\", \"1 Season\", \"1 Season\", \"1 Season\", \"1 Season\", \"1 Season\", \"1 Season\", \"1 Season\", \"1 Season\", \"1 Season\", \"1 Season\", \"6 Seasons\", \"1 Season\", \"1 Season\", \"1 Season\", \"3 Seasons\", \"1 Season\", \"3 Seasons\", \"1 Season\", \"3 Seasons\", \"1 Season\", \"1 Season\", \"1 Season\", \"1 Season\", \"1 Season\", \"1 Season\", \"1 Season\", \"1 Season\", \"4 Seasons\", \"2 Seasons\", \"4 Seasons\", \"1 Season\", \"1 Season\", \"1 Season\", \"1 Season\", \"1 Season\", \"2 Seasons\", \"2 Seasons\", \"2 Seasons\", \"1 Season\", \"1 Season\", \"1 Season\", \"1 Season\", \"1 Season\", \"2 Seasons\", \"1 Season\", \"1 Season\", \"1 Season\", \"4 Seasons\", \"1 Season\", \"1 Season\", \"1 Season\", \"1 Season\", \"2 Seasons\", \"2 Seasons\", \"8 Seasons\", \"1 Season\", \"2 Seasons\", \"1 Season\", \"2 Seasons\", \"1 Season\", \"3 Seasons\", \"7 Seasons\", \"4 Seasons\", \"7 Seasons\", \"7 Seasons\", \"1 Season\", \"2 Seasons\", \"10 Seasons\", \"1 Season\", \"1 Season\", \"1 Season\", \"1 Season\", \"1 Season\", \"9 Seasons\", \"1 Season\", \"1 Season\", \"1 Season\", \"1 Season\", \"1 Season\", \"1 Season\", \"2 Seasons\", \"3 Seasons\", \"1 Season\", \"1 Season\", \"1 Season\", \"1 Season\", \"2 Seasons\", \"1 Season\", \"1 Season\", \"1 Season\", \"1 Season\", \"1 Season\", \"1 Season\", \"3 Seasons\", \"1 Season\", \"3 Seasons\", \"2 Seasons\", \"1 Season\", \"1 Season\", \"2 Seasons\", \"2 Seasons\", \"1 Season\", \"1 Season\", \"3 Seasons\", \"1 Season\", \"1 Season\", \"3 Seasons\", \"5 Seasons\", \"1 Season\", \"15 Seasons\", \"1 Season\", \"1 Season\", \"1 Season\", \"1 Season\", \"1 Season\", \"2 Seasons\", \"1 Season\", \"1 Season\", \"1 Season\", \"3 Seasons\", \"1 Season\", \"2 Seasons\", \"1 Season\", \"1 Season\", \"2 Seasons\", \"1 Season\", \"1 Season\", \"2 Seasons\", \"2 Seasons\", \"3 Seasons\", \"1 Season\", \"1 Season\", \"1 Season\", \"1 Season\", \"1 Season\", \"2 Seasons\", \"3 Seasons\", \"1 Season\", \"2 Seasons\", \"1 Season\", \"1 Season\", \"4 Seasons\", \"2 Seasons\", \"6 Seasons\", \"2 Seasons\", \"1 Season\", \"1 Season\", \"1 Season\", \"8 Seasons\", \"1 Season\", \"1 Season\", \"7 Seasons\", \"1 Season\", \"1 Season\", \"4 Seasons\", \"1 Season\", \"2 Seasons\", \"6 Seasons\", \"1 Season\", \"1 Season\", \"1 Season\", \"2 Seasons\", \"8 Seasons\", \"2 Seasons\", \"1 Season\", \"1 Season\", \"1 Season\", \"1 Season\", \"1 Season\", \"1 Season\", \"1 Season\", \"1 Season\", \"1 Season\", \"2 Seasons\", \"1 Season\", \"2 Seasons\", \"7 Seasons\", \"1 Season\", \"1 Season\", \"1 Season\", \"3 Seasons\", \"4 Seasons\", \"2 Seasons\", \"2 Seasons\", \"1 Season\", \"1 Season\", \"1 Season\", \"1 Season\", \"1 Season\", \"2 Seasons\", \"1 Season\", \"1 Season\", \"2 Seasons\", \"1 Season\", \"2 Seasons\", \"4 Seasons\", \"1 Season\", \"2 Seasons\", \"1 Season\", \"1 Season\", \"1 Season\", \"1 Season\", \"1 Season\", \"2 Seasons\", \"1 Season\", \"2 Seasons\", \"1 Season\", \"1 Season\", \"2 Seasons\", \"2 Seasons\", \"2 Seasons\", \"4 Seasons\", \"1 Season\", \"1 Season\", \"1 Season\", \"1 Season\", \"1 Season\", \"2 Seasons\", \"1 Season\", \"3 Seasons\", \"1 Season\", \"2 Seasons\", \"1 Season\", \"1 Season\", \"1 Season\", \"1 Season\", \"3 Seasons\", \"1 Season\", \"3 Seasons\", \"1 Season\", \"1 Season\", \"1 Season\", \"1 Season\", \"1 Season\", \"1 Season\", \"1 Season\", \"2 Seasons\", \"1 Season\", \"3 Seasons\", \"1 Season\", \"3 Seasons\", \"1 Season\", \"1 Season\", \"1 Season\", \"1 Season\", \"1 Season\", \"1 Season\", \"6 Seasons\", \"1 Season\", \"5 Seasons\", \"2 Seasons\", \"1 Season\", \"2 Seasons\", \"1 Season\", \"3 Seasons\", \"4 Seasons\", \"2 Seasons\", \"1 Season\", \"2 Seasons\", \"1 Season\", \"1 Season\", \"1 Season\", \"1 Season\", \"1 Season\", \"4 Seasons\", \"1 Season\", \"1 Season\", \"8 Seasons\", \"3 Seasons\", \"4 Seasons\", \"1 Season\", \"1 Season\", \"1 Season\", \"1 Season\", \"1 Season\", \"1 Season\", \"2 Seasons\", \"1 Season\", \"1 Season\", \"1 Season\", \"1 Season\", \"1 Season\", \"2 Seasons\", \"3 Seasons\", \"1 Season\", \"1 Season\", \"2 Seasons\", \"3 Seasons\", \"3 Seasons\", \"1 Season\", \"1 Season\", \"2 Seasons\", \"1 Season\", \"1 Season\", \"2 Seasons\", \"3 Seasons\", \"1 Season\", \"1 Season\", \"1 Season\", \"1 Season\", \"1 Season\", \"2 Seasons\", \"1 Season\", \"1 Season\", \"5 Seasons\", \"1 Season\", \"2 Seasons\", \"1 Season\", \"1 Season\", \"1 Season\", \"1 Season\", \"1 Season\", \"1 Season\", \"1 Season\", \"1 Season\", \"2 Seasons\", \"6 Seasons\", \"1 Season\", \"1 Season\", \"1 Season\", \"1 Season\", \"3 Seasons\", \"4 Seasons\", \"2 Seasons\", \"1 Season\", \"1 Season\", \"1 Season\", \"1 Season\", \"4 Seasons\", \"1 Season\", \"2 Seasons\", \"1 Season\", \"1 Season\", \"1 Season\", \"1 Season\", \"1 Season\", \"1 Season\", \"1 Season\", \"4 Seasons\", \"2 Seasons\", \"5 Seasons\", \"1 Season\", \"1 Season\", \"2 Seasons\", \"1 Season\", \"1 Season\", \"1 Season\", \"1 Season\", \"5 Seasons\", \"1 Season\", \"2 Seasons\", \"1 Season\", \"3 Seasons\", \"1 Season\", \"1 Season\", \"1 Season\", \"1 Season\", \"1 Season\", \"1 Season\", \"1 Season\", \"4 Seasons\", \"1 Season\", \"1 Season\", \"1 Season\", \"1 Season\", \"2 Seasons\", \"1 Season\", \"4 Seasons\", \"1 Season\", \"2 Seasons\", \"1 Season\", \"9 Seasons\", \"1 Season\", \"2 Seasons\", \"5 Seasons\", \"1 Season\", \"2 Seasons\", \"5 Seasons\", \"1 Season\", \"1 Season\", \"1 Season\", \"1 Season\", \"2 Seasons\", \"1 Season\", \"1 Season\", \"1 Season\", \"1 Season\", \"4 Seasons\", \"1 Season\", \"1 Season\", \"1 Season\", \"1 Season\", \"3 Seasons\", \"8 Seasons\", \"1 Season\", \"1 Season\", \"1 Season\", \"1 Season\", \"1 Season\", \"1 Season\", \"1 Season\", \"1 Season\", \"1 Season\", \"1 Season\", \"1 Season\", \"4 Seasons\", \"1 Season\", \"2 Seasons\", \"2 Seasons\", \"3 Seasons\", \"1 Season\", \"1 Season\", \"2 Seasons\", \"1 Season\", \"1 Season\", \"2 Seasons\", \"2 Seasons\", \"1 Season\", \"1 Season\", \"1 Season\", \"1 Season\", \"1 Season\", \"1 Season\", \"3 Seasons\", \"1 Season\", \"1 Season\", \"1 Season\", \"1 Season\", \"1 Season\", \"4 Seasons\", \"1 Season\", \"4 Seasons\", \"1 Season\", \"2 Seasons\", \"1 Season\", \"1 Season\", \"1 Season\", \"1 Season\", \"1 Season\", \"1 Season\", \"1 Season\", \"1 Season\", \"1 Season\", \"1 Season\", \"8 Seasons\", \"1 Season\", \"1 Season\", \"9 Seasons\", \"1 Season\", \"7 Seasons\", \"1 Season\", \"2 Seasons\", \"3 Seasons\", \"1 Season\", \"1 Season\", \"1 Season\", \"1 Season\", \"3 Seasons\", \"4 Seasons\", \"1 Season\", \"2 Seasons\", \"1 Season\", \"1 Season\", \"1 Season\", \"1 Season\", \"1 Season\", \"1 Season\", \"2 Seasons\", \"1 Season\", \"1 Season\", \"1 Season\", \"1 Season\", \"1 Season\", \"1 Season\", \"1 Season\", \"1 Season\", \"1 Season\", \"1 Season\", \"1 Season\", \"1 Season\", \"1 Season\", \"1 Season\", \"1 Season\", \"2 Seasons\", \"1 Season\", \"1 Season\", \"1 Season\", \"2 Seasons\", \"1 Season\", \"3 Seasons\", \"2 Seasons\", \"1 Season\", \"1 Season\", \"1 Season\", \"1 Season\", \"1 Season\", \"2 Seasons\", \"1 Season\", \"1 Season\", \"3 Seasons\", \"1 Season\", \"5 Seasons\", \"1 Season\", \"1 Season\", \"12 Seasons\", \"1 Season\", \"1 Season\", \"2 Seasons\", \"1 Season\", \"1 Season\", \"1 Season\", \"2 Seasons\", \"2 Seasons\", \"1 Season\", \"1 Season\", \"1 Season\", \"1 Season\", \"1 Season\", \"3 Seasons\", \"1 Season\", \"2 Seasons\", \"1 Season\", \"1 Season\", \"1 Season\", \"1 Season\", \"2 Seasons\", \"1 Season\", \"3 Seasons\", \"8 Seasons\", \"1 Season\", \"1 Season\", \"1 Season\", \"3 Seasons\", \"1 Season\", \"1 Season\", \"1 Season\", \"1 Season\", \"1 Season\", \"1 Season\", \"1 Season\", \"1 Season\", \"3 Seasons\", \"1 Season\", \"4 Seasons\", \"1 Season\", \"1 Season\", \"2 Seasons\", \"2 Seasons\", \"1 Season\", \"1 Season\", \"1 Season\", \"1 Season\", \"2 Seasons\", \"4 Seasons\", \"3 Seasons\", \"3 Seasons\", \"1 Season\", \"1 Season\", \"2 Seasons\", \"1 Season\", \"2 Seasons\", \"1 Season\", \"4 Seasons\", \"1 Season\", \"8 Seasons\", \"1 Season\", \"2 Seasons\", \"1 Season\", \"1 Season\", \"1 Season\", \"1 Season\", \"1 Season\", \"1 Season\", \"2 Seasons\", \"1 Season\", \"2 Seasons\", \"1 Season\", \"1 Season\", \"1 Season\", \"1 Season\", \"2 Seasons\", \"1 Season\", \"1 Season\", \"1 Season\", \"1 Season\", \"1 Season\", \"2 Seasons\", \"1 Season\", \"4 Seasons\", \"2 Seasons\", \"4 Seasons\", \"4 Seasons\", \"2 Seasons\", \"3 Seasons\", \"2 Seasons\", \"1 Season\", \"3 Seasons\", \"1 Season\", \"1 Season\", \"1 Season\", \"2 Seasons\", \"2 Seasons\", \"2 Seasons\", \"1 Season\", \"8 Seasons\", \"3 Seasons\", \"1 Season\", \"3 Seasons\", \"1 Season\", \"1 Season\", \"2 Seasons\", \"3 Seasons\", \"1 Season\", \"1 Season\", \"3 Seasons\", \"1 Season\", \"1 Season\", \"1 Season\", \"1 Season\", \"1 Season\", \"1 Season\", \"1 Season\", \"1 Season\", \"1 Season\", \"2 Seasons\", \"1 Season\", \"1 Season\", \"8 Seasons\", \"2 Seasons\", \"1 Season\", \"2 Seasons\", \"8 Seasons\", \"6 Seasons\", \"1 Season\", \"1 Season\", \"1 Season\", \"1 Season\", \"1 Season\", \"1 Season\", \"1 Season\", \"1 Season\", \"1 Season\", \"1 Season\", \"1 Season\", \"3 Seasons\", \"5 Seasons\", \"1 Season\", \"1 Season\", \"1 Season\", \"1 Season\", \"2 Seasons\", \"1 Season\", \"1 Season\", \"1 Season\", \"1 Season\", \"1 Season\", \"1 Season\", \"1 Season\", \"1 Season\", \"1 Season\", \"2 Seasons\", \"1 Season\", \"1 Season\", \"1 Season\", \"1 Season\", \"1 Season\", \"1 Season\", \"1 Season\", \"1 Season\", \"3 Seasons\", \"1 Season\", \"4 Seasons\", \"1 Season\", \"4 Seasons\", \"1 Season\", \"2 Seasons\", \"1 Season\", \"1 Season\", \"1 Season\", \"1 Season\", \"1 Season\", \"1 Season\", \"1 Season\", \"3 Seasons\", \"1 Season\", \"1 Season\", \"1 Season\", \"1 Season\", \"1 Season\", \"1 Season\", \"1 Season\", \"1 Season\", \"3 Seasons\", \"2 Seasons\", \"1 Season\", \"1 Season\", \"1 Season\", \"5 Seasons\", \"1 Season\", \"1 Season\", \"1 Season\", \"1 Season\", \"2 Seasons\", \"2 Seasons\", \"2 Seasons\", \"2 Seasons\", \"5 Seasons\", \"2 Seasons\", \"3 Seasons\", \"1 Season\", \"1 Season\", \"1 Season\", \"2 Seasons\", \"1 Season\", \"1 Season\"], \"xaxis\": \"x\", \"yaxis\": \"y\"}],                        {\"barmode\": \"relative\", \"legend\": {\"tracegroupgap\": 0}, \"margin\": {\"t\": 60}, \"template\": {\"data\": {\"bar\": [{\"error_x\": {\"color\": \"#2a3f5f\"}, \"error_y\": {\"color\": \"#2a3f5f\"}, \"marker\": {\"line\": {\"color\": \"#E5ECF6\", \"width\": 0.5}}, \"type\": \"bar\"}], \"barpolar\": [{\"marker\": {\"line\": {\"color\": \"#E5ECF6\", \"width\": 0.5}}, \"type\": \"barpolar\"}], \"carpet\": [{\"aaxis\": {\"endlinecolor\": \"#2a3f5f\", \"gridcolor\": \"white\", \"linecolor\": \"white\", \"minorgridcolor\": \"white\", \"startlinecolor\": \"#2a3f5f\"}, \"baxis\": {\"endlinecolor\": \"#2a3f5f\", \"gridcolor\": \"white\", \"linecolor\": \"white\", \"minorgridcolor\": \"white\", \"startlinecolor\": \"#2a3f5f\"}, \"type\": \"carpet\"}], \"choropleth\": [{\"colorbar\": {\"outlinewidth\": 0, \"ticks\": \"\"}, \"type\": \"choropleth\"}], \"contour\": [{\"colorbar\": {\"outlinewidth\": 0, \"ticks\": \"\"}, \"colorscale\": [[0.0, \"#0d0887\"], [0.1111111111111111, \"#46039f\"], [0.2222222222222222, \"#7201a8\"], [0.3333333333333333, \"#9c179e\"], [0.4444444444444444, \"#bd3786\"], [0.5555555555555556, \"#d8576b\"], [0.6666666666666666, \"#ed7953\"], [0.7777777777777778, \"#fb9f3a\"], [0.8888888888888888, \"#fdca26\"], [1.0, \"#f0f921\"]], \"type\": \"contour\"}], \"contourcarpet\": [{\"colorbar\": {\"outlinewidth\": 0, \"ticks\": \"\"}, \"type\": \"contourcarpet\"}], \"heatmap\": [{\"colorbar\": {\"outlinewidth\": 0, \"ticks\": \"\"}, \"colorscale\": [[0.0, \"#0d0887\"], [0.1111111111111111, \"#46039f\"], [0.2222222222222222, \"#7201a8\"], [0.3333333333333333, \"#9c179e\"], [0.4444444444444444, \"#bd3786\"], [0.5555555555555556, \"#d8576b\"], [0.6666666666666666, \"#ed7953\"], [0.7777777777777778, \"#fb9f3a\"], [0.8888888888888888, \"#fdca26\"], [1.0, \"#f0f921\"]], \"type\": \"heatmap\"}], \"heatmapgl\": [{\"colorbar\": {\"outlinewidth\": 0, \"ticks\": \"\"}, \"colorscale\": [[0.0, \"#0d0887\"], [0.1111111111111111, \"#46039f\"], [0.2222222222222222, \"#7201a8\"], [0.3333333333333333, \"#9c179e\"], [0.4444444444444444, \"#bd3786\"], [0.5555555555555556, \"#d8576b\"], [0.6666666666666666, \"#ed7953\"], [0.7777777777777778, \"#fb9f3a\"], [0.8888888888888888, \"#fdca26\"], [1.0, \"#f0f921\"]], \"type\": \"heatmapgl\"}], \"histogram\": [{\"marker\": {\"colorbar\": {\"outlinewidth\": 0, \"ticks\": \"\"}}, \"type\": \"histogram\"}], \"histogram2d\": [{\"colorbar\": {\"outlinewidth\": 0, \"ticks\": \"\"}, \"colorscale\": [[0.0, \"#0d0887\"], [0.1111111111111111, \"#46039f\"], [0.2222222222222222, \"#7201a8\"], [0.3333333333333333, \"#9c179e\"], [0.4444444444444444, \"#bd3786\"], [0.5555555555555556, \"#d8576b\"], [0.6666666666666666, \"#ed7953\"], [0.7777777777777778, \"#fb9f3a\"], [0.8888888888888888, \"#fdca26\"], [1.0, \"#f0f921\"]], \"type\": \"histogram2d\"}], \"histogram2dcontour\": [{\"colorbar\": {\"outlinewidth\": 0, \"ticks\": \"\"}, \"colorscale\": [[0.0, \"#0d0887\"], [0.1111111111111111, \"#46039f\"], [0.2222222222222222, \"#7201a8\"], [0.3333333333333333, \"#9c179e\"], [0.4444444444444444, \"#bd3786\"], [0.5555555555555556, \"#d8576b\"], [0.6666666666666666, \"#ed7953\"], [0.7777777777777778, \"#fb9f3a\"], [0.8888888888888888, \"#fdca26\"], [1.0, \"#f0f921\"]], \"type\": \"histogram2dcontour\"}], \"mesh3d\": [{\"colorbar\": {\"outlinewidth\": 0, \"ticks\": \"\"}, \"type\": \"mesh3d\"}], \"parcoords\": [{\"line\": {\"colorbar\": {\"outlinewidth\": 0, \"ticks\": \"\"}}, \"type\": \"parcoords\"}], \"pie\": [{\"automargin\": true, \"type\": \"pie\"}], \"scatter\": [{\"marker\": {\"colorbar\": {\"outlinewidth\": 0, \"ticks\": \"\"}}, \"type\": \"scatter\"}], \"scatter3d\": [{\"line\": {\"colorbar\": {\"outlinewidth\": 0, \"ticks\": \"\"}}, \"marker\": {\"colorbar\": {\"outlinewidth\": 0, \"ticks\": \"\"}}, \"type\": \"scatter3d\"}], \"scattercarpet\": [{\"marker\": {\"colorbar\": {\"outlinewidth\": 0, \"ticks\": \"\"}}, \"type\": \"scattercarpet\"}], \"scattergeo\": [{\"marker\": {\"colorbar\": {\"outlinewidth\": 0, \"ticks\": \"\"}}, \"type\": \"scattergeo\"}], \"scattergl\": [{\"marker\": {\"colorbar\": {\"outlinewidth\": 0, \"ticks\": \"\"}}, \"type\": \"scattergl\"}], \"scattermapbox\": [{\"marker\": {\"colorbar\": {\"outlinewidth\": 0, \"ticks\": \"\"}}, \"type\": \"scattermapbox\"}], \"scatterpolar\": [{\"marker\": {\"colorbar\": {\"outlinewidth\": 0, \"ticks\": \"\"}}, \"type\": \"scatterpolar\"}], \"scatterpolargl\": [{\"marker\": {\"colorbar\": {\"outlinewidth\": 0, \"ticks\": \"\"}}, \"type\": \"scatterpolargl\"}], \"scatterternary\": [{\"marker\": {\"colorbar\": {\"outlinewidth\": 0, \"ticks\": \"\"}}, \"type\": \"scatterternary\"}], \"surface\": [{\"colorbar\": {\"outlinewidth\": 0, \"ticks\": \"\"}, \"colorscale\": [[0.0, \"#0d0887\"], [0.1111111111111111, \"#46039f\"], [0.2222222222222222, \"#7201a8\"], [0.3333333333333333, \"#9c179e\"], [0.4444444444444444, \"#bd3786\"], [0.5555555555555556, \"#d8576b\"], [0.6666666666666666, \"#ed7953\"], [0.7777777777777778, \"#fb9f3a\"], [0.8888888888888888, \"#fdca26\"], [1.0, \"#f0f921\"]], \"type\": \"surface\"}], \"table\": [{\"cells\": {\"fill\": {\"color\": \"#EBF0F8\"}, \"line\": {\"color\": \"white\"}}, \"header\": {\"fill\": {\"color\": \"#C8D4E3\"}, \"line\": {\"color\": \"white\"}}, \"type\": \"table\"}]}, \"layout\": {\"annotationdefaults\": {\"arrowcolor\": \"#2a3f5f\", \"arrowhead\": 0, \"arrowwidth\": 1}, \"autotypenumbers\": \"strict\", \"coloraxis\": {\"colorbar\": {\"outlinewidth\": 0, \"ticks\": \"\"}}, \"colorscale\": {\"diverging\": [[0, \"#8e0152\"], [0.1, \"#c51b7d\"], [0.2, \"#de77ae\"], [0.3, \"#f1b6da\"], [0.4, \"#fde0ef\"], [0.5, \"#f7f7f7\"], [0.6, \"#e6f5d0\"], [0.7, \"#b8e186\"], [0.8, \"#7fbc41\"], [0.9, \"#4d9221\"], [1, \"#276419\"]], \"sequential\": [[0.0, \"#0d0887\"], [0.1111111111111111, \"#46039f\"], [0.2222222222222222, \"#7201a8\"], [0.3333333333333333, \"#9c179e\"], [0.4444444444444444, \"#bd3786\"], [0.5555555555555556, \"#d8576b\"], [0.6666666666666666, \"#ed7953\"], [0.7777777777777778, \"#fb9f3a\"], [0.8888888888888888, \"#fdca26\"], [1.0, \"#f0f921\"]], \"sequentialminus\": [[0.0, \"#0d0887\"], [0.1111111111111111, \"#46039f\"], [0.2222222222222222, \"#7201a8\"], [0.3333333333333333, \"#9c179e\"], [0.4444444444444444, \"#bd3786\"], [0.5555555555555556, \"#d8576b\"], [0.6666666666666666, \"#ed7953\"], [0.7777777777777778, \"#fb9f3a\"], [0.8888888888888888, \"#fdca26\"], [1.0, \"#f0f921\"]]}, \"colorway\": [\"#636efa\", \"#EF553B\", \"#00cc96\", \"#ab63fa\", \"#FFA15A\", \"#19d3f3\", \"#FF6692\", \"#B6E880\", \"#FF97FF\", \"#FECB52\"], \"font\": {\"color\": \"#2a3f5f\"}, \"geo\": {\"bgcolor\": \"white\", \"lakecolor\": \"white\", \"landcolor\": \"#E5ECF6\", \"showlakes\": true, \"showland\": true, \"subunitcolor\": \"white\"}, \"hoverlabel\": {\"align\": \"left\"}, \"hovermode\": \"closest\", \"mapbox\": {\"style\": \"light\"}, \"paper_bgcolor\": \"white\", \"plot_bgcolor\": \"#E5ECF6\", \"polar\": {\"angularaxis\": {\"gridcolor\": \"white\", \"linecolor\": \"white\", \"ticks\": \"\"}, \"bgcolor\": \"#E5ECF6\", \"radialaxis\": {\"gridcolor\": \"white\", \"linecolor\": \"white\", \"ticks\": \"\"}}, \"scene\": {\"xaxis\": {\"backgroundcolor\": \"#E5ECF6\", \"gridcolor\": \"white\", \"gridwidth\": 2, \"linecolor\": \"white\", \"showbackground\": true, \"ticks\": \"\", \"zerolinecolor\": \"white\"}, \"yaxis\": {\"backgroundcolor\": \"#E5ECF6\", \"gridcolor\": \"white\", \"gridwidth\": 2, \"linecolor\": \"white\", \"showbackground\": true, \"ticks\": \"\", \"zerolinecolor\": \"white\"}, \"zaxis\": {\"backgroundcolor\": \"#E5ECF6\", \"gridcolor\": \"white\", \"gridwidth\": 2, \"linecolor\": \"white\", \"showbackground\": true, \"ticks\": \"\", \"zerolinecolor\": \"white\"}}, \"shapedefaults\": {\"line\": {\"color\": \"#2a3f5f\"}}, \"ternary\": {\"aaxis\": {\"gridcolor\": \"white\", \"linecolor\": \"white\", \"ticks\": \"\"}, \"baxis\": {\"gridcolor\": \"white\", \"linecolor\": \"white\", \"ticks\": \"\"}, \"bgcolor\": \"#E5ECF6\", \"caxis\": {\"gridcolor\": \"white\", \"linecolor\": \"white\", \"ticks\": \"\"}}, \"title\": {\"x\": 0.05}, \"xaxis\": {\"automargin\": true, \"gridcolor\": \"white\", \"linecolor\": \"white\", \"ticks\": \"\", \"title\": {\"standoff\": 15}, \"zerolinecolor\": \"white\", \"zerolinewidth\": 2}, \"yaxis\": {\"automargin\": true, \"gridcolor\": \"white\", \"linecolor\": \"white\", \"ticks\": \"\", \"title\": {\"standoff\": 15}, \"zerolinecolor\": \"white\", \"zerolinewidth\": 2}}}, \"title\": {\"text\": \"Distribution of shows duration\"}, \"xaxis\": {\"anchor\": \"y\", \"categoryorder\": \"total descending\", \"domain\": [0.0, 1.0], \"title\": {\"text\": \"Duration of the Show\"}}, \"yaxis\": {\"anchor\": \"x\", \"domain\": [0.0, 1.0], \"title\": {\"text\": \"count\"}}},                        {\"responsive\": true}                    ).then(function(){\n",
              "                            \n",
              "var gd = document.getElementById('acf9bb63-9033-47d7-8d41-d4a1e84ce57f');\n",
              "var x = new MutationObserver(function (mutations, observer) {{\n",
              "        var display = window.getComputedStyle(gd).display;\n",
              "        if (!display || display === 'none') {{\n",
              "            console.log([gd, 'removed!']);\n",
              "            Plotly.purge(gd);\n",
              "            observer.disconnect();\n",
              "        }}\n",
              "}});\n",
              "\n",
              "// Listen for the removal of the full notebook cells\n",
              "var notebookContainer = gd.closest('#notebook-container');\n",
              "if (notebookContainer) {{\n",
              "    x.observe(notebookContainer, {childList: true});\n",
              "}}\n",
              "\n",
              "// Listen for the clearing of the current output cell\n",
              "var outputEl = gd.closest('.output');\n",
              "if (outputEl) {{\n",
              "    x.observe(outputEl, {childList: true});\n",
              "}}\n",
              "\n",
              "                        })                };                            </script>        </div>\n",
              "</body>\n",
              "</html>"
            ]
          },
          "metadata": {
            "tags": []
          }
        }
      ]
    },
    {
      "cell_type": "markdown",
      "metadata": {
        "papermill": {
          "duration": 0.137767,
          "end_time": "2021-02-08T10:54:16.472586",
          "exception": false,
          "start_time": "2021-02-08T10:54:16.334819",
          "status": "completed"
        },
        "tags": [],
        "id": "lgL-WeWzGb81"
      },
      "source": [
        "### Movie duration Alasysis\n",
        "\n",
        "Lets split the data duration into bins:\n",
        "- Less than 1.30 hours\n",
        "- More than 1.30 hours and less than 2.30 hours\n",
        "- More than 2.30 hours\n",
        "\n",
        "As we can see, the most of the movies' **duration is between 1.30 hours and 2.30 hours**"
      ]
    },
    {
      "cell_type": "code",
      "metadata": {
        "papermill": {
          "duration": 0.155429,
          "end_time": "2021-02-08T10:54:16.767630",
          "exception": false,
          "start_time": "2021-02-08T10:54:16.612201",
          "status": "completed"
        },
        "tags": [],
        "id": "eIDSF-JWGb81"
      },
      "source": [
        "temp_duration = movie_df['duration'].apply(lambda x: int(x.split(' ')[0]))"
      ],
      "execution_count": 45,
      "outputs": []
    },
    {
      "cell_type": "code",
      "metadata": {
        "papermill": {
          "duration": 0.160505,
          "end_time": "2021-02-08T10:54:17.069429",
          "exception": false,
          "start_time": "2021-02-08T10:54:16.908924",
          "status": "completed"
        },
        "tags": [],
        "id": "yNBXnR-qGb81"
      },
      "source": [
        "movie_df.loc[temp_duration.loc[temp_duration < 90].index, 'duration_bin'] = 'Less than 1.30 hours'\n",
        "movie_df.loc[temp_duration.loc[(temp_duration >= 90) & (temp_duration < 150)].index, 'duration_bin'] = 'More than 1.30 - less than 2.30 hours'\n",
        "movie_df.loc[temp_duration.loc[temp_duration >= 150].index, 'duration_bin'] = 'More than 2.30 hours'"
      ],
      "execution_count": 46,
      "outputs": []
    },
    {
      "cell_type": "code",
      "metadata": {
        "papermill": {
          "duration": 0.172474,
          "end_time": "2021-02-08T10:54:17.383336",
          "exception": false,
          "start_time": "2021-02-08T10:54:17.210862",
          "status": "completed"
        },
        "tags": [],
        "colab": {
          "base_uri": "https://localhost:8080/",
          "height": 496
        },
        "id": "5GZONhz9Gb81",
        "outputId": "b6cf9618-667e-4cc5-f0c4-326a5d0e2aff"
      },
      "source": [
        "movie_df.head()"
      ],
      "execution_count": 47,
      "outputs": [
        {
          "output_type": "execute_result",
          "data": {
            "text/html": [
              "<div>\n",
              "<style scoped>\n",
              "    .dataframe tbody tr th:only-of-type {\n",
              "        vertical-align: middle;\n",
              "    }\n",
              "\n",
              "    .dataframe tbody tr th {\n",
              "        vertical-align: top;\n",
              "    }\n",
              "\n",
              "    .dataframe thead th {\n",
              "        text-align: right;\n",
              "    }\n",
              "</style>\n",
              "<table border=\"1\" class=\"dataframe\">\n",
              "  <thead>\n",
              "    <tr style=\"text-align: right;\">\n",
              "      <th></th>\n",
              "      <th>show_id</th>\n",
              "      <th>type</th>\n",
              "      <th>title</th>\n",
              "      <th>country</th>\n",
              "      <th>date_added</th>\n",
              "      <th>release_year</th>\n",
              "      <th>rating</th>\n",
              "      <th>duration</th>\n",
              "      <th>listed_in</th>\n",
              "      <th>description</th>\n",
              "      <th>year_added</th>\n",
              "      <th>month_added</th>\n",
              "      <th>target_ages</th>\n",
              "      <th>principal_country</th>\n",
              "      <th>genre</th>\n",
              "      <th>duration_bin</th>\n",
              "    </tr>\n",
              "  </thead>\n",
              "  <tbody>\n",
              "    <tr>\n",
              "      <th>1</th>\n",
              "      <td>s2</td>\n",
              "      <td>Movie</td>\n",
              "      <td>7:19</td>\n",
              "      <td>Mexico</td>\n",
              "      <td>December 23, 2016</td>\n",
              "      <td>2016</td>\n",
              "      <td>TV-MA</td>\n",
              "      <td>93 min</td>\n",
              "      <td>Dramas, International Movies</td>\n",
              "      <td>After a devastating earthquake hits Mexico Cit...</td>\n",
              "      <td>2016</td>\n",
              "      <td>December</td>\n",
              "      <td>Adults</td>\n",
              "      <td>Mexico</td>\n",
              "      <td>[Dramas, International Movies]</td>\n",
              "      <td>More than 1.30 - less than 2.30 hours</td>\n",
              "    </tr>\n",
              "    <tr>\n",
              "      <th>2</th>\n",
              "      <td>s3</td>\n",
              "      <td>Movie</td>\n",
              "      <td>23:59</td>\n",
              "      <td>Singapore</td>\n",
              "      <td>December 20, 2018</td>\n",
              "      <td>2011</td>\n",
              "      <td>R</td>\n",
              "      <td>78 min</td>\n",
              "      <td>Horror Movies, International Movies</td>\n",
              "      <td>When an army recruit is found dead, his fellow...</td>\n",
              "      <td>2018</td>\n",
              "      <td>December</td>\n",
              "      <td>Adults</td>\n",
              "      <td>Singapore</td>\n",
              "      <td>[Horror Movies, International Movies]</td>\n",
              "      <td>Less than 1.30 hours</td>\n",
              "    </tr>\n",
              "    <tr>\n",
              "      <th>3</th>\n",
              "      <td>s4</td>\n",
              "      <td>Movie</td>\n",
              "      <td>9</td>\n",
              "      <td>United States</td>\n",
              "      <td>November 16, 2017</td>\n",
              "      <td>2009</td>\n",
              "      <td>PG-13</td>\n",
              "      <td>80 min</td>\n",
              "      <td>Action &amp; Adventure, Independent Movies, Sci-Fi...</td>\n",
              "      <td>In a postapocalyptic world, rag-doll robots hi...</td>\n",
              "      <td>2017</td>\n",
              "      <td>November</td>\n",
              "      <td>Teens</td>\n",
              "      <td>United States</td>\n",
              "      <td>[Action &amp; Adventure, Independent Movies, Sci-F...</td>\n",
              "      <td>Less than 1.30 hours</td>\n",
              "    </tr>\n",
              "    <tr>\n",
              "      <th>4</th>\n",
              "      <td>s5</td>\n",
              "      <td>Movie</td>\n",
              "      <td>21</td>\n",
              "      <td>United States</td>\n",
              "      <td>January 1, 2020</td>\n",
              "      <td>2008</td>\n",
              "      <td>PG-13</td>\n",
              "      <td>123 min</td>\n",
              "      <td>Dramas</td>\n",
              "      <td>A brilliant group of students become card-coun...</td>\n",
              "      <td>2020</td>\n",
              "      <td>January</td>\n",
              "      <td>Teens</td>\n",
              "      <td>United States</td>\n",
              "      <td>[Dramas]</td>\n",
              "      <td>More than 1.30 - less than 2.30 hours</td>\n",
              "    </tr>\n",
              "    <tr>\n",
              "      <th>6</th>\n",
              "      <td>s7</td>\n",
              "      <td>Movie</td>\n",
              "      <td>122</td>\n",
              "      <td>Egypt</td>\n",
              "      <td>June 1, 2020</td>\n",
              "      <td>2019</td>\n",
              "      <td>TV-MA</td>\n",
              "      <td>95 min</td>\n",
              "      <td>Horror Movies, International Movies</td>\n",
              "      <td>After an awful accident, a couple admitted to ...</td>\n",
              "      <td>2020</td>\n",
              "      <td>June</td>\n",
              "      <td>Adults</td>\n",
              "      <td>Egypt</td>\n",
              "      <td>[Horror Movies, International Movies]</td>\n",
              "      <td>More than 1.30 - less than 2.30 hours</td>\n",
              "    </tr>\n",
              "  </tbody>\n",
              "</table>\n",
              "</div>"
            ],
            "text/plain": [
              "  show_id  ...                           duration_bin\n",
              "1      s2  ...  More than 1.30 - less than 2.30 hours\n",
              "2      s3  ...                   Less than 1.30 hours\n",
              "3      s4  ...                   Less than 1.30 hours\n",
              "4      s5  ...  More than 1.30 - less than 2.30 hours\n",
              "6      s7  ...  More than 1.30 - less than 2.30 hours\n",
              "\n",
              "[5 rows x 16 columns]"
            ]
          },
          "metadata": {
            "tags": []
          },
          "execution_count": 47
        }
      ]
    },
    {
      "cell_type": "code",
      "metadata": {
        "papermill": {
          "duration": 0.279412,
          "end_time": "2021-02-08T10:54:17.806399",
          "exception": false,
          "start_time": "2021-02-08T10:54:17.526987",
          "status": "completed"
        },
        "tags": [],
        "colab": {
          "base_uri": "https://localhost:8080/",
          "height": 542
        },
        "id": "6IiQgOSBGb81",
        "outputId": "4962bdea-f128-4b34-a25b-7b68238c7fe6"
      },
      "source": [
        "fig = px.histogram(x=movie_df['duration_bin'], color=movie_df['duration_bin'])\n",
        "fig.update_xaxes(categoryorder = \"array\",\n",
        "                categoryarray = ['Less than 1.30 hours', 'More than 1.30 - less than 2.30 hours', 'More than 2.30 hours'],\n",
        "                )\n",
        "fig.update_layout(\n",
        "    title=\"Distribution of movies duration\",\n",
        "    xaxis_title=\"Duration of the Movies\",\n",
        ")\n",
        "fig.show()"
      ],
      "execution_count": 48,
      "outputs": [
        {
          "output_type": "display_data",
          "data": {
            "text/html": [
              "<html>\n",
              "<head><meta charset=\"utf-8\" /></head>\n",
              "<body>\n",
              "    <div>            <script src=\"https://cdnjs.cloudflare.com/ajax/libs/mathjax/2.7.5/MathJax.js?config=TeX-AMS-MML_SVG\"></script><script type=\"text/javascript\">if (window.MathJax) {MathJax.Hub.Config({SVG: {font: \"STIX-Web\"}});}</script>                <script type=\"text/javascript\">window.PlotlyConfig = {MathJaxConfig: 'local'};</script>\n",
              "        <script src=\"https://cdn.plot.ly/plotly-latest.min.js\"></script>                <div id=\"89357f75-51b1-4a1b-aae5-8dae39546329\" class=\"plotly-graph-div\" style=\"height:525px; width:100%;\"></div>            <script type=\"text/javascript\">                                    window.PLOTLYENV=window.PLOTLYENV || {};                                    if (document.getElementById(\"89357f75-51b1-4a1b-aae5-8dae39546329\")) {                    Plotly.newPlot(                        \"89357f75-51b1-4a1b-aae5-8dae39546329\",                        [{\"alignmentgroup\": \"True\", \"bingroup\": \"x\", \"hovertemplate\": \"color=More than 1.30 - less than 2.30 hours<br>x=%{x}<br>count=%{y}<extra></extra>\", \"legendgroup\": \"More than 1.30 - less than 2.30 hours\", \"marker\": {\"color\": \"#636efa\"}, \"name\": \"More than 1.30 - less than 2.30 hours\", \"offsetgroup\": \"More than 1.30 - less than 2.30 hours\", \"orientation\": \"v\", \"showlegend\": true, \"type\": \"histogram\", \"x\": [\"More than 1.30 - less than 2.30 hours\", \"More than 1.30 - less than 2.30 hours\", \"More than 1.30 - less than 2.30 hours\", \"More than 1.30 - less than 2.30 hours\", \"More than 1.30 - less than 2.30 hours\", \"More than 1.30 - less than 2.30 hours\", \"More than 1.30 - less than 2.30 hours\", \"More than 1.30 - less than 2.30 hours\", \"More than 1.30 - less than 2.30 hours\", \"More than 1.30 - less than 2.30 hours\", \"More than 1.30 - less than 2.30 hours\", \"More than 1.30 - less than 2.30 hours\", \"More than 1.30 - less than 2.30 hours\", \"More than 1.30 - less than 2.30 hours\", \"More than 1.30 - less than 2.30 hours\", \"More than 1.30 - less than 2.30 hours\", \"More than 1.30 - less than 2.30 hours\", \"More than 1.30 - less than 2.30 hours\", \"More than 1.30 - less than 2.30 hours\", \"More than 1.30 - less than 2.30 hours\", \"More than 1.30 - less than 2.30 hours\", \"More than 1.30 - less than 2.30 hours\", \"More than 1.30 - less than 2.30 hours\", \"More than 1.30 - less than 2.30 hours\", \"More than 1.30 - less than 2.30 hours\", \"More than 1.30 - less than 2.30 hours\", \"More than 1.30 - less than 2.30 hours\", \"More than 1.30 - less than 2.30 hours\", \"More than 1.30 - less than 2.30 hours\", \"More than 1.30 - less than 2.30 hours\", \"More than 1.30 - less than 2.30 hours\", \"More than 1.30 - less than 2.30 hours\", \"More than 1.30 - less than 2.30 hours\", \"More than 1.30 - less than 2.30 hours\", \"More than 1.30 - less than 2.30 hours\", \"More than 1.30 - less than 2.30 hours\", \"More than 1.30 - less than 2.30 hours\", \"More than 1.30 - less than 2.30 hours\", \"More than 1.30 - less than 2.30 hours\", \"More than 1.30 - less than 2.30 hours\", \"More than 1.30 - less than 2.30 hours\", \"More than 1.30 - less than 2.30 hours\", \"More than 1.30 - less than 2.30 hours\", \"More than 1.30 - less than 2.30 hours\", \"More than 1.30 - less than 2.30 hours\", \"More than 1.30 - less than 2.30 hours\", \"More than 1.30 - less than 2.30 hours\", \"More than 1.30 - less than 2.30 hours\", \"More than 1.30 - less than 2.30 hours\", \"More than 1.30 - less than 2.30 hours\", \"More than 1.30 - less than 2.30 hours\", \"More than 1.30 - less than 2.30 hours\", \"More than 1.30 - less than 2.30 hours\", \"More than 1.30 - less than 2.30 hours\", \"More than 1.30 - less than 2.30 hours\", \"More than 1.30 - less than 2.30 hours\", \"More than 1.30 - less than 2.30 hours\", \"More than 1.30 - less than 2.30 hours\", \"More than 1.30 - less than 2.30 hours\", \"More than 1.30 - less than 2.30 hours\", \"More than 1.30 - less than 2.30 hours\", \"More than 1.30 - less than 2.30 hours\", \"More than 1.30 - less than 2.30 hours\", \"More than 1.30 - less than 2.30 hours\", \"More than 1.30 - less than 2.30 hours\", \"More than 1.30 - less than 2.30 hours\", \"More than 1.30 - less than 2.30 hours\", \"More than 1.30 - less than 2.30 hours\", \"More than 1.30 - less than 2.30 hours\", \"More than 1.30 - less than 2.30 hours\", \"More than 1.30 - less than 2.30 hours\", \"More than 1.30 - less than 2.30 hours\", \"More than 1.30 - less than 2.30 hours\", \"More than 1.30 - less than 2.30 hours\", \"More than 1.30 - less than 2.30 hours\", \"More than 1.30 - less than 2.30 hours\", \"More than 1.30 - less than 2.30 hours\", \"More than 1.30 - less than 2.30 hours\", \"More than 1.30 - less than 2.30 hours\", \"More than 1.30 - less than 2.30 hours\", \"More than 1.30 - less than 2.30 hours\", \"More than 1.30 - less than 2.30 hours\", \"More than 1.30 - less than 2.30 hours\", \"More than 1.30 - less than 2.30 hours\", \"More than 1.30 - less than 2.30 hours\", \"More than 1.30 - less than 2.30 hours\", \"More than 1.30 - less than 2.30 hours\", \"More than 1.30 - less than 2.30 hours\", \"More than 1.30 - less than 2.30 hours\", \"More than 1.30 - less than 2.30 hours\", \"More than 1.30 - less than 2.30 hours\", \"More than 1.30 - less than 2.30 hours\", \"More than 1.30 - less than 2.30 hours\", \"More than 1.30 - less than 2.30 hours\", \"More than 1.30 - less than 2.30 hours\", \"More than 1.30 - less than 2.30 hours\", \"More than 1.30 - less than 2.30 hours\", \"More than 1.30 - less than 2.30 hours\", \"More than 1.30 - less than 2.30 hours\", \"More than 1.30 - less than 2.30 hours\", \"More than 1.30 - less than 2.30 hours\", \"More than 1.30 - less than 2.30 hours\", \"More than 1.30 - less than 2.30 hours\", \"More than 1.30 - less than 2.30 hours\", \"More than 1.30 - less than 2.30 hours\", \"More than 1.30 - less than 2.30 hours\", \"More than 1.30 - less than 2.30 hours\", \"More than 1.30 - less than 2.30 hours\", \"More than 1.30 - less than 2.30 hours\", \"More than 1.30 - less than 2.30 hours\", \"More than 1.30 - less than 2.30 hours\", \"More than 1.30 - less than 2.30 hours\", \"More than 1.30 - less than 2.30 hours\", \"More than 1.30 - less than 2.30 hours\", \"More than 1.30 - less than 2.30 hours\", \"More than 1.30 - less than 2.30 hours\", \"More than 1.30 - less than 2.30 hours\", \"More than 1.30 - less than 2.30 hours\", \"More than 1.30 - less than 2.30 hours\", \"More than 1.30 - less than 2.30 hours\", \"More than 1.30 - less than 2.30 hours\", \"More than 1.30 - less than 2.30 hours\", \"More than 1.30 - less than 2.30 hours\", \"More than 1.30 - less than 2.30 hours\", \"More than 1.30 - less than 2.30 hours\", \"More than 1.30 - less than 2.30 hours\", \"More than 1.30 - less than 2.30 hours\", \"More than 1.30 - less than 2.30 hours\", \"More than 1.30 - less than 2.30 hours\", \"More than 1.30 - less than 2.30 hours\", \"More than 1.30 - less than 2.30 hours\", \"More than 1.30 - less than 2.30 hours\", \"More than 1.30 - less than 2.30 hours\", \"More than 1.30 - less than 2.30 hours\", \"More than 1.30 - less than 2.30 hours\", \"More than 1.30 - less than 2.30 hours\", \"More than 1.30 - less than 2.30 hours\", \"More than 1.30 - less than 2.30 hours\", \"More than 1.30 - less than 2.30 hours\", \"More than 1.30 - less than 2.30 hours\", \"More than 1.30 - less than 2.30 hours\", \"More than 1.30 - less than 2.30 hours\", \"More than 1.30 - less than 2.30 hours\", \"More than 1.30 - less than 2.30 hours\", \"More than 1.30 - less than 2.30 hours\", \"More than 1.30 - less than 2.30 hours\", \"More than 1.30 - less than 2.30 hours\", \"More than 1.30 - less than 2.30 hours\", \"More than 1.30 - less than 2.30 hours\", \"More than 1.30 - less than 2.30 hours\", \"More than 1.30 - less than 2.30 hours\", \"More than 1.30 - less than 2.30 hours\", \"More than 1.30 - less than 2.30 hours\", \"More than 1.30 - less than 2.30 hours\", \"More than 1.30 - less than 2.30 hours\", \"More than 1.30 - less than 2.30 hours\", \"More than 1.30 - less than 2.30 hours\", \"More than 1.30 - less than 2.30 hours\", \"More than 1.30 - less than 2.30 hours\", \"More than 1.30 - less than 2.30 hours\", \"More than 1.30 - less than 2.30 hours\", \"More than 1.30 - less than 2.30 hours\", \"More than 1.30 - less than 2.30 hours\", \"More than 1.30 - less than 2.30 hours\", \"More than 1.30 - less than 2.30 hours\", \"More than 1.30 - less than 2.30 hours\", \"More than 1.30 - less than 2.30 hours\", \"More than 1.30 - less than 2.30 hours\", \"More than 1.30 - less than 2.30 hours\", \"More than 1.30 - less than 2.30 hours\", \"More than 1.30 - less than 2.30 hours\", \"More than 1.30 - less than 2.30 hours\", \"More than 1.30 - less than 2.30 hours\", \"More than 1.30 - less than 2.30 hours\", \"More than 1.30 - less than 2.30 hours\", \"More than 1.30 - less than 2.30 hours\", \"More than 1.30 - less than 2.30 hours\", \"More than 1.30 - less than 2.30 hours\", \"More than 1.30 - less than 2.30 hours\", \"More than 1.30 - less than 2.30 hours\", \"More than 1.30 - less than 2.30 hours\", \"More than 1.30 - less than 2.30 hours\", \"More than 1.30 - less than 2.30 hours\", \"More than 1.30 - less than 2.30 hours\", \"More than 1.30 - less than 2.30 hours\", \"More than 1.30 - less than 2.30 hours\", \"More than 1.30 - less than 2.30 hours\", \"More than 1.30 - less than 2.30 hours\", \"More than 1.30 - less than 2.30 hours\", \"More than 1.30 - less than 2.30 hours\", \"More than 1.30 - less than 2.30 hours\", \"More than 1.30 - less than 2.30 hours\", \"More than 1.30 - less than 2.30 hours\", \"More than 1.30 - less than 2.30 hours\", \"More than 1.30 - less than 2.30 hours\", \"More than 1.30 - less than 2.30 hours\", \"More than 1.30 - less than 2.30 hours\", \"More than 1.30 - less than 2.30 hours\", \"More than 1.30 - less than 2.30 hours\", \"More than 1.30 - less than 2.30 hours\", \"More than 1.30 - less than 2.30 hours\", \"More than 1.30 - less than 2.30 hours\", \"More than 1.30 - less than 2.30 hours\", \"More than 1.30 - less than 2.30 hours\", \"More than 1.30 - less than 2.30 hours\", \"More than 1.30 - less than 2.30 hours\", \"More than 1.30 - less than 2.30 hours\", \"More than 1.30 - less than 2.30 hours\", \"More than 1.30 - less than 2.30 hours\", \"More than 1.30 - less than 2.30 hours\", \"More than 1.30 - less than 2.30 hours\", \"More than 1.30 - less than 2.30 hours\", \"More than 1.30 - less than 2.30 hours\", \"More than 1.30 - less than 2.30 hours\", \"More than 1.30 - less than 2.30 hours\", \"More than 1.30 - less than 2.30 hours\", \"More than 1.30 - less than 2.30 hours\", \"More than 1.30 - less than 2.30 hours\", \"More than 1.30 - less than 2.30 hours\", \"More than 1.30 - less than 2.30 hours\", \"More than 1.30 - less than 2.30 hours\", \"More than 1.30 - less than 2.30 hours\", \"More than 1.30 - less than 2.30 hours\", \"More than 1.30 - less than 2.30 hours\", \"More than 1.30 - less than 2.30 hours\", \"More than 1.30 - less than 2.30 hours\", \"More than 1.30 - less than 2.30 hours\", \"More than 1.30 - less than 2.30 hours\", \"More than 1.30 - less than 2.30 hours\", \"More than 1.30 - less than 2.30 hours\", \"More than 1.30 - less than 2.30 hours\", \"More than 1.30 - less than 2.30 hours\", \"More than 1.30 - less than 2.30 hours\", \"More than 1.30 - less than 2.30 hours\", \"More than 1.30 - less than 2.30 hours\", \"More than 1.30 - less than 2.30 hours\", \"More than 1.30 - less than 2.30 hours\", \"More than 1.30 - less than 2.30 hours\", \"More than 1.30 - less than 2.30 hours\", \"More than 1.30 - less than 2.30 hours\", \"More than 1.30 - less than 2.30 hours\", \"More than 1.30 - less than 2.30 hours\", \"More than 1.30 - less than 2.30 hours\", \"More than 1.30 - less than 2.30 hours\", \"More than 1.30 - less than 2.30 hours\", \"More than 1.30 - less than 2.30 hours\", \"More than 1.30 - less than 2.30 hours\", \"More than 1.30 - less than 2.30 hours\", \"More than 1.30 - less than 2.30 hours\", \"More than 1.30 - less than 2.30 hours\", \"More than 1.30 - less than 2.30 hours\", \"More than 1.30 - less than 2.30 hours\", \"More than 1.30 - less than 2.30 hours\", \"More than 1.30 - less than 2.30 hours\", \"More than 1.30 - less than 2.30 hours\", \"More than 1.30 - less than 2.30 hours\", \"More than 1.30 - less than 2.30 hours\", \"More than 1.30 - less than 2.30 hours\", \"More than 1.30 - less than 2.30 hours\", \"More than 1.30 - less than 2.30 hours\", \"More than 1.30 - less than 2.30 hours\", \"More than 1.30 - less than 2.30 hours\", \"More than 1.30 - less than 2.30 hours\", \"More than 1.30 - less than 2.30 hours\", \"More than 1.30 - less than 2.30 hours\", \"More than 1.30 - less than 2.30 hours\", \"More than 1.30 - less than 2.30 hours\", \"More than 1.30 - less than 2.30 hours\", \"More than 1.30 - less than 2.30 hours\", \"More than 1.30 - less than 2.30 hours\", \"More than 1.30 - less than 2.30 hours\", \"More than 1.30 - less than 2.30 hours\", \"More than 1.30 - less than 2.30 hours\", \"More than 1.30 - less than 2.30 hours\", \"More than 1.30 - less than 2.30 hours\", \"More than 1.30 - less than 2.30 hours\", \"More than 1.30 - less than 2.30 hours\", \"More than 1.30 - less than 2.30 hours\", \"More than 1.30 - less than 2.30 hours\", \"More than 1.30 - less than 2.30 hours\", \"More than 1.30 - less than 2.30 hours\", \"More than 1.30 - less than 2.30 hours\", \"More than 1.30 - less than 2.30 hours\", \"More than 1.30 - less than 2.30 hours\", \"More than 1.30 - less than 2.30 hours\", \"More than 1.30 - less than 2.30 hours\", \"More than 1.30 - less than 2.30 hours\", \"More than 1.30 - less than 2.30 hours\", \"More than 1.30 - less than 2.30 hours\", \"More than 1.30 - less than 2.30 hours\", \"More than 1.30 - less than 2.30 hours\", \"More than 1.30 - less than 2.30 hours\", \"More than 1.30 - less than 2.30 hours\", \"More than 1.30 - less than 2.30 hours\", \"More than 1.30 - less than 2.30 hours\", \"More than 1.30 - less than 2.30 hours\", \"More than 1.30 - less than 2.30 hours\", \"More than 1.30 - less than 2.30 hours\", \"More than 1.30 - less than 2.30 hours\", \"More than 1.30 - less than 2.30 hours\", \"More than 1.30 - less than 2.30 hours\", \"More than 1.30 - less than 2.30 hours\", \"More than 1.30 - less than 2.30 hours\", \"More than 1.30 - less than 2.30 hours\", \"More than 1.30 - less than 2.30 hours\", \"More than 1.30 - less than 2.30 hours\", \"More than 1.30 - less than 2.30 hours\", \"More than 1.30 - less than 2.30 hours\", \"More than 1.30 - less than 2.30 hours\", \"More than 1.30 - less than 2.30 hours\", \"More than 1.30 - less than 2.30 hours\", \"More than 1.30 - less than 2.30 hours\", \"More than 1.30 - less than 2.30 hours\", \"More than 1.30 - less than 2.30 hours\", \"More than 1.30 - less than 2.30 hours\", \"More than 1.30 - less than 2.30 hours\", \"More than 1.30 - less than 2.30 hours\", \"More than 1.30 - less than 2.30 hours\", \"More than 1.30 - less than 2.30 hours\", \"More than 1.30 - less than 2.30 hours\", \"More than 1.30 - less than 2.30 hours\", \"More than 1.30 - less than 2.30 hours\", \"More than 1.30 - less than 2.30 hours\", \"More than 1.30 - less than 2.30 hours\", \"More than 1.30 - less than 2.30 hours\", \"More than 1.30 - less than 2.30 hours\", \"More than 1.30 - less than 2.30 hours\", \"More than 1.30 - less than 2.30 hours\", \"More than 1.30 - less than 2.30 hours\", \"More than 1.30 - less than 2.30 hours\", \"More than 1.30 - less than 2.30 hours\", \"More than 1.30 - less than 2.30 hours\", \"More than 1.30 - less than 2.30 hours\", \"More than 1.30 - less than 2.30 hours\", \"More than 1.30 - less than 2.30 hours\", \"More than 1.30 - less than 2.30 hours\", \"More than 1.30 - less than 2.30 hours\", \"More than 1.30 - less than 2.30 hours\", \"More than 1.30 - less than 2.30 hours\", \"More than 1.30 - less than 2.30 hours\", \"More than 1.30 - less than 2.30 hours\", \"More than 1.30 - less than 2.30 hours\", \"More than 1.30 - less than 2.30 hours\", \"More than 1.30 - less than 2.30 hours\", \"More than 1.30 - less than 2.30 hours\", \"More than 1.30 - less than 2.30 hours\", \"More than 1.30 - less than 2.30 hours\", \"More than 1.30 - less than 2.30 hours\", \"More than 1.30 - less than 2.30 hours\", \"More than 1.30 - less than 2.30 hours\", \"More than 1.30 - less than 2.30 hours\", \"More than 1.30 - less than 2.30 hours\", \"More than 1.30 - less than 2.30 hours\", \"More than 1.30 - less than 2.30 hours\", \"More than 1.30 - less than 2.30 hours\", \"More than 1.30 - less than 2.30 hours\", \"More than 1.30 - less than 2.30 hours\", \"More than 1.30 - less than 2.30 hours\", \"More than 1.30 - less than 2.30 hours\", \"More than 1.30 - less than 2.30 hours\", \"More than 1.30 - less than 2.30 hours\", \"More than 1.30 - less than 2.30 hours\", \"More than 1.30 - less than 2.30 hours\", \"More than 1.30 - less than 2.30 hours\", \"More than 1.30 - less than 2.30 hours\", \"More than 1.30 - less than 2.30 hours\", \"More than 1.30 - less than 2.30 hours\", \"More than 1.30 - less than 2.30 hours\", \"More than 1.30 - less than 2.30 hours\", \"More than 1.30 - less than 2.30 hours\", \"More than 1.30 - less than 2.30 hours\", \"More than 1.30 - less than 2.30 hours\", \"More than 1.30 - less than 2.30 hours\", \"More than 1.30 - less than 2.30 hours\", \"More than 1.30 - less than 2.30 hours\", \"More than 1.30 - less than 2.30 hours\", \"More than 1.30 - less than 2.30 hours\", \"More than 1.30 - less than 2.30 hours\", \"More than 1.30 - less than 2.30 hours\", \"More than 1.30 - less than 2.30 hours\", \"More than 1.30 - less than 2.30 hours\", \"More than 1.30 - less than 2.30 hours\", \"More than 1.30 - less than 2.30 hours\", \"More than 1.30 - less than 2.30 hours\", \"More than 1.30 - less than 2.30 hours\", \"More than 1.30 - less than 2.30 hours\", \"More than 1.30 - less than 2.30 hours\", \"More than 1.30 - less than 2.30 hours\", \"More than 1.30 - less than 2.30 hours\", \"More than 1.30 - less than 2.30 hours\", \"More than 1.30 - less than 2.30 hours\", \"More than 1.30 - less than 2.30 hours\", \"More than 1.30 - less than 2.30 hours\", \"More than 1.30 - less than 2.30 hours\", \"More than 1.30 - less than 2.30 hours\", \"More than 1.30 - less than 2.30 hours\", \"More than 1.30 - less than 2.30 hours\", \"More than 1.30 - less than 2.30 hours\", \"More than 1.30 - less than 2.30 hours\", \"More than 1.30 - less than 2.30 hours\", \"More than 1.30 - less than 2.30 hours\", \"More than 1.30 - less than 2.30 hours\", \"More than 1.30 - less than 2.30 hours\", \"More than 1.30 - less than 2.30 hours\", \"More than 1.30 - less than 2.30 hours\", \"More than 1.30 - less than 2.30 hours\", \"More than 1.30 - less than 2.30 hours\", \"More than 1.30 - less than 2.30 hours\", \"More than 1.30 - less than 2.30 hours\", \"More than 1.30 - less than 2.30 hours\", \"More than 1.30 - less than 2.30 hours\", \"More than 1.30 - less than 2.30 hours\", \"More than 1.30 - less than 2.30 hours\", \"More than 1.30 - less than 2.30 hours\", \"More than 1.30 - less than 2.30 hours\", \"More than 1.30 - less than 2.30 hours\", \"More than 1.30 - less than 2.30 hours\", \"More than 1.30 - less than 2.30 hours\", \"More than 1.30 - less than 2.30 hours\", \"More than 1.30 - less than 2.30 hours\", \"More than 1.30 - less than 2.30 hours\", \"More than 1.30 - less than 2.30 hours\", \"More than 1.30 - less than 2.30 hours\", \"More than 1.30 - less than 2.30 hours\", \"More than 1.30 - less than 2.30 hours\", \"More than 1.30 - less than 2.30 hours\", \"More than 1.30 - less than 2.30 hours\", \"More than 1.30 - less than 2.30 hours\", \"More than 1.30 - less than 2.30 hours\", \"More than 1.30 - less than 2.30 hours\", \"More than 1.30 - less than 2.30 hours\", \"More than 1.30 - less than 2.30 hours\", \"More than 1.30 - less than 2.30 hours\", \"More than 1.30 - less than 2.30 hours\", \"More than 1.30 - less than 2.30 hours\", \"More than 1.30 - less than 2.30 hours\", \"More than 1.30 - less than 2.30 hours\", \"More than 1.30 - less than 2.30 hours\", \"More than 1.30 - less than 2.30 hours\", \"More than 1.30 - less than 2.30 hours\", \"More than 1.30 - less than 2.30 hours\", \"More than 1.30 - less than 2.30 hours\", \"More than 1.30 - less than 2.30 hours\", \"More than 1.30 - less than 2.30 hours\", \"More than 1.30 - less than 2.30 hours\", \"More than 1.30 - less than 2.30 hours\", \"More than 1.30 - less than 2.30 hours\", \"More than 1.30 - less than 2.30 hours\", \"More than 1.30 - less than 2.30 hours\", \"More than 1.30 - less than 2.30 hours\", \"More than 1.30 - less than 2.30 hours\", \"More than 1.30 - less than 2.30 hours\", \"More than 1.30 - less than 2.30 hours\", \"More than 1.30 - less than 2.30 hours\", \"More than 1.30 - less than 2.30 hours\", \"More than 1.30 - less than 2.30 hours\", \"More than 1.30 - less than 2.30 hours\", \"More than 1.30 - less than 2.30 hours\", \"More than 1.30 - less than 2.30 hours\", \"More than 1.30 - less than 2.30 hours\", \"More than 1.30 - less than 2.30 hours\", \"More than 1.30 - less than 2.30 hours\", \"More than 1.30 - less than 2.30 hours\", \"More than 1.30 - less than 2.30 hours\", \"More than 1.30 - less than 2.30 hours\", \"More than 1.30 - less than 2.30 hours\", \"More than 1.30 - less than 2.30 hours\", \"More than 1.30 - less than 2.30 hours\", \"More than 1.30 - less than 2.30 hours\", \"More than 1.30 - less than 2.30 hours\", \"More than 1.30 - less than 2.30 hours\", \"More than 1.30 - less than 2.30 hours\", \"More than 1.30 - less than 2.30 hours\", \"More than 1.30 - less than 2.30 hours\", \"More than 1.30 - less than 2.30 hours\", \"More than 1.30 - less than 2.30 hours\", \"More than 1.30 - less than 2.30 hours\", \"More than 1.30 - less than 2.30 hours\", \"More than 1.30 - less than 2.30 hours\", \"More than 1.30 - less than 2.30 hours\", \"More than 1.30 - less than 2.30 hours\", \"More than 1.30 - less than 2.30 hours\", \"More than 1.30 - less than 2.30 hours\", \"More than 1.30 - less than 2.30 hours\", \"More than 1.30 - less than 2.30 hours\", \"More than 1.30 - less than 2.30 hours\", \"More than 1.30 - less than 2.30 hours\", \"More than 1.30 - less than 2.30 hours\", \"More than 1.30 - less than 2.30 hours\", \"More than 1.30 - less than 2.30 hours\", \"More than 1.30 - less than 2.30 hours\", \"More than 1.30 - less than 2.30 hours\", \"More than 1.30 - less than 2.30 hours\", \"More than 1.30 - less than 2.30 hours\", \"More than 1.30 - less than 2.30 hours\", \"More than 1.30 - less than 2.30 hours\", \"More than 1.30 - less than 2.30 hours\", \"More than 1.30 - less than 2.30 hours\", \"More than 1.30 - less than 2.30 hours\", \"More than 1.30 - less than 2.30 hours\", \"More than 1.30 - less than 2.30 hours\", \"More than 1.30 - less than 2.30 hours\", \"More than 1.30 - less than 2.30 hours\", \"More than 1.30 - less than 2.30 hours\", \"More than 1.30 - less than 2.30 hours\", \"More than 1.30 - less than 2.30 hours\", \"More than 1.30 - less than 2.30 hours\", \"More than 1.30 - less than 2.30 hours\", \"More than 1.30 - less than 2.30 hours\", \"More than 1.30 - less than 2.30 hours\", \"More than 1.30 - less than 2.30 hours\", \"More than 1.30 - less than 2.30 hours\", \"More than 1.30 - less than 2.30 hours\", \"More than 1.30 - less than 2.30 hours\", \"More than 1.30 - less than 2.30 hours\", \"More than 1.30 - less than 2.30 hours\", \"More than 1.30 - less than 2.30 hours\", \"More than 1.30 - less than 2.30 hours\", \"More than 1.30 - less than 2.30 hours\", \"More than 1.30 - less than 2.30 hours\", \"More than 1.30 - less than 2.30 hours\", \"More than 1.30 - less than 2.30 hours\", \"More than 1.30 - less than 2.30 hours\", \"More than 1.30 - less than 2.30 hours\", \"More than 1.30 - less than 2.30 hours\", \"More than 1.30 - less than 2.30 hours\", \"More than 1.30 - less than 2.30 hours\", \"More than 1.30 - less than 2.30 hours\", \"More than 1.30 - less than 2.30 hours\", \"More than 1.30 - less than 2.30 hours\", \"More than 1.30 - less than 2.30 hours\", \"More than 1.30 - less than 2.30 hours\", \"More than 1.30 - less than 2.30 hours\", \"More than 1.30 - less than 2.30 hours\", \"More than 1.30 - less than 2.30 hours\", \"More than 1.30 - less than 2.30 hours\", \"More than 1.30 - less than 2.30 hours\", \"More than 1.30 - less than 2.30 hours\", \"More than 1.30 - less than 2.30 hours\", \"More than 1.30 - less than 2.30 hours\", \"More than 1.30 - less than 2.30 hours\", \"More than 1.30 - less than 2.30 hours\", \"More than 1.30 - less than 2.30 hours\", \"More than 1.30 - less than 2.30 hours\", \"More than 1.30 - less than 2.30 hours\", \"More than 1.30 - less than 2.30 hours\", \"More than 1.30 - less than 2.30 hours\", \"More than 1.30 - less than 2.30 hours\", \"More than 1.30 - less than 2.30 hours\", \"More than 1.30 - less than 2.30 hours\", \"More than 1.30 - less than 2.30 hours\", \"More than 1.30 - less than 2.30 hours\", \"More than 1.30 - less than 2.30 hours\", \"More than 1.30 - less than 2.30 hours\", \"More than 1.30 - less than 2.30 hours\", \"More than 1.30 - less than 2.30 hours\", \"More than 1.30 - less than 2.30 hours\", \"More than 1.30 - less than 2.30 hours\", \"More than 1.30 - less than 2.30 hours\", \"More than 1.30 - less than 2.30 hours\", \"More than 1.30 - less than 2.30 hours\", \"More than 1.30 - less than 2.30 hours\", \"More than 1.30 - less than 2.30 hours\", \"More than 1.30 - less than 2.30 hours\", \"More than 1.30 - less than 2.30 hours\", \"More than 1.30 - less than 2.30 hours\", \"More than 1.30 - less than 2.30 hours\", \"More than 1.30 - less than 2.30 hours\", \"More than 1.30 - less than 2.30 hours\", \"More than 1.30 - less than 2.30 hours\", \"More than 1.30 - less than 2.30 hours\", \"More than 1.30 - less than 2.30 hours\", \"More than 1.30 - less than 2.30 hours\", \"More than 1.30 - less than 2.30 hours\", \"More than 1.30 - less than 2.30 hours\", \"More than 1.30 - less than 2.30 hours\", \"More than 1.30 - less than 2.30 hours\", \"More than 1.30 - less than 2.30 hours\", \"More than 1.30 - less than 2.30 hours\", \"More than 1.30 - less than 2.30 hours\", \"More than 1.30 - less than 2.30 hours\", \"More than 1.30 - less than 2.30 hours\", \"More than 1.30 - less than 2.30 hours\", \"More than 1.30 - less than 2.30 hours\", \"More than 1.30 - less than 2.30 hours\", \"More than 1.30 - less than 2.30 hours\", \"More than 1.30 - less than 2.30 hours\", \"More than 1.30 - less than 2.30 hours\", \"More than 1.30 - less than 2.30 hours\", \"More than 1.30 - less than 2.30 hours\", \"More than 1.30 - less than 2.30 hours\", \"More than 1.30 - less than 2.30 hours\", \"More than 1.30 - less than 2.30 hours\", \"More than 1.30 - less than 2.30 hours\", \"More than 1.30 - less than 2.30 hours\", \"More than 1.30 - less than 2.30 hours\", \"More than 1.30 - less than 2.30 hours\", \"More than 1.30 - less than 2.30 hours\", \"More than 1.30 - less than 2.30 hours\", \"More than 1.30 - less than 2.30 hours\", \"More than 1.30 - less than 2.30 hours\", \"More than 1.30 - less than 2.30 hours\", \"More than 1.30 - less than 2.30 hours\", \"More than 1.30 - less than 2.30 hours\", \"More than 1.30 - less than 2.30 hours\", \"More than 1.30 - less than 2.30 hours\", \"More than 1.30 - less than 2.30 hours\", \"More than 1.30 - less than 2.30 hours\", \"More than 1.30 - less than 2.30 hours\", \"More than 1.30 - less than 2.30 hours\", \"More than 1.30 - less than 2.30 hours\", \"More than 1.30 - less than 2.30 hours\", \"More than 1.30 - less than 2.30 hours\", \"More than 1.30 - less than 2.30 hours\", \"More than 1.30 - less than 2.30 hours\", \"More than 1.30 - less than 2.30 hours\", \"More than 1.30 - less than 2.30 hours\", \"More than 1.30 - less than 2.30 hours\", \"More than 1.30 - less than 2.30 hours\", \"More than 1.30 - less than 2.30 hours\", \"More than 1.30 - less than 2.30 hours\", \"More than 1.30 - less than 2.30 hours\", \"More than 1.30 - less than 2.30 hours\", \"More than 1.30 - less than 2.30 hours\", \"More than 1.30 - less than 2.30 hours\", \"More than 1.30 - less than 2.30 hours\", \"More than 1.30 - less than 2.30 hours\", \"More than 1.30 - less than 2.30 hours\", \"More than 1.30 - less than 2.30 hours\", \"More than 1.30 - less than 2.30 hours\", \"More than 1.30 - less than 2.30 hours\", \"More than 1.30 - less than 2.30 hours\", \"More than 1.30 - less than 2.30 hours\", \"More than 1.30 - less than 2.30 hours\", \"More than 1.30 - less than 2.30 hours\", \"More than 1.30 - less than 2.30 hours\", \"More than 1.30 - less than 2.30 hours\", \"More than 1.30 - less than 2.30 hours\", \"More than 1.30 - less than 2.30 hours\", \"More than 1.30 - less than 2.30 hours\", \"More than 1.30 - less than 2.30 hours\", \"More than 1.30 - less than 2.30 hours\", \"More than 1.30 - less than 2.30 hours\", \"More than 1.30 - less than 2.30 hours\", \"More than 1.30 - less than 2.30 hours\", \"More than 1.30 - less than 2.30 hours\", \"More than 1.30 - less than 2.30 hours\", \"More than 1.30 - less than 2.30 hours\", \"More than 1.30 - less than 2.30 hours\", \"More than 1.30 - less than 2.30 hours\", \"More than 1.30 - less than 2.30 hours\", \"More than 1.30 - less than 2.30 hours\", \"More than 1.30 - less than 2.30 hours\", \"More than 1.30 - less than 2.30 hours\", \"More than 1.30 - less than 2.30 hours\", \"More than 1.30 - less than 2.30 hours\", \"More than 1.30 - less than 2.30 hours\", \"More than 1.30 - less than 2.30 hours\", \"More than 1.30 - less than 2.30 hours\", \"More than 1.30 - less than 2.30 hours\", \"More than 1.30 - less than 2.30 hours\", \"More than 1.30 - less than 2.30 hours\", \"More than 1.30 - less than 2.30 hours\", \"More than 1.30 - less than 2.30 hours\", \"More than 1.30 - less than 2.30 hours\", \"More than 1.30 - less than 2.30 hours\", \"More than 1.30 - less than 2.30 hours\", \"More than 1.30 - less than 2.30 hours\", \"More than 1.30 - less than 2.30 hours\", \"More than 1.30 - less than 2.30 hours\", \"More than 1.30 - less than 2.30 hours\", \"More than 1.30 - less than 2.30 hours\", \"More than 1.30 - less than 2.30 hours\", \"More than 1.30 - less than 2.30 hours\", \"More than 1.30 - less than 2.30 hours\", \"More than 1.30 - less than 2.30 hours\", \"More than 1.30 - less than 2.30 hours\", \"More than 1.30 - less than 2.30 hours\", \"More than 1.30 - less than 2.30 hours\", \"More than 1.30 - less than 2.30 hours\", \"More than 1.30 - less than 2.30 hours\", \"More than 1.30 - less than 2.30 hours\", \"More than 1.30 - less than 2.30 hours\", \"More than 1.30 - less than 2.30 hours\", \"More than 1.30 - less than 2.30 hours\", \"More than 1.30 - less than 2.30 hours\", \"More than 1.30 - less than 2.30 hours\", \"More than 1.30 - less than 2.30 hours\", \"More than 1.30 - less than 2.30 hours\", \"More than 1.30 - less than 2.30 hours\", \"More than 1.30 - less than 2.30 hours\", \"More than 1.30 - less than 2.30 hours\", \"More than 1.30 - less than 2.30 hours\", \"More than 1.30 - less than 2.30 hours\", \"More than 1.30 - less than 2.30 hours\", \"More than 1.30 - less than 2.30 hours\", \"More than 1.30 - less than 2.30 hours\", \"More than 1.30 - less than 2.30 hours\", \"More than 1.30 - less than 2.30 hours\", \"More than 1.30 - less than 2.30 hours\", \"More than 1.30 - less than 2.30 hours\", \"More than 1.30 - less than 2.30 hours\", \"More than 1.30 - less than 2.30 hours\", \"More than 1.30 - less than 2.30 hours\", \"More than 1.30 - less than 2.30 hours\", \"More than 1.30 - less than 2.30 hours\", \"More than 1.30 - less than 2.30 hours\", \"More than 1.30 - less than 2.30 hours\", \"More than 1.30 - less than 2.30 hours\", \"More than 1.30 - less than 2.30 hours\", \"More than 1.30 - less than 2.30 hours\", \"More than 1.30 - less than 2.30 hours\", \"More than 1.30 - less than 2.30 hours\", \"More than 1.30 - less than 2.30 hours\", \"More than 1.30 - less than 2.30 hours\", \"More than 1.30 - less than 2.30 hours\", \"More than 1.30 - less than 2.30 hours\", \"More than 1.30 - less than 2.30 hours\", \"More than 1.30 - less than 2.30 hours\", \"More than 1.30 - less than 2.30 hours\", \"More than 1.30 - less than 2.30 hours\", \"More than 1.30 - less than 2.30 hours\", \"More than 1.30 - less than 2.30 hours\", \"More than 1.30 - less than 2.30 hours\", \"More than 1.30 - less than 2.30 hours\", \"More than 1.30 - less than 2.30 hours\", \"More than 1.30 - less than 2.30 hours\", \"More than 1.30 - less than 2.30 hours\", \"More than 1.30 - less than 2.30 hours\", \"More than 1.30 - less than 2.30 hours\", \"More than 1.30 - less than 2.30 hours\", \"More than 1.30 - less than 2.30 hours\", \"More than 1.30 - less than 2.30 hours\", \"More than 1.30 - less than 2.30 hours\", \"More than 1.30 - less than 2.30 hours\", \"More than 1.30 - less than 2.30 hours\", \"More than 1.30 - less than 2.30 hours\", \"More than 1.30 - less than 2.30 hours\", \"More than 1.30 - less than 2.30 hours\", \"More than 1.30 - less than 2.30 hours\", \"More than 1.30 - less than 2.30 hours\", \"More than 1.30 - less than 2.30 hours\", \"More than 1.30 - less than 2.30 hours\", \"More than 1.30 - less than 2.30 hours\", \"More than 1.30 - less than 2.30 hours\", \"More than 1.30 - less than 2.30 hours\", \"More than 1.30 - less than 2.30 hours\", \"More than 1.30 - less than 2.30 hours\", \"More than 1.30 - less than 2.30 hours\", \"More than 1.30 - less than 2.30 hours\", \"More than 1.30 - less than 2.30 hours\", \"More than 1.30 - less than 2.30 hours\", \"More than 1.30 - less than 2.30 hours\", \"More than 1.30 - less than 2.30 hours\", \"More than 1.30 - less than 2.30 hours\", \"More than 1.30 - less than 2.30 hours\", \"More than 1.30 - less than 2.30 hours\", \"More than 1.30 - less than 2.30 hours\", \"More than 1.30 - less than 2.30 hours\", \"More than 1.30 - less than 2.30 hours\", \"More than 1.30 - less than 2.30 hours\", \"More than 1.30 - less than 2.30 hours\", \"More than 1.30 - less than 2.30 hours\", \"More than 1.30 - less than 2.30 hours\", \"More than 1.30 - less than 2.30 hours\", \"More than 1.30 - less than 2.30 hours\", \"More than 1.30 - less than 2.30 hours\", \"More than 1.30 - less than 2.30 hours\", \"More than 1.30 - less than 2.30 hours\", \"More than 1.30 - less than 2.30 hours\", \"More than 1.30 - less than 2.30 hours\", \"More than 1.30 - less than 2.30 hours\", \"More than 1.30 - less than 2.30 hours\", \"More than 1.30 - less than 2.30 hours\", \"More than 1.30 - less than 2.30 hours\", \"More than 1.30 - less than 2.30 hours\", \"More than 1.30 - less than 2.30 hours\", \"More than 1.30 - less than 2.30 hours\", \"More than 1.30 - less than 2.30 hours\", \"More than 1.30 - less than 2.30 hours\", \"More than 1.30 - less than 2.30 hours\", \"More than 1.30 - less than 2.30 hours\", \"More than 1.30 - less than 2.30 hours\", \"More than 1.30 - less than 2.30 hours\", \"More than 1.30 - less than 2.30 hours\", \"More than 1.30 - less than 2.30 hours\", \"More than 1.30 - less than 2.30 hours\", \"More than 1.30 - less than 2.30 hours\", \"More than 1.30 - less than 2.30 hours\", \"More than 1.30 - less than 2.30 hours\", \"More than 1.30 - less than 2.30 hours\", \"More than 1.30 - less than 2.30 hours\", \"More than 1.30 - less than 2.30 hours\", \"More than 1.30 - less than 2.30 hours\", \"More than 1.30 - less than 2.30 hours\", \"More than 1.30 - less than 2.30 hours\", \"More than 1.30 - less than 2.30 hours\", \"More than 1.30 - less than 2.30 hours\", \"More than 1.30 - less than 2.30 hours\", \"More than 1.30 - less than 2.30 hours\", \"More than 1.30 - less than 2.30 hours\", \"More than 1.30 - less than 2.30 hours\", \"More than 1.30 - less than 2.30 hours\", \"More than 1.30 - less than 2.30 hours\", \"More than 1.30 - less than 2.30 hours\", \"More than 1.30 - less than 2.30 hours\", \"More than 1.30 - less than 2.30 hours\", \"More than 1.30 - less than 2.30 hours\", \"More than 1.30 - less than 2.30 hours\", \"More than 1.30 - less than 2.30 hours\", \"More than 1.30 - less than 2.30 hours\", \"More than 1.30 - less than 2.30 hours\", \"More than 1.30 - less than 2.30 hours\", \"More than 1.30 - less than 2.30 hours\", \"More than 1.30 - less than 2.30 hours\", \"More than 1.30 - less than 2.30 hours\", \"More than 1.30 - less than 2.30 hours\", \"More than 1.30 - less than 2.30 hours\", \"More than 1.30 - less than 2.30 hours\", \"More than 1.30 - less than 2.30 hours\", \"More than 1.30 - less than 2.30 hours\", \"More than 1.30 - less than 2.30 hours\", \"More than 1.30 - less than 2.30 hours\", \"More than 1.30 - less than 2.30 hours\", \"More than 1.30 - less than 2.30 hours\", \"More than 1.30 - less than 2.30 hours\", \"More than 1.30 - less than 2.30 hours\", \"More than 1.30 - less than 2.30 hours\", \"More than 1.30 - less than 2.30 hours\", \"More than 1.30 - less than 2.30 hours\", \"More than 1.30 - less than 2.30 hours\", \"More than 1.30 - less than 2.30 hours\", \"More than 1.30 - less than 2.30 hours\", \"More than 1.30 - less than 2.30 hours\", \"More than 1.30 - less than 2.30 hours\", \"More than 1.30 - less than 2.30 hours\", \"More than 1.30 - less than 2.30 hours\", \"More than 1.30 - less than 2.30 hours\", \"More than 1.30 - less than 2.30 hours\", \"More than 1.30 - less than 2.30 hours\", \"More than 1.30 - less than 2.30 hours\", \"More than 1.30 - less than 2.30 hours\", \"More than 1.30 - less than 2.30 hours\", \"More than 1.30 - less than 2.30 hours\", \"More than 1.30 - less than 2.30 hours\", \"More than 1.30 - less than 2.30 hours\", \"More than 1.30 - less than 2.30 hours\", \"More than 1.30 - less than 2.30 hours\", \"More than 1.30 - less than 2.30 hours\", \"More than 1.30 - less than 2.30 hours\", \"More than 1.30 - less than 2.30 hours\", \"More than 1.30 - less than 2.30 hours\", \"More than 1.30 - less than 2.30 hours\", \"More than 1.30 - less than 2.30 hours\", \"More than 1.30 - less than 2.30 hours\", \"More than 1.30 - less than 2.30 hours\", \"More than 1.30 - less than 2.30 hours\", \"More than 1.30 - less than 2.30 hours\", \"More than 1.30 - less than 2.30 hours\", \"More than 1.30 - less than 2.30 hours\", \"More than 1.30 - less than 2.30 hours\", \"More than 1.30 - less than 2.30 hours\", \"More than 1.30 - less than 2.30 hours\", \"More than 1.30 - less than 2.30 hours\", \"More than 1.30 - less than 2.30 hours\", \"More than 1.30 - less than 2.30 hours\", \"More than 1.30 - less than 2.30 hours\", \"More than 1.30 - less than 2.30 hours\", \"More than 1.30 - less than 2.30 hours\", \"More than 1.30 - less than 2.30 hours\", \"More than 1.30 - less than 2.30 hours\", \"More than 1.30 - less than 2.30 hours\", \"More than 1.30 - less than 2.30 hours\", \"More than 1.30 - less than 2.30 hours\", \"More than 1.30 - less than 2.30 hours\", \"More than 1.30 - less than 2.30 hours\", \"More than 1.30 - less than 2.30 hours\", \"More than 1.30 - less than 2.30 hours\", \"More than 1.30 - less than 2.30 hours\", \"More than 1.30 - less than 2.30 hours\", \"More than 1.30 - less than 2.30 hours\", \"More than 1.30 - less than 2.30 hours\", \"More than 1.30 - less than 2.30 hours\", \"More than 1.30 - less than 2.30 hours\", \"More than 1.30 - less than 2.30 hours\", \"More than 1.30 - less than 2.30 hours\", \"More than 1.30 - less than 2.30 hours\", \"More than 1.30 - less than 2.30 hours\", \"More than 1.30 - less than 2.30 hours\", \"More than 1.30 - less than 2.30 hours\", \"More than 1.30 - less than 2.30 hours\", \"More than 1.30 - less than 2.30 hours\", \"More than 1.30 - less than 2.30 hours\", \"More than 1.30 - less than 2.30 hours\", \"More than 1.30 - less than 2.30 hours\", \"More than 1.30 - less than 2.30 hours\", \"More than 1.30 - less than 2.30 hours\", \"More than 1.30 - less than 2.30 hours\", \"More than 1.30 - less than 2.30 hours\", \"More than 1.30 - less than 2.30 hours\", \"More than 1.30 - less than 2.30 hours\", \"More than 1.30 - less than 2.30 hours\", \"More than 1.30 - less than 2.30 hours\", \"More than 1.30 - less than 2.30 hours\", \"More than 1.30 - less than 2.30 hours\", \"More than 1.30 - less than 2.30 hours\", \"More than 1.30 - less than 2.30 hours\", \"More than 1.30 - less than 2.30 hours\", \"More than 1.30 - less than 2.30 hours\", \"More than 1.30 - less than 2.30 hours\", \"More than 1.30 - less than 2.30 hours\", \"More than 1.30 - less than 2.30 hours\", \"More than 1.30 - less than 2.30 hours\", \"More than 1.30 - less than 2.30 hours\", \"More than 1.30 - less than 2.30 hours\", \"More than 1.30 - less than 2.30 hours\", \"More than 1.30 - less than 2.30 hours\", \"More than 1.30 - less than 2.30 hours\", \"More than 1.30 - less than 2.30 hours\", \"More than 1.30 - less than 2.30 hours\", \"More than 1.30 - less than 2.30 hours\", \"More than 1.30 - less than 2.30 hours\", \"More than 1.30 - less than 2.30 hours\", \"More than 1.30 - less than 2.30 hours\", \"More than 1.30 - less than 2.30 hours\", \"More than 1.30 - less than 2.30 hours\", \"More than 1.30 - less than 2.30 hours\", \"More than 1.30 - less than 2.30 hours\", \"More than 1.30 - less than 2.30 hours\", \"More than 1.30 - less than 2.30 hours\", \"More than 1.30 - less than 2.30 hours\", \"More than 1.30 - less than 2.30 hours\", \"More than 1.30 - less than 2.30 hours\", \"More than 1.30 - less than 2.30 hours\", \"More than 1.30 - less than 2.30 hours\", \"More than 1.30 - less than 2.30 hours\", \"More than 1.30 - less than 2.30 hours\", \"More than 1.30 - less than 2.30 hours\", \"More than 1.30 - less than 2.30 hours\", \"More than 1.30 - less than 2.30 hours\", \"More than 1.30 - less than 2.30 hours\", \"More than 1.30 - less than 2.30 hours\", \"More than 1.30 - less than 2.30 hours\", \"More than 1.30 - less than 2.30 hours\", \"More than 1.30 - less than 2.30 hours\", \"More than 1.30 - less than 2.30 hours\", \"More than 1.30 - less than 2.30 hours\", \"More than 1.30 - less than 2.30 hours\", \"More than 1.30 - less than 2.30 hours\", \"More than 1.30 - less than 2.30 hours\", \"More than 1.30 - less than 2.30 hours\", \"More than 1.30 - less than 2.30 hours\", \"More than 1.30 - less than 2.30 hours\", \"More than 1.30 - less than 2.30 hours\", \"More than 1.30 - less than 2.30 hours\", \"More than 1.30 - less than 2.30 hours\", \"More than 1.30 - less than 2.30 hours\", \"More than 1.30 - less than 2.30 hours\", \"More than 1.30 - less than 2.30 hours\", \"More than 1.30 - less than 2.30 hours\", \"More than 1.30 - less than 2.30 hours\", \"More than 1.30 - less than 2.30 hours\", \"More than 1.30 - less than 2.30 hours\", \"More than 1.30 - less than 2.30 hours\", \"More than 1.30 - less than 2.30 hours\", \"More than 1.30 - less than 2.30 hours\", \"More than 1.30 - less than 2.30 hours\", \"More than 1.30 - less than 2.30 hours\", \"More than 1.30 - less than 2.30 hours\", \"More than 1.30 - less than 2.30 hours\", \"More than 1.30 - less than 2.30 hours\", \"More than 1.30 - less than 2.30 hours\", \"More than 1.30 - less than 2.30 hours\", \"More than 1.30 - less than 2.30 hours\", \"More than 1.30 - less than 2.30 hours\", \"More than 1.30 - less than 2.30 hours\", \"More than 1.30 - less than 2.30 hours\", \"More than 1.30 - less than 2.30 hours\", \"More than 1.30 - less than 2.30 hours\", \"More than 1.30 - less than 2.30 hours\", \"More than 1.30 - less than 2.30 hours\", \"More than 1.30 - less than 2.30 hours\", \"More than 1.30 - less than 2.30 hours\", \"More than 1.30 - less than 2.30 hours\", \"More than 1.30 - less than 2.30 hours\", \"More than 1.30 - less than 2.30 hours\", \"More than 1.30 - less than 2.30 hours\", \"More than 1.30 - less than 2.30 hours\", \"More than 1.30 - less than 2.30 hours\", \"More than 1.30 - less than 2.30 hours\", \"More than 1.30 - less than 2.30 hours\", \"More than 1.30 - less than 2.30 hours\", \"More than 1.30 - less than 2.30 hours\", \"More than 1.30 - less than 2.30 hours\", \"More than 1.30 - less than 2.30 hours\", \"More than 1.30 - less than 2.30 hours\", \"More than 1.30 - less than 2.30 hours\", \"More than 1.30 - less than 2.30 hours\", \"More than 1.30 - less than 2.30 hours\", \"More than 1.30 - less than 2.30 hours\", \"More than 1.30 - less than 2.30 hours\", \"More than 1.30 - less than 2.30 hours\", \"More than 1.30 - less than 2.30 hours\", \"More than 1.30 - less than 2.30 hours\", \"More than 1.30 - less than 2.30 hours\", \"More than 1.30 - less than 2.30 hours\", \"More than 1.30 - less than 2.30 hours\", \"More than 1.30 - less than 2.30 hours\", \"More than 1.30 - less than 2.30 hours\", \"More than 1.30 - less than 2.30 hours\", \"More than 1.30 - less than 2.30 hours\", \"More than 1.30 - less than 2.30 hours\", \"More than 1.30 - less than 2.30 hours\", \"More than 1.30 - less than 2.30 hours\", \"More than 1.30 - less than 2.30 hours\", \"More than 1.30 - less than 2.30 hours\", \"More than 1.30 - less than 2.30 hours\", \"More than 1.30 - less than 2.30 hours\", \"More than 1.30 - less than 2.30 hours\", \"More than 1.30 - less than 2.30 hours\", \"More than 1.30 - less than 2.30 hours\", \"More than 1.30 - less than 2.30 hours\", \"More than 1.30 - less than 2.30 hours\", \"More than 1.30 - less than 2.30 hours\", \"More than 1.30 - less than 2.30 hours\", \"More than 1.30 - less than 2.30 hours\", \"More than 1.30 - less than 2.30 hours\", \"More than 1.30 - less than 2.30 hours\", \"More than 1.30 - less than 2.30 hours\", \"More than 1.30 - less than 2.30 hours\", \"More than 1.30 - less than 2.30 hours\", \"More than 1.30 - less than 2.30 hours\", \"More than 1.30 - less than 2.30 hours\", \"More than 1.30 - less than 2.30 hours\", \"More than 1.30 - less than 2.30 hours\", \"More than 1.30 - less than 2.30 hours\", \"More than 1.30 - less than 2.30 hours\", \"More than 1.30 - less than 2.30 hours\", \"More than 1.30 - less than 2.30 hours\", \"More than 1.30 - less than 2.30 hours\", \"More than 1.30 - less than 2.30 hours\", \"More than 1.30 - less than 2.30 hours\", \"More than 1.30 - less than 2.30 hours\", \"More than 1.30 - less than 2.30 hours\", \"More than 1.30 - less than 2.30 hours\", \"More than 1.30 - less than 2.30 hours\", \"More than 1.30 - less than 2.30 hours\", \"More than 1.30 - less than 2.30 hours\", \"More than 1.30 - less than 2.30 hours\", \"More than 1.30 - less than 2.30 hours\", \"More than 1.30 - less than 2.30 hours\", \"More than 1.30 - less than 2.30 hours\", \"More than 1.30 - less than 2.30 hours\", \"More than 1.30 - less than 2.30 hours\", \"More than 1.30 - less than 2.30 hours\", \"More than 1.30 - less than 2.30 hours\", \"More than 1.30 - less than 2.30 hours\", \"More than 1.30 - less than 2.30 hours\", \"More than 1.30 - less than 2.30 hours\", \"More than 1.30 - less than 2.30 hours\", \"More than 1.30 - less than 2.30 hours\", \"More than 1.30 - less than 2.30 hours\", \"More than 1.30 - less than 2.30 hours\", \"More than 1.30 - less than 2.30 hours\", \"More than 1.30 - less than 2.30 hours\", \"More than 1.30 - less than 2.30 hours\", \"More than 1.30 - less than 2.30 hours\", \"More than 1.30 - less than 2.30 hours\", \"More than 1.30 - less than 2.30 hours\", \"More than 1.30 - less than 2.30 hours\", \"More than 1.30 - less than 2.30 hours\", \"More than 1.30 - less than 2.30 hours\", \"More than 1.30 - less than 2.30 hours\", \"More than 1.30 - less than 2.30 hours\", \"More than 1.30 - less than 2.30 hours\", \"More than 1.30 - less than 2.30 hours\", \"More than 1.30 - less than 2.30 hours\", \"More than 1.30 - less than 2.30 hours\", \"More than 1.30 - less than 2.30 hours\", \"More than 1.30 - less than 2.30 hours\", \"More than 1.30 - less than 2.30 hours\", \"More than 1.30 - less than 2.30 hours\", \"More than 1.30 - less than 2.30 hours\", \"More than 1.30 - less than 2.30 hours\", \"More than 1.30 - less than 2.30 hours\", \"More than 1.30 - less than 2.30 hours\", \"More than 1.30 - less than 2.30 hours\", \"More than 1.30 - less than 2.30 hours\", \"More than 1.30 - less than 2.30 hours\", \"More than 1.30 - less than 2.30 hours\", \"More than 1.30 - less than 2.30 hours\", \"More than 1.30 - less than 2.30 hours\", \"More than 1.30 - less than 2.30 hours\", \"More than 1.30 - less than 2.30 hours\", \"More than 1.30 - less than 2.30 hours\", \"More than 1.30 - less than 2.30 hours\", \"More than 1.30 - less than 2.30 hours\", \"More than 1.30 - less than 2.30 hours\", \"More than 1.30 - less than 2.30 hours\", \"More than 1.30 - less than 2.30 hours\", \"More than 1.30 - less than 2.30 hours\", \"More than 1.30 - less than 2.30 hours\", \"More than 1.30 - less than 2.30 hours\", \"More than 1.30 - less than 2.30 hours\", \"More than 1.30 - less than 2.30 hours\", \"More than 1.30 - less than 2.30 hours\", \"More than 1.30 - less than 2.30 hours\", \"More than 1.30 - less than 2.30 hours\", \"More than 1.30 - less than 2.30 hours\", \"More than 1.30 - less than 2.30 hours\", \"More than 1.30 - less than 2.30 hours\", \"More than 1.30 - less than 2.30 hours\", \"More than 1.30 - less than 2.30 hours\", \"More than 1.30 - less than 2.30 hours\", \"More than 1.30 - less than 2.30 hours\", \"More than 1.30 - less than 2.30 hours\", \"More than 1.30 - less than 2.30 hours\", \"More than 1.30 - less than 2.30 hours\", \"More than 1.30 - less than 2.30 hours\", \"More than 1.30 - less than 2.30 hours\", \"More than 1.30 - less than 2.30 hours\", \"More than 1.30 - less than 2.30 hours\", \"More than 1.30 - less than 2.30 hours\", \"More than 1.30 - less than 2.30 hours\", \"More than 1.30 - less than 2.30 hours\", \"More than 1.30 - less than 2.30 hours\", \"More than 1.30 - less than 2.30 hours\", \"More than 1.30 - less than 2.30 hours\", \"More than 1.30 - less than 2.30 hours\", \"More than 1.30 - less than 2.30 hours\", \"More than 1.30 - less than 2.30 hours\", \"More than 1.30 - less than 2.30 hours\", \"More than 1.30 - less than 2.30 hours\", \"More than 1.30 - less than 2.30 hours\", \"More than 1.30 - less than 2.30 hours\", \"More than 1.30 - less than 2.30 hours\", \"More than 1.30 - less than 2.30 hours\", \"More than 1.30 - less than 2.30 hours\", \"More than 1.30 - less than 2.30 hours\", \"More than 1.30 - less than 2.30 hours\", \"More than 1.30 - less than 2.30 hours\", \"More than 1.30 - less than 2.30 hours\", \"More than 1.30 - less than 2.30 hours\", \"More than 1.30 - less than 2.30 hours\", \"More than 1.30 - less than 2.30 hours\", \"More than 1.30 - less than 2.30 hours\", \"More than 1.30 - less than 2.30 hours\", \"More than 1.30 - less than 2.30 hours\", \"More than 1.30 - less than 2.30 hours\", \"More than 1.30 - less than 2.30 hours\", \"More than 1.30 - less than 2.30 hours\", \"More than 1.30 - less than 2.30 hours\", \"More than 1.30 - less than 2.30 hours\", \"More than 1.30 - less than 2.30 hours\", \"More than 1.30 - less than 2.30 hours\", \"More than 1.30 - less than 2.30 hours\", \"More than 1.30 - less than 2.30 hours\", \"More than 1.30 - less than 2.30 hours\", \"More than 1.30 - less than 2.30 hours\", \"More than 1.30 - less than 2.30 hours\", \"More than 1.30 - less than 2.30 hours\", \"More than 1.30 - less than 2.30 hours\", \"More than 1.30 - less than 2.30 hours\", \"More than 1.30 - less than 2.30 hours\", \"More than 1.30 - less than 2.30 hours\", \"More than 1.30 - less than 2.30 hours\", \"More than 1.30 - less than 2.30 hours\", \"More than 1.30 - less than 2.30 hours\", \"More than 1.30 - less than 2.30 hours\", \"More than 1.30 - less than 2.30 hours\", \"More than 1.30 - less than 2.30 hours\", \"More than 1.30 - less than 2.30 hours\", \"More than 1.30 - less than 2.30 hours\", \"More than 1.30 - less than 2.30 hours\", \"More than 1.30 - less than 2.30 hours\", \"More than 1.30 - less than 2.30 hours\", \"More than 1.30 - less than 2.30 hours\", \"More than 1.30 - less than 2.30 hours\", \"More than 1.30 - less than 2.30 hours\", \"More than 1.30 - less than 2.30 hours\", \"More than 1.30 - less than 2.30 hours\", \"More than 1.30 - less than 2.30 hours\", \"More than 1.30 - less than 2.30 hours\", \"More than 1.30 - less than 2.30 hours\", \"More than 1.30 - less than 2.30 hours\", \"More than 1.30 - less than 2.30 hours\", \"More than 1.30 - less than 2.30 hours\", \"More than 1.30 - less than 2.30 hours\", \"More than 1.30 - less than 2.30 hours\", \"More than 1.30 - less than 2.30 hours\", \"More than 1.30 - less than 2.30 hours\", \"More than 1.30 - less than 2.30 hours\", \"More than 1.30 - less than 2.30 hours\", \"More than 1.30 - less than 2.30 hours\", \"More than 1.30 - less than 2.30 hours\", \"More than 1.30 - less than 2.30 hours\", \"More than 1.30 - less than 2.30 hours\", \"More than 1.30 - less than 2.30 hours\", \"More than 1.30 - less than 2.30 hours\", \"More than 1.30 - less than 2.30 hours\", \"More than 1.30 - less than 2.30 hours\", \"More than 1.30 - less than 2.30 hours\", \"More than 1.30 - less than 2.30 hours\", \"More than 1.30 - less than 2.30 hours\", \"More than 1.30 - less than 2.30 hours\", \"More than 1.30 - less than 2.30 hours\", \"More than 1.30 - less than 2.30 hours\", \"More than 1.30 - less than 2.30 hours\", \"More than 1.30 - less than 2.30 hours\", \"More than 1.30 - less than 2.30 hours\", \"More than 1.30 - less than 2.30 hours\", \"More than 1.30 - less than 2.30 hours\", \"More than 1.30 - less than 2.30 hours\", \"More than 1.30 - less than 2.30 hours\", \"More than 1.30 - less than 2.30 hours\", \"More than 1.30 - less than 2.30 hours\", \"More than 1.30 - less than 2.30 hours\", \"More than 1.30 - less than 2.30 hours\", \"More than 1.30 - less than 2.30 hours\", \"More than 1.30 - less than 2.30 hours\", \"More than 1.30 - less than 2.30 hours\", \"More than 1.30 - less than 2.30 hours\", \"More than 1.30 - less than 2.30 hours\", \"More than 1.30 - less than 2.30 hours\", \"More than 1.30 - less than 2.30 hours\", \"More than 1.30 - less than 2.30 hours\", \"More than 1.30 - less than 2.30 hours\", \"More than 1.30 - less than 2.30 hours\", \"More than 1.30 - less than 2.30 hours\", \"More than 1.30 - less than 2.30 hours\", \"More than 1.30 - less than 2.30 hours\", \"More than 1.30 - less than 2.30 hours\", \"More than 1.30 - less than 2.30 hours\", \"More than 1.30 - less than 2.30 hours\", \"More than 1.30 - less than 2.30 hours\", \"More than 1.30 - less than 2.30 hours\", \"More than 1.30 - less than 2.30 hours\", \"More than 1.30 - less than 2.30 hours\", \"More than 1.30 - less than 2.30 hours\", \"More than 1.30 - less than 2.30 hours\", \"More than 1.30 - less than 2.30 hours\", \"More than 1.30 - less than 2.30 hours\", \"More than 1.30 - less than 2.30 hours\", \"More than 1.30 - less than 2.30 hours\", \"More than 1.30 - less than 2.30 hours\", \"More than 1.30 - less than 2.30 hours\", \"More than 1.30 - less than 2.30 hours\", \"More than 1.30 - less than 2.30 hours\", \"More than 1.30 - less than 2.30 hours\", \"More than 1.30 - less than 2.30 hours\", \"More than 1.30 - less than 2.30 hours\", \"More than 1.30 - less than 2.30 hours\", \"More than 1.30 - less than 2.30 hours\", \"More than 1.30 - less than 2.30 hours\", \"More than 1.30 - less than 2.30 hours\", \"More than 1.30 - less than 2.30 hours\", \"More than 1.30 - less than 2.30 hours\", \"More than 1.30 - less than 2.30 hours\", \"More than 1.30 - less than 2.30 hours\", \"More than 1.30 - less than 2.30 hours\", \"More than 1.30 - less than 2.30 hours\", \"More than 1.30 - less than 2.30 hours\", \"More than 1.30 - less than 2.30 hours\", \"More than 1.30 - less than 2.30 hours\", \"More than 1.30 - less than 2.30 hours\", \"More than 1.30 - less than 2.30 hours\", \"More than 1.30 - less than 2.30 hours\", \"More than 1.30 - less than 2.30 hours\", \"More than 1.30 - less than 2.30 hours\", \"More than 1.30 - less than 2.30 hours\", \"More than 1.30 - less than 2.30 hours\", \"More than 1.30 - less than 2.30 hours\", \"More than 1.30 - less than 2.30 hours\", \"More than 1.30 - less than 2.30 hours\", \"More than 1.30 - less than 2.30 hours\", \"More than 1.30 - less than 2.30 hours\", \"More than 1.30 - less than 2.30 hours\", \"More than 1.30 - less than 2.30 hours\", \"More than 1.30 - less than 2.30 hours\", \"More than 1.30 - less than 2.30 hours\", \"More than 1.30 - less than 2.30 hours\", \"More than 1.30 - less than 2.30 hours\", \"More than 1.30 - less than 2.30 hours\", \"More than 1.30 - less than 2.30 hours\", \"More than 1.30 - less than 2.30 hours\", \"More than 1.30 - less than 2.30 hours\", \"More than 1.30 - less than 2.30 hours\", \"More than 1.30 - less than 2.30 hours\", \"More than 1.30 - less than 2.30 hours\", \"More than 1.30 - less than 2.30 hours\", \"More than 1.30 - less than 2.30 hours\", \"More than 1.30 - less than 2.30 hours\", \"More than 1.30 - less than 2.30 hours\", \"More than 1.30 - less than 2.30 hours\", \"More than 1.30 - less than 2.30 hours\", \"More than 1.30 - less than 2.30 hours\", \"More than 1.30 - less than 2.30 hours\", \"More than 1.30 - less than 2.30 hours\", \"More than 1.30 - less than 2.30 hours\", \"More than 1.30 - less than 2.30 hours\", \"More than 1.30 - less than 2.30 hours\", \"More than 1.30 - less than 2.30 hours\", \"More than 1.30 - less than 2.30 hours\", \"More than 1.30 - less than 2.30 hours\", \"More than 1.30 - less than 2.30 hours\", \"More than 1.30 - less than 2.30 hours\", \"More than 1.30 - less than 2.30 hours\", \"More than 1.30 - less than 2.30 hours\", \"More than 1.30 - less than 2.30 hours\", \"More than 1.30 - less than 2.30 hours\", \"More than 1.30 - less than 2.30 hours\", \"More than 1.30 - less than 2.30 hours\", \"More than 1.30 - less than 2.30 hours\", \"More than 1.30 - less than 2.30 hours\", \"More than 1.30 - less than 2.30 hours\", \"More than 1.30 - less than 2.30 hours\", \"More than 1.30 - less than 2.30 hours\", \"More than 1.30 - less than 2.30 hours\", \"More than 1.30 - less than 2.30 hours\", \"More than 1.30 - less than 2.30 hours\", \"More than 1.30 - less than 2.30 hours\", \"More than 1.30 - less than 2.30 hours\", \"More than 1.30 - less than 2.30 hours\", \"More than 1.30 - less than 2.30 hours\", \"More than 1.30 - less than 2.30 hours\", \"More than 1.30 - less than 2.30 hours\", \"More than 1.30 - less than 2.30 hours\", \"More than 1.30 - less than 2.30 hours\", \"More than 1.30 - less than 2.30 hours\", \"More than 1.30 - less than 2.30 hours\", \"More than 1.30 - less than 2.30 hours\", \"More than 1.30 - less than 2.30 hours\", \"More than 1.30 - less than 2.30 hours\", \"More than 1.30 - less than 2.30 hours\", \"More than 1.30 - less than 2.30 hours\", \"More than 1.30 - less than 2.30 hours\", \"More than 1.30 - less than 2.30 hours\", \"More than 1.30 - less than 2.30 hours\", \"More than 1.30 - less than 2.30 hours\", \"More than 1.30 - less than 2.30 hours\", \"More than 1.30 - less than 2.30 hours\", \"More than 1.30 - less than 2.30 hours\", \"More than 1.30 - less than 2.30 hours\", \"More than 1.30 - less than 2.30 hours\", \"More than 1.30 - less than 2.30 hours\", \"More than 1.30 - less than 2.30 hours\", \"More than 1.30 - less than 2.30 hours\", \"More than 1.30 - less than 2.30 hours\", \"More than 1.30 - less than 2.30 hours\", \"More than 1.30 - less than 2.30 hours\", \"More than 1.30 - less than 2.30 hours\", \"More than 1.30 - less than 2.30 hours\", \"More than 1.30 - less than 2.30 hours\", \"More than 1.30 - less than 2.30 hours\", \"More than 1.30 - less than 2.30 hours\", \"More than 1.30 - less than 2.30 hours\", \"More than 1.30 - less than 2.30 hours\", \"More than 1.30 - less than 2.30 hours\", \"More than 1.30 - less than 2.30 hours\", \"More than 1.30 - less than 2.30 hours\", \"More than 1.30 - less than 2.30 hours\", \"More than 1.30 - less than 2.30 hours\", \"More than 1.30 - less than 2.30 hours\", \"More than 1.30 - less than 2.30 hours\", \"More than 1.30 - less than 2.30 hours\", \"More than 1.30 - less than 2.30 hours\", \"More than 1.30 - less than 2.30 hours\", \"More than 1.30 - less than 2.30 hours\", \"More than 1.30 - less than 2.30 hours\", \"More than 1.30 - less than 2.30 hours\", \"More than 1.30 - less than 2.30 hours\", \"More than 1.30 - less than 2.30 hours\", \"More than 1.30 - less than 2.30 hours\", \"More than 1.30 - less than 2.30 hours\", \"More than 1.30 - less than 2.30 hours\", \"More than 1.30 - less than 2.30 hours\", \"More than 1.30 - less than 2.30 hours\", \"More than 1.30 - less than 2.30 hours\", \"More than 1.30 - less than 2.30 hours\", \"More than 1.30 - less than 2.30 hours\", \"More than 1.30 - less than 2.30 hours\", \"More than 1.30 - less than 2.30 hours\", \"More than 1.30 - less than 2.30 hours\", \"More than 1.30 - less than 2.30 hours\", \"More than 1.30 - less than 2.30 hours\", \"More than 1.30 - less than 2.30 hours\", \"More than 1.30 - less than 2.30 hours\", \"More than 1.30 - less than 2.30 hours\", \"More than 1.30 - less than 2.30 hours\", \"More than 1.30 - less than 2.30 hours\", \"More than 1.30 - less than 2.30 hours\", \"More than 1.30 - less than 2.30 hours\", \"More than 1.30 - less than 2.30 hours\", \"More than 1.30 - less than 2.30 hours\", \"More than 1.30 - less than 2.30 hours\", \"More than 1.30 - less than 2.30 hours\", \"More than 1.30 - less than 2.30 hours\", \"More than 1.30 - less than 2.30 hours\", \"More than 1.30 - less than 2.30 hours\", \"More than 1.30 - less than 2.30 hours\", \"More than 1.30 - less than 2.30 hours\", \"More than 1.30 - less than 2.30 hours\", \"More than 1.30 - less than 2.30 hours\", \"More than 1.30 - less than 2.30 hours\", \"More than 1.30 - less than 2.30 hours\", \"More than 1.30 - less than 2.30 hours\", \"More than 1.30 - less than 2.30 hours\", \"More than 1.30 - less than 2.30 hours\", \"More than 1.30 - less than 2.30 hours\", \"More than 1.30 - less than 2.30 hours\", \"More than 1.30 - less than 2.30 hours\", \"More than 1.30 - less than 2.30 hours\", \"More than 1.30 - less than 2.30 hours\", \"More than 1.30 - less than 2.30 hours\", \"More than 1.30 - less than 2.30 hours\", \"More than 1.30 - less than 2.30 hours\", \"More than 1.30 - less than 2.30 hours\", \"More than 1.30 - less than 2.30 hours\", \"More than 1.30 - less than 2.30 hours\", \"More than 1.30 - less than 2.30 hours\", \"More than 1.30 - less than 2.30 hours\", \"More than 1.30 - less than 2.30 hours\", \"More than 1.30 - less than 2.30 hours\", \"More than 1.30 - less than 2.30 hours\", \"More than 1.30 - less than 2.30 hours\", \"More than 1.30 - less than 2.30 hours\", \"More than 1.30 - less than 2.30 hours\", \"More than 1.30 - less than 2.30 hours\", \"More than 1.30 - less than 2.30 hours\", \"More than 1.30 - less than 2.30 hours\", \"More than 1.30 - less than 2.30 hours\", \"More than 1.30 - less than 2.30 hours\", \"More than 1.30 - less than 2.30 hours\", \"More than 1.30 - less than 2.30 hours\", \"More than 1.30 - less than 2.30 hours\", \"More than 1.30 - less than 2.30 hours\", \"More than 1.30 - less than 2.30 hours\", \"More than 1.30 - less than 2.30 hours\", \"More than 1.30 - less than 2.30 hours\", \"More than 1.30 - less than 2.30 hours\", \"More than 1.30 - less than 2.30 hours\", \"More than 1.30 - less than 2.30 hours\", \"More than 1.30 - less than 2.30 hours\", \"More than 1.30 - less than 2.30 hours\", \"More than 1.30 - less than 2.30 hours\", \"More than 1.30 - less than 2.30 hours\", \"More than 1.30 - less than 2.30 hours\", \"More than 1.30 - less than 2.30 hours\", \"More than 1.30 - less than 2.30 hours\", \"More than 1.30 - less than 2.30 hours\", \"More than 1.30 - less than 2.30 hours\", \"More than 1.30 - less than 2.30 hours\", \"More than 1.30 - less than 2.30 hours\", \"More than 1.30 - less than 2.30 hours\", \"More than 1.30 - less than 2.30 hours\", \"More than 1.30 - less than 2.30 hours\", \"More than 1.30 - less than 2.30 hours\", \"More than 1.30 - less than 2.30 hours\", \"More than 1.30 - less than 2.30 hours\", \"More than 1.30 - less than 2.30 hours\", \"More than 1.30 - less than 2.30 hours\", \"More than 1.30 - less than 2.30 hours\", \"More than 1.30 - less than 2.30 hours\", \"More than 1.30 - less than 2.30 hours\", \"More than 1.30 - less than 2.30 hours\", \"More than 1.30 - less than 2.30 hours\", \"More than 1.30 - less than 2.30 hours\", \"More than 1.30 - less than 2.30 hours\", \"More than 1.30 - less than 2.30 hours\", \"More than 1.30 - less than 2.30 hours\", \"More than 1.30 - less than 2.30 hours\", \"More than 1.30 - less than 2.30 hours\", \"More than 1.30 - less than 2.30 hours\", \"More than 1.30 - less than 2.30 hours\", \"More than 1.30 - less than 2.30 hours\", \"More than 1.30 - less than 2.30 hours\", \"More than 1.30 - less than 2.30 hours\", \"More than 1.30 - less than 2.30 hours\", \"More than 1.30 - less than 2.30 hours\", \"More than 1.30 - less than 2.30 hours\", \"More than 1.30 - less than 2.30 hours\", \"More than 1.30 - less than 2.30 hours\", \"More than 1.30 - less than 2.30 hours\", \"More than 1.30 - less than 2.30 hours\", \"More than 1.30 - less than 2.30 hours\", \"More than 1.30 - less than 2.30 hours\", \"More than 1.30 - less than 2.30 hours\", \"More than 1.30 - less than 2.30 hours\", \"More than 1.30 - less than 2.30 hours\", \"More than 1.30 - less than 2.30 hours\", \"More than 1.30 - less than 2.30 hours\", \"More than 1.30 - less than 2.30 hours\", \"More than 1.30 - less than 2.30 hours\", \"More than 1.30 - less than 2.30 hours\", \"More than 1.30 - less than 2.30 hours\", \"More than 1.30 - less than 2.30 hours\", \"More than 1.30 - less than 2.30 hours\", \"More than 1.30 - less than 2.30 hours\", \"More than 1.30 - less than 2.30 hours\", \"More than 1.30 - less than 2.30 hours\", \"More than 1.30 - less than 2.30 hours\", \"More than 1.30 - less than 2.30 hours\", \"More than 1.30 - less than 2.30 hours\", \"More than 1.30 - less than 2.30 hours\", \"More than 1.30 - less than 2.30 hours\", \"More than 1.30 - less than 2.30 hours\", \"More than 1.30 - less than 2.30 hours\", \"More than 1.30 - less than 2.30 hours\", \"More than 1.30 - less than 2.30 hours\", \"More than 1.30 - less than 2.30 hours\", \"More than 1.30 - less than 2.30 hours\", \"More than 1.30 - less than 2.30 hours\", \"More than 1.30 - less than 2.30 hours\", \"More than 1.30 - less than 2.30 hours\", \"More than 1.30 - less than 2.30 hours\", \"More than 1.30 - less than 2.30 hours\", \"More than 1.30 - less than 2.30 hours\", \"More than 1.30 - less than 2.30 hours\", \"More than 1.30 - less than 2.30 hours\", \"More than 1.30 - less than 2.30 hours\", \"More than 1.30 - less than 2.30 hours\", \"More than 1.30 - less than 2.30 hours\", \"More than 1.30 - less than 2.30 hours\", \"More than 1.30 - less than 2.30 hours\", \"More than 1.30 - less than 2.30 hours\", \"More than 1.30 - less than 2.30 hours\", \"More than 1.30 - less than 2.30 hours\", \"More than 1.30 - less than 2.30 hours\", \"More than 1.30 - less than 2.30 hours\", \"More than 1.30 - less than 2.30 hours\", \"More than 1.30 - less than 2.30 hours\", \"More than 1.30 - less than 2.30 hours\", \"More than 1.30 - less than 2.30 hours\", \"More than 1.30 - less than 2.30 hours\", \"More than 1.30 - less than 2.30 hours\", \"More than 1.30 - less than 2.30 hours\", \"More than 1.30 - less than 2.30 hours\", \"More than 1.30 - less than 2.30 hours\", \"More than 1.30 - less than 2.30 hours\", \"More than 1.30 - less than 2.30 hours\", \"More than 1.30 - less than 2.30 hours\", \"More than 1.30 - less than 2.30 hours\", \"More than 1.30 - less than 2.30 hours\", \"More than 1.30 - less than 2.30 hours\", \"More than 1.30 - less than 2.30 hours\", \"More than 1.30 - less than 2.30 hours\", \"More than 1.30 - less than 2.30 hours\", \"More than 1.30 - less than 2.30 hours\", \"More than 1.30 - less than 2.30 hours\", \"More than 1.30 - less than 2.30 hours\", \"More than 1.30 - less than 2.30 hours\", \"More than 1.30 - less than 2.30 hours\", \"More than 1.30 - less than 2.30 hours\", \"More than 1.30 - less than 2.30 hours\", \"More than 1.30 - less than 2.30 hours\", \"More than 1.30 - less than 2.30 hours\", \"More than 1.30 - less than 2.30 hours\", \"More than 1.30 - less than 2.30 hours\", \"More than 1.30 - less than 2.30 hours\", \"More than 1.30 - less than 2.30 hours\", \"More than 1.30 - less than 2.30 hours\", \"More than 1.30 - less than 2.30 hours\", \"More than 1.30 - less than 2.30 hours\", \"More than 1.30 - less than 2.30 hours\", \"More than 1.30 - less than 2.30 hours\", \"More than 1.30 - less than 2.30 hours\", \"More than 1.30 - less than 2.30 hours\", \"More than 1.30 - less than 2.30 hours\", \"More than 1.30 - less than 2.30 hours\", \"More than 1.30 - less than 2.30 hours\", \"More than 1.30 - less than 2.30 hours\", \"More than 1.30 - less than 2.30 hours\", \"More than 1.30 - less than 2.30 hours\", \"More than 1.30 - less than 2.30 hours\", \"More than 1.30 - less than 2.30 hours\", \"More than 1.30 - less than 2.30 hours\", \"More than 1.30 - less than 2.30 hours\", \"More than 1.30 - less than 2.30 hours\", \"More than 1.30 - less than 2.30 hours\", \"More than 1.30 - less than 2.30 hours\", \"More than 1.30 - less than 2.30 hours\", \"More than 1.30 - less than 2.30 hours\", \"More than 1.30 - less than 2.30 hours\", \"More than 1.30 - less than 2.30 hours\", \"More than 1.30 - less than 2.30 hours\", \"More than 1.30 - less than 2.30 hours\", \"More than 1.30 - less than 2.30 hours\", \"More than 1.30 - less than 2.30 hours\", \"More than 1.30 - less than 2.30 hours\", \"More than 1.30 - less than 2.30 hours\", \"More than 1.30 - less than 2.30 hours\", \"More than 1.30 - less than 2.30 hours\", \"More than 1.30 - less than 2.30 hours\", \"More than 1.30 - less than 2.30 hours\", \"More than 1.30 - less than 2.30 hours\", \"More than 1.30 - less than 2.30 hours\", \"More than 1.30 - less than 2.30 hours\", \"More than 1.30 - less than 2.30 hours\", \"More than 1.30 - less than 2.30 hours\", \"More than 1.30 - less than 2.30 hours\", \"More than 1.30 - less than 2.30 hours\", \"More than 1.30 - less than 2.30 hours\", \"More than 1.30 - less than 2.30 hours\", \"More than 1.30 - less than 2.30 hours\", \"More than 1.30 - less than 2.30 hours\", \"More than 1.30 - less than 2.30 hours\", \"More than 1.30 - less than 2.30 hours\", \"More than 1.30 - less than 2.30 hours\", \"More than 1.30 - less than 2.30 hours\", \"More than 1.30 - less than 2.30 hours\", \"More than 1.30 - less than 2.30 hours\", \"More than 1.30 - less than 2.30 hours\", \"More than 1.30 - less than 2.30 hours\", \"More than 1.30 - less than 2.30 hours\", \"More than 1.30 - less than 2.30 hours\", \"More than 1.30 - less than 2.30 hours\", \"More than 1.30 - less than 2.30 hours\", \"More than 1.30 - less than 2.30 hours\", \"More than 1.30 - less than 2.30 hours\", \"More than 1.30 - less than 2.30 hours\", \"More than 1.30 - less than 2.30 hours\", \"More than 1.30 - less than 2.30 hours\", \"More than 1.30 - less than 2.30 hours\", \"More than 1.30 - less than 2.30 hours\", \"More than 1.30 - less than 2.30 hours\", \"More than 1.30 - less than 2.30 hours\", \"More than 1.30 - less than 2.30 hours\", \"More than 1.30 - less than 2.30 hours\", \"More than 1.30 - less than 2.30 hours\", \"More than 1.30 - less than 2.30 hours\", \"More than 1.30 - less than 2.30 hours\", \"More than 1.30 - less than 2.30 hours\", \"More than 1.30 - less than 2.30 hours\", \"More than 1.30 - less than 2.30 hours\", \"More than 1.30 - less than 2.30 hours\", \"More than 1.30 - less than 2.30 hours\", \"More than 1.30 - less than 2.30 hours\", \"More than 1.30 - less than 2.30 hours\", \"More than 1.30 - less than 2.30 hours\", \"More than 1.30 - less than 2.30 hours\", \"More than 1.30 - less than 2.30 hours\", \"More than 1.30 - less than 2.30 hours\", \"More than 1.30 - less than 2.30 hours\", \"More than 1.30 - less than 2.30 hours\", \"More than 1.30 - less than 2.30 hours\", \"More than 1.30 - less than 2.30 hours\", \"More than 1.30 - less than 2.30 hours\", \"More than 1.30 - less than 2.30 hours\", \"More than 1.30 - less than 2.30 hours\", \"More than 1.30 - less than 2.30 hours\", \"More than 1.30 - less than 2.30 hours\", \"More than 1.30 - less than 2.30 hours\", \"More than 1.30 - less than 2.30 hours\", \"More than 1.30 - less than 2.30 hours\", \"More than 1.30 - less than 2.30 hours\", \"More than 1.30 - less than 2.30 hours\", \"More than 1.30 - less than 2.30 hours\", \"More than 1.30 - less than 2.30 hours\", \"More than 1.30 - less than 2.30 hours\", \"More than 1.30 - less than 2.30 hours\", \"More than 1.30 - less than 2.30 hours\", \"More than 1.30 - less than 2.30 hours\", \"More than 1.30 - less than 2.30 hours\", \"More than 1.30 - less than 2.30 hours\", \"More than 1.30 - less than 2.30 hours\", \"More than 1.30 - less than 2.30 hours\", \"More than 1.30 - less than 2.30 hours\", \"More than 1.30 - less than 2.30 hours\", \"More than 1.30 - less than 2.30 hours\", \"More than 1.30 - less than 2.30 hours\", \"More than 1.30 - less than 2.30 hours\", \"More than 1.30 - less than 2.30 hours\", \"More than 1.30 - less than 2.30 hours\", \"More than 1.30 - less than 2.30 hours\", \"More than 1.30 - less than 2.30 hours\", \"More than 1.30 - less than 2.30 hours\", \"More than 1.30 - less than 2.30 hours\", \"More than 1.30 - less than 2.30 hours\", \"More than 1.30 - less than 2.30 hours\", \"More than 1.30 - less than 2.30 hours\", \"More than 1.30 - less than 2.30 hours\", \"More than 1.30 - less than 2.30 hours\", \"More than 1.30 - less than 2.30 hours\", \"More than 1.30 - less than 2.30 hours\", \"More than 1.30 - less than 2.30 hours\", \"More than 1.30 - less than 2.30 hours\", \"More than 1.30 - less than 2.30 hours\", \"More than 1.30 - less than 2.30 hours\", \"More than 1.30 - less than 2.30 hours\", \"More than 1.30 - less than 2.30 hours\", \"More than 1.30 - less than 2.30 hours\", \"More than 1.30 - less than 2.30 hours\", \"More than 1.30 - less than 2.30 hours\", \"More than 1.30 - less than 2.30 hours\", \"More than 1.30 - less than 2.30 hours\", \"More than 1.30 - less than 2.30 hours\", \"More than 1.30 - less than 2.30 hours\", \"More than 1.30 - less than 2.30 hours\", \"More than 1.30 - less than 2.30 hours\", \"More than 1.30 - less than 2.30 hours\", \"More than 1.30 - less than 2.30 hours\", \"More than 1.30 - less than 2.30 hours\", \"More than 1.30 - less than 2.30 hours\", \"More than 1.30 - less than 2.30 hours\", \"More than 1.30 - less than 2.30 hours\", \"More than 1.30 - less than 2.30 hours\", \"More than 1.30 - less than 2.30 hours\", \"More than 1.30 - less than 2.30 hours\", \"More than 1.30 - less than 2.30 hours\", \"More than 1.30 - less than 2.30 hours\", \"More than 1.30 - less than 2.30 hours\", \"More than 1.30 - less than 2.30 hours\", \"More than 1.30 - less than 2.30 hours\", \"More than 1.30 - less than 2.30 hours\", \"More than 1.30 - less than 2.30 hours\", \"More than 1.30 - less than 2.30 hours\", \"More than 1.30 - less than 2.30 hours\", \"More than 1.30 - less than 2.30 hours\", \"More than 1.30 - less than 2.30 hours\", \"More than 1.30 - less than 2.30 hours\", \"More than 1.30 - less than 2.30 hours\", \"More than 1.30 - less than 2.30 hours\", \"More than 1.30 - less than 2.30 hours\", \"More than 1.30 - less than 2.30 hours\", \"More than 1.30 - less than 2.30 hours\", \"More than 1.30 - less than 2.30 hours\", \"More than 1.30 - less than 2.30 hours\", \"More than 1.30 - less than 2.30 hours\", \"More than 1.30 - less than 2.30 hours\", \"More than 1.30 - less than 2.30 hours\", \"More than 1.30 - less than 2.30 hours\", \"More than 1.30 - less than 2.30 hours\", \"More than 1.30 - less than 2.30 hours\", \"More than 1.30 - less than 2.30 hours\", \"More than 1.30 - less than 2.30 hours\", \"More than 1.30 - less than 2.30 hours\", \"More than 1.30 - less than 2.30 hours\", \"More than 1.30 - less than 2.30 hours\", \"More than 1.30 - less than 2.30 hours\", \"More than 1.30 - less than 2.30 hours\", \"More than 1.30 - less than 2.30 hours\", \"More than 1.30 - less than 2.30 hours\", \"More than 1.30 - less than 2.30 hours\", \"More than 1.30 - less than 2.30 hours\", \"More than 1.30 - less than 2.30 hours\", \"More than 1.30 - less than 2.30 hours\", \"More than 1.30 - less than 2.30 hours\", \"More than 1.30 - less than 2.30 hours\", \"More than 1.30 - less than 2.30 hours\", \"More than 1.30 - less than 2.30 hours\", \"More than 1.30 - less than 2.30 hours\", \"More than 1.30 - less than 2.30 hours\", \"More than 1.30 - less than 2.30 hours\", \"More than 1.30 - less than 2.30 hours\", \"More than 1.30 - less than 2.30 hours\", \"More than 1.30 - less than 2.30 hours\", \"More than 1.30 - less than 2.30 hours\", \"More than 1.30 - less than 2.30 hours\", \"More than 1.30 - less than 2.30 hours\", \"More than 1.30 - less than 2.30 hours\", \"More than 1.30 - less than 2.30 hours\", \"More than 1.30 - less than 2.30 hours\", \"More than 1.30 - less than 2.30 hours\", \"More than 1.30 - less than 2.30 hours\", \"More than 1.30 - less than 2.30 hours\", \"More than 1.30 - less than 2.30 hours\", \"More than 1.30 - less than 2.30 hours\", \"More than 1.30 - less than 2.30 hours\", \"More than 1.30 - less than 2.30 hours\", \"More than 1.30 - less than 2.30 hours\", \"More than 1.30 - less than 2.30 hours\", \"More than 1.30 - less than 2.30 hours\", \"More than 1.30 - less than 2.30 hours\", \"More than 1.30 - less than 2.30 hours\", \"More than 1.30 - less than 2.30 hours\", \"More than 1.30 - less than 2.30 hours\", \"More than 1.30 - less than 2.30 hours\", \"More than 1.30 - less than 2.30 hours\", \"More than 1.30 - less than 2.30 hours\", \"More than 1.30 - less than 2.30 hours\", \"More than 1.30 - less than 2.30 hours\", \"More than 1.30 - less than 2.30 hours\", \"More than 1.30 - less than 2.30 hours\", \"More than 1.30 - less than 2.30 hours\", \"More than 1.30 - less than 2.30 hours\", \"More than 1.30 - less than 2.30 hours\", \"More than 1.30 - less than 2.30 hours\", \"More than 1.30 - less than 2.30 hours\", \"More than 1.30 - less than 2.30 hours\", \"More than 1.30 - less than 2.30 hours\", \"More than 1.30 - less than 2.30 hours\", \"More than 1.30 - less than 2.30 hours\", \"More than 1.30 - less than 2.30 hours\", \"More than 1.30 - less than 2.30 hours\", \"More than 1.30 - less than 2.30 hours\", \"More than 1.30 - less than 2.30 hours\", \"More than 1.30 - less than 2.30 hours\", \"More than 1.30 - less than 2.30 hours\", \"More than 1.30 - less than 2.30 hours\", \"More than 1.30 - less than 2.30 hours\", \"More than 1.30 - less than 2.30 hours\", \"More than 1.30 - less than 2.30 hours\", \"More than 1.30 - less than 2.30 hours\", \"More than 1.30 - less than 2.30 hours\", \"More than 1.30 - less than 2.30 hours\", \"More than 1.30 - less than 2.30 hours\", \"More than 1.30 - less than 2.30 hours\", \"More than 1.30 - less than 2.30 hours\", \"More than 1.30 - less than 2.30 hours\", \"More than 1.30 - less than 2.30 hours\", \"More than 1.30 - less than 2.30 hours\", \"More than 1.30 - less than 2.30 hours\", \"More than 1.30 - less than 2.30 hours\", \"More than 1.30 - less than 2.30 hours\", \"More than 1.30 - less than 2.30 hours\", \"More than 1.30 - less than 2.30 hours\", \"More than 1.30 - less than 2.30 hours\", \"More than 1.30 - less than 2.30 hours\", \"More than 1.30 - less than 2.30 hours\", \"More than 1.30 - less than 2.30 hours\", \"More than 1.30 - less than 2.30 hours\", \"More than 1.30 - less than 2.30 hours\", \"More than 1.30 - less than 2.30 hours\", \"More than 1.30 - less than 2.30 hours\", \"More than 1.30 - less than 2.30 hours\", \"More than 1.30 - less than 2.30 hours\", \"More than 1.30 - less than 2.30 hours\", \"More than 1.30 - less than 2.30 hours\", \"More than 1.30 - less than 2.30 hours\", \"More than 1.30 - less than 2.30 hours\", \"More than 1.30 - less than 2.30 hours\", \"More than 1.30 - less than 2.30 hours\", \"More than 1.30 - less than 2.30 hours\", \"More than 1.30 - less than 2.30 hours\", \"More than 1.30 - less than 2.30 hours\", \"More than 1.30 - less than 2.30 hours\", \"More than 1.30 - less than 2.30 hours\", \"More than 1.30 - less than 2.30 hours\", \"More than 1.30 - less than 2.30 hours\", \"More than 1.30 - less than 2.30 hours\", \"More than 1.30 - less than 2.30 hours\", \"More than 1.30 - less than 2.30 hours\", \"More than 1.30 - less than 2.30 hours\", \"More than 1.30 - less than 2.30 hours\", \"More than 1.30 - less than 2.30 hours\", \"More than 1.30 - less than 2.30 hours\", \"More than 1.30 - less than 2.30 hours\", \"More than 1.30 - less than 2.30 hours\", \"More than 1.30 - less than 2.30 hours\", \"More than 1.30 - less than 2.30 hours\", \"More than 1.30 - less than 2.30 hours\", \"More than 1.30 - less than 2.30 hours\", \"More than 1.30 - less than 2.30 hours\", \"More than 1.30 - less than 2.30 hours\", \"More than 1.30 - less than 2.30 hours\", \"More than 1.30 - less than 2.30 hours\", \"More than 1.30 - less than 2.30 hours\", \"More than 1.30 - less than 2.30 hours\", \"More than 1.30 - less than 2.30 hours\", \"More than 1.30 - less than 2.30 hours\", \"More than 1.30 - less than 2.30 hours\", \"More than 1.30 - less than 2.30 hours\", \"More than 1.30 - less than 2.30 hours\", \"More than 1.30 - less than 2.30 hours\", \"More than 1.30 - less than 2.30 hours\", \"More than 1.30 - less than 2.30 hours\", \"More than 1.30 - less than 2.30 hours\", \"More than 1.30 - less than 2.30 hours\", \"More than 1.30 - less than 2.30 hours\", \"More than 1.30 - less than 2.30 hours\", \"More than 1.30 - less than 2.30 hours\", \"More than 1.30 - less than 2.30 hours\", \"More than 1.30 - less than 2.30 hours\", \"More than 1.30 - less than 2.30 hours\", \"More than 1.30 - less than 2.30 hours\", \"More than 1.30 - less than 2.30 hours\", \"More than 1.30 - less than 2.30 hours\", \"More than 1.30 - less than 2.30 hours\", \"More than 1.30 - less than 2.30 hours\", \"More than 1.30 - less than 2.30 hours\", \"More than 1.30 - less than 2.30 hours\", \"More than 1.30 - less than 2.30 hours\", \"More than 1.30 - less than 2.30 hours\", \"More than 1.30 - less than 2.30 hours\", \"More than 1.30 - less than 2.30 hours\", \"More than 1.30 - less than 2.30 hours\", \"More than 1.30 - less than 2.30 hours\", \"More than 1.30 - less than 2.30 hours\", \"More than 1.30 - less than 2.30 hours\", \"More than 1.30 - less than 2.30 hours\", \"More than 1.30 - less than 2.30 hours\", \"More than 1.30 - less than 2.30 hours\", \"More than 1.30 - less than 2.30 hours\", \"More than 1.30 - less than 2.30 hours\", \"More than 1.30 - less than 2.30 hours\", \"More than 1.30 - less than 2.30 hours\", \"More than 1.30 - less than 2.30 hours\", \"More than 1.30 - less than 2.30 hours\", \"More than 1.30 - less than 2.30 hours\", \"More than 1.30 - less than 2.30 hours\", \"More than 1.30 - less than 2.30 hours\", \"More than 1.30 - less than 2.30 hours\", \"More than 1.30 - less than 2.30 hours\", \"More than 1.30 - less than 2.30 hours\", \"More than 1.30 - less than 2.30 hours\", \"More than 1.30 - less than 2.30 hours\", \"More than 1.30 - less than 2.30 hours\", \"More than 1.30 - less than 2.30 hours\", \"More than 1.30 - less than 2.30 hours\", \"More than 1.30 - less than 2.30 hours\", \"More than 1.30 - less than 2.30 hours\", \"More than 1.30 - less than 2.30 hours\", \"More than 1.30 - less than 2.30 hours\", \"More than 1.30 - less than 2.30 hours\", \"More than 1.30 - less than 2.30 hours\", \"More than 1.30 - less than 2.30 hours\", \"More than 1.30 - less than 2.30 hours\", \"More than 1.30 - less than 2.30 hours\", \"More than 1.30 - less than 2.30 hours\", \"More than 1.30 - less than 2.30 hours\", \"More than 1.30 - less than 2.30 hours\", \"More than 1.30 - less than 2.30 hours\", \"More than 1.30 - less than 2.30 hours\", \"More than 1.30 - less than 2.30 hours\", \"More than 1.30 - less than 2.30 hours\", \"More than 1.30 - less than 2.30 hours\", \"More than 1.30 - less than 2.30 hours\", \"More than 1.30 - less than 2.30 hours\", \"More than 1.30 - less than 2.30 hours\", \"More than 1.30 - less than 2.30 hours\", \"More than 1.30 - less than 2.30 hours\", \"More than 1.30 - less than 2.30 hours\", \"More than 1.30 - less than 2.30 hours\", \"More than 1.30 - less than 2.30 hours\", \"More than 1.30 - less than 2.30 hours\", \"More than 1.30 - less than 2.30 hours\", \"More than 1.30 - less than 2.30 hours\", \"More than 1.30 - less than 2.30 hours\", \"More than 1.30 - less than 2.30 hours\", \"More than 1.30 - less than 2.30 hours\", \"More than 1.30 - less than 2.30 hours\", \"More than 1.30 - less than 2.30 hours\", \"More than 1.30 - less than 2.30 hours\", \"More than 1.30 - less than 2.30 hours\", \"More than 1.30 - less than 2.30 hours\", \"More than 1.30 - less than 2.30 hours\", \"More than 1.30 - less than 2.30 hours\", \"More than 1.30 - less than 2.30 hours\", \"More than 1.30 - less than 2.30 hours\", \"More than 1.30 - less than 2.30 hours\", \"More than 1.30 - less than 2.30 hours\", \"More than 1.30 - less than 2.30 hours\", \"More than 1.30 - less than 2.30 hours\", \"More than 1.30 - less than 2.30 hours\", \"More than 1.30 - less than 2.30 hours\", \"More than 1.30 - less than 2.30 hours\", \"More than 1.30 - less than 2.30 hours\", \"More than 1.30 - less than 2.30 hours\", \"More than 1.30 - less than 2.30 hours\", \"More than 1.30 - less than 2.30 hours\", \"More than 1.30 - less than 2.30 hours\", \"More than 1.30 - less than 2.30 hours\", \"More than 1.30 - less than 2.30 hours\", \"More than 1.30 - less than 2.30 hours\", \"More than 1.30 - less than 2.30 hours\", \"More than 1.30 - less than 2.30 hours\", \"More than 1.30 - less than 2.30 hours\", \"More than 1.30 - less than 2.30 hours\", \"More than 1.30 - less than 2.30 hours\", \"More than 1.30 - less than 2.30 hours\", \"More than 1.30 - less than 2.30 hours\", \"More than 1.30 - less than 2.30 hours\", \"More than 1.30 - less than 2.30 hours\", \"More than 1.30 - less than 2.30 hours\", \"More than 1.30 - less than 2.30 hours\", \"More than 1.30 - less than 2.30 hours\", \"More than 1.30 - less than 2.30 hours\", \"More than 1.30 - less than 2.30 hours\", \"More than 1.30 - less than 2.30 hours\", \"More than 1.30 - less than 2.30 hours\", \"More than 1.30 - less than 2.30 hours\", \"More than 1.30 - less than 2.30 hours\", \"More than 1.30 - less than 2.30 hours\", \"More than 1.30 - less than 2.30 hours\", \"More than 1.30 - less than 2.30 hours\", \"More than 1.30 - less than 2.30 hours\", \"More than 1.30 - less than 2.30 hours\", \"More than 1.30 - less than 2.30 hours\", \"More than 1.30 - less than 2.30 hours\", \"More than 1.30 - less than 2.30 hours\", \"More than 1.30 - less than 2.30 hours\", \"More than 1.30 - less than 2.30 hours\", \"More than 1.30 - less than 2.30 hours\", \"More than 1.30 - less than 2.30 hours\", \"More than 1.30 - less than 2.30 hours\", \"More than 1.30 - less than 2.30 hours\", \"More than 1.30 - less than 2.30 hours\", \"More than 1.30 - less than 2.30 hours\", \"More than 1.30 - less than 2.30 hours\", \"More than 1.30 - less than 2.30 hours\", \"More than 1.30 - less than 2.30 hours\", \"More than 1.30 - less than 2.30 hours\", \"More than 1.30 - less than 2.30 hours\", \"More than 1.30 - less than 2.30 hours\", \"More than 1.30 - less than 2.30 hours\", \"More than 1.30 - less than 2.30 hours\", \"More than 1.30 - less than 2.30 hours\", \"More than 1.30 - less than 2.30 hours\", \"More than 1.30 - less than 2.30 hours\", \"More than 1.30 - less than 2.30 hours\", \"More than 1.30 - less than 2.30 hours\", \"More than 1.30 - less than 2.30 hours\", \"More than 1.30 - less than 2.30 hours\", \"More than 1.30 - less than 2.30 hours\", \"More than 1.30 - less than 2.30 hours\", \"More than 1.30 - less than 2.30 hours\", \"More than 1.30 - less than 2.30 hours\", \"More than 1.30 - less than 2.30 hours\", \"More than 1.30 - less than 2.30 hours\", \"More than 1.30 - less than 2.30 hours\", \"More than 1.30 - less than 2.30 hours\", \"More than 1.30 - less than 2.30 hours\", \"More than 1.30 - less than 2.30 hours\", \"More than 1.30 - less than 2.30 hours\", \"More than 1.30 - less than 2.30 hours\", \"More than 1.30 - less than 2.30 hours\", \"More than 1.30 - less than 2.30 hours\", \"More than 1.30 - less than 2.30 hours\", \"More than 1.30 - less than 2.30 hours\", \"More than 1.30 - less than 2.30 hours\", \"More than 1.30 - less than 2.30 hours\", \"More than 1.30 - less than 2.30 hours\", \"More than 1.30 - less than 2.30 hours\", \"More than 1.30 - less than 2.30 hours\", \"More than 1.30 - less than 2.30 hours\", \"More than 1.30 - less than 2.30 hours\", \"More than 1.30 - less than 2.30 hours\", \"More than 1.30 - less than 2.30 hours\", \"More than 1.30 - less than 2.30 hours\", \"More than 1.30 - less than 2.30 hours\", \"More than 1.30 - less than 2.30 hours\", \"More than 1.30 - less than 2.30 hours\", \"More than 1.30 - less than 2.30 hours\", \"More than 1.30 - less than 2.30 hours\", \"More than 1.30 - less than 2.30 hours\", \"More than 1.30 - less than 2.30 hours\", \"More than 1.30 - less than 2.30 hours\", \"More than 1.30 - less than 2.30 hours\", \"More than 1.30 - less than 2.30 hours\", \"More than 1.30 - less than 2.30 hours\", \"More than 1.30 - less than 2.30 hours\", \"More than 1.30 - less than 2.30 hours\", \"More than 1.30 - less than 2.30 hours\", \"More than 1.30 - less than 2.30 hours\", \"More than 1.30 - less than 2.30 hours\", \"More than 1.30 - less than 2.30 hours\", \"More than 1.30 - less than 2.30 hours\", \"More than 1.30 - less than 2.30 hours\", \"More than 1.30 - less than 2.30 hours\", \"More than 1.30 - less than 2.30 hours\", \"More than 1.30 - less than 2.30 hours\", \"More than 1.30 - less than 2.30 hours\", \"More than 1.30 - less than 2.30 hours\", \"More than 1.30 - less than 2.30 hours\", \"More than 1.30 - less than 2.30 hours\", \"More than 1.30 - less than 2.30 hours\", \"More than 1.30 - less than 2.30 hours\", \"More than 1.30 - less than 2.30 hours\", \"More than 1.30 - less than 2.30 hours\", \"More than 1.30 - less than 2.30 hours\", \"More than 1.30 - less than 2.30 hours\", \"More than 1.30 - less than 2.30 hours\", \"More than 1.30 - less than 2.30 hours\", \"More than 1.30 - less than 2.30 hours\", \"More than 1.30 - less than 2.30 hours\", \"More than 1.30 - less than 2.30 hours\", \"More than 1.30 - less than 2.30 hours\", \"More than 1.30 - less than 2.30 hours\", \"More than 1.30 - less than 2.30 hours\", \"More than 1.30 - less than 2.30 hours\", \"More than 1.30 - less than 2.30 hours\", \"More than 1.30 - less than 2.30 hours\", \"More than 1.30 - less than 2.30 hours\", \"More than 1.30 - less than 2.30 hours\", \"More than 1.30 - less than 2.30 hours\", \"More than 1.30 - less than 2.30 hours\", \"More than 1.30 - less than 2.30 hours\", \"More than 1.30 - less than 2.30 hours\", \"More than 1.30 - less than 2.30 hours\", \"More than 1.30 - less than 2.30 hours\", \"More than 1.30 - less than 2.30 hours\", \"More than 1.30 - less than 2.30 hours\", \"More than 1.30 - less than 2.30 hours\", \"More than 1.30 - less than 2.30 hours\", \"More than 1.30 - less than 2.30 hours\", \"More than 1.30 - less than 2.30 hours\", \"More than 1.30 - less than 2.30 hours\", \"More than 1.30 - less than 2.30 hours\", \"More than 1.30 - less than 2.30 hours\", \"More than 1.30 - less than 2.30 hours\", \"More than 1.30 - less than 2.30 hours\", \"More than 1.30 - less than 2.30 hours\", \"More than 1.30 - less than 2.30 hours\", \"More than 1.30 - less than 2.30 hours\", \"More than 1.30 - less than 2.30 hours\", \"More than 1.30 - less than 2.30 hours\", \"More than 1.30 - less than 2.30 hours\", \"More than 1.30 - less than 2.30 hours\", \"More than 1.30 - less than 2.30 hours\", \"More than 1.30 - less than 2.30 hours\", \"More than 1.30 - less than 2.30 hours\", \"More than 1.30 - less than 2.30 hours\", \"More than 1.30 - less than 2.30 hours\", \"More than 1.30 - less than 2.30 hours\", \"More than 1.30 - less than 2.30 hours\", \"More than 1.30 - less than 2.30 hours\", \"More than 1.30 - less than 2.30 hours\", \"More than 1.30 - less than 2.30 hours\", \"More than 1.30 - less than 2.30 hours\", \"More than 1.30 - less than 2.30 hours\", \"More than 1.30 - less than 2.30 hours\", \"More than 1.30 - less than 2.30 hours\", \"More than 1.30 - less than 2.30 hours\", \"More than 1.30 - less than 2.30 hours\", \"More than 1.30 - less than 2.30 hours\", \"More than 1.30 - less than 2.30 hours\", \"More than 1.30 - less than 2.30 hours\", \"More than 1.30 - less than 2.30 hours\", \"More than 1.30 - less than 2.30 hours\", \"More than 1.30 - less than 2.30 hours\", \"More than 1.30 - less than 2.30 hours\", \"More than 1.30 - less than 2.30 hours\", \"More than 1.30 - less than 2.30 hours\", \"More than 1.30 - less than 2.30 hours\", \"More than 1.30 - less than 2.30 hours\", \"More than 1.30 - less than 2.30 hours\", \"More than 1.30 - less than 2.30 hours\", \"More than 1.30 - less than 2.30 hours\", \"More than 1.30 - less than 2.30 hours\", \"More than 1.30 - less than 2.30 hours\", \"More than 1.30 - less than 2.30 hours\", \"More than 1.30 - less than 2.30 hours\", \"More than 1.30 - less than 2.30 hours\", \"More than 1.30 - less than 2.30 hours\", \"More than 1.30 - less than 2.30 hours\", \"More than 1.30 - less than 2.30 hours\", \"More than 1.30 - less than 2.30 hours\", \"More than 1.30 - less than 2.30 hours\", \"More than 1.30 - less than 2.30 hours\", \"More than 1.30 - less than 2.30 hours\", \"More than 1.30 - less than 2.30 hours\", \"More than 1.30 - less than 2.30 hours\", \"More than 1.30 - less than 2.30 hours\", \"More than 1.30 - less than 2.30 hours\", \"More than 1.30 - less than 2.30 hours\", \"More than 1.30 - less than 2.30 hours\", \"More than 1.30 - less than 2.30 hours\", \"More than 1.30 - less than 2.30 hours\", \"More than 1.30 - less than 2.30 hours\", \"More than 1.30 - less than 2.30 hours\", \"More than 1.30 - less than 2.30 hours\", \"More than 1.30 - less than 2.30 hours\", \"More than 1.30 - less than 2.30 hours\", \"More than 1.30 - less than 2.30 hours\", \"More than 1.30 - less than 2.30 hours\", \"More than 1.30 - less than 2.30 hours\", \"More than 1.30 - less than 2.30 hours\", \"More than 1.30 - less than 2.30 hours\", \"More than 1.30 - less than 2.30 hours\", \"More than 1.30 - less than 2.30 hours\", \"More than 1.30 - less than 2.30 hours\", \"More than 1.30 - less than 2.30 hours\", \"More than 1.30 - less than 2.30 hours\", \"More than 1.30 - less than 2.30 hours\", \"More than 1.30 - less than 2.30 hours\", \"More than 1.30 - less than 2.30 hours\", \"More than 1.30 - less than 2.30 hours\", \"More than 1.30 - less than 2.30 hours\", \"More than 1.30 - less than 2.30 hours\", \"More than 1.30 - less than 2.30 hours\", \"More than 1.30 - less than 2.30 hours\", \"More than 1.30 - less than 2.30 hours\", \"More than 1.30 - less than 2.30 hours\", \"More than 1.30 - less than 2.30 hours\", \"More than 1.30 - less than 2.30 hours\", \"More than 1.30 - less than 2.30 hours\", \"More than 1.30 - less than 2.30 hours\", \"More than 1.30 - less than 2.30 hours\", \"More than 1.30 - less than 2.30 hours\", \"More than 1.30 - less than 2.30 hours\", \"More than 1.30 - less than 2.30 hours\", \"More than 1.30 - less than 2.30 hours\", \"More than 1.30 - less than 2.30 hours\", \"More than 1.30 - less than 2.30 hours\", \"More than 1.30 - less than 2.30 hours\", \"More than 1.30 - less than 2.30 hours\", \"More than 1.30 - less than 2.30 hours\", \"More than 1.30 - less than 2.30 hours\", \"More than 1.30 - less than 2.30 hours\", \"More than 1.30 - less than 2.30 hours\", \"More than 1.30 - less than 2.30 hours\", \"More than 1.30 - less than 2.30 hours\", \"More than 1.30 - less than 2.30 hours\", \"More than 1.30 - less than 2.30 hours\", \"More than 1.30 - less than 2.30 hours\", \"More than 1.30 - less than 2.30 hours\", \"More than 1.30 - less than 2.30 hours\", \"More than 1.30 - less than 2.30 hours\", \"More than 1.30 - less than 2.30 hours\", \"More than 1.30 - less than 2.30 hours\", \"More than 1.30 - less than 2.30 hours\", \"More than 1.30 - less than 2.30 hours\", \"More than 1.30 - less than 2.30 hours\", \"More than 1.30 - less than 2.30 hours\", \"More than 1.30 - less than 2.30 hours\", \"More than 1.30 - less than 2.30 hours\", \"More than 1.30 - less than 2.30 hours\", \"More than 1.30 - less than 2.30 hours\", \"More than 1.30 - less than 2.30 hours\", \"More than 1.30 - less than 2.30 hours\", \"More than 1.30 - less than 2.30 hours\", \"More than 1.30 - less than 2.30 hours\", \"More than 1.30 - less than 2.30 hours\", \"More than 1.30 - less than 2.30 hours\", \"More than 1.30 - less than 2.30 hours\", \"More than 1.30 - less than 2.30 hours\", \"More than 1.30 - less than 2.30 hours\", \"More than 1.30 - less than 2.30 hours\", \"More than 1.30 - less than 2.30 hours\", \"More than 1.30 - less than 2.30 hours\", \"More than 1.30 - less than 2.30 hours\", \"More than 1.30 - less than 2.30 hours\", \"More than 1.30 - less than 2.30 hours\", \"More than 1.30 - less than 2.30 hours\", \"More than 1.30 - less than 2.30 hours\", \"More than 1.30 - less than 2.30 hours\", \"More than 1.30 - less than 2.30 hours\", \"More than 1.30 - less than 2.30 hours\", \"More than 1.30 - less than 2.30 hours\", \"More than 1.30 - less than 2.30 hours\", \"More than 1.30 - less than 2.30 hours\", \"More than 1.30 - less than 2.30 hours\", \"More than 1.30 - less than 2.30 hours\", \"More than 1.30 - less than 2.30 hours\", \"More than 1.30 - less than 2.30 hours\", \"More than 1.30 - less than 2.30 hours\", \"More than 1.30 - less than 2.30 hours\", \"More than 1.30 - less than 2.30 hours\", \"More than 1.30 - less than 2.30 hours\", \"More than 1.30 - less than 2.30 hours\", \"More than 1.30 - less than 2.30 hours\", \"More than 1.30 - less than 2.30 hours\", \"More than 1.30 - less than 2.30 hours\", \"More than 1.30 - less than 2.30 hours\", \"More than 1.30 - less than 2.30 hours\", \"More than 1.30 - less than 2.30 hours\", \"More than 1.30 - less than 2.30 hours\", \"More than 1.30 - less than 2.30 hours\", \"More than 1.30 - less than 2.30 hours\", \"More than 1.30 - less than 2.30 hours\", \"More than 1.30 - less than 2.30 hours\", \"More than 1.30 - less than 2.30 hours\", \"More than 1.30 - less than 2.30 hours\", \"More than 1.30 - less than 2.30 hours\", \"More than 1.30 - less than 2.30 hours\", \"More than 1.30 - less than 2.30 hours\", \"More than 1.30 - less than 2.30 hours\", \"More than 1.30 - less than 2.30 hours\", \"More than 1.30 - less than 2.30 hours\", \"More than 1.30 - less than 2.30 hours\", \"More than 1.30 - less than 2.30 hours\", \"More than 1.30 - less than 2.30 hours\", \"More than 1.30 - less than 2.30 hours\", \"More than 1.30 - less than 2.30 hours\", \"More than 1.30 - less than 2.30 hours\", \"More than 1.30 - less than 2.30 hours\", \"More than 1.30 - less than 2.30 hours\", \"More than 1.30 - less than 2.30 hours\", \"More than 1.30 - less than 2.30 hours\", \"More than 1.30 - less than 2.30 hours\", \"More than 1.30 - less than 2.30 hours\", \"More than 1.30 - less than 2.30 hours\", \"More than 1.30 - less than 2.30 hours\", \"More than 1.30 - less than 2.30 hours\", \"More than 1.30 - less than 2.30 hours\", \"More than 1.30 - less than 2.30 hours\", \"More than 1.30 - less than 2.30 hours\", \"More than 1.30 - less than 2.30 hours\", \"More than 1.30 - less than 2.30 hours\", \"More than 1.30 - less than 2.30 hours\", \"More than 1.30 - less than 2.30 hours\", \"More than 1.30 - less than 2.30 hours\", \"More than 1.30 - less than 2.30 hours\", \"More than 1.30 - less than 2.30 hours\", \"More than 1.30 - less than 2.30 hours\", \"More than 1.30 - less than 2.30 hours\", \"More than 1.30 - less than 2.30 hours\", \"More than 1.30 - less than 2.30 hours\", \"More than 1.30 - less than 2.30 hours\", \"More than 1.30 - less than 2.30 hours\", \"More than 1.30 - less than 2.30 hours\", \"More than 1.30 - less than 2.30 hours\", \"More than 1.30 - less than 2.30 hours\", \"More than 1.30 - less than 2.30 hours\", \"More than 1.30 - less than 2.30 hours\", \"More than 1.30 - less than 2.30 hours\", \"More than 1.30 - less than 2.30 hours\", \"More than 1.30 - less than 2.30 hours\", \"More than 1.30 - less than 2.30 hours\", \"More than 1.30 - less than 2.30 hours\", \"More than 1.30 - less than 2.30 hours\", \"More than 1.30 - less than 2.30 hours\", \"More than 1.30 - less than 2.30 hours\", \"More than 1.30 - less than 2.30 hours\", \"More than 1.30 - less than 2.30 hours\", \"More than 1.30 - less than 2.30 hours\", \"More than 1.30 - less than 2.30 hours\", \"More than 1.30 - less than 2.30 hours\", \"More than 1.30 - less than 2.30 hours\", \"More than 1.30 - less than 2.30 hours\", \"More than 1.30 - less than 2.30 hours\", \"More than 1.30 - less than 2.30 hours\", \"More than 1.30 - less than 2.30 hours\", \"More than 1.30 - less than 2.30 hours\", \"More than 1.30 - less than 2.30 hours\", \"More than 1.30 - less than 2.30 hours\", \"More than 1.30 - less than 2.30 hours\", \"More than 1.30 - less than 2.30 hours\", \"More than 1.30 - less than 2.30 hours\", \"More than 1.30 - less than 2.30 hours\", \"More than 1.30 - less than 2.30 hours\", \"More than 1.30 - less than 2.30 hours\", \"More than 1.30 - less than 2.30 hours\", \"More than 1.30 - less than 2.30 hours\", \"More than 1.30 - less than 2.30 hours\", \"More than 1.30 - less than 2.30 hours\", \"More than 1.30 - less than 2.30 hours\", \"More than 1.30 - less than 2.30 hours\", \"More than 1.30 - less than 2.30 hours\", \"More than 1.30 - less than 2.30 hours\", \"More than 1.30 - less than 2.30 hours\", \"More than 1.30 - less than 2.30 hours\", \"More than 1.30 - less than 2.30 hours\", \"More than 1.30 - less than 2.30 hours\", \"More than 1.30 - less than 2.30 hours\", \"More than 1.30 - less than 2.30 hours\", \"More than 1.30 - less than 2.30 hours\", \"More than 1.30 - less than 2.30 hours\", \"More than 1.30 - less than 2.30 hours\", \"More than 1.30 - less than 2.30 hours\", \"More than 1.30 - less than 2.30 hours\", \"More than 1.30 - less than 2.30 hours\", \"More than 1.30 - less than 2.30 hours\", \"More than 1.30 - less than 2.30 hours\", \"More than 1.30 - less than 2.30 hours\", \"More than 1.30 - less than 2.30 hours\", \"More than 1.30 - less than 2.30 hours\", \"More than 1.30 - less than 2.30 hours\", \"More than 1.30 - less than 2.30 hours\", \"More than 1.30 - less than 2.30 hours\", \"More than 1.30 - less than 2.30 hours\", \"More than 1.30 - less than 2.30 hours\", \"More than 1.30 - less than 2.30 hours\", \"More than 1.30 - less than 2.30 hours\", \"More than 1.30 - less than 2.30 hours\", \"More than 1.30 - less than 2.30 hours\", \"More than 1.30 - less than 2.30 hours\", \"More than 1.30 - less than 2.30 hours\", \"More than 1.30 - less than 2.30 hours\", \"More than 1.30 - less than 2.30 hours\", \"More than 1.30 - less than 2.30 hours\", \"More than 1.30 - less than 2.30 hours\", \"More than 1.30 - less than 2.30 hours\", \"More than 1.30 - less than 2.30 hours\", \"More than 1.30 - less than 2.30 hours\", \"More than 1.30 - less than 2.30 hours\", \"More than 1.30 - less than 2.30 hours\", \"More than 1.30 - less than 2.30 hours\", \"More than 1.30 - less than 2.30 hours\", \"More than 1.30 - less than 2.30 hours\", \"More than 1.30 - less than 2.30 hours\", \"More than 1.30 - less than 2.30 hours\", \"More than 1.30 - less than 2.30 hours\", \"More than 1.30 - less than 2.30 hours\", \"More than 1.30 - less than 2.30 hours\", \"More than 1.30 - less than 2.30 hours\", \"More than 1.30 - less than 2.30 hours\", \"More than 1.30 - less than 2.30 hours\", \"More than 1.30 - less than 2.30 hours\", \"More than 1.30 - less than 2.30 hours\", \"More than 1.30 - less than 2.30 hours\", \"More than 1.30 - less than 2.30 hours\", \"More than 1.30 - less than 2.30 hours\", \"More than 1.30 - less than 2.30 hours\", \"More than 1.30 - less than 2.30 hours\", \"More than 1.30 - less than 2.30 hours\", \"More than 1.30 - less than 2.30 hours\", \"More than 1.30 - less than 2.30 hours\", \"More than 1.30 - less than 2.30 hours\", \"More than 1.30 - less than 2.30 hours\", \"More than 1.30 - less than 2.30 hours\", \"More than 1.30 - less than 2.30 hours\", \"More than 1.30 - less than 2.30 hours\", \"More than 1.30 - less than 2.30 hours\", \"More than 1.30 - less than 2.30 hours\", \"More than 1.30 - less than 2.30 hours\", \"More than 1.30 - less than 2.30 hours\", \"More than 1.30 - less than 2.30 hours\", \"More than 1.30 - less than 2.30 hours\", \"More than 1.30 - less than 2.30 hours\", \"More than 1.30 - less than 2.30 hours\", \"More than 1.30 - less than 2.30 hours\", \"More than 1.30 - less than 2.30 hours\", \"More than 1.30 - less than 2.30 hours\", \"More than 1.30 - less than 2.30 hours\", \"More than 1.30 - less than 2.30 hours\", \"More than 1.30 - less than 2.30 hours\", \"More than 1.30 - less than 2.30 hours\", \"More than 1.30 - less than 2.30 hours\", \"More than 1.30 - less than 2.30 hours\", \"More than 1.30 - less than 2.30 hours\", \"More than 1.30 - less than 2.30 hours\", \"More than 1.30 - less than 2.30 hours\", \"More than 1.30 - less than 2.30 hours\", \"More than 1.30 - less than 2.30 hours\", \"More than 1.30 - less than 2.30 hours\", \"More than 1.30 - less than 2.30 hours\", \"More than 1.30 - less than 2.30 hours\", \"More than 1.30 - less than 2.30 hours\", \"More than 1.30 - less than 2.30 hours\", \"More than 1.30 - less than 2.30 hours\", \"More than 1.30 - less than 2.30 hours\", \"More than 1.30 - less than 2.30 hours\", \"More than 1.30 - less than 2.30 hours\", \"More than 1.30 - less than 2.30 hours\", \"More than 1.30 - less than 2.30 hours\", \"More than 1.30 - less than 2.30 hours\", \"More than 1.30 - less than 2.30 hours\", \"More than 1.30 - less than 2.30 hours\", \"More than 1.30 - less than 2.30 hours\", \"More than 1.30 - less than 2.30 hours\", \"More than 1.30 - less than 2.30 hours\", \"More than 1.30 - less than 2.30 hours\", \"More than 1.30 - less than 2.30 hours\", \"More than 1.30 - less than 2.30 hours\", \"More than 1.30 - less than 2.30 hours\", \"More than 1.30 - less than 2.30 hours\", \"More than 1.30 - less than 2.30 hours\", \"More than 1.30 - less than 2.30 hours\", \"More than 1.30 - less than 2.30 hours\", \"More than 1.30 - less than 2.30 hours\", \"More than 1.30 - less than 2.30 hours\", \"More than 1.30 - less than 2.30 hours\", \"More than 1.30 - less than 2.30 hours\", \"More than 1.30 - less than 2.30 hours\", \"More than 1.30 - less than 2.30 hours\", \"More than 1.30 - less than 2.30 hours\", \"More than 1.30 - less than 2.30 hours\", \"More than 1.30 - less than 2.30 hours\", \"More than 1.30 - less than 2.30 hours\", \"More than 1.30 - less than 2.30 hours\", \"More than 1.30 - less than 2.30 hours\", \"More than 1.30 - less than 2.30 hours\", \"More than 1.30 - less than 2.30 hours\", \"More than 1.30 - less than 2.30 hours\", \"More than 1.30 - less than 2.30 hours\", \"More than 1.30 - less than 2.30 hours\", \"More than 1.30 - less than 2.30 hours\", \"More than 1.30 - less than 2.30 hours\", \"More than 1.30 - less than 2.30 hours\", \"More than 1.30 - less than 2.30 hours\", \"More than 1.30 - less than 2.30 hours\", \"More than 1.30 - less than 2.30 hours\", \"More than 1.30 - less than 2.30 hours\", \"More than 1.30 - less than 2.30 hours\", \"More than 1.30 - less than 2.30 hours\", \"More than 1.30 - less than 2.30 hours\", \"More than 1.30 - less than 2.30 hours\", \"More than 1.30 - less than 2.30 hours\", \"More than 1.30 - less than 2.30 hours\", \"More than 1.30 - less than 2.30 hours\", \"More than 1.30 - less than 2.30 hours\", \"More than 1.30 - less than 2.30 hours\", \"More than 1.30 - less than 2.30 hours\", \"More than 1.30 - less than 2.30 hours\", \"More than 1.30 - less than 2.30 hours\", \"More than 1.30 - less than 2.30 hours\", \"More than 1.30 - less than 2.30 hours\", \"More than 1.30 - less than 2.30 hours\", \"More than 1.30 - less than 2.30 hours\", \"More than 1.30 - less than 2.30 hours\", \"More than 1.30 - less than 2.30 hours\", \"More than 1.30 - less than 2.30 hours\", \"More than 1.30 - less than 2.30 hours\", \"More than 1.30 - less than 2.30 hours\", \"More than 1.30 - less than 2.30 hours\", \"More than 1.30 - less than 2.30 hours\", \"More than 1.30 - less than 2.30 hours\", \"More than 1.30 - less than 2.30 hours\", \"More than 1.30 - less than 2.30 hours\", \"More than 1.30 - less than 2.30 hours\", \"More than 1.30 - less than 2.30 hours\", \"More than 1.30 - less than 2.30 hours\", \"More than 1.30 - less than 2.30 hours\", \"More than 1.30 - less than 2.30 hours\", \"More than 1.30 - less than 2.30 hours\", \"More than 1.30 - less than 2.30 hours\", \"More than 1.30 - less than 2.30 hours\", \"More than 1.30 - less than 2.30 hours\", \"More than 1.30 - less than 2.30 hours\", \"More than 1.30 - less than 2.30 hours\", \"More than 1.30 - less than 2.30 hours\", \"More than 1.30 - less than 2.30 hours\", \"More than 1.30 - less than 2.30 hours\", \"More than 1.30 - less than 2.30 hours\", \"More than 1.30 - less than 2.30 hours\", \"More than 1.30 - less than 2.30 hours\", \"More than 1.30 - less than 2.30 hours\", \"More than 1.30 - less than 2.30 hours\", \"More than 1.30 - less than 2.30 hours\", \"More than 1.30 - less than 2.30 hours\", \"More than 1.30 - less than 2.30 hours\", \"More than 1.30 - less than 2.30 hours\", \"More than 1.30 - less than 2.30 hours\", \"More than 1.30 - less than 2.30 hours\", \"More than 1.30 - less than 2.30 hours\", \"More than 1.30 - less than 2.30 hours\", \"More than 1.30 - less than 2.30 hours\", \"More than 1.30 - less than 2.30 hours\", \"More than 1.30 - less than 2.30 hours\", \"More than 1.30 - less than 2.30 hours\", \"More than 1.30 - less than 2.30 hours\", \"More than 1.30 - less than 2.30 hours\", \"More than 1.30 - less than 2.30 hours\", \"More than 1.30 - less than 2.30 hours\", \"More than 1.30 - less than 2.30 hours\", \"More than 1.30 - less than 2.30 hours\", \"More than 1.30 - less than 2.30 hours\", \"More than 1.30 - less than 2.30 hours\", \"More than 1.30 - less than 2.30 hours\", \"More than 1.30 - less than 2.30 hours\", \"More than 1.30 - less than 2.30 hours\", \"More than 1.30 - less than 2.30 hours\", \"More than 1.30 - less than 2.30 hours\", \"More than 1.30 - less than 2.30 hours\", \"More than 1.30 - less than 2.30 hours\", \"More than 1.30 - less than 2.30 hours\", \"More than 1.30 - less than 2.30 hours\", \"More than 1.30 - less than 2.30 hours\", \"More than 1.30 - less than 2.30 hours\", \"More than 1.30 - less than 2.30 hours\", \"More than 1.30 - less than 2.30 hours\", \"More than 1.30 - less than 2.30 hours\", \"More than 1.30 - less than 2.30 hours\", \"More than 1.30 - less than 2.30 hours\", \"More than 1.30 - less than 2.30 hours\", \"More than 1.30 - less than 2.30 hours\", \"More than 1.30 - less than 2.30 hours\", \"More than 1.30 - less than 2.30 hours\", \"More than 1.30 - less than 2.30 hours\", \"More than 1.30 - less than 2.30 hours\", \"More than 1.30 - less than 2.30 hours\", \"More than 1.30 - less than 2.30 hours\", \"More than 1.30 - less than 2.30 hours\", \"More than 1.30 - less than 2.30 hours\", \"More than 1.30 - less than 2.30 hours\", \"More than 1.30 - less than 2.30 hours\", \"More than 1.30 - less than 2.30 hours\", \"More than 1.30 - less than 2.30 hours\", \"More than 1.30 - less than 2.30 hours\", \"More than 1.30 - less than 2.30 hours\", \"More than 1.30 - less than 2.30 hours\", \"More than 1.30 - less than 2.30 hours\", \"More than 1.30 - less than 2.30 hours\", \"More than 1.30 - less than 2.30 hours\", \"More than 1.30 - less than 2.30 hours\", \"More than 1.30 - less than 2.30 hours\", \"More than 1.30 - less than 2.30 hours\", \"More than 1.30 - less than 2.30 hours\", \"More than 1.30 - less than 2.30 hours\", \"More than 1.30 - less than 2.30 hours\", \"More than 1.30 - less than 2.30 hours\", \"More than 1.30 - less than 2.30 hours\", \"More than 1.30 - less than 2.30 hours\", \"More than 1.30 - less than 2.30 hours\", \"More than 1.30 - less than 2.30 hours\", \"More than 1.30 - less than 2.30 hours\", \"More than 1.30 - less than 2.30 hours\", \"More than 1.30 - less than 2.30 hours\", \"More than 1.30 - less than 2.30 hours\", \"More than 1.30 - less than 2.30 hours\", \"More than 1.30 - less than 2.30 hours\", \"More than 1.30 - less than 2.30 hours\", \"More than 1.30 - less than 2.30 hours\", \"More than 1.30 - less than 2.30 hours\", \"More than 1.30 - less than 2.30 hours\", \"More than 1.30 - less than 2.30 hours\", \"More than 1.30 - less than 2.30 hours\", \"More than 1.30 - less than 2.30 hours\", \"More than 1.30 - less than 2.30 hours\", \"More than 1.30 - less than 2.30 hours\", \"More than 1.30 - less than 2.30 hours\", \"More than 1.30 - less than 2.30 hours\", \"More than 1.30 - less than 2.30 hours\", \"More than 1.30 - less than 2.30 hours\", \"More than 1.30 - less than 2.30 hours\", \"More than 1.30 - less than 2.30 hours\", \"More than 1.30 - less than 2.30 hours\", \"More than 1.30 - less than 2.30 hours\", \"More than 1.30 - less than 2.30 hours\", \"More than 1.30 - less than 2.30 hours\", \"More than 1.30 - less than 2.30 hours\", \"More than 1.30 - less than 2.30 hours\", \"More than 1.30 - less than 2.30 hours\", \"More than 1.30 - less than 2.30 hours\", \"More than 1.30 - less than 2.30 hours\", \"More than 1.30 - less than 2.30 hours\", \"More than 1.30 - less than 2.30 hours\", \"More than 1.30 - less than 2.30 hours\", \"More than 1.30 - less than 2.30 hours\", \"More than 1.30 - less than 2.30 hours\", \"More than 1.30 - less than 2.30 hours\", \"More than 1.30 - less than 2.30 hours\", \"More than 1.30 - less than 2.30 hours\", \"More than 1.30 - less than 2.30 hours\", \"More than 1.30 - less than 2.30 hours\", \"More than 1.30 - less than 2.30 hours\", \"More than 1.30 - less than 2.30 hours\", \"More than 1.30 - less than 2.30 hours\", \"More than 1.30 - less than 2.30 hours\", \"More than 1.30 - less than 2.30 hours\", \"More than 1.30 - less than 2.30 hours\", \"More than 1.30 - less than 2.30 hours\", \"More than 1.30 - less than 2.30 hours\", \"More than 1.30 - less than 2.30 hours\", \"More than 1.30 - less than 2.30 hours\", \"More than 1.30 - less than 2.30 hours\", \"More than 1.30 - less than 2.30 hours\", \"More than 1.30 - less than 2.30 hours\", \"More than 1.30 - less than 2.30 hours\", \"More than 1.30 - less than 2.30 hours\", \"More than 1.30 - less than 2.30 hours\", \"More than 1.30 - less than 2.30 hours\", \"More than 1.30 - less than 2.30 hours\", \"More than 1.30 - less than 2.30 hours\", \"More than 1.30 - less than 2.30 hours\", \"More than 1.30 - less than 2.30 hours\", \"More than 1.30 - less than 2.30 hours\", \"More than 1.30 - less than 2.30 hours\", \"More than 1.30 - less than 2.30 hours\", \"More than 1.30 - less than 2.30 hours\", \"More than 1.30 - less than 2.30 hours\", \"More than 1.30 - less than 2.30 hours\", \"More than 1.30 - less than 2.30 hours\", \"More than 1.30 - less than 2.30 hours\", \"More than 1.30 - less than 2.30 hours\", \"More than 1.30 - less than 2.30 hours\", \"More than 1.30 - less than 2.30 hours\", \"More than 1.30 - less than 2.30 hours\", \"More than 1.30 - less than 2.30 hours\", \"More than 1.30 - less than 2.30 hours\", \"More than 1.30 - less than 2.30 hours\", \"More than 1.30 - less than 2.30 hours\", \"More than 1.30 - less than 2.30 hours\", \"More than 1.30 - less than 2.30 hours\", \"More than 1.30 - less than 2.30 hours\", \"More than 1.30 - less than 2.30 hours\", \"More than 1.30 - less than 2.30 hours\", \"More than 1.30 - less than 2.30 hours\", \"More than 1.30 - less than 2.30 hours\", \"More than 1.30 - less than 2.30 hours\", \"More than 1.30 - less than 2.30 hours\", \"More than 1.30 - less than 2.30 hours\", \"More than 1.30 - less than 2.30 hours\", \"More than 1.30 - less than 2.30 hours\", \"More than 1.30 - less than 2.30 hours\", \"More than 1.30 - less than 2.30 hours\", \"More than 1.30 - less than 2.30 hours\", \"More than 1.30 - less than 2.30 hours\", \"More than 1.30 - less than 2.30 hours\", \"More than 1.30 - less than 2.30 hours\", \"More than 1.30 - less than 2.30 hours\", \"More than 1.30 - less than 2.30 hours\", \"More than 1.30 - less than 2.30 hours\", \"More than 1.30 - less than 2.30 hours\", \"More than 1.30 - less than 2.30 hours\", \"More than 1.30 - less than 2.30 hours\", \"More than 1.30 - less than 2.30 hours\", \"More than 1.30 - less than 2.30 hours\", \"More than 1.30 - less than 2.30 hours\", \"More than 1.30 - less than 2.30 hours\", \"More than 1.30 - less than 2.30 hours\", \"More than 1.30 - less than 2.30 hours\", \"More than 1.30 - less than 2.30 hours\", \"More than 1.30 - less than 2.30 hours\", \"More than 1.30 - less than 2.30 hours\", \"More than 1.30 - less than 2.30 hours\", \"More than 1.30 - less than 2.30 hours\", \"More than 1.30 - less than 2.30 hours\", \"More than 1.30 - less than 2.30 hours\", \"More than 1.30 - less than 2.30 hours\", \"More than 1.30 - less than 2.30 hours\", \"More than 1.30 - less than 2.30 hours\", \"More than 1.30 - less than 2.30 hours\", \"More than 1.30 - less than 2.30 hours\", \"More than 1.30 - less than 2.30 hours\", \"More than 1.30 - less than 2.30 hours\", \"More than 1.30 - less than 2.30 hours\", \"More than 1.30 - less than 2.30 hours\", \"More than 1.30 - less than 2.30 hours\", \"More than 1.30 - less than 2.30 hours\", \"More than 1.30 - less than 2.30 hours\", \"More than 1.30 - less than 2.30 hours\", \"More than 1.30 - less than 2.30 hours\", \"More than 1.30 - less than 2.30 hours\", \"More than 1.30 - less than 2.30 hours\", \"More than 1.30 - less than 2.30 hours\", \"More than 1.30 - less than 2.30 hours\", \"More than 1.30 - less than 2.30 hours\", \"More than 1.30 - less than 2.30 hours\", \"More than 1.30 - less than 2.30 hours\", \"More than 1.30 - less than 2.30 hours\", \"More than 1.30 - less than 2.30 hours\", \"More than 1.30 - less than 2.30 hours\", \"More than 1.30 - less than 2.30 hours\", \"More than 1.30 - less than 2.30 hours\", \"More than 1.30 - less than 2.30 hours\", \"More than 1.30 - less than 2.30 hours\", \"More than 1.30 - less than 2.30 hours\", \"More than 1.30 - less than 2.30 hours\", \"More than 1.30 - less than 2.30 hours\", \"More than 1.30 - less than 2.30 hours\", \"More than 1.30 - less than 2.30 hours\", \"More than 1.30 - less than 2.30 hours\", \"More than 1.30 - less than 2.30 hours\", \"More than 1.30 - less than 2.30 hours\", \"More than 1.30 - less than 2.30 hours\", \"More than 1.30 - less than 2.30 hours\", \"More than 1.30 - less than 2.30 hours\", \"More than 1.30 - less than 2.30 hours\", \"More than 1.30 - less than 2.30 hours\", \"More than 1.30 - less than 2.30 hours\", \"More than 1.30 - less than 2.30 hours\", \"More than 1.30 - less than 2.30 hours\", \"More than 1.30 - less than 2.30 hours\", \"More than 1.30 - less than 2.30 hours\", \"More than 1.30 - less than 2.30 hours\", \"More than 1.30 - less than 2.30 hours\", \"More than 1.30 - less than 2.30 hours\", \"More than 1.30 - less than 2.30 hours\", \"More than 1.30 - less than 2.30 hours\", \"More than 1.30 - less than 2.30 hours\", \"More than 1.30 - less than 2.30 hours\", \"More than 1.30 - less than 2.30 hours\", \"More than 1.30 - less than 2.30 hours\", \"More than 1.30 - less than 2.30 hours\", \"More than 1.30 - less than 2.30 hours\", \"More than 1.30 - less than 2.30 hours\", \"More than 1.30 - less than 2.30 hours\", \"More than 1.30 - less than 2.30 hours\", \"More than 1.30 - less than 2.30 hours\", \"More than 1.30 - less than 2.30 hours\", \"More than 1.30 - less than 2.30 hours\", \"More than 1.30 - less than 2.30 hours\", \"More than 1.30 - less than 2.30 hours\", \"More than 1.30 - less than 2.30 hours\", \"More than 1.30 - less than 2.30 hours\", \"More than 1.30 - less than 2.30 hours\", \"More than 1.30 - less than 2.30 hours\", \"More than 1.30 - less than 2.30 hours\", \"More than 1.30 - less than 2.30 hours\", \"More than 1.30 - less than 2.30 hours\", \"More than 1.30 - less than 2.30 hours\", \"More than 1.30 - less than 2.30 hours\", \"More than 1.30 - less than 2.30 hours\", \"More than 1.30 - less than 2.30 hours\", \"More than 1.30 - less than 2.30 hours\", \"More than 1.30 - less than 2.30 hours\", \"More than 1.30 - less than 2.30 hours\", \"More than 1.30 - less than 2.30 hours\", \"More than 1.30 - less than 2.30 hours\", \"More than 1.30 - less than 2.30 hours\", \"More than 1.30 - less than 2.30 hours\", \"More than 1.30 - less than 2.30 hours\", \"More than 1.30 - less than 2.30 hours\", \"More than 1.30 - less than 2.30 hours\", \"More than 1.30 - less than 2.30 hours\", \"More than 1.30 - less than 2.30 hours\", \"More than 1.30 - less than 2.30 hours\", \"More than 1.30 - less than 2.30 hours\", \"More than 1.30 - less than 2.30 hours\", \"More than 1.30 - less than 2.30 hours\", \"More than 1.30 - less than 2.30 hours\", \"More than 1.30 - less than 2.30 hours\", \"More than 1.30 - less than 2.30 hours\", \"More than 1.30 - less than 2.30 hours\", \"More than 1.30 - less than 2.30 hours\", \"More than 1.30 - less than 2.30 hours\", \"More than 1.30 - less than 2.30 hours\", \"More than 1.30 - less than 2.30 hours\", \"More than 1.30 - less than 2.30 hours\", \"More than 1.30 - less than 2.30 hours\", \"More than 1.30 - less than 2.30 hours\", \"More than 1.30 - less than 2.30 hours\", \"More than 1.30 - less than 2.30 hours\", \"More than 1.30 - less than 2.30 hours\", \"More than 1.30 - less than 2.30 hours\", \"More than 1.30 - less than 2.30 hours\", \"More than 1.30 - less than 2.30 hours\", \"More than 1.30 - less than 2.30 hours\", \"More than 1.30 - less than 2.30 hours\", \"More than 1.30 - less than 2.30 hours\", \"More than 1.30 - less than 2.30 hours\", \"More than 1.30 - less than 2.30 hours\", \"More than 1.30 - less than 2.30 hours\", \"More than 1.30 - less than 2.30 hours\", \"More than 1.30 - less than 2.30 hours\", \"More than 1.30 - less than 2.30 hours\", \"More than 1.30 - less than 2.30 hours\", \"More than 1.30 - less than 2.30 hours\", \"More than 1.30 - less than 2.30 hours\", \"More than 1.30 - less than 2.30 hours\", \"More than 1.30 - less than 2.30 hours\", \"More than 1.30 - less than 2.30 hours\", \"More than 1.30 - less than 2.30 hours\", \"More than 1.30 - less than 2.30 hours\", \"More than 1.30 - less than 2.30 hours\", \"More than 1.30 - less than 2.30 hours\", \"More than 1.30 - less than 2.30 hours\", \"More than 1.30 - less than 2.30 hours\", \"More than 1.30 - less than 2.30 hours\", \"More than 1.30 - less than 2.30 hours\", \"More than 1.30 - less than 2.30 hours\", \"More than 1.30 - less than 2.30 hours\", \"More than 1.30 - less than 2.30 hours\", \"More than 1.30 - less than 2.30 hours\", \"More than 1.30 - less than 2.30 hours\", \"More than 1.30 - less than 2.30 hours\", \"More than 1.30 - less than 2.30 hours\", \"More than 1.30 - less than 2.30 hours\", \"More than 1.30 - less than 2.30 hours\", \"More than 1.30 - less than 2.30 hours\", \"More than 1.30 - less than 2.30 hours\", \"More than 1.30 - less than 2.30 hours\", \"More than 1.30 - less than 2.30 hours\", \"More than 1.30 - less than 2.30 hours\", \"More than 1.30 - less than 2.30 hours\", \"More than 1.30 - less than 2.30 hours\", \"More than 1.30 - less than 2.30 hours\", \"More than 1.30 - less than 2.30 hours\", \"More than 1.30 - less than 2.30 hours\", \"More than 1.30 - less than 2.30 hours\", \"More than 1.30 - less than 2.30 hours\", \"More than 1.30 - less than 2.30 hours\", \"More than 1.30 - less than 2.30 hours\", \"More than 1.30 - less than 2.30 hours\", \"More than 1.30 - less than 2.30 hours\", \"More than 1.30 - less than 2.30 hours\", \"More than 1.30 - less than 2.30 hours\", \"More than 1.30 - less than 2.30 hours\", \"More than 1.30 - less than 2.30 hours\", \"More than 1.30 - less than 2.30 hours\", \"More than 1.30 - less than 2.30 hours\", \"More than 1.30 - less than 2.30 hours\", \"More than 1.30 - less than 2.30 hours\", \"More than 1.30 - less than 2.30 hours\", \"More than 1.30 - less than 2.30 hours\", \"More than 1.30 - less than 2.30 hours\", \"More than 1.30 - less than 2.30 hours\", \"More than 1.30 - less than 2.30 hours\", \"More than 1.30 - less than 2.30 hours\", \"More than 1.30 - less than 2.30 hours\", \"More than 1.30 - less than 2.30 hours\", \"More than 1.30 - less than 2.30 hours\", \"More than 1.30 - less than 2.30 hours\", \"More than 1.30 - less than 2.30 hours\", \"More than 1.30 - less than 2.30 hours\", \"More than 1.30 - less than 2.30 hours\", \"More than 1.30 - less than 2.30 hours\", \"More than 1.30 - less than 2.30 hours\", \"More than 1.30 - less than 2.30 hours\", \"More than 1.30 - less than 2.30 hours\", \"More than 1.30 - less than 2.30 hours\", \"More than 1.30 - less than 2.30 hours\", \"More than 1.30 - less than 2.30 hours\", \"More than 1.30 - less than 2.30 hours\", \"More than 1.30 - less than 2.30 hours\", \"More than 1.30 - less than 2.30 hours\", \"More than 1.30 - less than 2.30 hours\", \"More than 1.30 - less than 2.30 hours\", \"More than 1.30 - less than 2.30 hours\", \"More than 1.30 - less than 2.30 hours\", \"More than 1.30 - less than 2.30 hours\", \"More than 1.30 - less than 2.30 hours\", \"More than 1.30 - less than 2.30 hours\", \"More than 1.30 - less than 2.30 hours\", \"More than 1.30 - less than 2.30 hours\", \"More than 1.30 - less than 2.30 hours\", \"More than 1.30 - less than 2.30 hours\", \"More than 1.30 - less than 2.30 hours\", \"More than 1.30 - less than 2.30 hours\", \"More than 1.30 - less than 2.30 hours\", \"More than 1.30 - less than 2.30 hours\", \"More than 1.30 - less than 2.30 hours\", \"More than 1.30 - less than 2.30 hours\", \"More than 1.30 - less than 2.30 hours\", \"More than 1.30 - less than 2.30 hours\", \"More than 1.30 - less than 2.30 hours\", \"More than 1.30 - less than 2.30 hours\", \"More than 1.30 - less than 2.30 hours\", \"More than 1.30 - less than 2.30 hours\", \"More than 1.30 - less than 2.30 hours\", \"More than 1.30 - less than 2.30 hours\", \"More than 1.30 - less than 2.30 hours\", \"More than 1.30 - less than 2.30 hours\", \"More than 1.30 - less than 2.30 hours\", \"More than 1.30 - less than 2.30 hours\", \"More than 1.30 - less than 2.30 hours\", \"More than 1.30 - less than 2.30 hours\", \"More than 1.30 - less than 2.30 hours\", \"More than 1.30 - less than 2.30 hours\", \"More than 1.30 - less than 2.30 hours\", \"More than 1.30 - less than 2.30 hours\", \"More than 1.30 - less than 2.30 hours\", \"More than 1.30 - less than 2.30 hours\", \"More than 1.30 - less than 2.30 hours\", \"More than 1.30 - less than 2.30 hours\", \"More than 1.30 - less than 2.30 hours\", \"More than 1.30 - less than 2.30 hours\", \"More than 1.30 - less than 2.30 hours\", \"More than 1.30 - less than 2.30 hours\", \"More than 1.30 - less than 2.30 hours\", \"More than 1.30 - less than 2.30 hours\", \"More than 1.30 - less than 2.30 hours\", \"More than 1.30 - less than 2.30 hours\", \"More than 1.30 - less than 2.30 hours\", \"More than 1.30 - less than 2.30 hours\", \"More than 1.30 - less than 2.30 hours\", \"More than 1.30 - less than 2.30 hours\", \"More than 1.30 - less than 2.30 hours\", \"More than 1.30 - less than 2.30 hours\", \"More than 1.30 - less than 2.30 hours\", \"More than 1.30 - less than 2.30 hours\", \"More than 1.30 - less than 2.30 hours\", \"More than 1.30 - less than 2.30 hours\", \"More than 1.30 - less than 2.30 hours\", \"More than 1.30 - less than 2.30 hours\", \"More than 1.30 - less than 2.30 hours\", \"More than 1.30 - less than 2.30 hours\", \"More than 1.30 - less than 2.30 hours\", \"More than 1.30 - less than 2.30 hours\", \"More than 1.30 - less than 2.30 hours\", \"More than 1.30 - less than 2.30 hours\", \"More than 1.30 - less than 2.30 hours\", \"More than 1.30 - less than 2.30 hours\", \"More than 1.30 - less than 2.30 hours\", \"More than 1.30 - less than 2.30 hours\", \"More than 1.30 - less than 2.30 hours\", \"More than 1.30 - less than 2.30 hours\", \"More than 1.30 - less than 2.30 hours\", \"More than 1.30 - less than 2.30 hours\", \"More than 1.30 - less than 2.30 hours\", \"More than 1.30 - less than 2.30 hours\", \"More than 1.30 - less than 2.30 hours\", \"More than 1.30 - less than 2.30 hours\", \"More than 1.30 - less than 2.30 hours\", \"More than 1.30 - less than 2.30 hours\", \"More than 1.30 - less than 2.30 hours\", \"More than 1.30 - less than 2.30 hours\", \"More than 1.30 - less than 2.30 hours\", \"More than 1.30 - less than 2.30 hours\", \"More than 1.30 - less than 2.30 hours\", \"More than 1.30 - less than 2.30 hours\", \"More than 1.30 - less than 2.30 hours\", \"More than 1.30 - less than 2.30 hours\", \"More than 1.30 - less than 2.30 hours\", \"More than 1.30 - less than 2.30 hours\", \"More than 1.30 - less than 2.30 hours\", \"More than 1.30 - less than 2.30 hours\", \"More than 1.30 - less than 2.30 hours\", \"More than 1.30 - less than 2.30 hours\", \"More than 1.30 - less than 2.30 hours\", \"More than 1.30 - less than 2.30 hours\", \"More than 1.30 - less than 2.30 hours\", \"More than 1.30 - less than 2.30 hours\", \"More than 1.30 - less than 2.30 hours\", \"More than 1.30 - less than 2.30 hours\", \"More than 1.30 - less than 2.30 hours\", \"More than 1.30 - less than 2.30 hours\", \"More than 1.30 - less than 2.30 hours\", \"More than 1.30 - less than 2.30 hours\", \"More than 1.30 - less than 2.30 hours\", \"More than 1.30 - less than 2.30 hours\", \"More than 1.30 - less than 2.30 hours\", \"More than 1.30 - less than 2.30 hours\", \"More than 1.30 - less than 2.30 hours\", \"More than 1.30 - less than 2.30 hours\", \"More than 1.30 - less than 2.30 hours\", \"More than 1.30 - less than 2.30 hours\", \"More than 1.30 - less than 2.30 hours\", \"More than 1.30 - less than 2.30 hours\", \"More than 1.30 - less than 2.30 hours\", \"More than 1.30 - less than 2.30 hours\", \"More than 1.30 - less than 2.30 hours\", \"More than 1.30 - less than 2.30 hours\", \"More than 1.30 - less than 2.30 hours\", \"More than 1.30 - less than 2.30 hours\", \"More than 1.30 - less than 2.30 hours\", \"More than 1.30 - less than 2.30 hours\", \"More than 1.30 - less than 2.30 hours\", \"More than 1.30 - less than 2.30 hours\", \"More than 1.30 - less than 2.30 hours\", \"More than 1.30 - less than 2.30 hours\", \"More than 1.30 - less than 2.30 hours\", \"More than 1.30 - less than 2.30 hours\", \"More than 1.30 - less than 2.30 hours\", \"More than 1.30 - less than 2.30 hours\", \"More than 1.30 - less than 2.30 hours\", \"More than 1.30 - less than 2.30 hours\", \"More than 1.30 - less than 2.30 hours\", \"More than 1.30 - less than 2.30 hours\", \"More than 1.30 - less than 2.30 hours\", \"More than 1.30 - less than 2.30 hours\", \"More than 1.30 - less than 2.30 hours\", \"More than 1.30 - less than 2.30 hours\", \"More than 1.30 - less than 2.30 hours\", \"More than 1.30 - less than 2.30 hours\", \"More than 1.30 - less than 2.30 hours\", \"More than 1.30 - less than 2.30 hours\", \"More than 1.30 - less than 2.30 hours\", \"More than 1.30 - less than 2.30 hours\", \"More than 1.30 - less than 2.30 hours\", \"More than 1.30 - less than 2.30 hours\", \"More than 1.30 - less than 2.30 hours\", \"More than 1.30 - less than 2.30 hours\", \"More than 1.30 - less than 2.30 hours\", \"More than 1.30 - less than 2.30 hours\", \"More than 1.30 - less than 2.30 hours\", \"More than 1.30 - less than 2.30 hours\", \"More than 1.30 - less than 2.30 hours\", \"More than 1.30 - less than 2.30 hours\", \"More than 1.30 - less than 2.30 hours\", \"More than 1.30 - less than 2.30 hours\", \"More than 1.30 - less than 2.30 hours\", \"More than 1.30 - less than 2.30 hours\", \"More than 1.30 - less than 2.30 hours\", \"More than 1.30 - less than 2.30 hours\", \"More than 1.30 - less than 2.30 hours\", \"More than 1.30 - less than 2.30 hours\", \"More than 1.30 - less than 2.30 hours\", \"More than 1.30 - less than 2.30 hours\", \"More than 1.30 - less than 2.30 hours\", \"More than 1.30 - less than 2.30 hours\", \"More than 1.30 - less than 2.30 hours\", \"More than 1.30 - less than 2.30 hours\", \"More than 1.30 - less than 2.30 hours\", \"More than 1.30 - less than 2.30 hours\", \"More than 1.30 - less than 2.30 hours\", \"More than 1.30 - less than 2.30 hours\", \"More than 1.30 - less than 2.30 hours\", \"More than 1.30 - less than 2.30 hours\", \"More than 1.30 - less than 2.30 hours\", \"More than 1.30 - less than 2.30 hours\", \"More than 1.30 - less than 2.30 hours\", \"More than 1.30 - less than 2.30 hours\", \"More than 1.30 - less than 2.30 hours\", \"More than 1.30 - less than 2.30 hours\", \"More than 1.30 - less than 2.30 hours\", \"More than 1.30 - less than 2.30 hours\", \"More than 1.30 - less than 2.30 hours\", \"More than 1.30 - less than 2.30 hours\", \"More than 1.30 - less than 2.30 hours\", \"More than 1.30 - less than 2.30 hours\", \"More than 1.30 - less than 2.30 hours\", \"More than 1.30 - less than 2.30 hours\", \"More than 1.30 - less than 2.30 hours\", \"More than 1.30 - less than 2.30 hours\", \"More than 1.30 - less than 2.30 hours\", \"More than 1.30 - less than 2.30 hours\", \"More than 1.30 - less than 2.30 hours\", \"More than 1.30 - less than 2.30 hours\", \"More than 1.30 - less than 2.30 hours\", \"More than 1.30 - less than 2.30 hours\", \"More than 1.30 - less than 2.30 hours\", \"More than 1.30 - less than 2.30 hours\", \"More than 1.30 - less than 2.30 hours\", \"More than 1.30 - less than 2.30 hours\", \"More than 1.30 - less than 2.30 hours\", \"More than 1.30 - less than 2.30 hours\", \"More than 1.30 - less than 2.30 hours\", \"More than 1.30 - less than 2.30 hours\", \"More than 1.30 - less than 2.30 hours\", \"More than 1.30 - less than 2.30 hours\", \"More than 1.30 - less than 2.30 hours\", \"More than 1.30 - less than 2.30 hours\", \"More than 1.30 - less than 2.30 hours\", \"More than 1.30 - less than 2.30 hours\", \"More than 1.30 - less than 2.30 hours\", \"More than 1.30 - less than 2.30 hours\", \"More than 1.30 - less than 2.30 hours\", \"More than 1.30 - less than 2.30 hours\", \"More than 1.30 - less than 2.30 hours\", \"More than 1.30 - less than 2.30 hours\", \"More than 1.30 - less than 2.30 hours\", \"More than 1.30 - less than 2.30 hours\", \"More than 1.30 - less than 2.30 hours\", \"More than 1.30 - less than 2.30 hours\", \"More than 1.30 - less than 2.30 hours\", \"More than 1.30 - less than 2.30 hours\", \"More than 1.30 - less than 2.30 hours\", \"More than 1.30 - less than 2.30 hours\", \"More than 1.30 - less than 2.30 hours\", \"More than 1.30 - less than 2.30 hours\", \"More than 1.30 - less than 2.30 hours\", \"More than 1.30 - less than 2.30 hours\", \"More than 1.30 - less than 2.30 hours\", \"More than 1.30 - less than 2.30 hours\", \"More than 1.30 - less than 2.30 hours\", \"More than 1.30 - less than 2.30 hours\", \"More than 1.30 - less than 2.30 hours\", \"More than 1.30 - less than 2.30 hours\", \"More than 1.30 - less than 2.30 hours\", \"More than 1.30 - less than 2.30 hours\", \"More than 1.30 - less than 2.30 hours\", \"More than 1.30 - less than 2.30 hours\", \"More than 1.30 - less than 2.30 hours\", \"More than 1.30 - less than 2.30 hours\", \"More than 1.30 - less than 2.30 hours\", \"More than 1.30 - less than 2.30 hours\", \"More than 1.30 - less than 2.30 hours\", \"More than 1.30 - less than 2.30 hours\", \"More than 1.30 - less than 2.30 hours\", \"More than 1.30 - less than 2.30 hours\", \"More than 1.30 - less than 2.30 hours\", \"More than 1.30 - less than 2.30 hours\", \"More than 1.30 - less than 2.30 hours\", \"More than 1.30 - less than 2.30 hours\", \"More than 1.30 - less than 2.30 hours\", \"More than 1.30 - less than 2.30 hours\", \"More than 1.30 - less than 2.30 hours\", \"More than 1.30 - less than 2.30 hours\", \"More than 1.30 - less than 2.30 hours\", \"More than 1.30 - less than 2.30 hours\", \"More than 1.30 - less than 2.30 hours\", \"More than 1.30 - less than 2.30 hours\", \"More than 1.30 - less than 2.30 hours\", \"More than 1.30 - less than 2.30 hours\", \"More than 1.30 - less than 2.30 hours\", \"More than 1.30 - less than 2.30 hours\", \"More than 1.30 - less than 2.30 hours\", \"More than 1.30 - less than 2.30 hours\", \"More than 1.30 - less than 2.30 hours\", \"More than 1.30 - less than 2.30 hours\", \"More than 1.30 - less than 2.30 hours\", \"More than 1.30 - less than 2.30 hours\", \"More than 1.30 - less than 2.30 hours\", \"More than 1.30 - less than 2.30 hours\", \"More than 1.30 - less than 2.30 hours\", \"More than 1.30 - less than 2.30 hours\", \"More than 1.30 - less than 2.30 hours\", \"More than 1.30 - less than 2.30 hours\", \"More than 1.30 - less than 2.30 hours\", \"More than 1.30 - less than 2.30 hours\", \"More than 1.30 - less than 2.30 hours\", \"More than 1.30 - less than 2.30 hours\", \"More than 1.30 - less than 2.30 hours\", \"More than 1.30 - less than 2.30 hours\", \"More than 1.30 - less than 2.30 hours\", \"More than 1.30 - less than 2.30 hours\", \"More than 1.30 - less than 2.30 hours\", \"More than 1.30 - less than 2.30 hours\", \"More than 1.30 - less than 2.30 hours\", \"More than 1.30 - less than 2.30 hours\", \"More than 1.30 - less than 2.30 hours\", \"More than 1.30 - less than 2.30 hours\", \"More than 1.30 - less than 2.30 hours\", \"More than 1.30 - less than 2.30 hours\", \"More than 1.30 - less than 2.30 hours\", \"More than 1.30 - less than 2.30 hours\", \"More than 1.30 - less than 2.30 hours\", \"More than 1.30 - less than 2.30 hours\", \"More than 1.30 - less than 2.30 hours\", \"More than 1.30 - less than 2.30 hours\", \"More than 1.30 - less than 2.30 hours\", \"More than 1.30 - less than 2.30 hours\", \"More than 1.30 - less than 2.30 hours\", \"More than 1.30 - less than 2.30 hours\", \"More than 1.30 - less than 2.30 hours\", \"More than 1.30 - less than 2.30 hours\", \"More than 1.30 - less than 2.30 hours\", \"More than 1.30 - less than 2.30 hours\", \"More than 1.30 - less than 2.30 hours\", \"More than 1.30 - less than 2.30 hours\", \"More than 1.30 - less than 2.30 hours\", \"More than 1.30 - less than 2.30 hours\", \"More than 1.30 - less than 2.30 hours\", \"More than 1.30 - less than 2.30 hours\", \"More than 1.30 - less than 2.30 hours\", \"More than 1.30 - less than 2.30 hours\", \"More than 1.30 - less than 2.30 hours\", \"More than 1.30 - less than 2.30 hours\", \"More than 1.30 - less than 2.30 hours\", \"More than 1.30 - less than 2.30 hours\", \"More than 1.30 - less than 2.30 hours\", \"More than 1.30 - less than 2.30 hours\", \"More than 1.30 - less than 2.30 hours\", \"More than 1.30 - less than 2.30 hours\", \"More than 1.30 - less than 2.30 hours\", \"More than 1.30 - less than 2.30 hours\", \"More than 1.30 - less than 2.30 hours\", \"More than 1.30 - less than 2.30 hours\", \"More than 1.30 - less than 2.30 hours\", \"More than 1.30 - less than 2.30 hours\", \"More than 1.30 - less than 2.30 hours\", \"More than 1.30 - less than 2.30 hours\", \"More than 1.30 - less than 2.30 hours\", \"More than 1.30 - less than 2.30 hours\", \"More than 1.30 - less than 2.30 hours\", \"More than 1.30 - less than 2.30 hours\", \"More than 1.30 - less than 2.30 hours\", \"More than 1.30 - less than 2.30 hours\", \"More than 1.30 - less than 2.30 hours\", \"More than 1.30 - less than 2.30 hours\", \"More than 1.30 - less than 2.30 hours\", \"More than 1.30 - less than 2.30 hours\", \"More than 1.30 - less than 2.30 hours\", \"More than 1.30 - less than 2.30 hours\", \"More than 1.30 - less than 2.30 hours\", \"More than 1.30 - less than 2.30 hours\", \"More than 1.30 - less than 2.30 hours\", \"More than 1.30 - less than 2.30 hours\", \"More than 1.30 - less than 2.30 hours\", \"More than 1.30 - less than 2.30 hours\", \"More than 1.30 - less than 2.30 hours\", \"More than 1.30 - less than 2.30 hours\", \"More than 1.30 - less than 2.30 hours\", \"More than 1.30 - less than 2.30 hours\", \"More than 1.30 - less than 2.30 hours\", \"More than 1.30 - less than 2.30 hours\", \"More than 1.30 - less than 2.30 hours\", \"More than 1.30 - less than 2.30 hours\", \"More than 1.30 - less than 2.30 hours\", \"More than 1.30 - less than 2.30 hours\", \"More than 1.30 - less than 2.30 hours\", \"More than 1.30 - less than 2.30 hours\", \"More than 1.30 - less than 2.30 hours\", \"More than 1.30 - less than 2.30 hours\", \"More than 1.30 - less than 2.30 hours\", \"More than 1.30 - less than 2.30 hours\", \"More than 1.30 - less than 2.30 hours\", \"More than 1.30 - less than 2.30 hours\", \"More than 1.30 - less than 2.30 hours\", \"More than 1.30 - less than 2.30 hours\", \"More than 1.30 - less than 2.30 hours\", \"More than 1.30 - less than 2.30 hours\", \"More than 1.30 - less than 2.30 hours\", \"More than 1.30 - less than 2.30 hours\", \"More than 1.30 - less than 2.30 hours\", \"More than 1.30 - less than 2.30 hours\", \"More than 1.30 - less than 2.30 hours\", \"More than 1.30 - less than 2.30 hours\", \"More than 1.30 - less than 2.30 hours\", \"More than 1.30 - less than 2.30 hours\", \"More than 1.30 - less than 2.30 hours\", \"More than 1.30 - less than 2.30 hours\", \"More than 1.30 - less than 2.30 hours\", \"More than 1.30 - less than 2.30 hours\", \"More than 1.30 - less than 2.30 hours\", \"More than 1.30 - less than 2.30 hours\", \"More than 1.30 - less than 2.30 hours\", \"More than 1.30 - less than 2.30 hours\", \"More than 1.30 - less than 2.30 hours\", \"More than 1.30 - less than 2.30 hours\", \"More than 1.30 - less than 2.30 hours\", \"More than 1.30 - less than 2.30 hours\", \"More than 1.30 - less than 2.30 hours\", \"More than 1.30 - less than 2.30 hours\", \"More than 1.30 - less than 2.30 hours\", \"More than 1.30 - less than 2.30 hours\", \"More than 1.30 - less than 2.30 hours\", \"More than 1.30 - less than 2.30 hours\", \"More than 1.30 - less than 2.30 hours\", \"More than 1.30 - less than 2.30 hours\", \"More than 1.30 - less than 2.30 hours\", \"More than 1.30 - less than 2.30 hours\", \"More than 1.30 - less than 2.30 hours\", \"More than 1.30 - less than 2.30 hours\", \"More than 1.30 - less than 2.30 hours\", \"More than 1.30 - less than 2.30 hours\", \"More than 1.30 - less than 2.30 hours\", \"More than 1.30 - less than 2.30 hours\", \"More than 1.30 - less than 2.30 hours\", \"More than 1.30 - less than 2.30 hours\", \"More than 1.30 - less than 2.30 hours\", \"More than 1.30 - less than 2.30 hours\", \"More than 1.30 - less than 2.30 hours\", \"More than 1.30 - less than 2.30 hours\", \"More than 1.30 - less than 2.30 hours\", \"More than 1.30 - less than 2.30 hours\", \"More than 1.30 - less than 2.30 hours\", \"More than 1.30 - less than 2.30 hours\", \"More than 1.30 - less than 2.30 hours\", \"More than 1.30 - less than 2.30 hours\", \"More than 1.30 - less than 2.30 hours\", \"More than 1.30 - less than 2.30 hours\", \"More than 1.30 - less than 2.30 hours\", \"More than 1.30 - less than 2.30 hours\", \"More than 1.30 - less than 2.30 hours\", \"More than 1.30 - less than 2.30 hours\", \"More than 1.30 - less than 2.30 hours\", \"More than 1.30 - less than 2.30 hours\", \"More than 1.30 - less than 2.30 hours\", \"More than 1.30 - less than 2.30 hours\", \"More than 1.30 - less than 2.30 hours\", \"More than 1.30 - less than 2.30 hours\", \"More than 1.30 - less than 2.30 hours\", \"More than 1.30 - less than 2.30 hours\", \"More than 1.30 - less than 2.30 hours\", \"More than 1.30 - less than 2.30 hours\", \"More than 1.30 - less than 2.30 hours\", \"More than 1.30 - less than 2.30 hours\", \"More than 1.30 - less than 2.30 hours\", \"More than 1.30 - less than 2.30 hours\", \"More than 1.30 - less than 2.30 hours\", \"More than 1.30 - less than 2.30 hours\", \"More than 1.30 - less than 2.30 hours\", \"More than 1.30 - less than 2.30 hours\", \"More than 1.30 - less than 2.30 hours\", \"More than 1.30 - less than 2.30 hours\", \"More than 1.30 - less than 2.30 hours\", \"More than 1.30 - less than 2.30 hours\", \"More than 1.30 - less than 2.30 hours\", \"More than 1.30 - less than 2.30 hours\", \"More than 1.30 - less than 2.30 hours\", \"More than 1.30 - less than 2.30 hours\", \"More than 1.30 - less than 2.30 hours\", \"More than 1.30 - less than 2.30 hours\", \"More than 1.30 - less than 2.30 hours\", \"More than 1.30 - less than 2.30 hours\", \"More than 1.30 - less than 2.30 hours\", \"More than 1.30 - less than 2.30 hours\", \"More than 1.30 - less than 2.30 hours\", \"More than 1.30 - less than 2.30 hours\", \"More than 1.30 - less than 2.30 hours\", \"More than 1.30 - less than 2.30 hours\", \"More than 1.30 - less than 2.30 hours\", \"More than 1.30 - less than 2.30 hours\", \"More than 1.30 - less than 2.30 hours\", \"More than 1.30 - less than 2.30 hours\", \"More than 1.30 - less than 2.30 hours\", \"More than 1.30 - less than 2.30 hours\", \"More than 1.30 - less than 2.30 hours\", \"More than 1.30 - less than 2.30 hours\", \"More than 1.30 - less than 2.30 hours\", \"More than 1.30 - less than 2.30 hours\", \"More than 1.30 - less than 2.30 hours\", \"More than 1.30 - less than 2.30 hours\", \"More than 1.30 - less than 2.30 hours\", \"More than 1.30 - less than 2.30 hours\", \"More than 1.30 - less than 2.30 hours\", \"More than 1.30 - less than 2.30 hours\", \"More than 1.30 - less than 2.30 hours\", \"More than 1.30 - less than 2.30 hours\", \"More than 1.30 - less than 2.30 hours\", \"More than 1.30 - less than 2.30 hours\", \"More than 1.30 - less than 2.30 hours\", \"More than 1.30 - less than 2.30 hours\", \"More than 1.30 - less than 2.30 hours\", \"More than 1.30 - less than 2.30 hours\", \"More than 1.30 - less than 2.30 hours\", \"More than 1.30 - less than 2.30 hours\", \"More than 1.30 - less than 2.30 hours\", \"More than 1.30 - less than 2.30 hours\", \"More than 1.30 - less than 2.30 hours\", \"More than 1.30 - less than 2.30 hours\", \"More than 1.30 - less than 2.30 hours\", \"More than 1.30 - less than 2.30 hours\", \"More than 1.30 - less than 2.30 hours\", \"More than 1.30 - less than 2.30 hours\", \"More than 1.30 - less than 2.30 hours\", \"More than 1.30 - less than 2.30 hours\", \"More than 1.30 - less than 2.30 hours\", \"More than 1.30 - less than 2.30 hours\", \"More than 1.30 - less than 2.30 hours\", \"More than 1.30 - less than 2.30 hours\", \"More than 1.30 - less than 2.30 hours\", \"More than 1.30 - less than 2.30 hours\", \"More than 1.30 - less than 2.30 hours\", \"More than 1.30 - less than 2.30 hours\", \"More than 1.30 - less than 2.30 hours\", \"More than 1.30 - less than 2.30 hours\", \"More than 1.30 - less than 2.30 hours\", \"More than 1.30 - less than 2.30 hours\", \"More than 1.30 - less than 2.30 hours\", \"More than 1.30 - less than 2.30 hours\", \"More than 1.30 - less than 2.30 hours\", \"More than 1.30 - less than 2.30 hours\", \"More than 1.30 - less than 2.30 hours\", \"More than 1.30 - less than 2.30 hours\", \"More than 1.30 - less than 2.30 hours\", \"More than 1.30 - less than 2.30 hours\", \"More than 1.30 - less than 2.30 hours\", \"More than 1.30 - less than 2.30 hours\", \"More than 1.30 - less than 2.30 hours\", \"More than 1.30 - less than 2.30 hours\", \"More than 1.30 - less than 2.30 hours\", \"More than 1.30 - less than 2.30 hours\", \"More than 1.30 - less than 2.30 hours\", \"More than 1.30 - less than 2.30 hours\", \"More than 1.30 - less than 2.30 hours\", \"More than 1.30 - less than 2.30 hours\", \"More than 1.30 - less than 2.30 hours\", \"More than 1.30 - less than 2.30 hours\", \"More than 1.30 - less than 2.30 hours\", \"More than 1.30 - less than 2.30 hours\", \"More than 1.30 - less than 2.30 hours\", \"More than 1.30 - less than 2.30 hours\", \"More than 1.30 - less than 2.30 hours\", \"More than 1.30 - less than 2.30 hours\", \"More than 1.30 - less than 2.30 hours\", \"More than 1.30 - less than 2.30 hours\", \"More than 1.30 - less than 2.30 hours\", \"More than 1.30 - less than 2.30 hours\", \"More than 1.30 - less than 2.30 hours\", \"More than 1.30 - less than 2.30 hours\", \"More than 1.30 - less than 2.30 hours\", \"More than 1.30 - less than 2.30 hours\", \"More than 1.30 - less than 2.30 hours\", \"More than 1.30 - less than 2.30 hours\", \"More than 1.30 - less than 2.30 hours\", \"More than 1.30 - less than 2.30 hours\", \"More than 1.30 - less than 2.30 hours\", \"More than 1.30 - less than 2.30 hours\", \"More than 1.30 - less than 2.30 hours\", \"More than 1.30 - less than 2.30 hours\", \"More than 1.30 - less than 2.30 hours\", \"More than 1.30 - less than 2.30 hours\", \"More than 1.30 - less than 2.30 hours\", \"More than 1.30 - less than 2.30 hours\", \"More than 1.30 - less than 2.30 hours\", \"More than 1.30 - less than 2.30 hours\", \"More than 1.30 - less than 2.30 hours\", \"More than 1.30 - less than 2.30 hours\", \"More than 1.30 - less than 2.30 hours\", \"More than 1.30 - less than 2.30 hours\", \"More than 1.30 - less than 2.30 hours\", \"More than 1.30 - less than 2.30 hours\", \"More than 1.30 - less than 2.30 hours\", \"More than 1.30 - less than 2.30 hours\", \"More than 1.30 - less than 2.30 hours\", \"More than 1.30 - less than 2.30 hours\", \"More than 1.30 - less than 2.30 hours\", \"More than 1.30 - less than 2.30 hours\", \"More than 1.30 - less than 2.30 hours\", \"More than 1.30 - less than 2.30 hours\", \"More than 1.30 - less than 2.30 hours\", \"More than 1.30 - less than 2.30 hours\", \"More than 1.30 - less than 2.30 hours\", \"More than 1.30 - less than 2.30 hours\", \"More than 1.30 - less than 2.30 hours\", \"More than 1.30 - less than 2.30 hours\", \"More than 1.30 - less than 2.30 hours\", \"More than 1.30 - less than 2.30 hours\", \"More than 1.30 - less than 2.30 hours\", \"More than 1.30 - less than 2.30 hours\", \"More than 1.30 - less than 2.30 hours\", \"More than 1.30 - less than 2.30 hours\", \"More than 1.30 - less than 2.30 hours\", \"More than 1.30 - less than 2.30 hours\", \"More than 1.30 - less than 2.30 hours\", \"More than 1.30 - less than 2.30 hours\", \"More than 1.30 - less than 2.30 hours\", \"More than 1.30 - less than 2.30 hours\", \"More than 1.30 - less than 2.30 hours\", \"More than 1.30 - less than 2.30 hours\", \"More than 1.30 - less than 2.30 hours\", \"More than 1.30 - less than 2.30 hours\", \"More than 1.30 - less than 2.30 hours\", \"More than 1.30 - less than 2.30 hours\", \"More than 1.30 - less than 2.30 hours\", \"More than 1.30 - less than 2.30 hours\"], \"xaxis\": \"x\", \"yaxis\": \"y\"}, {\"alignmentgroup\": \"True\", \"bingroup\": \"x\", \"hovertemplate\": \"color=Less than 1.30 hours<br>x=%{x}<br>count=%{y}<extra></extra>\", \"legendgroup\": \"Less than 1.30 hours\", \"marker\": {\"color\": \"#EF553B\"}, \"name\": \"Less than 1.30 hours\", \"offsetgroup\": \"Less than 1.30 hours\", \"orientation\": \"v\", \"showlegend\": true, \"type\": \"histogram\", \"x\": [\"Less than 1.30 hours\", \"Less than 1.30 hours\", \"Less than 1.30 hours\", \"Less than 1.30 hours\", \"Less than 1.30 hours\", \"Less than 1.30 hours\", \"Less than 1.30 hours\", \"Less than 1.30 hours\", \"Less than 1.30 hours\", \"Less than 1.30 hours\", \"Less than 1.30 hours\", \"Less than 1.30 hours\", \"Less than 1.30 hours\", \"Less than 1.30 hours\", \"Less than 1.30 hours\", \"Less than 1.30 hours\", \"Less than 1.30 hours\", \"Less than 1.30 hours\", \"Less than 1.30 hours\", \"Less than 1.30 hours\", \"Less than 1.30 hours\", \"Less than 1.30 hours\", \"Less than 1.30 hours\", \"Less than 1.30 hours\", \"Less than 1.30 hours\", \"Less than 1.30 hours\", \"Less than 1.30 hours\", \"Less than 1.30 hours\", \"Less than 1.30 hours\", \"Less than 1.30 hours\", \"Less than 1.30 hours\", \"Less than 1.30 hours\", \"Less than 1.30 hours\", \"Less than 1.30 hours\", \"Less than 1.30 hours\", \"Less than 1.30 hours\", \"Less than 1.30 hours\", \"Less than 1.30 hours\", \"Less than 1.30 hours\", \"Less than 1.30 hours\", \"Less than 1.30 hours\", \"Less than 1.30 hours\", \"Less than 1.30 hours\", \"Less than 1.30 hours\", \"Less than 1.30 hours\", \"Less than 1.30 hours\", \"Less than 1.30 hours\", \"Less than 1.30 hours\", \"Less than 1.30 hours\", \"Less than 1.30 hours\", \"Less than 1.30 hours\", \"Less than 1.30 hours\", \"Less than 1.30 hours\", \"Less than 1.30 hours\", \"Less than 1.30 hours\", \"Less than 1.30 hours\", \"Less than 1.30 hours\", \"Less than 1.30 hours\", \"Less than 1.30 hours\", \"Less than 1.30 hours\", \"Less than 1.30 hours\", \"Less than 1.30 hours\", \"Less than 1.30 hours\", \"Less than 1.30 hours\", \"Less than 1.30 hours\", \"Less than 1.30 hours\", \"Less than 1.30 hours\", \"Less than 1.30 hours\", \"Less than 1.30 hours\", \"Less than 1.30 hours\", \"Less than 1.30 hours\", \"Less than 1.30 hours\", \"Less than 1.30 hours\", \"Less than 1.30 hours\", \"Less than 1.30 hours\", \"Less than 1.30 hours\", \"Less than 1.30 hours\", \"Less than 1.30 hours\", \"Less than 1.30 hours\", \"Less than 1.30 hours\", \"Less than 1.30 hours\", \"Less than 1.30 hours\", \"Less than 1.30 hours\", \"Less than 1.30 hours\", \"Less than 1.30 hours\", \"Less than 1.30 hours\", \"Less than 1.30 hours\", \"Less than 1.30 hours\", \"Less than 1.30 hours\", \"Less than 1.30 hours\", \"Less than 1.30 hours\", \"Less than 1.30 hours\", \"Less than 1.30 hours\", \"Less than 1.30 hours\", \"Less than 1.30 hours\", \"Less than 1.30 hours\", \"Less than 1.30 hours\", \"Less than 1.30 hours\", \"Less than 1.30 hours\", \"Less than 1.30 hours\", \"Less than 1.30 hours\", \"Less than 1.30 hours\", \"Less than 1.30 hours\", \"Less than 1.30 hours\", \"Less than 1.30 hours\", \"Less than 1.30 hours\", \"Less than 1.30 hours\", \"Less than 1.30 hours\", \"Less than 1.30 hours\", \"Less than 1.30 hours\", \"Less than 1.30 hours\", \"Less than 1.30 hours\", \"Less than 1.30 hours\", \"Less than 1.30 hours\", \"Less than 1.30 hours\", \"Less than 1.30 hours\", \"Less than 1.30 hours\", \"Less than 1.30 hours\", \"Less than 1.30 hours\", \"Less than 1.30 hours\", \"Less than 1.30 hours\", \"Less than 1.30 hours\", \"Less than 1.30 hours\", \"Less than 1.30 hours\", \"Less than 1.30 hours\", \"Less than 1.30 hours\", \"Less than 1.30 hours\", \"Less than 1.30 hours\", \"Less than 1.30 hours\", \"Less than 1.30 hours\", \"Less than 1.30 hours\", \"Less than 1.30 hours\", \"Less than 1.30 hours\", \"Less than 1.30 hours\", \"Less than 1.30 hours\", \"Less than 1.30 hours\", \"Less than 1.30 hours\", \"Less than 1.30 hours\", \"Less than 1.30 hours\", \"Less than 1.30 hours\", \"Less than 1.30 hours\", \"Less than 1.30 hours\", \"Less than 1.30 hours\", \"Less than 1.30 hours\", \"Less than 1.30 hours\", \"Less than 1.30 hours\", \"Less than 1.30 hours\", \"Less than 1.30 hours\", \"Less than 1.30 hours\", \"Less than 1.30 hours\", \"Less than 1.30 hours\", \"Less than 1.30 hours\", \"Less than 1.30 hours\", \"Less than 1.30 hours\", \"Less than 1.30 hours\", \"Less than 1.30 hours\", \"Less than 1.30 hours\", \"Less than 1.30 hours\", \"Less than 1.30 hours\", \"Less than 1.30 hours\", \"Less than 1.30 hours\", \"Less than 1.30 hours\", \"Less than 1.30 hours\", \"Less than 1.30 hours\", \"Less than 1.30 hours\", \"Less than 1.30 hours\", \"Less than 1.30 hours\", \"Less than 1.30 hours\", \"Less than 1.30 hours\", \"Less than 1.30 hours\", \"Less than 1.30 hours\", \"Less than 1.30 hours\", \"Less than 1.30 hours\", \"Less than 1.30 hours\", \"Less than 1.30 hours\", \"Less than 1.30 hours\", \"Less than 1.30 hours\", \"Less than 1.30 hours\", \"Less than 1.30 hours\", \"Less than 1.30 hours\", \"Less than 1.30 hours\", \"Less than 1.30 hours\", \"Less than 1.30 hours\", \"Less than 1.30 hours\", \"Less than 1.30 hours\", \"Less than 1.30 hours\", \"Less than 1.30 hours\", \"Less than 1.30 hours\", \"Less than 1.30 hours\", \"Less than 1.30 hours\", \"Less than 1.30 hours\", \"Less than 1.30 hours\", \"Less than 1.30 hours\", \"Less than 1.30 hours\", \"Less than 1.30 hours\", \"Less than 1.30 hours\", \"Less than 1.30 hours\", \"Less than 1.30 hours\", \"Less than 1.30 hours\", \"Less than 1.30 hours\", \"Less than 1.30 hours\", \"Less than 1.30 hours\", \"Less than 1.30 hours\", \"Less than 1.30 hours\", \"Less than 1.30 hours\", \"Less than 1.30 hours\", \"Less than 1.30 hours\", \"Less than 1.30 hours\", \"Less than 1.30 hours\", \"Less than 1.30 hours\", \"Less than 1.30 hours\", \"Less than 1.30 hours\", \"Less than 1.30 hours\", \"Less than 1.30 hours\", \"Less than 1.30 hours\", \"Less than 1.30 hours\", \"Less than 1.30 hours\", \"Less than 1.30 hours\", \"Less than 1.30 hours\", \"Less than 1.30 hours\", \"Less than 1.30 hours\", \"Less than 1.30 hours\", \"Less than 1.30 hours\", \"Less than 1.30 hours\", \"Less than 1.30 hours\", \"Less than 1.30 hours\", \"Less than 1.30 hours\", \"Less than 1.30 hours\", \"Less than 1.30 hours\", \"Less than 1.30 hours\", \"Less than 1.30 hours\", \"Less than 1.30 hours\", \"Less than 1.30 hours\", \"Less than 1.30 hours\", \"Less than 1.30 hours\", \"Less than 1.30 hours\", \"Less than 1.30 hours\", \"Less than 1.30 hours\", \"Less than 1.30 hours\", \"Less than 1.30 hours\", \"Less than 1.30 hours\", \"Less than 1.30 hours\", \"Less than 1.30 hours\", \"Less than 1.30 hours\", \"Less than 1.30 hours\", \"Less than 1.30 hours\", \"Less than 1.30 hours\", \"Less than 1.30 hours\", \"Less than 1.30 hours\", \"Less than 1.30 hours\", \"Less than 1.30 hours\", \"Less than 1.30 hours\", \"Less than 1.30 hours\", \"Less than 1.30 hours\", \"Less than 1.30 hours\", \"Less than 1.30 hours\", \"Less than 1.30 hours\", \"Less than 1.30 hours\", \"Less than 1.30 hours\", \"Less than 1.30 hours\", \"Less than 1.30 hours\", \"Less than 1.30 hours\", \"Less than 1.30 hours\", \"Less than 1.30 hours\", \"Less than 1.30 hours\", \"Less than 1.30 hours\", \"Less than 1.30 hours\", \"Less than 1.30 hours\", \"Less than 1.30 hours\", \"Less than 1.30 hours\", \"Less than 1.30 hours\", \"Less than 1.30 hours\", \"Less than 1.30 hours\", \"Less than 1.30 hours\", \"Less than 1.30 hours\", \"Less than 1.30 hours\", \"Less than 1.30 hours\", \"Less than 1.30 hours\", \"Less than 1.30 hours\", \"Less than 1.30 hours\", \"Less than 1.30 hours\", \"Less than 1.30 hours\", \"Less than 1.30 hours\", \"Less than 1.30 hours\", \"Less than 1.30 hours\", \"Less than 1.30 hours\", \"Less than 1.30 hours\", \"Less than 1.30 hours\", \"Less than 1.30 hours\", \"Less than 1.30 hours\", \"Less than 1.30 hours\", \"Less than 1.30 hours\", \"Less than 1.30 hours\", \"Less than 1.30 hours\", \"Less than 1.30 hours\", \"Less than 1.30 hours\", \"Less than 1.30 hours\", \"Less than 1.30 hours\", \"Less than 1.30 hours\", \"Less than 1.30 hours\", \"Less than 1.30 hours\", \"Less than 1.30 hours\", \"Less than 1.30 hours\", \"Less than 1.30 hours\", \"Less than 1.30 hours\", \"Less than 1.30 hours\", \"Less than 1.30 hours\", \"Less than 1.30 hours\", \"Less than 1.30 hours\", \"Less than 1.30 hours\", \"Less than 1.30 hours\", \"Less than 1.30 hours\", \"Less than 1.30 hours\", \"Less than 1.30 hours\", \"Less than 1.30 hours\", \"Less than 1.30 hours\", \"Less than 1.30 hours\", \"Less than 1.30 hours\", \"Less than 1.30 hours\", \"Less than 1.30 hours\", \"Less than 1.30 hours\", \"Less than 1.30 hours\", \"Less than 1.30 hours\", \"Less than 1.30 hours\", \"Less than 1.30 hours\", \"Less than 1.30 hours\", \"Less than 1.30 hours\", \"Less than 1.30 hours\", \"Less than 1.30 hours\", \"Less than 1.30 hours\", \"Less than 1.30 hours\", \"Less than 1.30 hours\", \"Less than 1.30 hours\", \"Less than 1.30 hours\", \"Less than 1.30 hours\", \"Less than 1.30 hours\", \"Less than 1.30 hours\", \"Less than 1.30 hours\", \"Less than 1.30 hours\", \"Less than 1.30 hours\", \"Less than 1.30 hours\", \"Less than 1.30 hours\", \"Less than 1.30 hours\", \"Less than 1.30 hours\", \"Less than 1.30 hours\", \"Less than 1.30 hours\", \"Less than 1.30 hours\", \"Less than 1.30 hours\", \"Less than 1.30 hours\", \"Less than 1.30 hours\", \"Less than 1.30 hours\", \"Less than 1.30 hours\", \"Less than 1.30 hours\", \"Less than 1.30 hours\", \"Less than 1.30 hours\", \"Less than 1.30 hours\", \"Less than 1.30 hours\", \"Less than 1.30 hours\", \"Less than 1.30 hours\", \"Less than 1.30 hours\", \"Less than 1.30 hours\", \"Less than 1.30 hours\", \"Less than 1.30 hours\", \"Less than 1.30 hours\", \"Less than 1.30 hours\", \"Less than 1.30 hours\", \"Less than 1.30 hours\", \"Less than 1.30 hours\", \"Less than 1.30 hours\", \"Less than 1.30 hours\", \"Less than 1.30 hours\", \"Less than 1.30 hours\", \"Less than 1.30 hours\", \"Less than 1.30 hours\", \"Less than 1.30 hours\", \"Less than 1.30 hours\", \"Less than 1.30 hours\", \"Less than 1.30 hours\", \"Less than 1.30 hours\", \"Less than 1.30 hours\", \"Less than 1.30 hours\", \"Less than 1.30 hours\", \"Less than 1.30 hours\", \"Less than 1.30 hours\", \"Less than 1.30 hours\", \"Less than 1.30 hours\", \"Less than 1.30 hours\", \"Less than 1.30 hours\", \"Less than 1.30 hours\", \"Less than 1.30 hours\", \"Less than 1.30 hours\", \"Less than 1.30 hours\", \"Less than 1.30 hours\", \"Less than 1.30 hours\", \"Less than 1.30 hours\", \"Less than 1.30 hours\", \"Less than 1.30 hours\", \"Less than 1.30 hours\", \"Less than 1.30 hours\", \"Less than 1.30 hours\", \"Less than 1.30 hours\", \"Less than 1.30 hours\", \"Less than 1.30 hours\", \"Less than 1.30 hours\", \"Less than 1.30 hours\", \"Less than 1.30 hours\", \"Less than 1.30 hours\", \"Less than 1.30 hours\", \"Less than 1.30 hours\", \"Less than 1.30 hours\", \"Less than 1.30 hours\", \"Less than 1.30 hours\", \"Less than 1.30 hours\", \"Less than 1.30 hours\", \"Less than 1.30 hours\", \"Less than 1.30 hours\", \"Less than 1.30 hours\", \"Less than 1.30 hours\", \"Less than 1.30 hours\", \"Less than 1.30 hours\", \"Less than 1.30 hours\", \"Less than 1.30 hours\", \"Less than 1.30 hours\", \"Less than 1.30 hours\", \"Less than 1.30 hours\", \"Less than 1.30 hours\", \"Less than 1.30 hours\", \"Less than 1.30 hours\", \"Less than 1.30 hours\", \"Less than 1.30 hours\", \"Less than 1.30 hours\", \"Less than 1.30 hours\", \"Less than 1.30 hours\", \"Less than 1.30 hours\", \"Less than 1.30 hours\", \"Less than 1.30 hours\", \"Less than 1.30 hours\", \"Less than 1.30 hours\", \"Less than 1.30 hours\", \"Less than 1.30 hours\", \"Less than 1.30 hours\", \"Less than 1.30 hours\", \"Less than 1.30 hours\", \"Less than 1.30 hours\", \"Less than 1.30 hours\", \"Less than 1.30 hours\", \"Less than 1.30 hours\", \"Less than 1.30 hours\", \"Less than 1.30 hours\", \"Less than 1.30 hours\", \"Less than 1.30 hours\", \"Less than 1.30 hours\", \"Less than 1.30 hours\", \"Less than 1.30 hours\", \"Less than 1.30 hours\", \"Less than 1.30 hours\", \"Less than 1.30 hours\", \"Less than 1.30 hours\", \"Less than 1.30 hours\", \"Less than 1.30 hours\", \"Less than 1.30 hours\", \"Less than 1.30 hours\", \"Less than 1.30 hours\", \"Less than 1.30 hours\", \"Less than 1.30 hours\", \"Less than 1.30 hours\", \"Less than 1.30 hours\", \"Less than 1.30 hours\", \"Less than 1.30 hours\", \"Less than 1.30 hours\", \"Less than 1.30 hours\", \"Less than 1.30 hours\", \"Less than 1.30 hours\", \"Less than 1.30 hours\", \"Less than 1.30 hours\", \"Less than 1.30 hours\", \"Less than 1.30 hours\", \"Less than 1.30 hours\", \"Less than 1.30 hours\", \"Less than 1.30 hours\", \"Less than 1.30 hours\", \"Less than 1.30 hours\", \"Less than 1.30 hours\", \"Less than 1.30 hours\", \"Less than 1.30 hours\", \"Less than 1.30 hours\", \"Less than 1.30 hours\", \"Less than 1.30 hours\", \"Less than 1.30 hours\", \"Less than 1.30 hours\", \"Less than 1.30 hours\", \"Less than 1.30 hours\", \"Less than 1.30 hours\", \"Less than 1.30 hours\", \"Less than 1.30 hours\", \"Less than 1.30 hours\", \"Less than 1.30 hours\", \"Less than 1.30 hours\", \"Less than 1.30 hours\", \"Less than 1.30 hours\", \"Less than 1.30 hours\", \"Less than 1.30 hours\", \"Less than 1.30 hours\", \"Less than 1.30 hours\", \"Less than 1.30 hours\", \"Less than 1.30 hours\", \"Less than 1.30 hours\", \"Less than 1.30 hours\", \"Less than 1.30 hours\", \"Less than 1.30 hours\", \"Less than 1.30 hours\", \"Less than 1.30 hours\", \"Less than 1.30 hours\", \"Less than 1.30 hours\", \"Less than 1.30 hours\", \"Less than 1.30 hours\", \"Less than 1.30 hours\", \"Less than 1.30 hours\", \"Less than 1.30 hours\", \"Less than 1.30 hours\", \"Less than 1.30 hours\", \"Less than 1.30 hours\", \"Less than 1.30 hours\", \"Less than 1.30 hours\", \"Less than 1.30 hours\", \"Less than 1.30 hours\", \"Less than 1.30 hours\", \"Less than 1.30 hours\", \"Less than 1.30 hours\", \"Less than 1.30 hours\", \"Less than 1.30 hours\", \"Less than 1.30 hours\", \"Less than 1.30 hours\", \"Less than 1.30 hours\", \"Less than 1.30 hours\", \"Less than 1.30 hours\", \"Less than 1.30 hours\", \"Less than 1.30 hours\", \"Less than 1.30 hours\", \"Less than 1.30 hours\", \"Less than 1.30 hours\", \"Less than 1.30 hours\", \"Less than 1.30 hours\", \"Less than 1.30 hours\", \"Less than 1.30 hours\", \"Less than 1.30 hours\", \"Less than 1.30 hours\", \"Less than 1.30 hours\", \"Less than 1.30 hours\", \"Less than 1.30 hours\", \"Less than 1.30 hours\", \"Less than 1.30 hours\", \"Less than 1.30 hours\", \"Less than 1.30 hours\", \"Less than 1.30 hours\", \"Less than 1.30 hours\", \"Less than 1.30 hours\", \"Less than 1.30 hours\", \"Less than 1.30 hours\", \"Less than 1.30 hours\", \"Less than 1.30 hours\", \"Less than 1.30 hours\", \"Less than 1.30 hours\", \"Less than 1.30 hours\", \"Less than 1.30 hours\", \"Less than 1.30 hours\", \"Less than 1.30 hours\", \"Less than 1.30 hours\", \"Less than 1.30 hours\", \"Less than 1.30 hours\", \"Less than 1.30 hours\", \"Less than 1.30 hours\", \"Less than 1.30 hours\", \"Less than 1.30 hours\", \"Less than 1.30 hours\", \"Less than 1.30 hours\", \"Less than 1.30 hours\", \"Less than 1.30 hours\", \"Less than 1.30 hours\", \"Less than 1.30 hours\", \"Less than 1.30 hours\", \"Less than 1.30 hours\", \"Less than 1.30 hours\", \"Less than 1.30 hours\", \"Less than 1.30 hours\", \"Less than 1.30 hours\", \"Less than 1.30 hours\", \"Less than 1.30 hours\", \"Less than 1.30 hours\", \"Less than 1.30 hours\", \"Less than 1.30 hours\", \"Less than 1.30 hours\", \"Less than 1.30 hours\", \"Less than 1.30 hours\", \"Less than 1.30 hours\", \"Less than 1.30 hours\", \"Less than 1.30 hours\", \"Less than 1.30 hours\", \"Less than 1.30 hours\", \"Less than 1.30 hours\", \"Less than 1.30 hours\", \"Less than 1.30 hours\", \"Less than 1.30 hours\", \"Less than 1.30 hours\", \"Less than 1.30 hours\", \"Less than 1.30 hours\", \"Less than 1.30 hours\", \"Less than 1.30 hours\", \"Less than 1.30 hours\", \"Less than 1.30 hours\", \"Less than 1.30 hours\", \"Less than 1.30 hours\", \"Less than 1.30 hours\", \"Less than 1.30 hours\", \"Less than 1.30 hours\", \"Less than 1.30 hours\", \"Less than 1.30 hours\", \"Less than 1.30 hours\", \"Less than 1.30 hours\", \"Less than 1.30 hours\", \"Less than 1.30 hours\", \"Less than 1.30 hours\", \"Less than 1.30 hours\", \"Less than 1.30 hours\", \"Less than 1.30 hours\", \"Less than 1.30 hours\", \"Less than 1.30 hours\", \"Less than 1.30 hours\", \"Less than 1.30 hours\", \"Less than 1.30 hours\", \"Less than 1.30 hours\", \"Less than 1.30 hours\", \"Less than 1.30 hours\", \"Less than 1.30 hours\", \"Less than 1.30 hours\", \"Less than 1.30 hours\", \"Less than 1.30 hours\", \"Less than 1.30 hours\", \"Less than 1.30 hours\", \"Less than 1.30 hours\", \"Less than 1.30 hours\", \"Less than 1.30 hours\", \"Less than 1.30 hours\", \"Less than 1.30 hours\", \"Less than 1.30 hours\", \"Less than 1.30 hours\", \"Less than 1.30 hours\", \"Less than 1.30 hours\", \"Less than 1.30 hours\", \"Less than 1.30 hours\", \"Less than 1.30 hours\", \"Less than 1.30 hours\", \"Less than 1.30 hours\", \"Less than 1.30 hours\", \"Less than 1.30 hours\", \"Less than 1.30 hours\", \"Less than 1.30 hours\", \"Less than 1.30 hours\", \"Less than 1.30 hours\", \"Less than 1.30 hours\", \"Less than 1.30 hours\", \"Less than 1.30 hours\", \"Less than 1.30 hours\", \"Less than 1.30 hours\", \"Less than 1.30 hours\", \"Less than 1.30 hours\", \"Less than 1.30 hours\", \"Less than 1.30 hours\", \"Less than 1.30 hours\", \"Less than 1.30 hours\", \"Less than 1.30 hours\", \"Less than 1.30 hours\", \"Less than 1.30 hours\", \"Less than 1.30 hours\", \"Less than 1.30 hours\", \"Less than 1.30 hours\", \"Less than 1.30 hours\", \"Less than 1.30 hours\", \"Less than 1.30 hours\", \"Less than 1.30 hours\", \"Less than 1.30 hours\", \"Less than 1.30 hours\", \"Less than 1.30 hours\", \"Less than 1.30 hours\", \"Less than 1.30 hours\", \"Less than 1.30 hours\", \"Less than 1.30 hours\", \"Less than 1.30 hours\", \"Less than 1.30 hours\", \"Less than 1.30 hours\", \"Less than 1.30 hours\", \"Less than 1.30 hours\", \"Less than 1.30 hours\", \"Less than 1.30 hours\", \"Less than 1.30 hours\", \"Less than 1.30 hours\", \"Less than 1.30 hours\", \"Less than 1.30 hours\", \"Less than 1.30 hours\", \"Less than 1.30 hours\", \"Less than 1.30 hours\", \"Less than 1.30 hours\", \"Less than 1.30 hours\", \"Less than 1.30 hours\", \"Less than 1.30 hours\", \"Less than 1.30 hours\", \"Less than 1.30 hours\", \"Less than 1.30 hours\", \"Less than 1.30 hours\", \"Less than 1.30 hours\", \"Less than 1.30 hours\", \"Less than 1.30 hours\", \"Less than 1.30 hours\", \"Less than 1.30 hours\", \"Less than 1.30 hours\", \"Less than 1.30 hours\", \"Less than 1.30 hours\", \"Less than 1.30 hours\", \"Less than 1.30 hours\", \"Less than 1.30 hours\", \"Less than 1.30 hours\", \"Less than 1.30 hours\", \"Less than 1.30 hours\", \"Less than 1.30 hours\", \"Less than 1.30 hours\", \"Less than 1.30 hours\", \"Less than 1.30 hours\", \"Less than 1.30 hours\", \"Less than 1.30 hours\", \"Less than 1.30 hours\", \"Less than 1.30 hours\", \"Less than 1.30 hours\", \"Less than 1.30 hours\", \"Less than 1.30 hours\", \"Less than 1.30 hours\", \"Less than 1.30 hours\", \"Less than 1.30 hours\", \"Less than 1.30 hours\", \"Less than 1.30 hours\", \"Less than 1.30 hours\", \"Less than 1.30 hours\", \"Less than 1.30 hours\", \"Less than 1.30 hours\", \"Less than 1.30 hours\", \"Less than 1.30 hours\", \"Less than 1.30 hours\", \"Less than 1.30 hours\", \"Less than 1.30 hours\", \"Less than 1.30 hours\", \"Less than 1.30 hours\", \"Less than 1.30 hours\", \"Less than 1.30 hours\", \"Less than 1.30 hours\", \"Less than 1.30 hours\", \"Less than 1.30 hours\", \"Less than 1.30 hours\", \"Less than 1.30 hours\", \"Less than 1.30 hours\", \"Less than 1.30 hours\", \"Less than 1.30 hours\", \"Less than 1.30 hours\", \"Less than 1.30 hours\", \"Less than 1.30 hours\", \"Less than 1.30 hours\", \"Less than 1.30 hours\", \"Less than 1.30 hours\", \"Less than 1.30 hours\", \"Less than 1.30 hours\", \"Less than 1.30 hours\", \"Less than 1.30 hours\", \"Less than 1.30 hours\", \"Less than 1.30 hours\", \"Less than 1.30 hours\", \"Less than 1.30 hours\", \"Less than 1.30 hours\", \"Less than 1.30 hours\", \"Less than 1.30 hours\", \"Less than 1.30 hours\", \"Less than 1.30 hours\", \"Less than 1.30 hours\", \"Less than 1.30 hours\", \"Less than 1.30 hours\", \"Less than 1.30 hours\", \"Less than 1.30 hours\", \"Less than 1.30 hours\", \"Less than 1.30 hours\", \"Less than 1.30 hours\", \"Less than 1.30 hours\", \"Less than 1.30 hours\", \"Less than 1.30 hours\", \"Less than 1.30 hours\", \"Less than 1.30 hours\", \"Less than 1.30 hours\", \"Less than 1.30 hours\", \"Less than 1.30 hours\", \"Less than 1.30 hours\", \"Less than 1.30 hours\", \"Less than 1.30 hours\", \"Less than 1.30 hours\", \"Less than 1.30 hours\", \"Less than 1.30 hours\", \"Less than 1.30 hours\", \"Less than 1.30 hours\", \"Less than 1.30 hours\", \"Less than 1.30 hours\", \"Less than 1.30 hours\", \"Less than 1.30 hours\", \"Less than 1.30 hours\", \"Less than 1.30 hours\", \"Less than 1.30 hours\", \"Less than 1.30 hours\", \"Less than 1.30 hours\", \"Less than 1.30 hours\", \"Less than 1.30 hours\", \"Less than 1.30 hours\", \"Less than 1.30 hours\", \"Less than 1.30 hours\", \"Less than 1.30 hours\", \"Less than 1.30 hours\", \"Less than 1.30 hours\", \"Less than 1.30 hours\", \"Less than 1.30 hours\", \"Less than 1.30 hours\", \"Less than 1.30 hours\", \"Less than 1.30 hours\", \"Less than 1.30 hours\", \"Less than 1.30 hours\", \"Less than 1.30 hours\", \"Less than 1.30 hours\", \"Less than 1.30 hours\", \"Less than 1.30 hours\", \"Less than 1.30 hours\", \"Less than 1.30 hours\", \"Less than 1.30 hours\", \"Less than 1.30 hours\", \"Less than 1.30 hours\", \"Less than 1.30 hours\", \"Less than 1.30 hours\", \"Less than 1.30 hours\", \"Less than 1.30 hours\", \"Less than 1.30 hours\", \"Less than 1.30 hours\", \"Less than 1.30 hours\", \"Less than 1.30 hours\", \"Less than 1.30 hours\", \"Less than 1.30 hours\", \"Less than 1.30 hours\", \"Less than 1.30 hours\", \"Less than 1.30 hours\", \"Less than 1.30 hours\", \"Less than 1.30 hours\", \"Less than 1.30 hours\", \"Less than 1.30 hours\", \"Less than 1.30 hours\", \"Less than 1.30 hours\", \"Less than 1.30 hours\", \"Less than 1.30 hours\", \"Less than 1.30 hours\", \"Less than 1.30 hours\", \"Less than 1.30 hours\", \"Less than 1.30 hours\", \"Less than 1.30 hours\", \"Less than 1.30 hours\", \"Less than 1.30 hours\", \"Less than 1.30 hours\", \"Less than 1.30 hours\", \"Less than 1.30 hours\", \"Less than 1.30 hours\", \"Less than 1.30 hours\", \"Less than 1.30 hours\", \"Less than 1.30 hours\", \"Less than 1.30 hours\", \"Less than 1.30 hours\", \"Less than 1.30 hours\", \"Less than 1.30 hours\", \"Less than 1.30 hours\", \"Less than 1.30 hours\", \"Less than 1.30 hours\", \"Less than 1.30 hours\", \"Less than 1.30 hours\", \"Less than 1.30 hours\", \"Less than 1.30 hours\", \"Less than 1.30 hours\", \"Less than 1.30 hours\", \"Less than 1.30 hours\", \"Less than 1.30 hours\", \"Less than 1.30 hours\", \"Less than 1.30 hours\", \"Less than 1.30 hours\", \"Less than 1.30 hours\", \"Less than 1.30 hours\", \"Less than 1.30 hours\", \"Less than 1.30 hours\", \"Less than 1.30 hours\", \"Less than 1.30 hours\", \"Less than 1.30 hours\", \"Less than 1.30 hours\", \"Less than 1.30 hours\", \"Less than 1.30 hours\", \"Less than 1.30 hours\", \"Less than 1.30 hours\", \"Less than 1.30 hours\", \"Less than 1.30 hours\", \"Less than 1.30 hours\", \"Less than 1.30 hours\", \"Less than 1.30 hours\", \"Less than 1.30 hours\", \"Less than 1.30 hours\", \"Less than 1.30 hours\", \"Less than 1.30 hours\", \"Less than 1.30 hours\", \"Less than 1.30 hours\", \"Less than 1.30 hours\", \"Less than 1.30 hours\", \"Less than 1.30 hours\", \"Less than 1.30 hours\", \"Less than 1.30 hours\", \"Less than 1.30 hours\", \"Less than 1.30 hours\", \"Less than 1.30 hours\", \"Less than 1.30 hours\", \"Less than 1.30 hours\", \"Less than 1.30 hours\", \"Less than 1.30 hours\", \"Less than 1.30 hours\", \"Less than 1.30 hours\", \"Less than 1.30 hours\", \"Less than 1.30 hours\", \"Less than 1.30 hours\", \"Less than 1.30 hours\", \"Less than 1.30 hours\", \"Less than 1.30 hours\", \"Less than 1.30 hours\", \"Less than 1.30 hours\", \"Less than 1.30 hours\", \"Less than 1.30 hours\", \"Less than 1.30 hours\", \"Less than 1.30 hours\", \"Less than 1.30 hours\", \"Less than 1.30 hours\", \"Less than 1.30 hours\", \"Less than 1.30 hours\", \"Less than 1.30 hours\", \"Less than 1.30 hours\", \"Less than 1.30 hours\", \"Less than 1.30 hours\", \"Less than 1.30 hours\", \"Less than 1.30 hours\", \"Less than 1.30 hours\", \"Less than 1.30 hours\", \"Less than 1.30 hours\", \"Less than 1.30 hours\", \"Less than 1.30 hours\", \"Less than 1.30 hours\", \"Less than 1.30 hours\", \"Less than 1.30 hours\", \"Less than 1.30 hours\", \"Less than 1.30 hours\", \"Less than 1.30 hours\", \"Less than 1.30 hours\", \"Less than 1.30 hours\", \"Less than 1.30 hours\", \"Less than 1.30 hours\", \"Less than 1.30 hours\", \"Less than 1.30 hours\", \"Less than 1.30 hours\", \"Less than 1.30 hours\", \"Less than 1.30 hours\", \"Less than 1.30 hours\", \"Less than 1.30 hours\", \"Less than 1.30 hours\", \"Less than 1.30 hours\", \"Less than 1.30 hours\", \"Less than 1.30 hours\", \"Less than 1.30 hours\", \"Less than 1.30 hours\", \"Less than 1.30 hours\", \"Less than 1.30 hours\", \"Less than 1.30 hours\", \"Less than 1.30 hours\", \"Less than 1.30 hours\", \"Less than 1.30 hours\", \"Less than 1.30 hours\", \"Less than 1.30 hours\", \"Less than 1.30 hours\", \"Less than 1.30 hours\", \"Less than 1.30 hours\", \"Less than 1.30 hours\", \"Less than 1.30 hours\", \"Less than 1.30 hours\", \"Less than 1.30 hours\", \"Less than 1.30 hours\", \"Less than 1.30 hours\", \"Less than 1.30 hours\", \"Less than 1.30 hours\", \"Less than 1.30 hours\", \"Less than 1.30 hours\", \"Less than 1.30 hours\", \"Less than 1.30 hours\", \"Less than 1.30 hours\", \"Less than 1.30 hours\", \"Less than 1.30 hours\", \"Less than 1.30 hours\", \"Less than 1.30 hours\", \"Less than 1.30 hours\", \"Less than 1.30 hours\", \"Less than 1.30 hours\", \"Less than 1.30 hours\", \"Less than 1.30 hours\", \"Less than 1.30 hours\", \"Less than 1.30 hours\", \"Less than 1.30 hours\", \"Less than 1.30 hours\", \"Less than 1.30 hours\", \"Less than 1.30 hours\", \"Less than 1.30 hours\", \"Less than 1.30 hours\", \"Less than 1.30 hours\", \"Less than 1.30 hours\", \"Less than 1.30 hours\", \"Less than 1.30 hours\", \"Less than 1.30 hours\", \"Less than 1.30 hours\", \"Less than 1.30 hours\", \"Less than 1.30 hours\", \"Less than 1.30 hours\", \"Less than 1.30 hours\", \"Less than 1.30 hours\", \"Less than 1.30 hours\", \"Less than 1.30 hours\", \"Less than 1.30 hours\", \"Less than 1.30 hours\", \"Less than 1.30 hours\", \"Less than 1.30 hours\", \"Less than 1.30 hours\", \"Less than 1.30 hours\", \"Less than 1.30 hours\", \"Less than 1.30 hours\", \"Less than 1.30 hours\", \"Less than 1.30 hours\", \"Less than 1.30 hours\", \"Less than 1.30 hours\", \"Less than 1.30 hours\", \"Less than 1.30 hours\", \"Less than 1.30 hours\", \"Less than 1.30 hours\", \"Less than 1.30 hours\", \"Less than 1.30 hours\", \"Less than 1.30 hours\", \"Less than 1.30 hours\", \"Less than 1.30 hours\", \"Less than 1.30 hours\", \"Less than 1.30 hours\", \"Less than 1.30 hours\", \"Less than 1.30 hours\", \"Less than 1.30 hours\", \"Less than 1.30 hours\", \"Less than 1.30 hours\", \"Less than 1.30 hours\", \"Less than 1.30 hours\", \"Less than 1.30 hours\", \"Less than 1.30 hours\", \"Less than 1.30 hours\", \"Less than 1.30 hours\", \"Less than 1.30 hours\", \"Less than 1.30 hours\", \"Less than 1.30 hours\", \"Less than 1.30 hours\", \"Less than 1.30 hours\", \"Less than 1.30 hours\", \"Less than 1.30 hours\", \"Less than 1.30 hours\", \"Less than 1.30 hours\", \"Less than 1.30 hours\", \"Less than 1.30 hours\", \"Less than 1.30 hours\", \"Less than 1.30 hours\", \"Less than 1.30 hours\", \"Less than 1.30 hours\", \"Less than 1.30 hours\", \"Less than 1.30 hours\", \"Less than 1.30 hours\", \"Less than 1.30 hours\", \"Less than 1.30 hours\", \"Less than 1.30 hours\", \"Less than 1.30 hours\", \"Less than 1.30 hours\", \"Less than 1.30 hours\", \"Less than 1.30 hours\", \"Less than 1.30 hours\", \"Less than 1.30 hours\", \"Less than 1.30 hours\", \"Less than 1.30 hours\", \"Less than 1.30 hours\", \"Less than 1.30 hours\", \"Less than 1.30 hours\", \"Less than 1.30 hours\", \"Less than 1.30 hours\", \"Less than 1.30 hours\", \"Less than 1.30 hours\", \"Less than 1.30 hours\", \"Less than 1.30 hours\", \"Less than 1.30 hours\", \"Less than 1.30 hours\", \"Less than 1.30 hours\", \"Less than 1.30 hours\", \"Less than 1.30 hours\", \"Less than 1.30 hours\", \"Less than 1.30 hours\", \"Less than 1.30 hours\", \"Less than 1.30 hours\", \"Less than 1.30 hours\", \"Less than 1.30 hours\", \"Less than 1.30 hours\", \"Less than 1.30 hours\", \"Less than 1.30 hours\", \"Less than 1.30 hours\", \"Less than 1.30 hours\", \"Less than 1.30 hours\", \"Less than 1.30 hours\", \"Less than 1.30 hours\", \"Less than 1.30 hours\", \"Less than 1.30 hours\", \"Less than 1.30 hours\", \"Less than 1.30 hours\", \"Less than 1.30 hours\", \"Less than 1.30 hours\", \"Less than 1.30 hours\", \"Less than 1.30 hours\", \"Less than 1.30 hours\", \"Less than 1.30 hours\", \"Less than 1.30 hours\", \"Less than 1.30 hours\", \"Less than 1.30 hours\", \"Less than 1.30 hours\", \"Less than 1.30 hours\", \"Less than 1.30 hours\", \"Less than 1.30 hours\", \"Less than 1.30 hours\", \"Less than 1.30 hours\", \"Less than 1.30 hours\", \"Less than 1.30 hours\", \"Less than 1.30 hours\", \"Less than 1.30 hours\", \"Less than 1.30 hours\", \"Less than 1.30 hours\", \"Less than 1.30 hours\", \"Less than 1.30 hours\", \"Less than 1.30 hours\", \"Less than 1.30 hours\", \"Less than 1.30 hours\", \"Less than 1.30 hours\", \"Less than 1.30 hours\", \"Less than 1.30 hours\", \"Less than 1.30 hours\", \"Less than 1.30 hours\", \"Less than 1.30 hours\", \"Less than 1.30 hours\", \"Less than 1.30 hours\", \"Less than 1.30 hours\", \"Less than 1.30 hours\", \"Less than 1.30 hours\", \"Less than 1.30 hours\", \"Less than 1.30 hours\", \"Less than 1.30 hours\", \"Less than 1.30 hours\", \"Less than 1.30 hours\", \"Less than 1.30 hours\", \"Less than 1.30 hours\", \"Less than 1.30 hours\", \"Less than 1.30 hours\", \"Less than 1.30 hours\", \"Less than 1.30 hours\", \"Less than 1.30 hours\", \"Less than 1.30 hours\", \"Less than 1.30 hours\", \"Less than 1.30 hours\", \"Less than 1.30 hours\", \"Less than 1.30 hours\", \"Less than 1.30 hours\", \"Less than 1.30 hours\", \"Less than 1.30 hours\", \"Less than 1.30 hours\", \"Less than 1.30 hours\", \"Less than 1.30 hours\", \"Less than 1.30 hours\", \"Less than 1.30 hours\", \"Less than 1.30 hours\", \"Less than 1.30 hours\", \"Less than 1.30 hours\", \"Less than 1.30 hours\", \"Less than 1.30 hours\", \"Less than 1.30 hours\", \"Less than 1.30 hours\", \"Less than 1.30 hours\", \"Less than 1.30 hours\", \"Less than 1.30 hours\", \"Less than 1.30 hours\", \"Less than 1.30 hours\", \"Less than 1.30 hours\", \"Less than 1.30 hours\", \"Less than 1.30 hours\", \"Less than 1.30 hours\", \"Less than 1.30 hours\", \"Less than 1.30 hours\", \"Less than 1.30 hours\", \"Less than 1.30 hours\", \"Less than 1.30 hours\", \"Less than 1.30 hours\", \"Less than 1.30 hours\", \"Less than 1.30 hours\", \"Less than 1.30 hours\", \"Less than 1.30 hours\", \"Less than 1.30 hours\", \"Less than 1.30 hours\", \"Less than 1.30 hours\", \"Less than 1.30 hours\", \"Less than 1.30 hours\", \"Less than 1.30 hours\", \"Less than 1.30 hours\", \"Less than 1.30 hours\", \"Less than 1.30 hours\", \"Less than 1.30 hours\", \"Less than 1.30 hours\", \"Less than 1.30 hours\", \"Less than 1.30 hours\", \"Less than 1.30 hours\", \"Less than 1.30 hours\", \"Less than 1.30 hours\", \"Less than 1.30 hours\", \"Less than 1.30 hours\", \"Less than 1.30 hours\", \"Less than 1.30 hours\", \"Less than 1.30 hours\", \"Less than 1.30 hours\", \"Less than 1.30 hours\", \"Less than 1.30 hours\", \"Less than 1.30 hours\", \"Less than 1.30 hours\", \"Less than 1.30 hours\", \"Less than 1.30 hours\", \"Less than 1.30 hours\", \"Less than 1.30 hours\", \"Less than 1.30 hours\", \"Less than 1.30 hours\", \"Less than 1.30 hours\", \"Less than 1.30 hours\", \"Less than 1.30 hours\", \"Less than 1.30 hours\", \"Less than 1.30 hours\", \"Less than 1.30 hours\", \"Less than 1.30 hours\", \"Less than 1.30 hours\", \"Less than 1.30 hours\", \"Less than 1.30 hours\", \"Less than 1.30 hours\", \"Less than 1.30 hours\", \"Less than 1.30 hours\", \"Less than 1.30 hours\", \"Less than 1.30 hours\", \"Less than 1.30 hours\", \"Less than 1.30 hours\", \"Less than 1.30 hours\", \"Less than 1.30 hours\", \"Less than 1.30 hours\", \"Less than 1.30 hours\", \"Less than 1.30 hours\", \"Less than 1.30 hours\", \"Less than 1.30 hours\", \"Less than 1.30 hours\", \"Less than 1.30 hours\", \"Less than 1.30 hours\", \"Less than 1.30 hours\", \"Less than 1.30 hours\", \"Less than 1.30 hours\", \"Less than 1.30 hours\", \"Less than 1.30 hours\", \"Less than 1.30 hours\", \"Less than 1.30 hours\", \"Less than 1.30 hours\", \"Less than 1.30 hours\", \"Less than 1.30 hours\", \"Less than 1.30 hours\", \"Less than 1.30 hours\", \"Less than 1.30 hours\", \"Less than 1.30 hours\", \"Less than 1.30 hours\", \"Less than 1.30 hours\", \"Less than 1.30 hours\", \"Less than 1.30 hours\", \"Less than 1.30 hours\", \"Less than 1.30 hours\", \"Less than 1.30 hours\", \"Less than 1.30 hours\", \"Less than 1.30 hours\", \"Less than 1.30 hours\", \"Less than 1.30 hours\", \"Less than 1.30 hours\", \"Less than 1.30 hours\", \"Less than 1.30 hours\", \"Less than 1.30 hours\", \"Less than 1.30 hours\", \"Less than 1.30 hours\", \"Less than 1.30 hours\", \"Less than 1.30 hours\", \"Less than 1.30 hours\", \"Less than 1.30 hours\", \"Less than 1.30 hours\", \"Less than 1.30 hours\", \"Less than 1.30 hours\", \"Less than 1.30 hours\", \"Less than 1.30 hours\", \"Less than 1.30 hours\", \"Less than 1.30 hours\", \"Less than 1.30 hours\", \"Less than 1.30 hours\", \"Less than 1.30 hours\", \"Less than 1.30 hours\", \"Less than 1.30 hours\", \"Less than 1.30 hours\", \"Less than 1.30 hours\", \"Less than 1.30 hours\", \"Less than 1.30 hours\", \"Less than 1.30 hours\", \"Less than 1.30 hours\", \"Less than 1.30 hours\", \"Less than 1.30 hours\", \"Less than 1.30 hours\", \"Less than 1.30 hours\", \"Less than 1.30 hours\", \"Less than 1.30 hours\", \"Less than 1.30 hours\", \"Less than 1.30 hours\", \"Less than 1.30 hours\", \"Less than 1.30 hours\", \"Less than 1.30 hours\", \"Less than 1.30 hours\", \"Less than 1.30 hours\", \"Less than 1.30 hours\", \"Less than 1.30 hours\", \"Less than 1.30 hours\", \"Less than 1.30 hours\", \"Less than 1.30 hours\", \"Less than 1.30 hours\", \"Less than 1.30 hours\", \"Less than 1.30 hours\", \"Less than 1.30 hours\", \"Less than 1.30 hours\", \"Less than 1.30 hours\", \"Less than 1.30 hours\", \"Less than 1.30 hours\", \"Less than 1.30 hours\", \"Less than 1.30 hours\", \"Less than 1.30 hours\", \"Less than 1.30 hours\", \"Less than 1.30 hours\", \"Less than 1.30 hours\", \"Less than 1.30 hours\", \"Less than 1.30 hours\", \"Less than 1.30 hours\", \"Less than 1.30 hours\", \"Less than 1.30 hours\", \"Less than 1.30 hours\", \"Less than 1.30 hours\", \"Less than 1.30 hours\", \"Less than 1.30 hours\", \"Less than 1.30 hours\", \"Less than 1.30 hours\", \"Less than 1.30 hours\", \"Less than 1.30 hours\", \"Less than 1.30 hours\", \"Less than 1.30 hours\", \"Less than 1.30 hours\", \"Less than 1.30 hours\", \"Less than 1.30 hours\", \"Less than 1.30 hours\", \"Less than 1.30 hours\", \"Less than 1.30 hours\", \"Less than 1.30 hours\", \"Less than 1.30 hours\", \"Less than 1.30 hours\", \"Less than 1.30 hours\", \"Less than 1.30 hours\", \"Less than 1.30 hours\", \"Less than 1.30 hours\", \"Less than 1.30 hours\", \"Less than 1.30 hours\", \"Less than 1.30 hours\", \"Less than 1.30 hours\", \"Less than 1.30 hours\", \"Less than 1.30 hours\", \"Less than 1.30 hours\", \"Less than 1.30 hours\", \"Less than 1.30 hours\", \"Less than 1.30 hours\", \"Less than 1.30 hours\", \"Less than 1.30 hours\", \"Less than 1.30 hours\", \"Less than 1.30 hours\", \"Less than 1.30 hours\", \"Less than 1.30 hours\", \"Less than 1.30 hours\", \"Less than 1.30 hours\", \"Less than 1.30 hours\", \"Less than 1.30 hours\", \"Less than 1.30 hours\", \"Less than 1.30 hours\", \"Less than 1.30 hours\", \"Less than 1.30 hours\", \"Less than 1.30 hours\", \"Less than 1.30 hours\", \"Less than 1.30 hours\", \"Less than 1.30 hours\", \"Less than 1.30 hours\", \"Less than 1.30 hours\", \"Less than 1.30 hours\", \"Less than 1.30 hours\", \"Less than 1.30 hours\", \"Less than 1.30 hours\", \"Less than 1.30 hours\", \"Less than 1.30 hours\", \"Less than 1.30 hours\", \"Less than 1.30 hours\", \"Less than 1.30 hours\", \"Less than 1.30 hours\", \"Less than 1.30 hours\", \"Less than 1.30 hours\", \"Less than 1.30 hours\", \"Less than 1.30 hours\", \"Less than 1.30 hours\", \"Less than 1.30 hours\", \"Less than 1.30 hours\", \"Less than 1.30 hours\", \"Less than 1.30 hours\", \"Less than 1.30 hours\", \"Less than 1.30 hours\", \"Less than 1.30 hours\", \"Less than 1.30 hours\", \"Less than 1.30 hours\", \"Less than 1.30 hours\", \"Less than 1.30 hours\", \"Less than 1.30 hours\", \"Less than 1.30 hours\", \"Less than 1.30 hours\", \"Less than 1.30 hours\", \"Less than 1.30 hours\", \"Less than 1.30 hours\", \"Less than 1.30 hours\", \"Less than 1.30 hours\", \"Less than 1.30 hours\", \"Less than 1.30 hours\", \"Less than 1.30 hours\", \"Less than 1.30 hours\", \"Less than 1.30 hours\", \"Less than 1.30 hours\", \"Less than 1.30 hours\", \"Less than 1.30 hours\", \"Less than 1.30 hours\", \"Less than 1.30 hours\", \"Less than 1.30 hours\", \"Less than 1.30 hours\", \"Less than 1.30 hours\", \"Less than 1.30 hours\", \"Less than 1.30 hours\", \"Less than 1.30 hours\", \"Less than 1.30 hours\", \"Less than 1.30 hours\", \"Less than 1.30 hours\", \"Less than 1.30 hours\", \"Less than 1.30 hours\", \"Less than 1.30 hours\", \"Less than 1.30 hours\", \"Less than 1.30 hours\", \"Less than 1.30 hours\", \"Less than 1.30 hours\", \"Less than 1.30 hours\", \"Less than 1.30 hours\", \"Less than 1.30 hours\", \"Less than 1.30 hours\", \"Less than 1.30 hours\", \"Less than 1.30 hours\", \"Less than 1.30 hours\", \"Less than 1.30 hours\", \"Less than 1.30 hours\", \"Less than 1.30 hours\", \"Less than 1.30 hours\", \"Less than 1.30 hours\", \"Less than 1.30 hours\", \"Less than 1.30 hours\", \"Less than 1.30 hours\", \"Less than 1.30 hours\", \"Less than 1.30 hours\", \"Less than 1.30 hours\", \"Less than 1.30 hours\", \"Less than 1.30 hours\", \"Less than 1.30 hours\", \"Less than 1.30 hours\", \"Less than 1.30 hours\", \"Less than 1.30 hours\", \"Less than 1.30 hours\", \"Less than 1.30 hours\", \"Less than 1.30 hours\", \"Less than 1.30 hours\", \"Less than 1.30 hours\", \"Less than 1.30 hours\", \"Less than 1.30 hours\", \"Less than 1.30 hours\", \"Less than 1.30 hours\", \"Less than 1.30 hours\", \"Less than 1.30 hours\", \"Less than 1.30 hours\", \"Less than 1.30 hours\", \"Less than 1.30 hours\", \"Less than 1.30 hours\", \"Less than 1.30 hours\", \"Less than 1.30 hours\", \"Less than 1.30 hours\", \"Less than 1.30 hours\", \"Less than 1.30 hours\", \"Less than 1.30 hours\", \"Less than 1.30 hours\", \"Less than 1.30 hours\", \"Less than 1.30 hours\", \"Less than 1.30 hours\", \"Less than 1.30 hours\", \"Less than 1.30 hours\", \"Less than 1.30 hours\", \"Less than 1.30 hours\", \"Less than 1.30 hours\", \"Less than 1.30 hours\", \"Less than 1.30 hours\", \"Less than 1.30 hours\", \"Less than 1.30 hours\", \"Less than 1.30 hours\", \"Less than 1.30 hours\", \"Less than 1.30 hours\", \"Less than 1.30 hours\", \"Less than 1.30 hours\", \"Less than 1.30 hours\", \"Less than 1.30 hours\", \"Less than 1.30 hours\", \"Less than 1.30 hours\", \"Less than 1.30 hours\", \"Less than 1.30 hours\", \"Less than 1.30 hours\", \"Less than 1.30 hours\", \"Less than 1.30 hours\", \"Less than 1.30 hours\", \"Less than 1.30 hours\", \"Less than 1.30 hours\", \"Less than 1.30 hours\", \"Less than 1.30 hours\", \"Less than 1.30 hours\", \"Less than 1.30 hours\", \"Less than 1.30 hours\", \"Less than 1.30 hours\", \"Less than 1.30 hours\", \"Less than 1.30 hours\", \"Less than 1.30 hours\", \"Less than 1.30 hours\", \"Less than 1.30 hours\", \"Less than 1.30 hours\", \"Less than 1.30 hours\", \"Less than 1.30 hours\", \"Less than 1.30 hours\", \"Less than 1.30 hours\", \"Less than 1.30 hours\", \"Less than 1.30 hours\", \"Less than 1.30 hours\", \"Less than 1.30 hours\", \"Less than 1.30 hours\", \"Less than 1.30 hours\", \"Less than 1.30 hours\", \"Less than 1.30 hours\", \"Less than 1.30 hours\", \"Less than 1.30 hours\", \"Less than 1.30 hours\", \"Less than 1.30 hours\", \"Less than 1.30 hours\", \"Less than 1.30 hours\", \"Less than 1.30 hours\", \"Less than 1.30 hours\", \"Less than 1.30 hours\", \"Less than 1.30 hours\", \"Less than 1.30 hours\", \"Less than 1.30 hours\", \"Less than 1.30 hours\", \"Less than 1.30 hours\", \"Less than 1.30 hours\", \"Less than 1.30 hours\", \"Less than 1.30 hours\", \"Less than 1.30 hours\", \"Less than 1.30 hours\", \"Less than 1.30 hours\", \"Less than 1.30 hours\", \"Less than 1.30 hours\", \"Less than 1.30 hours\", \"Less than 1.30 hours\", \"Less than 1.30 hours\", \"Less than 1.30 hours\", \"Less than 1.30 hours\", \"Less than 1.30 hours\", \"Less than 1.30 hours\", \"Less than 1.30 hours\", \"Less than 1.30 hours\", \"Less than 1.30 hours\", \"Less than 1.30 hours\", \"Less than 1.30 hours\", \"Less than 1.30 hours\", \"Less than 1.30 hours\", \"Less than 1.30 hours\", \"Less than 1.30 hours\", \"Less than 1.30 hours\", \"Less than 1.30 hours\", \"Less than 1.30 hours\", \"Less than 1.30 hours\", \"Less than 1.30 hours\", \"Less than 1.30 hours\", \"Less than 1.30 hours\", \"Less than 1.30 hours\", \"Less than 1.30 hours\", \"Less than 1.30 hours\", \"Less than 1.30 hours\", \"Less than 1.30 hours\", \"Less than 1.30 hours\", \"Less than 1.30 hours\", \"Less than 1.30 hours\", \"Less than 1.30 hours\", \"Less than 1.30 hours\", \"Less than 1.30 hours\", \"Less than 1.30 hours\", \"Less than 1.30 hours\", \"Less than 1.30 hours\", \"Less than 1.30 hours\", \"Less than 1.30 hours\", \"Less than 1.30 hours\", \"Less than 1.30 hours\", \"Less than 1.30 hours\", \"Less than 1.30 hours\", \"Less than 1.30 hours\", \"Less than 1.30 hours\", \"Less than 1.30 hours\", \"Less than 1.30 hours\", \"Less than 1.30 hours\", \"Less than 1.30 hours\", \"Less than 1.30 hours\", \"Less than 1.30 hours\", \"Less than 1.30 hours\", \"Less than 1.30 hours\", \"Less than 1.30 hours\", \"Less than 1.30 hours\", \"Less than 1.30 hours\", \"Less than 1.30 hours\"], \"xaxis\": \"x\", \"yaxis\": \"y\"}, {\"alignmentgroup\": \"True\", \"bingroup\": \"x\", \"hovertemplate\": \"color=More than 2.30 hours<br>x=%{x}<br>count=%{y}<extra></extra>\", \"legendgroup\": \"More than 2.30 hours\", \"marker\": {\"color\": \"#00cc96\"}, \"name\": \"More than 2.30 hours\", \"offsetgroup\": \"More than 2.30 hours\", \"orientation\": \"v\", \"showlegend\": true, \"type\": \"histogram\", \"x\": [\"More than 2.30 hours\", \"More than 2.30 hours\", \"More than 2.30 hours\", \"More than 2.30 hours\", \"More than 2.30 hours\", \"More than 2.30 hours\", \"More than 2.30 hours\", \"More than 2.30 hours\", \"More than 2.30 hours\", \"More than 2.30 hours\", \"More than 2.30 hours\", \"More than 2.30 hours\", \"More than 2.30 hours\", \"More than 2.30 hours\", \"More than 2.30 hours\", \"More than 2.30 hours\", \"More than 2.30 hours\", \"More than 2.30 hours\", \"More than 2.30 hours\", \"More than 2.30 hours\", \"More than 2.30 hours\", \"More than 2.30 hours\", \"More than 2.30 hours\", \"More than 2.30 hours\", \"More than 2.30 hours\", \"More than 2.30 hours\", \"More than 2.30 hours\", \"More than 2.30 hours\", \"More than 2.30 hours\", \"More than 2.30 hours\", \"More than 2.30 hours\", \"More than 2.30 hours\", \"More than 2.30 hours\", \"More than 2.30 hours\", \"More than 2.30 hours\", \"More than 2.30 hours\", \"More than 2.30 hours\", \"More than 2.30 hours\", \"More than 2.30 hours\", \"More than 2.30 hours\", \"More than 2.30 hours\", \"More than 2.30 hours\", \"More than 2.30 hours\", \"More than 2.30 hours\", \"More than 2.30 hours\", \"More than 2.30 hours\", \"More than 2.30 hours\", \"More than 2.30 hours\", \"More than 2.30 hours\", \"More than 2.30 hours\", \"More than 2.30 hours\", \"More than 2.30 hours\", \"More than 2.30 hours\", \"More than 2.30 hours\", \"More than 2.30 hours\", \"More than 2.30 hours\", \"More than 2.30 hours\", \"More than 2.30 hours\", \"More than 2.30 hours\", \"More than 2.30 hours\", \"More than 2.30 hours\", \"More than 2.30 hours\", \"More than 2.30 hours\", \"More than 2.30 hours\", \"More than 2.30 hours\", \"More than 2.30 hours\", \"More than 2.30 hours\", \"More than 2.30 hours\", \"More than 2.30 hours\", \"More than 2.30 hours\", \"More than 2.30 hours\", \"More than 2.30 hours\", \"More than 2.30 hours\", \"More than 2.30 hours\", \"More than 2.30 hours\", \"More than 2.30 hours\", \"More than 2.30 hours\", \"More than 2.30 hours\", \"More than 2.30 hours\", \"More than 2.30 hours\", \"More than 2.30 hours\", \"More than 2.30 hours\", \"More than 2.30 hours\", \"More than 2.30 hours\", \"More than 2.30 hours\", \"More than 2.30 hours\", \"More than 2.30 hours\", \"More than 2.30 hours\", \"More than 2.30 hours\", \"More than 2.30 hours\", \"More than 2.30 hours\", \"More than 2.30 hours\", \"More than 2.30 hours\", \"More than 2.30 hours\", \"More than 2.30 hours\", \"More than 2.30 hours\", \"More than 2.30 hours\", \"More than 2.30 hours\", \"More than 2.30 hours\", \"More than 2.30 hours\", \"More than 2.30 hours\", \"More than 2.30 hours\", \"More than 2.30 hours\", \"More than 2.30 hours\", \"More than 2.30 hours\", \"More than 2.30 hours\", \"More than 2.30 hours\", \"More than 2.30 hours\", \"More than 2.30 hours\", \"More than 2.30 hours\", \"More than 2.30 hours\", \"More than 2.30 hours\", \"More than 2.30 hours\", \"More than 2.30 hours\", \"More than 2.30 hours\", \"More than 2.30 hours\", \"More than 2.30 hours\", \"More than 2.30 hours\", \"More than 2.30 hours\", \"More than 2.30 hours\", \"More than 2.30 hours\", \"More than 2.30 hours\", \"More than 2.30 hours\", \"More than 2.30 hours\", \"More than 2.30 hours\", \"More than 2.30 hours\", \"More than 2.30 hours\", \"More than 2.30 hours\", \"More than 2.30 hours\", \"More than 2.30 hours\", \"More than 2.30 hours\", \"More than 2.30 hours\", \"More than 2.30 hours\", \"More than 2.30 hours\", \"More than 2.30 hours\", \"More than 2.30 hours\", \"More than 2.30 hours\", \"More than 2.30 hours\", \"More than 2.30 hours\", \"More than 2.30 hours\", \"More than 2.30 hours\", \"More than 2.30 hours\", \"More than 2.30 hours\", \"More than 2.30 hours\", \"More than 2.30 hours\", \"More than 2.30 hours\", \"More than 2.30 hours\", \"More than 2.30 hours\", \"More than 2.30 hours\", \"More than 2.30 hours\", \"More than 2.30 hours\", \"More than 2.30 hours\", \"More than 2.30 hours\", \"More than 2.30 hours\", \"More than 2.30 hours\", \"More than 2.30 hours\", \"More than 2.30 hours\", \"More than 2.30 hours\", \"More than 2.30 hours\", \"More than 2.30 hours\", \"More than 2.30 hours\", \"More than 2.30 hours\", \"More than 2.30 hours\", \"More than 2.30 hours\", \"More than 2.30 hours\", \"More than 2.30 hours\", \"More than 2.30 hours\", \"More than 2.30 hours\", \"More than 2.30 hours\", \"More than 2.30 hours\", \"More than 2.30 hours\", \"More than 2.30 hours\", \"More than 2.30 hours\", \"More than 2.30 hours\", \"More than 2.30 hours\", \"More than 2.30 hours\", \"More than 2.30 hours\", \"More than 2.30 hours\", \"More than 2.30 hours\", \"More than 2.30 hours\", \"More than 2.30 hours\", \"More than 2.30 hours\", \"More than 2.30 hours\", \"More than 2.30 hours\", \"More than 2.30 hours\", \"More than 2.30 hours\", \"More than 2.30 hours\", \"More than 2.30 hours\", \"More than 2.30 hours\", \"More than 2.30 hours\", \"More than 2.30 hours\", \"More than 2.30 hours\", \"More than 2.30 hours\", \"More than 2.30 hours\", \"More than 2.30 hours\", \"More than 2.30 hours\", \"More than 2.30 hours\", \"More than 2.30 hours\", \"More than 2.30 hours\", \"More than 2.30 hours\", \"More than 2.30 hours\", \"More than 2.30 hours\", \"More than 2.30 hours\", \"More than 2.30 hours\", \"More than 2.30 hours\", \"More than 2.30 hours\", \"More than 2.30 hours\", \"More than 2.30 hours\", \"More than 2.30 hours\", \"More than 2.30 hours\", \"More than 2.30 hours\", \"More than 2.30 hours\", \"More than 2.30 hours\", \"More than 2.30 hours\", \"More than 2.30 hours\", \"More than 2.30 hours\", \"More than 2.30 hours\", \"More than 2.30 hours\", \"More than 2.30 hours\", \"More than 2.30 hours\", \"More than 2.30 hours\", \"More than 2.30 hours\", \"More than 2.30 hours\", \"More than 2.30 hours\", \"More than 2.30 hours\", \"More than 2.30 hours\", \"More than 2.30 hours\", \"More than 2.30 hours\", \"More than 2.30 hours\", \"More than 2.30 hours\", \"More than 2.30 hours\", \"More than 2.30 hours\", \"More than 2.30 hours\", \"More than 2.30 hours\", \"More than 2.30 hours\", \"More than 2.30 hours\", \"More than 2.30 hours\", \"More than 2.30 hours\", \"More than 2.30 hours\", \"More than 2.30 hours\", \"More than 2.30 hours\", \"More than 2.30 hours\", \"More than 2.30 hours\"], \"xaxis\": \"x\", \"yaxis\": \"y\"}],                        {\"barmode\": \"relative\", \"legend\": {\"title\": {\"text\": \"color\"}, \"tracegroupgap\": 0}, \"margin\": {\"t\": 60}, \"template\": {\"data\": {\"bar\": [{\"error_x\": {\"color\": \"#2a3f5f\"}, \"error_y\": {\"color\": \"#2a3f5f\"}, \"marker\": {\"line\": {\"color\": \"#E5ECF6\", \"width\": 0.5}}, \"type\": \"bar\"}], \"barpolar\": [{\"marker\": {\"line\": {\"color\": \"#E5ECF6\", \"width\": 0.5}}, \"type\": \"barpolar\"}], \"carpet\": [{\"aaxis\": {\"endlinecolor\": \"#2a3f5f\", \"gridcolor\": \"white\", \"linecolor\": \"white\", \"minorgridcolor\": \"white\", \"startlinecolor\": \"#2a3f5f\"}, \"baxis\": {\"endlinecolor\": \"#2a3f5f\", \"gridcolor\": \"white\", \"linecolor\": \"white\", \"minorgridcolor\": \"white\", \"startlinecolor\": \"#2a3f5f\"}, \"type\": \"carpet\"}], \"choropleth\": [{\"colorbar\": {\"outlinewidth\": 0, \"ticks\": \"\"}, \"type\": \"choropleth\"}], \"contour\": [{\"colorbar\": {\"outlinewidth\": 0, \"ticks\": \"\"}, \"colorscale\": [[0.0, \"#0d0887\"], [0.1111111111111111, \"#46039f\"], [0.2222222222222222, \"#7201a8\"], [0.3333333333333333, \"#9c179e\"], [0.4444444444444444, \"#bd3786\"], [0.5555555555555556, \"#d8576b\"], [0.6666666666666666, \"#ed7953\"], [0.7777777777777778, \"#fb9f3a\"], [0.8888888888888888, \"#fdca26\"], [1.0, \"#f0f921\"]], \"type\": \"contour\"}], \"contourcarpet\": [{\"colorbar\": {\"outlinewidth\": 0, \"ticks\": \"\"}, \"type\": \"contourcarpet\"}], \"heatmap\": [{\"colorbar\": {\"outlinewidth\": 0, \"ticks\": \"\"}, \"colorscale\": [[0.0, \"#0d0887\"], [0.1111111111111111, \"#46039f\"], [0.2222222222222222, \"#7201a8\"], [0.3333333333333333, \"#9c179e\"], [0.4444444444444444, \"#bd3786\"], [0.5555555555555556, \"#d8576b\"], [0.6666666666666666, \"#ed7953\"], [0.7777777777777778, \"#fb9f3a\"], [0.8888888888888888, \"#fdca26\"], [1.0, \"#f0f921\"]], \"type\": \"heatmap\"}], \"heatmapgl\": [{\"colorbar\": {\"outlinewidth\": 0, \"ticks\": \"\"}, \"colorscale\": [[0.0, \"#0d0887\"], [0.1111111111111111, \"#46039f\"], [0.2222222222222222, \"#7201a8\"], [0.3333333333333333, \"#9c179e\"], [0.4444444444444444, \"#bd3786\"], [0.5555555555555556, \"#d8576b\"], [0.6666666666666666, \"#ed7953\"], [0.7777777777777778, \"#fb9f3a\"], [0.8888888888888888, \"#fdca26\"], [1.0, \"#f0f921\"]], \"type\": \"heatmapgl\"}], \"histogram\": [{\"marker\": {\"colorbar\": {\"outlinewidth\": 0, \"ticks\": \"\"}}, \"type\": \"histogram\"}], \"histogram2d\": [{\"colorbar\": {\"outlinewidth\": 0, \"ticks\": \"\"}, \"colorscale\": [[0.0, \"#0d0887\"], [0.1111111111111111, \"#46039f\"], [0.2222222222222222, \"#7201a8\"], [0.3333333333333333, \"#9c179e\"], [0.4444444444444444, \"#bd3786\"], [0.5555555555555556, \"#d8576b\"], [0.6666666666666666, \"#ed7953\"], [0.7777777777777778, \"#fb9f3a\"], [0.8888888888888888, \"#fdca26\"], [1.0, \"#f0f921\"]], \"type\": \"histogram2d\"}], \"histogram2dcontour\": [{\"colorbar\": {\"outlinewidth\": 0, \"ticks\": \"\"}, \"colorscale\": [[0.0, \"#0d0887\"], [0.1111111111111111, \"#46039f\"], [0.2222222222222222, \"#7201a8\"], [0.3333333333333333, \"#9c179e\"], [0.4444444444444444, \"#bd3786\"], [0.5555555555555556, \"#d8576b\"], [0.6666666666666666, \"#ed7953\"], [0.7777777777777778, \"#fb9f3a\"], [0.8888888888888888, \"#fdca26\"], [1.0, \"#f0f921\"]], \"type\": \"histogram2dcontour\"}], \"mesh3d\": [{\"colorbar\": {\"outlinewidth\": 0, \"ticks\": \"\"}, \"type\": \"mesh3d\"}], \"parcoords\": [{\"line\": {\"colorbar\": {\"outlinewidth\": 0, \"ticks\": \"\"}}, \"type\": \"parcoords\"}], \"pie\": [{\"automargin\": true, \"type\": \"pie\"}], \"scatter\": [{\"marker\": {\"colorbar\": {\"outlinewidth\": 0, \"ticks\": \"\"}}, \"type\": \"scatter\"}], \"scatter3d\": [{\"line\": {\"colorbar\": {\"outlinewidth\": 0, \"ticks\": \"\"}}, \"marker\": {\"colorbar\": {\"outlinewidth\": 0, \"ticks\": \"\"}}, \"type\": \"scatter3d\"}], \"scattercarpet\": [{\"marker\": {\"colorbar\": {\"outlinewidth\": 0, \"ticks\": \"\"}}, \"type\": \"scattercarpet\"}], \"scattergeo\": [{\"marker\": {\"colorbar\": {\"outlinewidth\": 0, \"ticks\": \"\"}}, \"type\": \"scattergeo\"}], \"scattergl\": [{\"marker\": {\"colorbar\": {\"outlinewidth\": 0, \"ticks\": \"\"}}, \"type\": \"scattergl\"}], \"scattermapbox\": [{\"marker\": {\"colorbar\": {\"outlinewidth\": 0, \"ticks\": \"\"}}, \"type\": \"scattermapbox\"}], \"scatterpolar\": [{\"marker\": {\"colorbar\": {\"outlinewidth\": 0, \"ticks\": \"\"}}, \"type\": \"scatterpolar\"}], \"scatterpolargl\": [{\"marker\": {\"colorbar\": {\"outlinewidth\": 0, \"ticks\": \"\"}}, \"type\": \"scatterpolargl\"}], \"scatterternary\": [{\"marker\": {\"colorbar\": {\"outlinewidth\": 0, \"ticks\": \"\"}}, \"type\": \"scatterternary\"}], \"surface\": [{\"colorbar\": {\"outlinewidth\": 0, \"ticks\": \"\"}, \"colorscale\": [[0.0, \"#0d0887\"], [0.1111111111111111, \"#46039f\"], [0.2222222222222222, \"#7201a8\"], [0.3333333333333333, \"#9c179e\"], [0.4444444444444444, \"#bd3786\"], [0.5555555555555556, \"#d8576b\"], [0.6666666666666666, \"#ed7953\"], [0.7777777777777778, \"#fb9f3a\"], [0.8888888888888888, \"#fdca26\"], [1.0, \"#f0f921\"]], \"type\": \"surface\"}], \"table\": [{\"cells\": {\"fill\": {\"color\": \"#EBF0F8\"}, \"line\": {\"color\": \"white\"}}, \"header\": {\"fill\": {\"color\": \"#C8D4E3\"}, \"line\": {\"color\": \"white\"}}, \"type\": \"table\"}]}, \"layout\": {\"annotationdefaults\": {\"arrowcolor\": \"#2a3f5f\", \"arrowhead\": 0, \"arrowwidth\": 1}, \"autotypenumbers\": \"strict\", \"coloraxis\": {\"colorbar\": {\"outlinewidth\": 0, \"ticks\": \"\"}}, \"colorscale\": {\"diverging\": [[0, \"#8e0152\"], [0.1, \"#c51b7d\"], [0.2, \"#de77ae\"], [0.3, \"#f1b6da\"], [0.4, \"#fde0ef\"], [0.5, \"#f7f7f7\"], [0.6, \"#e6f5d0\"], [0.7, \"#b8e186\"], [0.8, \"#7fbc41\"], [0.9, \"#4d9221\"], [1, \"#276419\"]], \"sequential\": [[0.0, \"#0d0887\"], [0.1111111111111111, \"#46039f\"], [0.2222222222222222, \"#7201a8\"], [0.3333333333333333, \"#9c179e\"], [0.4444444444444444, \"#bd3786\"], [0.5555555555555556, \"#d8576b\"], [0.6666666666666666, \"#ed7953\"], [0.7777777777777778, \"#fb9f3a\"], [0.8888888888888888, \"#fdca26\"], [1.0, \"#f0f921\"]], \"sequentialminus\": [[0.0, \"#0d0887\"], [0.1111111111111111, \"#46039f\"], [0.2222222222222222, \"#7201a8\"], [0.3333333333333333, \"#9c179e\"], [0.4444444444444444, \"#bd3786\"], [0.5555555555555556, \"#d8576b\"], [0.6666666666666666, \"#ed7953\"], [0.7777777777777778, \"#fb9f3a\"], [0.8888888888888888, \"#fdca26\"], [1.0, \"#f0f921\"]]}, \"colorway\": [\"#636efa\", \"#EF553B\", \"#00cc96\", \"#ab63fa\", \"#FFA15A\", \"#19d3f3\", \"#FF6692\", \"#B6E880\", \"#FF97FF\", \"#FECB52\"], \"font\": {\"color\": \"#2a3f5f\"}, \"geo\": {\"bgcolor\": \"white\", \"lakecolor\": \"white\", \"landcolor\": \"#E5ECF6\", \"showlakes\": true, \"showland\": true, \"subunitcolor\": \"white\"}, \"hoverlabel\": {\"align\": \"left\"}, \"hovermode\": \"closest\", \"mapbox\": {\"style\": \"light\"}, \"paper_bgcolor\": \"white\", \"plot_bgcolor\": \"#E5ECF6\", \"polar\": {\"angularaxis\": {\"gridcolor\": \"white\", \"linecolor\": \"white\", \"ticks\": \"\"}, \"bgcolor\": \"#E5ECF6\", \"radialaxis\": {\"gridcolor\": \"white\", \"linecolor\": \"white\", \"ticks\": \"\"}}, \"scene\": {\"xaxis\": {\"backgroundcolor\": \"#E5ECF6\", \"gridcolor\": \"white\", \"gridwidth\": 2, \"linecolor\": \"white\", \"showbackground\": true, \"ticks\": \"\", \"zerolinecolor\": \"white\"}, \"yaxis\": {\"backgroundcolor\": \"#E5ECF6\", \"gridcolor\": \"white\", \"gridwidth\": 2, \"linecolor\": \"white\", \"showbackground\": true, \"ticks\": \"\", \"zerolinecolor\": \"white\"}, \"zaxis\": {\"backgroundcolor\": \"#E5ECF6\", \"gridcolor\": \"white\", \"gridwidth\": 2, \"linecolor\": \"white\", \"showbackground\": true, \"ticks\": \"\", \"zerolinecolor\": \"white\"}}, \"shapedefaults\": {\"line\": {\"color\": \"#2a3f5f\"}}, \"ternary\": {\"aaxis\": {\"gridcolor\": \"white\", \"linecolor\": \"white\", \"ticks\": \"\"}, \"baxis\": {\"gridcolor\": \"white\", \"linecolor\": \"white\", \"ticks\": \"\"}, \"bgcolor\": \"#E5ECF6\", \"caxis\": {\"gridcolor\": \"white\", \"linecolor\": \"white\", \"ticks\": \"\"}}, \"title\": {\"x\": 0.05}, \"xaxis\": {\"automargin\": true, \"gridcolor\": \"white\", \"linecolor\": \"white\", \"ticks\": \"\", \"title\": {\"standoff\": 15}, \"zerolinecolor\": \"white\", \"zerolinewidth\": 2}, \"yaxis\": {\"automargin\": true, \"gridcolor\": \"white\", \"linecolor\": \"white\", \"ticks\": \"\", \"title\": {\"standoff\": 15}, \"zerolinecolor\": \"white\", \"zerolinewidth\": 2}}}, \"title\": {\"text\": \"Distribution of movies duration\"}, \"xaxis\": {\"anchor\": \"y\", \"categoryarray\": [\"Less than 1.30 hours\", \"More than 1.30 - less than 2.30 hours\", \"More than 2.30 hours\"], \"categoryorder\": \"array\", \"domain\": [0.0, 1.0], \"title\": {\"text\": \"Duration of the Movies\"}}, \"yaxis\": {\"anchor\": \"x\", \"domain\": [0.0, 1.0], \"title\": {\"text\": \"count\"}}},                        {\"responsive\": true}                    ).then(function(){\n",
              "                            \n",
              "var gd = document.getElementById('89357f75-51b1-4a1b-aae5-8dae39546329');\n",
              "var x = new MutationObserver(function (mutations, observer) {{\n",
              "        var display = window.getComputedStyle(gd).display;\n",
              "        if (!display || display === 'none') {{\n",
              "            console.log([gd, 'removed!']);\n",
              "            Plotly.purge(gd);\n",
              "            observer.disconnect();\n",
              "        }}\n",
              "}});\n",
              "\n",
              "// Listen for the removal of the full notebook cells\n",
              "var notebookContainer = gd.closest('#notebook-container');\n",
              "if (notebookContainer) {{\n",
              "    x.observe(notebookContainer, {childList: true});\n",
              "}}\n",
              "\n",
              "// Listen for the clearing of the current output cell\n",
              "var outputEl = gd.closest('.output');\n",
              "if (outputEl) {{\n",
              "    x.observe(outputEl, {childList: true});\n",
              "}}\n",
              "\n",
              "                        })                };                            </script>        </div>\n",
              "</body>\n",
              "</html>"
            ]
          },
          "metadata": {
            "tags": []
          }
        }
      ]
    },
    {
      "cell_type": "markdown",
      "metadata": {
        "papermill": {
          "duration": 0.144293,
          "end_time": "2021-02-08T10:54:18.099523",
          "exception": false,
          "start_time": "2021-02-08T10:54:17.955230",
          "status": "completed"
        },
        "tags": [],
        "id": "Fw7_KJE2Gb81"
      },
      "source": [
        "# Top Genres release by year\n",
        "\n",
        "As we saw in the previous step, in the last 4 years, there have been a large amount of shows releases. We will explore the distribution of genres by year.\n",
        "\n",
        "I will be testing the new **sunburst** plot."
      ]
    },
    {
      "cell_type": "code",
      "metadata": {
        "papermill": {
          "duration": 0.157282,
          "end_time": "2021-02-08T10:54:18.403669",
          "exception": false,
          "start_time": "2021-02-08T10:54:18.246387",
          "status": "completed"
        },
        "tags": [],
        "id": "EqLoUaZWGb82"
      },
      "source": [
        "def check_genre_contains(genres):\n",
        "    for genre in genres:\n",
        "        if genre in top_movies_genres:\n",
        "            return True\n",
        "    return False"
      ],
      "execution_count": 49,
      "outputs": []
    },
    {
      "cell_type": "code",
      "metadata": {
        "papermill": {
          "duration": 0.161585,
          "end_time": "2021-02-08T10:54:18.713303",
          "exception": false,
          "start_time": "2021-02-08T10:54:18.551718",
          "status": "completed"
        },
        "tags": [],
        "colab": {
          "base_uri": "https://localhost:8080/"
        },
        "id": "fy4tpedcGb82",
        "outputId": "1eab68a6-0eac-4ee9-cefe-da34c6f57c11"
      },
      "source": [
        "movie_df['principal_genre'] = movie_df['genre'].apply(lambda genres: genres[0])\n",
        "movie_df['principal_genre'].head()"
      ],
      "execution_count": 50,
      "outputs": [
        {
          "output_type": "execute_result",
          "data": {
            "text/plain": [
              "1                Dramas\n",
              "2         Horror Movies\n",
              "3    Action & Adventure\n",
              "4                Dramas\n",
              "6         Horror Movies\n",
              "Name: principal_genre, dtype: object"
            ]
          },
          "metadata": {
            "tags": []
          },
          "execution_count": 50
        }
      ]
    },
    {
      "cell_type": "code",
      "metadata": {
        "papermill": {
          "duration": 0.285071,
          "end_time": "2021-02-08T10:54:19.148043",
          "exception": false,
          "start_time": "2021-02-08T10:54:18.862972",
          "status": "completed"
        },
        "tags": [],
        "colab": {
          "base_uri": "https://localhost:8080/",
          "height": 542
        },
        "id": "wyCMcSAFGb82",
        "outputId": "8c7ed99d-0043-4385-923f-c060444cedb7"
      },
      "source": [
        "year_genre_df = movie_df[(movie_df['principal_genre'].isin(top_movies_genres)) & (movie_df['year_added'] >= 2017)].groupby(['principal_genre', 'year_added']).agg({'title': 'count'})\n",
        "year_genre_df = year_genre_df.reset_index()\n",
        "year_genre_df.columns = ['principal_genre', 'year_added', 'count']\n",
        "\n",
        "fig = px.sunburst(year_genre_df, path=['year_added', 'principal_genre'], values='count')\n",
        "fig.show()"
      ],
      "execution_count": 51,
      "outputs": [
        {
          "output_type": "display_data",
          "data": {
            "text/html": [
              "<html>\n",
              "<head><meta charset=\"utf-8\" /></head>\n",
              "<body>\n",
              "    <div>            <script src=\"https://cdnjs.cloudflare.com/ajax/libs/mathjax/2.7.5/MathJax.js?config=TeX-AMS-MML_SVG\"></script><script type=\"text/javascript\">if (window.MathJax) {MathJax.Hub.Config({SVG: {font: \"STIX-Web\"}});}</script>                <script type=\"text/javascript\">window.PlotlyConfig = {MathJaxConfig: 'local'};</script>\n",
              "        <script src=\"https://cdn.plot.ly/plotly-latest.min.js\"></script>                <div id=\"b1f3eb39-c0c4-44ef-acdb-4122aa696d78\" class=\"plotly-graph-div\" style=\"height:525px; width:100%;\"></div>            <script type=\"text/javascript\">                                    window.PLOTLYENV=window.PLOTLYENV || {};                                    if (document.getElementById(\"b1f3eb39-c0c4-44ef-acdb-4122aa696d78\")) {                    Plotly.newPlot(                        \"b1f3eb39-c0c4-44ef-acdb-4122aa696d78\",                        [{\"branchvalues\": \"total\", \"domain\": {\"x\": [0.0, 1.0], \"y\": [0.0, 1.0]}, \"hovertemplate\": \"labels=%{label}<br>count=%{value}<br>parent=%{parent}<br>id=%{id}<extra></extra>\", \"ids\": [\"2017/Action & Adventure\", \"2018/Action & Adventure\", \"2019/Action & Adventure\", \"2020/Action & Adventure\", \"2021/Action & Adventure\", \"2017/Comedies\", \"2018/Comedies\", \"2019/Comedies\", \"2020/Comedies\", \"2021/Comedies\", \"2017/Documentaries\", \"2018/Documentaries\", \"2019/Documentaries\", \"2020/Documentaries\", \"2021/Documentaries\", \"2017/Dramas\", \"2018/Dramas\", \"2019/Dramas\", \"2020/Dramas\", \"2021/Dramas\", \"2017/International Movies\", \"2018/International Movies\", \"2019/International Movies\", \"2020/International Movies\", \"2021/International Movies\", \"2017\", \"2018\", \"2019\", \"2020\", \"2021\"], \"labels\": [\"Action & Adventure\", \"Action & Adventure\", \"Action & Adventure\", \"Action & Adventure\", \"Action & Adventure\", \"Comedies\", \"Comedies\", \"Comedies\", \"Comedies\", \"Comedies\", \"Documentaries\", \"Documentaries\", \"Documentaries\", \"Documentaries\", \"Documentaries\", \"Dramas\", \"Dramas\", \"Dramas\", \"Dramas\", \"Dramas\", \"International Movies\", \"International Movies\", \"International Movies\", \"International Movies\", \"International Movies\", \"2017\", \"2018\", \"2019\", \"2020\", \"2021\"], \"name\": \"\", \"parents\": [\"2017\", \"2018\", \"2019\", \"2020\", \"2021\", \"2017\", \"2018\", \"2019\", \"2020\", \"2021\", \"2017\", \"2018\", \"2019\", \"2020\", \"2021\", \"2017\", \"2018\", \"2019\", \"2020\", \"2021\", \"2017\", \"2018\", \"2019\", \"2020\", \"2021\", \"\", \"\", \"\", \"\", \"\"], \"type\": \"sunburst\", \"values\": [106, 178, 222, 176, 16, 149, 245, 311, 305, 22, 188, 167, 187, 109, 9, 202, 354, 379, 355, 19, 20, 26, 28, 37, 1, 665, 970, 1127, 982, 67]}],                        {\"legend\": {\"tracegroupgap\": 0}, \"margin\": {\"t\": 60}, \"template\": {\"data\": {\"bar\": [{\"error_x\": {\"color\": \"#2a3f5f\"}, \"error_y\": {\"color\": \"#2a3f5f\"}, \"marker\": {\"line\": {\"color\": \"#E5ECF6\", \"width\": 0.5}}, \"type\": \"bar\"}], \"barpolar\": [{\"marker\": {\"line\": {\"color\": \"#E5ECF6\", \"width\": 0.5}}, \"type\": \"barpolar\"}], \"carpet\": [{\"aaxis\": {\"endlinecolor\": \"#2a3f5f\", \"gridcolor\": \"white\", \"linecolor\": \"white\", \"minorgridcolor\": \"white\", \"startlinecolor\": \"#2a3f5f\"}, \"baxis\": {\"endlinecolor\": \"#2a3f5f\", \"gridcolor\": \"white\", \"linecolor\": \"white\", \"minorgridcolor\": \"white\", \"startlinecolor\": \"#2a3f5f\"}, \"type\": \"carpet\"}], \"choropleth\": [{\"colorbar\": {\"outlinewidth\": 0, \"ticks\": \"\"}, \"type\": \"choropleth\"}], \"contour\": [{\"colorbar\": {\"outlinewidth\": 0, \"ticks\": \"\"}, \"colorscale\": [[0.0, \"#0d0887\"], [0.1111111111111111, \"#46039f\"], [0.2222222222222222, \"#7201a8\"], [0.3333333333333333, \"#9c179e\"], [0.4444444444444444, \"#bd3786\"], [0.5555555555555556, \"#d8576b\"], [0.6666666666666666, \"#ed7953\"], [0.7777777777777778, \"#fb9f3a\"], [0.8888888888888888, \"#fdca26\"], [1.0, \"#f0f921\"]], \"type\": \"contour\"}], \"contourcarpet\": [{\"colorbar\": {\"outlinewidth\": 0, \"ticks\": \"\"}, \"type\": \"contourcarpet\"}], \"heatmap\": [{\"colorbar\": {\"outlinewidth\": 0, \"ticks\": \"\"}, \"colorscale\": [[0.0, \"#0d0887\"], [0.1111111111111111, \"#46039f\"], [0.2222222222222222, \"#7201a8\"], [0.3333333333333333, \"#9c179e\"], [0.4444444444444444, \"#bd3786\"], [0.5555555555555556, \"#d8576b\"], [0.6666666666666666, \"#ed7953\"], [0.7777777777777778, \"#fb9f3a\"], [0.8888888888888888, \"#fdca26\"], [1.0, \"#f0f921\"]], \"type\": \"heatmap\"}], \"heatmapgl\": [{\"colorbar\": {\"outlinewidth\": 0, \"ticks\": \"\"}, \"colorscale\": [[0.0, \"#0d0887\"], [0.1111111111111111, \"#46039f\"], [0.2222222222222222, \"#7201a8\"], [0.3333333333333333, \"#9c179e\"], [0.4444444444444444, \"#bd3786\"], [0.5555555555555556, \"#d8576b\"], [0.6666666666666666, \"#ed7953\"], [0.7777777777777778, \"#fb9f3a\"], [0.8888888888888888, \"#fdca26\"], [1.0, \"#f0f921\"]], \"type\": \"heatmapgl\"}], \"histogram\": [{\"marker\": {\"colorbar\": {\"outlinewidth\": 0, \"ticks\": \"\"}}, \"type\": \"histogram\"}], \"histogram2d\": [{\"colorbar\": {\"outlinewidth\": 0, \"ticks\": \"\"}, \"colorscale\": [[0.0, \"#0d0887\"], [0.1111111111111111, \"#46039f\"], [0.2222222222222222, \"#7201a8\"], [0.3333333333333333, \"#9c179e\"], [0.4444444444444444, \"#bd3786\"], [0.5555555555555556, \"#d8576b\"], [0.6666666666666666, \"#ed7953\"], [0.7777777777777778, \"#fb9f3a\"], [0.8888888888888888, \"#fdca26\"], [1.0, \"#f0f921\"]], \"type\": \"histogram2d\"}], \"histogram2dcontour\": [{\"colorbar\": {\"outlinewidth\": 0, \"ticks\": \"\"}, \"colorscale\": [[0.0, \"#0d0887\"], [0.1111111111111111, \"#46039f\"], [0.2222222222222222, \"#7201a8\"], [0.3333333333333333, \"#9c179e\"], [0.4444444444444444, \"#bd3786\"], [0.5555555555555556, \"#d8576b\"], [0.6666666666666666, \"#ed7953\"], [0.7777777777777778, \"#fb9f3a\"], [0.8888888888888888, \"#fdca26\"], [1.0, \"#f0f921\"]], \"type\": \"histogram2dcontour\"}], \"mesh3d\": [{\"colorbar\": {\"outlinewidth\": 0, \"ticks\": \"\"}, \"type\": \"mesh3d\"}], \"parcoords\": [{\"line\": {\"colorbar\": {\"outlinewidth\": 0, \"ticks\": \"\"}}, \"type\": \"parcoords\"}], \"pie\": [{\"automargin\": true, \"type\": \"pie\"}], \"scatter\": [{\"marker\": {\"colorbar\": {\"outlinewidth\": 0, \"ticks\": \"\"}}, \"type\": \"scatter\"}], \"scatter3d\": [{\"line\": {\"colorbar\": {\"outlinewidth\": 0, \"ticks\": \"\"}}, \"marker\": {\"colorbar\": {\"outlinewidth\": 0, \"ticks\": \"\"}}, \"type\": \"scatter3d\"}], \"scattercarpet\": [{\"marker\": {\"colorbar\": {\"outlinewidth\": 0, \"ticks\": \"\"}}, \"type\": \"scattercarpet\"}], \"scattergeo\": [{\"marker\": {\"colorbar\": {\"outlinewidth\": 0, \"ticks\": \"\"}}, \"type\": \"scattergeo\"}], \"scattergl\": [{\"marker\": {\"colorbar\": {\"outlinewidth\": 0, \"ticks\": \"\"}}, \"type\": \"scattergl\"}], \"scattermapbox\": [{\"marker\": {\"colorbar\": {\"outlinewidth\": 0, \"ticks\": \"\"}}, \"type\": \"scattermapbox\"}], \"scatterpolar\": [{\"marker\": {\"colorbar\": {\"outlinewidth\": 0, \"ticks\": \"\"}}, \"type\": \"scatterpolar\"}], \"scatterpolargl\": [{\"marker\": {\"colorbar\": {\"outlinewidth\": 0, \"ticks\": \"\"}}, \"type\": \"scatterpolargl\"}], \"scatterternary\": [{\"marker\": {\"colorbar\": {\"outlinewidth\": 0, \"ticks\": \"\"}}, \"type\": \"scatterternary\"}], \"surface\": [{\"colorbar\": {\"outlinewidth\": 0, \"ticks\": \"\"}, \"colorscale\": [[0.0, \"#0d0887\"], [0.1111111111111111, \"#46039f\"], [0.2222222222222222, \"#7201a8\"], [0.3333333333333333, \"#9c179e\"], [0.4444444444444444, \"#bd3786\"], [0.5555555555555556, \"#d8576b\"], [0.6666666666666666, \"#ed7953\"], [0.7777777777777778, \"#fb9f3a\"], [0.8888888888888888, \"#fdca26\"], [1.0, \"#f0f921\"]], \"type\": \"surface\"}], \"table\": [{\"cells\": {\"fill\": {\"color\": \"#EBF0F8\"}, \"line\": {\"color\": \"white\"}}, \"header\": {\"fill\": {\"color\": \"#C8D4E3\"}, \"line\": {\"color\": \"white\"}}, \"type\": \"table\"}]}, \"layout\": {\"annotationdefaults\": {\"arrowcolor\": \"#2a3f5f\", \"arrowhead\": 0, \"arrowwidth\": 1}, \"autotypenumbers\": \"strict\", \"coloraxis\": {\"colorbar\": {\"outlinewidth\": 0, \"ticks\": \"\"}}, \"colorscale\": {\"diverging\": [[0, \"#8e0152\"], [0.1, \"#c51b7d\"], [0.2, \"#de77ae\"], [0.3, \"#f1b6da\"], [0.4, \"#fde0ef\"], [0.5, \"#f7f7f7\"], [0.6, \"#e6f5d0\"], [0.7, \"#b8e186\"], [0.8, \"#7fbc41\"], [0.9, \"#4d9221\"], [1, \"#276419\"]], \"sequential\": [[0.0, \"#0d0887\"], [0.1111111111111111, \"#46039f\"], [0.2222222222222222, \"#7201a8\"], [0.3333333333333333, \"#9c179e\"], [0.4444444444444444, \"#bd3786\"], [0.5555555555555556, \"#d8576b\"], [0.6666666666666666, \"#ed7953\"], [0.7777777777777778, \"#fb9f3a\"], [0.8888888888888888, \"#fdca26\"], [1.0, \"#f0f921\"]], \"sequentialminus\": [[0.0, \"#0d0887\"], [0.1111111111111111, \"#46039f\"], [0.2222222222222222, \"#7201a8\"], [0.3333333333333333, \"#9c179e\"], [0.4444444444444444, \"#bd3786\"], [0.5555555555555556, \"#d8576b\"], [0.6666666666666666, \"#ed7953\"], [0.7777777777777778, \"#fb9f3a\"], [0.8888888888888888, \"#fdca26\"], [1.0, \"#f0f921\"]]}, \"colorway\": [\"#636efa\", \"#EF553B\", \"#00cc96\", \"#ab63fa\", \"#FFA15A\", \"#19d3f3\", \"#FF6692\", \"#B6E880\", \"#FF97FF\", \"#FECB52\"], \"font\": {\"color\": \"#2a3f5f\"}, \"geo\": {\"bgcolor\": \"white\", \"lakecolor\": \"white\", \"landcolor\": \"#E5ECF6\", \"showlakes\": true, \"showland\": true, \"subunitcolor\": \"white\"}, \"hoverlabel\": {\"align\": \"left\"}, \"hovermode\": \"closest\", \"mapbox\": {\"style\": \"light\"}, \"paper_bgcolor\": \"white\", \"plot_bgcolor\": \"#E5ECF6\", \"polar\": {\"angularaxis\": {\"gridcolor\": \"white\", \"linecolor\": \"white\", \"ticks\": \"\"}, \"bgcolor\": \"#E5ECF6\", \"radialaxis\": {\"gridcolor\": \"white\", \"linecolor\": \"white\", \"ticks\": \"\"}}, \"scene\": {\"xaxis\": {\"backgroundcolor\": \"#E5ECF6\", \"gridcolor\": \"white\", \"gridwidth\": 2, \"linecolor\": \"white\", \"showbackground\": true, \"ticks\": \"\", \"zerolinecolor\": \"white\"}, \"yaxis\": {\"backgroundcolor\": \"#E5ECF6\", \"gridcolor\": \"white\", \"gridwidth\": 2, \"linecolor\": \"white\", \"showbackground\": true, \"ticks\": \"\", \"zerolinecolor\": \"white\"}, \"zaxis\": {\"backgroundcolor\": \"#E5ECF6\", \"gridcolor\": \"white\", \"gridwidth\": 2, \"linecolor\": \"white\", \"showbackground\": true, \"ticks\": \"\", \"zerolinecolor\": \"white\"}}, \"shapedefaults\": {\"line\": {\"color\": \"#2a3f5f\"}}, \"ternary\": {\"aaxis\": {\"gridcolor\": \"white\", \"linecolor\": \"white\", \"ticks\": \"\"}, \"baxis\": {\"gridcolor\": \"white\", \"linecolor\": \"white\", \"ticks\": \"\"}, \"bgcolor\": \"#E5ECF6\", \"caxis\": {\"gridcolor\": \"white\", \"linecolor\": \"white\", \"ticks\": \"\"}}, \"title\": {\"x\": 0.05}, \"xaxis\": {\"automargin\": true, \"gridcolor\": \"white\", \"linecolor\": \"white\", \"ticks\": \"\", \"title\": {\"standoff\": 15}, \"zerolinecolor\": \"white\", \"zerolinewidth\": 2}, \"yaxis\": {\"automargin\": true, \"gridcolor\": \"white\", \"linecolor\": \"white\", \"ticks\": \"\", \"title\": {\"standoff\": 15}, \"zerolinecolor\": \"white\", \"zerolinewidth\": 2}}}},                        {\"responsive\": true}                    ).then(function(){\n",
              "                            \n",
              "var gd = document.getElementById('b1f3eb39-c0c4-44ef-acdb-4122aa696d78');\n",
              "var x = new MutationObserver(function (mutations, observer) {{\n",
              "        var display = window.getComputedStyle(gd).display;\n",
              "        if (!display || display === 'none') {{\n",
              "            console.log([gd, 'removed!']);\n",
              "            Plotly.purge(gd);\n",
              "            observer.disconnect();\n",
              "        }}\n",
              "}});\n",
              "\n",
              "// Listen for the removal of the full notebook cells\n",
              "var notebookContainer = gd.closest('#notebook-container');\n",
              "if (notebookContainer) {{\n",
              "    x.observe(notebookContainer, {childList: true});\n",
              "}}\n",
              "\n",
              "// Listen for the clearing of the current output cell\n",
              "var outputEl = gd.closest('.output');\n",
              "if (outputEl) {{\n",
              "    x.observe(outputEl, {childList: true});\n",
              "}}\n",
              "\n",
              "                        })                };                            </script>        </div>\n",
              "</body>\n",
              "</html>"
            ]
          },
          "metadata": {
            "tags": []
          }
        }
      ]
    }
  ]
}